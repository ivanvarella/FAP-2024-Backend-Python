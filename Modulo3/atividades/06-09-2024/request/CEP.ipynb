{
 "cells": [
  {
   "cell_type": "code",
   "execution_count": 26,
   "id": "5b79b142-389c-492b-bf83-b3c3ea9617e9",
   "metadata": {},
   "outputs": [],
   "source": [
    "import requests\n",
    "import json"
   ]
  },
  {
   "cell_type": "code",
   "execution_count": 28,
   "id": "7ea948e1-9b17-49b0-8b42-aec4fa285792",
   "metadata": {},
   "outputs": [
    {
     "name": "stdout",
     "output_type": "stream",
     "text": [
      "CEP: 59062380\n",
      "Logradouro: Rua Doutor Rômulo Jorge\n",
      "Complemento: Não disponível\n",
      "Bairro: Lagoa Nova\n",
      "Localidade: Não disponível\n",
      "UF: Não disponível\n",
      "IBGE: Não disponível\n",
      "GIA: Não disponível\n",
      "DDD: Não disponível\n",
      "SIAFI: Não disponível\n"
     ]
    }
   ],
   "source": [
    "cep_run = 59062380\n",
    "url_base = 'https://api.postmon.com.br/v1/cep/%s'\n",
    "response = requests.get(url_base % cep_run)\n",
    "if response.status_code == 200:\n",
    "    data = response.json()\n",
    "    #print(json_response)\n",
    "    # Armazena cada campo do JSON em uma variável separada\n",
    "    cep = data.get('cep', 'Não disponível')\n",
    "    logradouro = data.get('logradouro', 'Não disponível')\n",
    "    complemento = data.get('complemento', 'Não disponível')\n",
    "    bairro = data.get('bairro', 'Não disponível')\n",
    "    localidade = data.get('localidade', 'Não disponível')\n",
    "    uf = data.get('uf', 'Não disponível')\n",
    "    ibge = data.get('ibge', 'Não disponível')\n",
    "    gia = data.get('gia', 'Não disponível')\n",
    "    ddd = data.get('ddd', 'Não disponível')\n",
    "    siafi = data.get('siafi', 'Não disponível')\n",
    "\n",
    "    # Exibe os dados individualmente\n",
    "    print(f\"CEP: {cep}\")\n",
    "    print(f\"Logradouro: {logradouro}\")\n",
    "    print(f\"Complemento: {complemento}\")\n",
    "    print(f\"Bairro: {bairro}\")\n",
    "    print(f\"Localidade: {localidade}\")\n",
    "    print(f\"UF: {uf}\")\n",
    "    print(f\"IBGE: {ibge}\")\n",
    "    print(f\"GIA: {gia}\")\n",
    "    print(f\"DDD: {ddd}\")\n",
    "    print(f\"SIAFI: {siafi}\")\n"
   ]
  },
  {
   "cell_type": "code",
   "execution_count": 15,
   "id": "1d8774d1-f28c-4bec-8bba-99b60c5a416c",
   "metadata": {},
   "outputs": [],
   "source": []
  },
  {
   "cell_type": "code",
   "execution_count": 16,
   "id": "dfc2106e-a22b-489e-ae24-08a2f48a4de7",
   "metadata": {},
   "outputs": [
    {
     "name": "stdout",
     "output_type": "stream",
     "text": [
      "<Response [404]>\n"
     ]
    }
   ],
   "source": []
  },
  {
   "cell_type": "code",
   "execution_count": null,
   "id": "5df76665-0bc6-4d27-bc25-06b2a53f6291",
   "metadata": {},
   "outputs": [],
   "source": []
  }
 ],
 "metadata": {
  "kernelspec": {
   "display_name": "Python 3 (ipykernel)",
   "language": "python",
   "name": "python3"
  },
  "language_info": {
   "codemirror_mode": {
    "name": "ipython",
    "version": 3
   },
   "file_extension": ".py",
   "mimetype": "text/x-python",
   "name": "python",
   "nbconvert_exporter": "python",
   "pygments_lexer": "ipython3",
   "version": "3.12.4"
  }
 },
 "nbformat": 4,
 "nbformat_minor": 5
}

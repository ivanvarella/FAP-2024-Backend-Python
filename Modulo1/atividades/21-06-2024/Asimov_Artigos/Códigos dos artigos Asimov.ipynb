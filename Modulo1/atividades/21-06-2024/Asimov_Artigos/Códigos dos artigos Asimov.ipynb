{
 "cells": [
  {
   "cell_type": "markdown",
   "id": "54f98d30",
   "metadata": {},
   "source": [
    "# Implementação dos exemplos dos artigos Asimov\n",
    "## Curso Softex - FAP 2024 - Natal\n",
    "### Ivan Varella"
   ]
  },
  {
   "cell_type": "markdown",
   "id": "9e13d48a",
   "metadata": {},
   "source": [
    "## Elementos Imutáveis em Python\n",
    "### https://hub.asimov.academy/tutorial/elementos-imutaveis-em-python/"
   ]
  },
  {
   "cell_type": "code",
   "execution_count": 2,
   "id": "fb71b438",
   "metadata": {},
   "outputs": [
    {
     "ename": "TypeError",
     "evalue": "'str' object does not support item assignment",
     "output_type": "error",
     "traceback": [
      "\u001b[1;31m---------------------------------------------------------------------------\u001b[0m",
      "\u001b[1;31mTypeError\u001b[0m                                 Traceback (most recent call last)",
      "Cell \u001b[1;32mIn[2], line 6\u001b[0m\n\u001b[0;32m      1\u001b[0m \u001b[38;5;66;03m# Elementos imutáveis no Python: strings, números inteiros, números de ponto flutuante e tuplas.\u001b[39;00m\n\u001b[0;32m      2\u001b[0m \u001b[38;5;66;03m# Quando criados não podem ser alterados.\u001b[39;00m\n\u001b[0;32m      3\u001b[0m \n\u001b[0;32m      4\u001b[0m \u001b[38;5;66;03m# Exemplo1:\u001b[39;00m\n\u001b[0;32m      5\u001b[0m texto \u001b[38;5;241m=\u001b[39m \u001b[38;5;124m\"\u001b[39m\u001b[38;5;124mOlá, Mundo!\u001b[39m\u001b[38;5;124m\"\u001b[39m \u001b[38;5;66;03m# Tentar modificar uma string resultará em um erro\u001b[39;00m\n\u001b[1;32m----> 6\u001b[0m texto[\u001b[38;5;241m0\u001b[39m] \u001b[38;5;241m=\u001b[39m \u001b[38;5;124m\"\u001b[39m\u001b[38;5;124mo\u001b[39m\u001b[38;5;124m\"\u001b[39m\n",
      "\u001b[1;31mTypeError\u001b[0m: 'str' object does not support item assignment"
     ]
    }
   ],
   "source": [
    "# Elementos imutáveis no Python: strings, números inteiros, números de ponto flutuante e tuplas.\n",
    "# Quando criados não podem ser alterados.\n",
    "\n",
    "# Exemplo1:\n",
    "texto = \"Olá, Mundo!\" # Tentar modificar uma string resultará em um erro\n",
    "texto[0] = \"o\" # TypeError: 'str' object does not support item assignment"
   ]
  },
  {
   "cell_type": "code",
   "execution_count": 3,
   "id": "096a1184",
   "metadata": {},
   "outputs": [
    {
     "name": "stdout",
     "output_type": "stream",
     "text": [
      "15\n"
     ]
    }
   ],
   "source": [
    "# Exemplo2:\n",
    "inteiro = 10 \n",
    "flutuante = 10.5 # Números são imutáveis, qualquer operação cria um novo número\n",
    "novo_inteiro = inteiro + 5 # novo_inteiro é 15, inteiro permanece 10\n",
    "print(novo_inteiro)"
   ]
  },
  {
   "cell_type": "code",
   "execution_count": 4,
   "id": "d378e926",
   "metadata": {},
   "outputs": [
    {
     "ename": "TypeError",
     "evalue": "'tuple' object does not support item assignment",
     "output_type": "error",
     "traceback": [
      "\u001b[1;31m---------------------------------------------------------------------------\u001b[0m",
      "\u001b[1;31mTypeError\u001b[0m                                 Traceback (most recent call last)",
      "Cell \u001b[1;32mIn[4], line 3\u001b[0m\n\u001b[0;32m      1\u001b[0m \u001b[38;5;66;03m# Exemplo3:\u001b[39;00m\n\u001b[0;32m      2\u001b[0m tupla \u001b[38;5;241m=\u001b[39m (\u001b[38;5;241m1\u001b[39m, \u001b[38;5;241m2\u001b[39m, \u001b[38;5;241m3\u001b[39m) \u001b[38;5;66;03m# Tentar modificar uma tupla resultará em um erro \u001b[39;00m\n\u001b[1;32m----> 3\u001b[0m tupla[\u001b[38;5;241m0\u001b[39m] \u001b[38;5;241m=\u001b[39m \u001b[38;5;241m0\u001b[39m\n",
      "\u001b[1;31mTypeError\u001b[0m: 'tuple' object does not support item assignment"
     ]
    }
   ],
   "source": [
    "# Exemplo3:\n",
    "tupla = (1, 2, 3) # Tentar modificar uma tupla resultará em um erro \n",
    "tupla[0] = 0 # TypeError: 'tuple' object does not support item assignment"
   ]
  },
  {
   "cell_type": "code",
   "execution_count": 5,
   "id": "804ecf6a",
   "metadata": {},
   "outputs": [
    {
     "name": "stdout",
     "output_type": "stream",
     "text": [
      "[0, 2, 3]\n"
     ]
    }
   ],
   "source": [
    "# Exemplo4: comparação com elementos mutáveis\n",
    "lista = [1, 2, 3]\n",
    "lista[0] = 0  # A lista é modificada para [0, 2, 3]\n",
    "print(lista)"
   ]
  },
  {
   "cell_type": "code",
   "execution_count": 6,
   "id": "3edc6b17",
   "metadata": {},
   "outputs": [
    {
     "name": "stdout",
     "output_type": "stream",
     "text": [
      "Oi, Mundo!\n",
      "Olá, Mundo!\n"
     ]
    }
   ],
   "source": [
    "# Exemplo5:\n",
    "texto = \"Olá, Mundo!\"\n",
    "novo_texto = texto.replace(\"Olá\", \"Oi\")\n",
    "print(novo_texto)  # Saída: \"Oi, Mundo!\"\n",
    "print(texto)  # Saída: \"Olá, Mundo!\"\n",
    "\n",
    "# É necessário a criação de uma nova variável"
   ]
  },
  {
   "cell_type": "code",
   "execution_count": 7,
   "id": "f13a81d1",
   "metadata": {},
   "outputs": [
    {
     "name": "stdout",
     "output_type": "stream",
     "text": [
      "15\n",
      "10\n"
     ]
    }
   ],
   "source": [
    "# Exemplo6:\n",
    "inteiro = 10\n",
    "novo_inteiro = inteiro + 5\n",
    "print(novo_inteiro)  # Saída: 15\n",
    "print(inteiro)  # Saída: 10"
   ]
  },
  {
   "cell_type": "code",
   "execution_count": 8,
   "id": "5af4fca8",
   "metadata": {},
   "outputs": [
    {
     "name": "stdout",
     "output_type": "stream",
     "text": [
      "(1, 2, 3, 4)\n",
      "(1, 2, 3)\n"
     ]
    }
   ],
   "source": [
    "# Exemplo7:\n",
    "tupla = (1, 2, 3)\n",
    "nova_tupla = tupla + (4,)\n",
    "print(nova_tupla)  # Saída: (1, 2, 3, 4)\n",
    "print(tupla)  # Saída: (1, 2, 3)"
   ]
  },
  {
   "cell_type": "markdown",
   "id": "da83a08f",
   "metadata": {},
   "source": [
    "## Tuplas em Python\n",
    "### https://hub.asimov.academy/tutorial/tuplas-em-python/"
   ]
  },
  {
   "cell_type": "code",
   "execution_count": 9,
   "id": "145fe40c",
   "metadata": {},
   "outputs": [
    {
     "name": "stdout",
     "output_type": "stream",
     "text": [
      "(1, 2, 3)\n"
     ]
    }
   ],
   "source": [
    "# Tupla: é uma coleção de itens imutáveis\n",
    "# Exemplo1:\n",
    "minha_tupla = (1, 2, 3)\n",
    "print(minha_tupla)  # Saída: (1, 2, 3)"
   ]
  },
  {
   "cell_type": "code",
   "execution_count": 10,
   "id": "4bb7e6a2",
   "metadata": {},
   "outputs": [
    {
     "name": "stdout",
     "output_type": "stream",
     "text": [
      "1\n"
     ]
    }
   ],
   "source": [
    "# Exemplo2:\n",
    "minha_tupla = (1, 2, 3)\n",
    "print(minha_tupla[0])  # Saída: 1"
   ]
  },
  {
   "cell_type": "code",
   "execution_count": 11,
   "id": "e6007cb3",
   "metadata": {},
   "outputs": [
    {
     "ename": "TypeError",
     "evalue": "'tuple' object does not support item assignment",
     "output_type": "error",
     "traceback": [
      "\u001b[1;31m---------------------------------------------------------------------------\u001b[0m",
      "\u001b[1;31mTypeError\u001b[0m                                 Traceback (most recent call last)",
      "Cell \u001b[1;32mIn[11], line 3\u001b[0m\n\u001b[0;32m      1\u001b[0m \u001b[38;5;66;03m# Exemplo3: característica de imutabilidade\u001b[39;00m\n\u001b[0;32m      2\u001b[0m minha_tupla \u001b[38;5;241m=\u001b[39m (\u001b[38;5;241m1\u001b[39m, \u001b[38;5;241m2\u001b[39m, \u001b[38;5;241m3\u001b[39m)\n\u001b[1;32m----> 3\u001b[0m minha_tupla[\u001b[38;5;241m0\u001b[39m] \u001b[38;5;241m=\u001b[39m \u001b[38;5;124m'\u001b[39m\u001b[38;5;124ma\u001b[39m\u001b[38;5;124m'\u001b[39m\n",
      "\u001b[1;31mTypeError\u001b[0m: 'tuple' object does not support item assignment"
     ]
    }
   ],
   "source": [
    "# Exemplo3: característica de imutabilidade\n",
    "minha_tupla = (1, 2, 3)\n",
    "minha_tupla[0] = 'a'  # Isso causará um TypeError"
   ]
  },
  {
   "cell_type": "code",
   "execution_count": 12,
   "id": "b6d801de",
   "metadata": {},
   "outputs": [
    {
     "name": "stdout",
     "output_type": "stream",
     "text": [
      "1\n",
      "1\n"
     ]
    }
   ],
   "source": [
    "# Exemplo4:\n",
    "minha_tupla = (1, 2, 3)\n",
    "# Metodo .count(elemento): Quantas vezes um determinado elemento aparece\n",
    "# Metodo .index(elemento): Index do primeiro elemento que aparece na tupla\n",
    "print(minha_tupla.count(1))  # Saída: 1\n",
    "print(minha_tupla.index(2))  # Saída: 1"
   ]
  },
  {
   "cell_type": "code",
   "execution_count": 13,
   "id": "2fb29060",
   "metadata": {},
   "outputs": [
    {
     "name": "stdout",
     "output_type": "stream",
     "text": [
      "1\n",
      "2\n",
      "3\n"
     ]
    }
   ],
   "source": [
    "# Exemplo5: desempacotamento de tuplas - Similar ao JS\n",
    "minha_tupla = (1, 2, 3)\n",
    "a, b, c = minha_tupla\n",
    "print(a)  # Saída: 1\n",
    "print(b)  # Saída: 2\n",
    "print(c)  # Saída: 3"
   ]
  },
  {
   "cell_type": "code",
   "execution_count": 14,
   "id": "6f84719c",
   "metadata": {},
   "outputs": [
    {
     "name": "stdout",
     "output_type": "stream",
     "text": [
      "1\n",
      "5\n"
     ]
    }
   ],
   "source": [
    "# Exemplo6:\n",
    "def min_max_valores(valores):\n",
    "    return min(valores), max(valores)\n",
    "\n",
    "minimo, maximo = min_max_valores([1, 2, 3, 4, 5])\n",
    "print(minimo)  # Saída: 1\n",
    "print(maximo)  # Saída: 5"
   ]
  },
  {
   "cell_type": "code",
   "execution_count": 15,
   "id": "21287783",
   "metadata": {},
   "outputs": [
    {
     "name": "stdout",
     "output_type": "stream",
     "text": [
      "Localização 1\n"
     ]
    }
   ],
   "source": [
    "# Exemplo7:\n",
    "coordenadas = {(23.5, 45.2): \"Localização 1\", (56.2, 12.5): \"Localização 2\"}\n",
    "print(coordenadas[(23.5, 45.2)])  # Saída: Localização 1"
   ]
  },
  {
   "cell_type": "markdown",
   "id": "c60f3a72",
   "metadata": {},
   "source": [
    "## Dicionários em Python: o que são e como utilizar\n",
    "### https://asimov.academy/dicionarios-em-python-o-que-sao-e-como-utilizar/"
   ]
  },
  {
   "cell_type": "code",
   "execution_count": 19,
   "id": "7d14e25f",
   "metadata": {},
   "outputs": [
    {
     "name": "stdout",
     "output_type": "stream",
     "text": [
      "Dicionário criado: {'nome': 'Paulo', 'idade': 29, 'filhos': ['João', 'Maria']}\n",
      "Alteração do dicionário: {'nome': 'Paulo', 'idade': 31, 'filhos': ['João', 'Maria']}\n",
      "Alteração 2 do dicionário: {'nome': 'Paulo', 'idade': 31, 'filhos': ['João', 'Maria'], 'cidade': 'São Paulo'}\n",
      "banana\n",
      "0.25\n"
     ]
    }
   ],
   "source": [
    "# Dicionário python: chave-valor\n",
    "# identificado por {}\n",
    "# Exemplo:\n",
    "meu_dicionario = {\"nome\": \"Paulo\", \"idade\": 29, \"filhos\": [\"João\", \"Maria\"]}\n",
    "print(f\"Dicionário criado: {meu_dicionario}\")\n",
    "\n",
    "# Atribuição (alteração) do valor 31 a chave \"idade\": 29 -> 31\n",
    "meu_dicionario[\"idade\"] = 31\n",
    "print(f\"Alteração do dicionário: {meu_dicionario}\")\n",
    "\n",
    "# Atribuição de valor ao dicionário:\n",
    "# Veja que, caso a chave não exista, ela é criada e adicionada, aio contrário do exemplo anterior que, como existia,\n",
    "# o valor somente foi alterado, não foi criada uma nova chave-valor.\n",
    "meu_dicionario[\"cidade\"] = \"São Paulo\"\n",
    "print(f\"Alteração 2 do dicionário: {meu_dicionario}\")\n",
    "\n",
    "# Diferenças entre listas e dicionários:\n",
    "# Exemplo lista: acesso via índice\n",
    "minha_lista = [\"maçã\", \"banana\", \"laranja\"]\n",
    "print(minha_lista[1]) # \"banana\"\n",
    "\n",
    "# Exemplo dicionário: acesso via chave\n",
    "meu_dicionario = {\"maçã\": 0.5, \"banana\": 0.25, \"laranja\": 0.75}\n",
    "print(meu_dicionario[\"banana\"]) # 0.25\n",
    "\n",
    "# Exemplo de uso: dicionário é muito similar a estrutura de um arquivo Json\n",
    "produtos = [\n",
    "    {'id': '2810', 'tipo': 'forno', 'ano': 2020},\n",
    "    {'id': '9812', 'tipo': 'celular', 'ano': 2019},\n",
    "    {'id': '7756', 'tipo': 'geladeira', 'ano': 2022},\n",
    "]\n",
    "\n",
    "#Exemplos de métodos usados em dicionários:\n",
    "# keys(): retorna uma sequência contendo todas as chaves do dicionário.\n",
    "# values(): retorna uma sequência contendo todos os valores do dicionário.\n",
    "# items(): retorna uma sequência de tuplas, em que cada tupla contém os pares de chave-valor do dicionário.\n",
    "# clear(): remove todos os itens do dicionário.\n",
    "# copy(): retorna uma cópia do dicionário.\n",
    "# get(chave, valor_padrao): retorna o valor associado à chave especificada, ou o valor padrão se a chave não existir. Isso evita o KeyError do qual falamos anteriormente, caso a chave não exista.\n",
    "# pop(chave, valor_padrao): remove e retorna o valor associado à chave especificada, ou o valor padrão se a chave não existir.\n",
    "# popitem(): remove e retorna o último par de chave-valor inserido no dicionário (em versões de Python anteriores a 3.7, o par retornado é aleatório).\n",
    "# update(outro_dicionario): atualiza o dicionário com os pares de chave-valor de outro dicionário, isto é, chaves novas são criadas e chaves existentes têm seu valor atualizado."
   ]
  },
  {
   "cell_type": "markdown",
   "id": "4ae38190",
   "metadata": {},
   "source": [
    "## Dicionário em Python: o guia definitivo para iniciantes\n",
    "### https://hub.asimov.academy/blog/dicionario-python/"
   ]
  },
  {
   "cell_type": "code",
   "execution_count": 21,
   "id": "b06448fc",
   "metadata": {},
   "outputs": [
    {
     "name": "stdout",
     "output_type": "stream",
     "text": [
      "{'marca': 'Chevrolet', 'modelo': 'Tracker', 'ano': 2020}\n"
     ]
    }
   ],
   "source": [
    "# Exemplos de dicionários:\n",
    "pessoa = {\"nome\": \"Paulo\", \"idade\": 29, \"filhos\": [\"João\", \"Maria\"]}\n",
    "\n",
    "carro = {\"marca\": \"Chevrolet\", \"modelo\": \"Tracker\", \"ano\": 2020}\n",
    "\n",
    "# Lista de dicionários:\n",
    "produtos = [\n",
    "    {'id': '2810', 'tipo': 'forno', 'ano': 2020},\n",
    "    {'id': '9812', 'tipo': 'celular', 'ano': 2019},\n",
    "    {'id': '7756', 'tipo': 'geladeira', 'ano': 2022}\n",
    "]\n",
    "\n",
    "# Exemplo: dicionário dentro de dicionário...\n",
    "pessoa = {\n",
    "    \"nome\": \"Paulo\",\n",
    "    \"idade\": 29,\n",
    "    \"filhos\": [\n",
    "        {\"nome\": \"João\", \"idade\": 6}, \n",
    "        {\"nome\": \"Maria\", \"idade\": 9}\n",
    "    ]\n",
    "}\n",
    "\n",
    "# Exemplo: criando um diocnário\n",
    "carro = {\"marca\": \"Chevrolet\", \"modelo\": \"Tracker\", \"ano\": 2020}\n",
    "\n",
    "# Exemplo: função dict(), similar ao list()\n",
    "carro = dict(marca=\"Chevrolet\", modelo=\"Tracker\", ano=2020)\n",
    "print(carro)\n",
    "\n",
    "# Exemplo:\n",
    "# Criando dicionário vazio com construtor\n",
    "dict_vazio = {}\n",
    "\n",
    "# Criando dicionário vazio com a função dict()\n",
    "dict_vazio = dict()\n",
    "\n",
    "# Exemplo: acesso aos dados de um dicionário via chave\n",
    "capitais = {\"Brasil\": \"Brasília\", \"Alemanha\": \"Berlim\", \"Japão\": \"Tóquio\"}\n",
    "capital_brasil = capitais[\"Brasil\"]\n",
    "print(capital_brasil)"
   ]
  },
  {
   "cell_type": "code",
   "execution_count": 22,
   "id": "1a63bf3f",
   "metadata": {},
   "outputs": [
    {
     "ename": "KeyError",
     "evalue": "'Itália'",
     "output_type": "error",
     "traceback": [
      "\u001b[1;31m---------------------------------------------------------------------------\u001b[0m",
      "\u001b[1;31mKeyError\u001b[0m                                  Traceback (most recent call last)",
      "Cell \u001b[1;32mIn[22], line 3\u001b[0m\n\u001b[0;32m      1\u001b[0m \u001b[38;5;66;03m# Exmeplo: Erro ao tentar obter uma valor de uma chave que não existe\u001b[39;00m\n\u001b[0;32m      2\u001b[0m capitais \u001b[38;5;241m=\u001b[39m {\u001b[38;5;124m\"\u001b[39m\u001b[38;5;124mBrasil\u001b[39m\u001b[38;5;124m\"\u001b[39m: \u001b[38;5;124m\"\u001b[39m\u001b[38;5;124mBrasília\u001b[39m\u001b[38;5;124m\"\u001b[39m, \u001b[38;5;124m\"\u001b[39m\u001b[38;5;124mAlemanha\u001b[39m\u001b[38;5;124m\"\u001b[39m: \u001b[38;5;124m\"\u001b[39m\u001b[38;5;124mBerlim\u001b[39m\u001b[38;5;124m\"\u001b[39m, \u001b[38;5;124m\"\u001b[39m\u001b[38;5;124mJapão\u001b[39m\u001b[38;5;124m\"\u001b[39m: \u001b[38;5;124m\"\u001b[39m\u001b[38;5;124mTóquio\u001b[39m\u001b[38;5;124m\"\u001b[39m}\n\u001b[1;32m----> 3\u001b[0m capital_italia \u001b[38;5;241m=\u001b[39m capitais[\u001b[38;5;124m\"\u001b[39m\u001b[38;5;124mItália\u001b[39m\u001b[38;5;124m\"\u001b[39m]\n",
      "\u001b[1;31mKeyError\u001b[0m: 'Itália'"
     ]
    }
   ],
   "source": [
    "# Exmeplo: Erro ao tentar obter uma valor de uma chave que não existe\n",
    "capitais = {\"Brasil\": \"Brasília\", \"Alemanha\": \"Berlim\", \"Japão\": \"Tóquio\"}\n",
    "capital_italia = capitais[\"Itália\"]  # KeyError: 'Itália'"
   ]
  },
  {
   "cell_type": "code",
   "execution_count": 23,
   "id": "aef4b930",
   "metadata": {},
   "outputs": [
    {
     "name": "stdout",
     "output_type": "stream",
     "text": [
      "A capital de Itália não foi encontrada no dicionário!\n"
     ]
    }
   ],
   "source": [
    "# Exemplo: Validação verificando préviamente se a chave existe naqule dicionário\n",
    "capitais = {\"Brasil\": \"Brasília\", \"Alemanha\": \"Berlim\", \"Japão\": \"Tóquio\"}\n",
    "pais = \"Itália\"\n",
    "\n",
    "if pais in capitais: # Verificação\n",
    "    capital = capitais[pais]\n",
    "    print(f\"A capital de {pais} é {capital}.\")\n",
    "else:\n",
    "    print(f\"A capital de {pais} não foi encontrada no dicionário!\")"
   ]
  },
  {
   "cell_type": "code",
   "execution_count": 25,
   "id": "b74d995c",
   "metadata": {},
   "outputs": [
    {
     "name": "stdout",
     "output_type": "stream",
     "text": [
      "Roma\n"
     ]
    }
   ],
   "source": [
    "# Exemplo: Adicionando elementos ao dicionário\n",
    "capitais = {\"Brasil\": \"Brasília\", \"Alemanha\": \"Berlim\", \"Japão\": \"Tóquio\"}\n",
    "capitais[\"Itália\"] = \"Roma\"\n",
    "\n",
    "capital_italia = capitais[\"Itália\"]\n",
    "print(capital_italia)"
   ]
  },
  {
   "cell_type": "code",
   "execution_count": 27,
   "id": "945ebf22",
   "metadata": {},
   "outputs": [
    {
     "name": "stdout",
     "output_type": "stream",
     "text": [
      "capitais antes da modificação: {'Brasil': 'Brasília', 'Alemanha': 'Berlim', 'Japão': 'Tóquio'}\n",
      "capitais após da modificação: {'Brasil': '???', 'Alemanha': 'Berlim', 'Japão': 'Tóquio'}\n",
      "???\n"
     ]
    }
   ],
   "source": [
    "# Exemplo: modificando valores do dicionário via chave\n",
    "capitais = {\"Brasil\": \"Brasília\", \"Alemanha\": \"Berlim\", \"Japão\": \"Tóquio\"}\n",
    "print(f\"capitais antes da modificação: {capitais}\")\n",
    "capitais[\"Brasil\"] = \"???\"\n",
    "print(f\"capitais após da modificação: {capitais}\")\n",
    "\n",
    "capital_brasil = capitais[\"Brasil\"]\n",
    "print(capital_brasil)"
   ]
  },
  {
   "cell_type": "code",
   "execution_count": 29,
   "id": "0a9d2e1f",
   "metadata": {},
   "outputs": [
    {
     "name": "stdout",
     "output_type": "stream",
     "text": [
      "Capitais antes: {'Brasil': 'Brasília', 'Alemanha': 'Berlim', 'Japão': 'Tóquio'}\n",
      "Capitais após: {'Alemanha': 'Berlim', 'Japão': 'Tóquio'}\n"
     ]
    }
   ],
   "source": [
    "# Exemplo: remover elemento (chave-valor) do dicionário\n",
    "capitais = {\"Brasil\": \"Brasília\", \"Alemanha\": \"Berlim\", \"Japão\": \"Tóquio\"}\n",
    "print(f\"Capitais antes: {capitais}\")\n",
    "\n",
    "del capitais[\"Brasil\"]\n",
    "\n",
    "print(f\"Capitais após: {capitais}\")"
   ]
  },
  {
   "cell_type": "code",
   "execution_count": 30,
   "id": "7080a13f",
   "metadata": {},
   "outputs": [
    {
     "name": "stdout",
     "output_type": "stream",
     "text": [
      "Dicionário antes: {'nome': 'Alice', 'idade': 25}\n",
      "Dicionário após: {'nome': 'Alice', 'idade': 26, 'cidade': 'São Paulo'}\n"
     ]
    }
   ],
   "source": [
    "# Exemplo: adicionar e atualizar item no dicionário\n",
    "meu_dicionario = {\"nome\": \"Alice\", \"idade\": 25}\n",
    "\n",
    "print(f\"Dicionário antes: {meu_dicionario}\")\n",
    "\n",
    "meu_dicionario.update({\"idade\": 26, \"cidade\": \"São Paulo\"})\n",
    "\n",
    "print(f\"Dicionário após: {meu_dicionario}\")\n",
    "\n",
    "# Observação: Caso a chave exista, ela será atualizada, caso não exista, a chave-valor será adicionada."
   ]
  },
  {
   "cell_type": "code",
   "execution_count": 32,
   "id": "9211474f",
   "metadata": {},
   "outputs": [
    {
     "name": "stdout",
     "output_type": "stream",
     "text": [
      "Dicionário antes: {'nome': 'Bob', 'idade': 30}\n",
      "Idade:  30\n",
      "Cidade:  ???\n"
     ]
    }
   ],
   "source": [
    "# Exemplo: obter valores do dicionário - método get()\n",
    "\n",
    "meu_dicionario = {\"nome\": \"Bob\", \"idade\": 30}\n",
    "\n",
    "print(f\"Dicionário antes: {meu_dicionario}\")\n",
    "\n",
    "idade = meu_dicionario.get(\"idade\")\n",
    "print(\"Idade: \", idade)\n",
    "\n",
    "# output: 30\n",
    "\n",
    "cidade = meu_dicionario.get(\"cidade\", \"???\")\n",
    "print(\"Cidade: \", cidade)\n",
    "\n",
    "# Caso não exista a chave pesquisada com o método get(), é retornado None por padrão,\n",
    "# porém, pode-se ser especificado o valor de retorno caso a chave não exista, como no exemplo acima,\n",
    "# foi especificado o valor \"???\" como retorno caso não exista."
   ]
  },
  {
   "cell_type": "code",
   "execution_count": 33,
   "id": "03ddce8a",
   "metadata": {},
   "outputs": [
    {
     "name": "stdout",
     "output_type": "stream",
     "text": [
      "Dicionário antes: {'nome': 'Carlos', 'idade': 22}\n",
      "Valor idade:  22\n",
      "Dicionário após: {'nome': 'Carlos'}\n"
     ]
    }
   ],
   "source": [
    "# Exemplo: Remover o par chave-valor do dicionário\n",
    "\n",
    "meu_dicionario = {\"nome\": \"Carlos\", \"idade\": 22}\n",
    "print(f\"Dicionário antes: {meu_dicionario}\")\n",
    "\n",
    "valor_idade = meu_dicionario.pop(\"idade\") # Retira o item chave-valor inteiro do dicionário\n",
    "\n",
    "print(\"Valor idade: \", valor_idade)\n",
    "# output: 22\n",
    "\n",
    "print(f\"Dicionário após: {meu_dicionario}\")\n",
    "# output: {'nome': 'Carlos'}"
   ]
  },
  {
   "cell_type": "code",
   "execution_count": 35,
   "id": "66a4b36a",
   "metadata": {},
   "outputs": [
    {
     "name": "stdout",
     "output_type": "stream",
     "text": [
      "Dicionário antes: {'nome': 'Diana', 'idade': 28, 'cidade': 'Rio de Janeiro'}\n",
      "Último item:  ('cidade', 'Rio de Janeiro')\n",
      "Dicionário após: {'nome': 'Diana', 'idade': 28}\n"
     ]
    }
   ],
   "source": [
    "# Exemplo: Remover o último par chave-valor inserido no dicionário\n",
    "\n",
    "meu_dicionario = {\"nome\": \"Diana\", \"idade\": 28, \"cidade\": \"Rio de Janeiro\"}\n",
    "print(f\"Dicionário antes: {meu_dicionario}\")\n",
    "\n",
    "ultimo_item = meu_dicionario.popitem() # Retira o último par chave-valor inserido, logo não é necessário informar qual chave\n",
    "print(\"Último item: \", ultimo_item)\n",
    "# output: ('cidade', 'Rio de Janeiro')\n",
    "\n",
    "print(f\"Dicionário após: {meu_dicionario}\")\n",
    "# output: {'nome': 'Diana', 'idade': 28}"
   ]
  },
  {
   "cell_type": "code",
   "execution_count": 36,
   "id": "6eecad72",
   "metadata": {},
   "outputs": [
    {
     "name": "stdout",
     "output_type": "stream",
     "text": [
      "Dicionário antes: {'nome': 'Fernando', 'idade': 35}\n",
      "Dicionário após: {}\n"
     ]
    }
   ],
   "source": [
    "# Exemplo: Limpar dicionário - Método clear()\n",
    "\n",
    "meu_dicionario = {\"nome\": \"Fernando\", \"idade\": 35}\n",
    "print(f\"Dicionário antes: {meu_dicionario}\")\n",
    "\n",
    "meu_dicionario.clear()\n",
    "\n",
    "print(f\"Dicionário após: {meu_dicionario}\")\n",
    "\n",
    "# output: {}"
   ]
  },
  {
   "cell_type": "code",
   "execution_count": 38,
   "id": "b7a4211a",
   "metadata": {},
   "outputs": [
    {
     "name": "stdout",
     "output_type": "stream",
     "text": [
      "Dicionário original: {'nome': 'Gustavo', 'idade': 29}\n",
      "Copia dicionário:  {'nome': 'Gustavo', 'idade': 29}\n",
      "Copia dicionário alterado:  {'nome': 'Gustavo', 'idade': 30}\n",
      "Dicionário original: {'nome': 'Gustavo', 'idade': 29}\n"
     ]
    }
   ],
   "source": [
    "# Exemplo: Criar cópia do dicionário - Método copy()\n",
    "\n",
    "meu_dicionario = {\"nome\": \"Gustavo\", \"idade\": 29}\n",
    "print(f\"Dicionário original: {meu_dicionario}\")\n",
    "\n",
    "copia_dicionario = meu_dicionario.copy()\n",
    "\n",
    "print(\"Copia dicionário: \", copia_dicionario)\n",
    "# output: {'nome': 'Gustavo', 'idade': 29}\n",
    "\n",
    "copia_dicionario[\"idade\"] = 30 # Alterando valor\n",
    "print(\"Copia dicionário alterado: \", copia_dicionario)\n",
    "# output: {'nome': 'Gustavo', 'idade': 30}\n",
    "\n",
    "print(f\"Dicionário original: {meu_dicionario}\")\n",
    "# output: {'nome': 'Gustavo', 'idade': 29}"
   ]
  },
  {
   "cell_type": "code",
   "execution_count": 39,
   "id": "0c8fc3e7",
   "metadata": {},
   "outputs": [
    {
     "name": "stdout",
     "output_type": "stream",
     "text": [
      "Dicionário antes: {'nome': 'Eva', 'idade': 24, 'profissão': 'Engenheira'}\n",
      "Chaves obtida:  dict_keys(['nome', 'idade', 'profissão'])\n",
      "Chaves como lista:  ['nome', 'idade', 'profissão']\n"
     ]
    }
   ],
   "source": [
    "# Exemplo: Obter todas as chaves de um dicionário - Método keys()\n",
    "\n",
    "meu_dicionario = {\"nome\": \"Eva\", \"idade\": 24, \"profissão\": \"Engenheira\"}\n",
    "print(f\"Dicionário antes: {meu_dicionario}\")\n",
    "\n",
    "chaves = meu_dicionario.keys()\n",
    "print(\"Chaves obtidas: \", chaves)\n",
    "print(\"Chaves como lista: \", list(chaves))\n",
    "\n",
    "# output: ['nome', 'idade', 'profissão']"
   ]
  },
  {
   "cell_type": "code",
   "execution_count": 40,
   "id": "39604d8f",
   "metadata": {},
   "outputs": [
    {
     "name": "stdout",
     "output_type": "stream",
     "text": [
      "Dicionário antes: {'nome': 'Eva', 'idade': 24, 'profissão': 'Engenheira'}\n",
      "Valores obtidos:  dict_values(['Eva', 24, 'Engenheira'])\n",
      "Valores como lista:  ['Eva', 24, 'Engenheira']\n"
     ]
    }
   ],
   "source": [
    "# Exemplo: Obter todos os valores do um dicionário - Método values()\n",
    "\n",
    "meu_dicionario = {\"nome\": \"Eva\", \"idade\": 24, \"profissão\": \"Engenheira\"}\n",
    "print(f\"Dicionário antes: {meu_dicionario}\")\n",
    "\n",
    "valores = meu_dicionario.values()\n",
    "print(\"Valores obtidos: \", valores)\n",
    "print(\"Valores como lista: \", list(valores))\n",
    "\n",
    "# output: ['Eva', 24, 'Engenheira']"
   ]
  },
  {
   "cell_type": "code",
   "execution_count": 41,
   "id": "084e5963",
   "metadata": {},
   "outputs": [
    {
     "name": "stdout",
     "output_type": "stream",
     "text": [
      "Dicionário antes: {'nome': 'Eva', 'idade': 24, 'profissão': 'Engenheira'}\n",
      "Items obtidos:  dict_items([('nome', 'Eva'), ('idade', 24), ('profissão', 'Engenheira')])\n",
      "Items como lista:  [('nome', 'Eva'), ('idade', 24), ('profissão', 'Engenheira')]\n"
     ]
    }
   ],
   "source": [
    "# Exemplo: Obter todos os items chave-valor de um dicionário - Método items()\n",
    "\n",
    "meu_dicionario = {\"nome\": \"Eva\", \"idade\": 24, \"profissão\": \"Engenheira\"}\n",
    "print(f\"Dicionário antes: {meu_dicionario}\")\n",
    "\n",
    "itens = meu_dicionario.items()\n",
    "print(\"Items obtidos: \", itens)\n",
    "print(\"Items como lista: \", list(itens)) # Cria uma lista de tuplas com os items chave-valor do dicionário\n",
    "\n",
    "# output: [('nome', 'Eva'), ('idade', 24), ('profissão', 'Engenheira')]"
   ]
  },
  {
   "cell_type": "code",
   "execution_count": null,
   "id": "4e72ed1c",
   "metadata": {},
   "outputs": [],
   "source": [
    "# Importante:\n",
    "    \n",
    "# O que os métodos dict.keys(), dict.values() e dict.items() retornam?\n",
    "\n",
    "# Os métodos de dicionários dict.keys(), dict.values() e dict.items() retornam objetos chamados de views.\n",
    "# Uma view de um dicionário é semelhante a uma lista, porém não são exatamente iguais: não podemos pegar um elemento de uma view pelo seu índice, por exemplo.\n",
    "\n",
    "# A principal utilidade de uma view de dicionário é que elas permanecem atualizadas com o dicionário de origem: se criarmos \n",
    "# uma variável contendo uma view de dicionário, qualquer alteração que fizermos no dicionário original se refletirá na view \n",
    "# automaticamente.\n",
    "\n",
    "# Resumo: Os métodos acima criam views, que ficam \"conectadas\" ao dicionário em questão. Possuindo características similares\n",
    "# a de ponteiros, onde uma variável fica apontando para determinado setor de memória, e não para o dados propriamente.\n",
    "# Então, caso os dados do dicionário mude, a view criada utilizando os métodos acima, refletirá as mudanças também."
   ]
  },
  {
   "cell_type": "code",
   "execution_count": 42,
   "id": "9d17b083",
   "metadata": {},
   "outputs": [],
   "source": [
    "# Exemplo: Direfenças entre listas e dicionários\n",
    "\n",
    "# Listas possuem ordem, são acessesadas via indices\n",
    "nomes = [\"João\", \"Pedro\", \"Maria\"]\n",
    "primeiro_nome = nomes[0]  # Pegando o elemento de índice 0\n",
    "\n",
    "# Dicionários não possuem ordem, ou pelo menos o sentido de ordem não se aplica para os dicionários,\n",
    "# São acessados por suas chaves\n",
    "pessoa = {\"nome\": \"Paulo\", \"idade\": 29, \"filhos\": [\"João\", \"Maria\"]}\n",
    "nome_pessoa = pessoa[\"nome\"]  # pegando o valor associado à chave \"nome\""
   ]
  },
  {
   "cell_type": "code",
   "execution_count": 43,
   "id": "ec3ab6a1",
   "metadata": {},
   "outputs": [
    {
     "name": "stdout",
     "output_type": "stream",
     "text": [
      "Dicionário funcionario: {'nome': 'Pedro', 'sobrenome': 'Silva', 'salario': 6500}\n",
      "Dicionário após execução list():  ['nome', 'sobrenome', 'salario']\n"
     ]
    }
   ],
   "source": [
    "# Exemplo: Listando as chaves de um dicionário - Método list() - Funciona para outros tipos de dados também\n",
    "\n",
    "funcionario = {\"nome\": \"Pedro\", \"sobrenome\": \"Silva\", \"salario\": 6500}\n",
    "print(f\"Dicionário funcionario: {funcionario}\")\n",
    "print(\"Dicionário após execução list(): \", list(funcionario))\n",
    "\n",
    "# output:\n",
    "# ['nome', 'sobrenome', 'salario']\n",
    "\n",
    "# Só retorna as chaves do dicionário.\n"
   ]
  },
  {
   "cell_type": "code",
   "execution_count": 44,
   "id": "ebcc773b",
   "metadata": {},
   "outputs": [
    {
     "name": "stdout",
     "output_type": "stream",
     "text": [
      "Dicionário funcionario: {'nome': 'Pedro', 'sobrenome': 'Silva', 'salario': 6500}\n",
      "Dicionário após execução list(dict.values()):  ['Pedro', 'Silva', 6500]\n"
     ]
    }
   ],
   "source": [
    "# Exemplo: Listando os valores de um dicionário\n",
    "\n",
    "funcionario = {\"nome\": \"Pedro\", \"sobrenome\": \"Silva\", \"salario\": 6500}\n",
    "print(f\"Dicionário funcionario: {funcionario}\")\n",
    "print(\"Dicionário após execução list(dict.values()): \", list(funcionario.values()))\n",
    "\n",
    "# output:\n",
    "# ['Pedro', 'Silva', 6500]"
   ]
  },
  {
   "cell_type": "code",
   "execution_count": 45,
   "id": "663da42d",
   "metadata": {},
   "outputs": [
    {
     "name": "stdout",
     "output_type": "stream",
     "text": [
      "Dicionário funcionario: {'nome': 'Pedro', 'sobrenome': 'Silva', 'salario': 6500}\n",
      "Dicionário após execução list(dict.items()): [('nome', 'Pedro'), ('sobrenome', 'Silva'), ('salario', 6500)]\n"
     ]
    }
   ],
   "source": [
    "# Exemplo: Listando os items chave-valor de um dicionário\n",
    "\n",
    "funcionario = {\"nome\": \"Pedro\", \"sobrenome\": \"Silva\", \"salario\": 6500}\n",
    "print(f\"Dicionário funcionario: {funcionario}\")\n",
    "print(\"Dicionário após execução list(dict.items()):\", list(funcionario.items()))\n",
    "\n",
    "# output:\n",
    "# [('nome', 'Pedro'), ('sobrenome', 'Silva'), ('salario', 6500)]"
   ]
  },
  {
   "cell_type": "code",
   "execution_count": 46,
   "id": "a5880292",
   "metadata": {},
   "outputs": [
    {
     "name": "stdout",
     "output_type": "stream",
     "text": [
      "Dicionário funcionario: {'nome': 'Pedro', 'sobrenome': 'Silva', 'salario': 6500}\n",
      "Dicionário após execução list(dict.keys()): ['nome', 'sobrenome', 'salario']\n"
     ]
    }
   ],
   "source": [
    "# Exemplo: listar as chaves do dicionário, mesmo resultado utilizando somente o método list(dict)\n",
    "\n",
    "# Mesma coisa que o primeiro exemplo!\n",
    "funcionario = {\"nome\": \"Pedro\", \"sobrenome\": \"Silva\", \"salario\": 6500}\n",
    "print(f\"Dicionário funcionario: {funcionario}\")\n",
    "print(\"Dicionário após execução list(dict.keys()):\", list(funcionario.keys()))\n",
    "\n",
    "# output:\n",
    "# ['nome', 'sobrenome', 'salario']"
   ]
  },
  {
   "cell_type": "code",
   "execution_count": 50,
   "id": "cb882d6d",
   "metadata": {},
   "outputs": [
    {
     "name": "stdout",
     "output_type": "stream",
     "text": [
      "Dicionário funcionario: {'nome': 'Pedro', 'sobrenome': 'Silva', 'salario': 6500}\n",
      "--------------------------------------------------\n",
      "Chave -> nome\n",
      "Chave -> sobrenome\n",
      "Chave -> salario\n",
      "--------------------------------------------------\n",
      "Valor -> Pedro\n",
      "Valor -> Silva\n",
      "Valor -> 6500\n",
      "--------------------------------------------------\n",
      "Chave \"nome\" associada ao valor \"Pedro\"\n",
      "Chave \"sobrenome\" associada ao valor \"Silva\"\n",
      "Chave \"salario\" associada ao valor \"6500\"\n"
     ]
    }
   ],
   "source": [
    "# Exemplo: Percorrendo um dicionário\n",
    "\n",
    "funcionario = {\"nome\": \"Pedro\", \"sobrenome\": \"Silva\", \"salario\": 6500}\n",
    "print(f\"Dicionário funcionario: {funcionario}\")\n",
    "\n",
    "print(\"-\"*50)\n",
    "\n",
    "# Iterando sobre as chaves\n",
    "for chave in funcionario.keys():\n",
    "    print(f'Chave -> {chave}')\n",
    "\n",
    "# output:\n",
    "# Chave -> nome\n",
    "# Chave -> sobrenome\n",
    "# Chave -> salario\n",
    "\n",
    "print(\"-\"*50)\n",
    "\n",
    "# Iterando sobre os valores\n",
    "for valor in funcionario.values():\n",
    "    print(f'Valor -> {valor}')\n",
    "\n",
    "# output:\n",
    "# Chave -> Pedro\n",
    "# Chave -> Silva\n",
    "# Chave -> 6500\n",
    "\n",
    "print(\"-\"*50)\n",
    "\n",
    "# Iterando sobre pares chave-valor\n",
    "for chave, valor in funcionario.items():\n",
    "    print(f'Chave \"{chave}\" associada ao valor \"{valor}\"')\n",
    "\n",
    "# output:\n",
    "# Chave \"nome\" associada ao valor \"Pedro\"\n",
    "# Chave \"sobrenome\" associada ao valor \"Silva\"\n",
    "# Chave \"salario\" associada ao valor \"6500\""
   ]
  },
  {
   "cell_type": "code",
   "execution_count": 51,
   "id": "980e877b",
   "metadata": {},
   "outputs": [
    {
     "name": "stdout",
     "output_type": "stream",
     "text": [
      "Lista palavras: ['python', 'asimov', 'academy', 'cursos', 'projetos']\n",
      "Dicionário criado:  {'python': 6, 'asimov': 6, 'academy': 7, 'cursos': 6, 'projetos': 8}\n"
     ]
    }
   ],
   "source": [
    "# Exemplo: Transformar lista em dicionário\n",
    "\n",
    "palavras = [\"python\", \"asimov\", \"academy\", \"cursos\", \"projetos\"]\n",
    "print(f\"Lista palavras: {palavras}\")\n",
    "\n",
    "dict_palavras = {}\n",
    "\n",
    "for palavra in palavras:\n",
    "    tamanho_palavra = len(palavra)\n",
    "    dict_palavras[palavra] = tamanho_palavra\n",
    "\n",
    "print(\"Dicionário criado: \", dict_palavras)\n",
    "\n",
    "# output:\n",
    "# {'python': 6, 'asimov': 6, 'academy': 7, 'cursos': 6, 'projetos': 8}"
   ]
  },
  {
   "cell_type": "code",
   "execution_count": 52,
   "id": "f29f9390",
   "metadata": {},
   "outputs": [
    {
     "name": "stdout",
     "output_type": "stream",
     "text": [
      "Lista pessoas:  ['Marcos', 'Ricardo', 'Ana']\n",
      "Lista idades:  [23, 35, 29]\n",
      "Dicionário criado a partir das duas listas:  {'Marcos': 23, 'Ricardo': 35, 'Ana': 29}\n"
     ]
    }
   ],
   "source": [
    "# Exemplo: Juntar duas listas em um dicionário\n",
    "\n",
    "pessoas = [\"Marcos\", \"Ricardo\", \"Ana\"]\n",
    "print(\"Lista pessoas: \", pessoas)\n",
    "\n",
    "idades = [23, 35, 29]\n",
    "print(\"Lista idades: \", idades)\n",
    "\n",
    "dict_pessoas = {}\n",
    "\n",
    "for nome, idade in zip(pessoas, idades):\n",
    "    dict_pessoas[nome] = idade\n",
    "\n",
    "print(\"Dicionário criado a partir das duas listas: \", dict_pessoas)\n",
    "\n",
    "# output:\n",
    "# {'Marcos': 23, 'Ricardo': 35, 'Ana': 29}"
   ]
  },
  {
   "cell_type": "code",
   "execution_count": 58,
   "id": "e75bc817",
   "metadata": {},
   "outputs": [
    {
     "name": "stdout",
     "output_type": "stream",
     "text": [
      "Lista numeros:  [1, 2, 3]\n",
      "\n",
      "Lista letras:  ['a', 'b', 'c']\n",
      "\n",
      "Tupla criada após uso do método zip(numeros, letras): <zip object at 0x000001BDEE717340> \n",
      "\n",
      "Tupla criada após uso do método list(zip(numeros, letras)): [(1, 'a'), (2, 'b'), (3, 'c')] \n",
      "\n"
     ]
    }
   ],
   "source": [
    "# Explicação do método zip()\n",
    "\n",
    "# O método zip() em Python é usado para combinar elementos de duas ou mais iteráveis (como listas, tuplas, etc.) em pares.\n",
    "\n",
    "# Exemplo de utilização:\n",
    "numeros = [1, 2, 3]\n",
    "print(\"Lista numeros: \", numeros)\n",
    "letras = ['a', 'b', 'c']\n",
    "print(\"\\nLista letras: \", letras)\n",
    "\n",
    "combinados = zip(numeros, letras)\n",
    "# Observe que não é possível visualizar as tuplas diretamente\n",
    "print(\"\\nTupla criada após uso do método zip(numeros, letras):\", combinados, \"\\n\")\n",
    "\n",
    "print(\"Tupla criada após uso do método list(zip(numeros, letras)):\", list(combinados), \"\\n\")\n",
    "\n",
    "# Iterando a partir das tuplas criadas\n",
    "for numero, letra in combinados:\n",
    "    print(numero, letra)"
   ]
  }
 ],
 "metadata": {
  "kernelspec": {
   "display_name": "Python 3 (ipykernel)",
   "language": "python",
   "name": "python3"
  },
  "language_info": {
   "codemirror_mode": {
    "name": "ipython",
    "version": 3
   },
   "file_extension": ".py",
   "mimetype": "text/x-python",
   "name": "python",
   "nbconvert_exporter": "python",
   "pygments_lexer": "ipython3",
   "version": "3.11.3"
  }
 },
 "nbformat": 4,
 "nbformat_minor": 5
}

{
 "cells": [
  {
   "cell_type": "markdown",
   "id": "df70f601",
   "metadata": {},
   "source": [
    "# Exercícios do livro: INTRODUÇÃO A PROGRAMAÇÃO COM PYTHON - Algoritimos e lógica de programação para iniciantes (Nilo Ney Coutinho Menezes)\n",
    "### Curso Softex - FAP 2024 - Natal\n",
    "### Ivan Varella"
   ]
  },
  {
   "cell_type": "markdown",
   "id": "c17b88d1",
   "metadata": {},
   "source": [
    "# Capítulo 2"
   ]
  },
  {
   "cell_type": "markdown",
   "id": "d8ec3123",
   "metadata": {},
   "source": [
    "#### Exercício 2.1 (pág. 44):"
   ]
  },
  {
   "cell_type": "code",
   "execution_count": 6,
   "id": "3049826a",
   "metadata": {},
   "outputs": [
    {
     "name": "stdout",
     "output_type": "stream",
     "text": [
      "10 + 20 * 30: 610\n",
      "4**2 / 30: 0.5333333333333333\n"
     ]
    }
   ],
   "source": [
    "print(f\"10 + 20 * 30 = {10 + 20 * 30}\")\n",
    "print(f\"4**2 / 30 = {4**2 / 30}\")"
   ]
  },
  {
   "cell_type": "markdown",
   "id": "abf0a6b5",
   "metadata": {},
   "source": [
    "#### Exercício 2.2 (pág. 44):"
   ]
  },
  {
   "cell_type": "markdown",
   "id": "b4fbd6f8",
   "metadata": {},
   "source": [
    "#### Ordem de precedência:\n",
    "1- Parêntesis <br>\n",
    "2- Expoentes <br>\n",
    "3- Multiplicação e divisão (Da esquerda para a direita)<br>\n",
    "4- Somas e subtrações (Da esquerda para a direita)"
   ]
  },
  {
   "cell_type": "code",
   "execution_count": 7,
   "id": "3965ccbd",
   "metadata": {},
   "outputs": [
    {
     "name": "stdout",
     "output_type": "stream",
     "text": [
      "10 % 3 * 10 ** 2 + 1 - 10 * 4 / 2 = 81.0\n"
     ]
    }
   ],
   "source": [
    "print(f\"10 % 3 * 10 ** 2 + 1 - 10 * 4 / 2 = {10 % 3 * 10 ** 2 + 1 - 10 * 4 / 2}\")"
   ]
  },
  {
   "cell_type": "markdown",
   "id": "51eca395",
   "metadata": {},
   "source": [
    "#### Exercício 2.3 (pág. 48):"
   ]
  },
  {
   "cell_type": "code",
   "execution_count": 9,
   "id": "03a91c53",
   "metadata": {},
   "outputs": [
    {
     "name": "stdout",
     "output_type": "stream",
     "text": [
      "Nome: Ivan\n"
     ]
    }
   ],
   "source": [
    "nome = \"Ivan\"\n",
    "print(f\"Nome: {nome}\")"
   ]
  },
  {
   "cell_type": "markdown",
   "id": "41f37b87",
   "metadata": {},
   "source": [
    "#### Exercício 2.4 (pág. 48):"
   ]
  },
  {
   "cell_type": "code",
   "execution_count": 11,
   "id": "218b91d0",
   "metadata": {},
   "outputs": [
    {
     "name": "stdout",
     "output_type": "stream",
     "text": [
      "Sendo a = 3 e b = 5, 2a × 3b = 90\n"
     ]
    }
   ],
   "source": [
    "a = 3\n",
    "b = 5\n",
    "result = (2*a) * (3*b)\n",
    "print(f\"Sendo a = {a} e b = {b}, 2a × 3b = {result}\")"
   ]
  },
  {
   "cell_type": "markdown",
   "id": "58dea1e3",
   "metadata": {},
   "source": [
    "#### Exercício 2.5 (pág. 48):"
   ]
  },
  {
   "cell_type": "code",
   "execution_count": 12,
   "id": "2cc68140",
   "metadata": {},
   "outputs": [
    {
     "name": "stdout",
     "output_type": "stream",
     "text": [
      "A soma de 10 + 20 + -3 = 27\n"
     ]
    }
   ],
   "source": [
    "a = 10\n",
    "b = 20\n",
    "c = -3\n",
    "\n",
    "def soma(a, b, c):\n",
    "    return a + b + c\n",
    "\n",
    "print(f\"A soma de {a} + {b} + {c} = {soma(a, b, c)}\")"
   ]
  },
  {
   "cell_type": "markdown",
   "id": "42fd1244",
   "metadata": {},
   "source": [
    "#### Exercício 2.6 (pág. 48):"
   ]
  },
  {
   "cell_type": "code",
   "execution_count": 14,
   "id": "bc0dcd43",
   "metadata": {},
   "outputs": [
    {
     "name": "stdout",
     "output_type": "stream",
     "text": [
      "O aumento de 15% no salário de 750 reais é igual a 112.5 reais, sendo o salário final igual a 862.5 reais.\n"
     ]
    }
   ],
   "source": [
    "salario = 750\n",
    "aumento = 15\n",
    "\n",
    "def calAumento(salario, aumento):\n",
    "    aumento = (aumento / 100) * salario\n",
    "    return aumento\n",
    "\n",
    "print (f\"O aumento de {aumento}% no salário de {salario} reais é igual a {calAumento(salario, aumento)} reais, sendo o salário final igual a {salario + calAumento(salario, aumento)} reais.\")"
   ]
  },
  {
   "cell_type": "markdown",
   "id": "79a7e9d7",
   "metadata": {},
   "source": [
    "# Capítulo 3"
   ]
  },
  {
   "cell_type": "markdown",
   "id": "cbbb4561",
   "metadata": {},
   "source": [
    "#### Exercício 3.1 (pág. 51):"
   ]
  },
  {
   "cell_type": "code",
   "execution_count": 16,
   "id": "ba78c135",
   "metadata": {},
   "outputs": [
    {
     "name": "stdout",
     "output_type": "stream",
     "text": [
      "5 -> inteiro - type: <class 'int'>\n",
      "5.0 -> ponto flutuante - type: <class 'float'>\n",
      "4.3 -> ponto flutuante - type: <class 'float'>\n",
      "-2 -> inteiro - type: <class 'int'>\n",
      "100 -> inteiro - type: <class 'int'>\n",
      "1.333 -> ponto flutuante - type: <class 'float'>\n"
     ]
    }
   ],
   "source": [
    "print(f\"5 -> inteiro - type: {type(5)}\")\n",
    "print(f\"5.0 -> ponto flutuante - type: {type(5.0)}\")\n",
    "print(f\"4.3 -> ponto flutuante - type: {type(4.3)}\")\n",
    "print(f\"-2 -> inteiro - type: {type(-2)}\")\n",
    "print(f\"100 -> inteiro - type: {type(100)}\")\n",
    "print(f\"1.333 -> ponto flutuante - type: {type(1.333)}\")"
   ]
  },
  {
   "cell_type": "markdown",
   "id": "93496a20",
   "metadata": {},
   "source": [
    "#### Exercício 3.2 (pág. 55):"
   ]
  },
  {
   "cell_type": "code",
   "execution_count": 19,
   "id": "984ed2ea",
   "metadata": {},
   "outputs": [
    {
     "name": "stdout",
     "output_type": "stream",
     "text": [
      "a == c -> False\n",
      "a < b  -> True\n",
      "d > b  -> False\n",
      "c != f -> False\n",
      "a == b -> False\n",
      "c < d  -> False\n",
      "b > a  -> True\n",
      "c >= f -> True\n",
      "f >= c -> True\n",
      "c <= c -> True\n",
      "c <= f -> True\n"
     ]
    }
   ],
   "source": [
    "a = 4\n",
    "b = 10\n",
    "c = 5.0\n",
    "d = 1\n",
    "f = 5\n",
    "\n",
    "print(f\"a == c -> {a == c}\")\n",
    "print(f\"a < b  -> {a < b}\")\n",
    "print(f\"d > b  -> {d > b}\")\n",
    "print(f\"c != f -> {c != f}\")\n",
    "print(f\"a == b -> {a == b}\")\n",
    "print(f\"c < d  -> {c < d}\")\n",
    "print(f\"b > a  -> {b > a}\")\n",
    "print(f\"c >= f -> {c >= f}\")\n",
    "print(f\"f >= c -> {f >= c}\")\n",
    "print(f\"c <= c -> {c <= c}\")\n",
    "print(f\"c <= f -> {c <= f}\")"
   ]
  },
  {
   "cell_type": "markdown",
   "id": "c703c25c",
   "metadata": {},
   "source": [
    "#### Exercício 3.3 (pág. 58):"
   ]
  },
  {
   "cell_type": "code",
   "execution_count": 20,
   "id": "e7141586",
   "metadata": {},
   "outputs": [
    {
     "name": "stdout",
     "output_type": "stream",
     "text": [
      "a and a -> False\n",
      "b and b -> False\n",
      "not c   -> False\n",
      "not b   -> True\n",
      "not a   -> False\n",
      "a and b -> False\n",
      "b and c -> False\n",
      "a or c  -> True\n",
      "b or c  -> True\n",
      "c or a  -> True\n",
      "c or b  -> True\n",
      "c or c  -> True\n",
      "b or b  -> False\n"
     ]
    }
   ],
   "source": [
    "a = True\n",
    "b = False\n",
    "c = True\n",
    "\n",
    "print(f\"a and a -> {a and b}\")\n",
    "print(f\"b and b -> {b and b}\")\n",
    "print(f\"not c   -> {not c}\")\n",
    "print(f\"not b   -> {not b}\")\n",
    "print(f\"not a   -> {not a}\")\n",
    "print(f\"a and b -> {a and b}\")\n",
    "print(f\"b and c -> {b and c}\")\n",
    "print(f\"a or c  -> {a or c}\")\n",
    "print(f\"b or c  -> {b or c}\")\n",
    "print(f\"c or a  -> {c or a}\")\n",
    "print(f\"c or b  -> {c or b}\")\n",
    "print(f\"c or c  -> {c or c}\")\n",
    "print(f\"b or b  -> {b or b}\")"
   ]
  },
  {
   "cell_type": "markdown",
   "id": "4d34ce06",
   "metadata": {},
   "source": [
    "#### Exercício 3.4 (pág. 59):"
   ]
  },
  {
   "cell_type": "code",
   "execution_count": 23,
   "id": "063a8bd3",
   "metadata": {},
   "outputs": [
    {
     "name": "stdout",
     "output_type": "stream",
     "text": [
      "Sendo salário igual a 1100 reais, o empregado não deve pagar imposto.\n"
     ]
    }
   ],
   "source": [
    "salario = 1100\n",
    "index = 1200\n",
    "\n",
    "def determinaImposto(salario, index):\n",
    "    if salario > index:\n",
    "        return \"deve pagar imposto\"\n",
    "    else:\n",
    "        return \"não deve pagar imposto\"\n",
    "\n",
    "print(f\"Sendo salário igual a {salario} reais, o empregado {determinaImposto(salario, index)}.\")"
   ]
  },
  {
   "cell_type": "markdown",
   "id": "1dfd419c",
   "metadata": {},
   "source": [
    "#### Exercício 3.5 (pág. 60):"
   ]
  },
  {
   "cell_type": "code",
   "execution_count": 26,
   "id": "e581b662",
   "metadata": {},
   "outputs": [
    {
     "name": "stdout",
     "output_type": "stream",
     "text": [
      "Sendo: A = 1, B = 2, C = True, D = False, a expressão A > B and C or D é igual a False.\n",
      "Sendo: A = 10, B = 3, C = False, D = False, a expressão A > B and C or D é igual a False.\n",
      "Sendo: A = 5, B = 1, C = True, D = True, a expressão A > B and C or D é igual a True.\n"
     ]
    }
   ],
   "source": [
    "def calExpressao(A, B, C, D):\n",
    "    return A > B and C or D\n",
    "\n",
    "print(f\"Sendo: A = 1, B = 2, C = True, D = False, a expressão A > B and C or D é igual a {calExpressao(A = 1, B = 2, C = True, D = False)}.\")\n",
    "\n",
    "print(f\"Sendo: A = 10, B = 3, C = False, D = False, a expressão A > B and C or D é igual a {calExpressao(A = 10, B = 3, C = False, D = False)}.\")\n",
    "\n",
    "print(f\"Sendo: A = 5, B = 1, C = True, D = True, a expressão A > B and C or D é igual a {calExpressao(A = 5, B = 1, C = True, D = True)}.\")"
   ]
  },
  {
   "cell_type": "markdown",
   "id": "2c89926d",
   "metadata": {},
   "source": [
    "#### Exercício 3.6 (pág. 60):"
   ]
  },
  {
   "cell_type": "code",
   "execution_count": 35,
   "id": "db66055f",
   "metadata": {},
   "outputs": [
    {
     "name": "stdout",
     "output_type": "stream",
     "text": [
      "Sendo as médias do aluno iguais a: materia1 = 7.1, materia2 = 9 e materia3 = 8, o aluno foi aprovado.\n"
     ]
    }
   ],
   "source": [
    "materia1 = 7.1\n",
    "materia2 = 9\n",
    "materia3 = 8\n",
    "\n",
    "def foiAprovado(materia1, materia2, materia3):\n",
    "    if (materia1 > 7) and (materia2 > 7) and (materia3 > 7):\n",
    "        return True\n",
    "    else:\n",
    "        return False\n",
    "\n",
    "if foiAprovado(materia1, materia2, materia3):\n",
    "    msg = \"aprovado\"\n",
    "else:\n",
    "    msg = \"reprovado\"\n",
    "\n",
    "print(f\"Sendo as médias do aluno iguais a: materia1 = {materia1}, materia2 = {materia2} e materia3 = {materia3}, o aluno foi {msg}.\")"
   ]
  },
  {
   "cell_type": "markdown",
   "id": "c1eb67fd",
   "metadata": {},
   "source": [
    "#### Exercício 3.7 (pág. 71):"
   ]
  },
  {
   "cell_type": "code",
   "execution_count": 61,
   "id": "29d18759",
   "metadata": {},
   "outputs": [
    {
     "name": "stdout",
     "output_type": "stream",
     "text": [
      "Digite o primeiro número inteiro: 2\n",
      "Digite o segundo número inteiro: 10\n",
      "A soma 2 + 10 é igual a 12.\n"
     ]
    }
   ],
   "source": [
    "num1 = int(input(\"Digite o primeiro número inteiro: \"))\n",
    "num2 = int(input(\"Digite o segundo número inteiro: \"))\n",
    "\n",
    "soma = num1 + num2\n",
    "\n",
    "print(\"A soma %d + %d é igual a %d.\" % (num1, num2, soma))"
   ]
  },
  {
   "cell_type": "markdown",
   "id": "2eb5d097",
   "metadata": {},
   "source": [
    "#### Exercício 3.8 (pág. 71):"
   ]
  },
  {
   "cell_type": "code",
   "execution_count": 64,
   "id": "103231a1",
   "metadata": {},
   "outputs": [
    {
     "name": "stdout",
     "output_type": "stream",
     "text": [
      "Digite um valor em metros: 10\n",
      "10.00 metros é igual a 10000.00 milímetros\n"
     ]
    }
   ],
   "source": [
    "def metroToMilimetro(metros):\n",
    "    return metros * 1000\n",
    "\n",
    "metros = float(input(\"Digite um valor em metros: \"))\n",
    "\n",
    "milimetros = metroToMilimetro(metros)\n",
    "\n",
    "print(\"%.2f metros é igual a %.2f milímetros\" % (metros, milimetros))"
   ]
  },
  {
   "cell_type": "markdown",
   "id": "91e110f5",
   "metadata": {},
   "source": [
    "#### Exercício 3.9 (pág. 71):"
   ]
  },
  {
   "cell_type": "code",
   "execution_count": 66,
   "id": "c7e6b6a9",
   "metadata": {},
   "outputs": [
    {
     "name": "stdout",
     "output_type": "stream",
     "text": [
      "Digite quantos dias: 1\n",
      "Digite quantas horas: 24\n",
      "Digite quantos minutos: 60\n",
      "Digite quantos segundos: 60\n",
      "O total de segundos em 1 dias, 24 horas, 60 minutos e 60 segundos é igual a: 176460 segundos.\n"
     ]
    }
   ],
   "source": [
    "def calcSegTotal (dias, horas, minutos, segundos):\n",
    "    total_segundos = segundos\n",
    "    total_segundos += minutos * 60\n",
    "    total_segundos += horas * 3600\n",
    "    total_segundos += dias * 86400\n",
    "    return total_segundos\n",
    "\n",
    "dias  = int(input(\"Digite quantos dias: \"))\n",
    "horas = int(input(\"Digite quantas horas: \"))\n",
    "minutos = int(input(\"Digite quantos minutos: \"))\n",
    "segundos = int(input(\"Digite quantos segundos: \"))\n",
    "\n",
    "total_segundos = calcSegTotal (dias, horas, minutos, segundos)\n",
    "\n",
    "print(\"\\nO total de segundos em %d dias, %d horas, %d minutos e %d segundos é igual a: %d segundos.\" % (dias, horas, minutos, segundos, total_segundos))"
   ]
  },
  {
   "cell_type": "markdown",
   "id": "122532d8",
   "metadata": {},
   "source": [
    "#### Exercício 3.10 (pág. 72):"
   ]
  },
  {
   "cell_type": "code",
   "execution_count": 73,
   "id": "836b7012",
   "metadata": {},
   "outputs": [
    {
     "name": "stdout",
     "output_type": "stream",
     "text": [
      "Digite o valor do salário: 1000\n",
      "Digite o valor da porcentagem do aumento: 10\n",
      "Sendo o salário de 1000.00 reais e a porcentagem do aumento 10.00 porcento, o aumento do salário será de 100.00 reais e o novo salário de 1100.00 reais.\n"
     ]
    }
   ],
   "source": [
    "def calcAumento(salario, porcentagemAumento):\n",
    "    porcentagemAumento /= 100\n",
    "    return salario * porcentagemAumento\n",
    "\n",
    "salario = float(input(\"Digite o valor do salário: \"))\n",
    "porcentagemAumento = float(input(\"Digite o valor da porcentagem do aumento: \"))\n",
    "\n",
    "aumentoSalario = calcAumento(salario, porcentagemAumento)\n",
    "\n",
    "print(\"Sendo o salário de %.2f reais e a porcentagem do aumento %.2f porcento, o aumento do salário será de %.2f reais e o novo salário de %.2f reais.\" % (salario, porcentagemAumento, aumentoSalario, salario + aumentoSalario))"
   ]
  },
  {
   "cell_type": "markdown",
   "id": "61638250",
   "metadata": {},
   "source": [
    "#### Exercício 3.11 (pág. 72):"
   ]
  },
  {
   "cell_type": "code",
   "execution_count": 74,
   "id": "31d88e34",
   "metadata": {},
   "outputs": [
    {
     "name": "stdout",
     "output_type": "stream",
     "text": [
      "Digite o preço: 1000\n",
      "Digite o porcentual de desconto: 10\n",
      "Sendo o preço de 1000.00 reais e o percentual de desconto igual a 10.00 porcento, a valor do desconto será de 100.00 reais e o novo preço igual a 900.00 reais.\n"
     ]
    }
   ],
   "source": [
    "def calcDesconto(preco, porcentagemDesconto):\n",
    "    porcentagemDesconto /= 100\n",
    "    return preco * porcentagemDesconto\n",
    "\n",
    "preco = float(input(\"Digite o preço: \"))\n",
    "porcentagemDesconto = float(input(\"Digite o porcentual de desconto: \"))\n",
    "\n",
    "desconto = calcDesconto(preco, porcentagemDesconto)\n",
    "\n",
    "print(\"Sendo o preço de %.2f reais e o percentual de desconto igual a %.2f porcento, a valor do desconto será de %.2f reais e o novo preço igual a %.2f reais.\" % (preco, porcentagemDesconto, desconto, preco - desconto))"
   ]
  },
  {
   "cell_type": "markdown",
   "id": "17b5930b",
   "metadata": {},
   "source": [
    "#### Exercício 3.12 (pág. 72):"
   ]
  },
  {
   "cell_type": "code",
   "execution_count": 76,
   "id": "3aa5c63e",
   "metadata": {},
   "outputs": [
    {
     "name": "stdout",
     "output_type": "stream",
     "text": [
      "Digite a distância (Km): 100\n",
      "Digite a velocidade média da viagem (Km/h): 100\n",
      "A viagem de 100.00 Km foi feita com uma velocidade média de 100.00 Km/h em 1.00 horas.\n"
     ]
    }
   ],
   "source": [
    "def calcTempoViagem(distancia, velocidadeMedia):\n",
    "    return distancia / velocidadeMedia\n",
    "\n",
    "distancia = float(input(\"Digite a distância (Km): \"))\n",
    "velocidadeMedia = float(input(\"Digite a velocidade média da viagem (Km/h): \"))\n",
    "\n",
    "tempoHoras = calcTempoViagem(distancia, velocidadeMedia)\n",
    "\n",
    "print(\"A viagem de %.2f Km foi feita com uma velocidade média de %.2f Km/h em %.2f horas.\" %(distancia, velocidadeMedia, tempoHoras))"
   ]
  },
  {
   "cell_type": "markdown",
   "id": "e1602224",
   "metadata": {},
   "source": [
    "#### Exercício 3.13 (pág. 72):"
   ]
  },
  {
   "cell_type": "code",
   "execution_count": 77,
   "id": "a205f4b2",
   "metadata": {},
   "outputs": [
    {
     "name": "stdout",
     "output_type": "stream",
     "text": [
      "Digite uma temperatura em Celsius: 100\n",
      "A temperatura 100.00 C é equivalente a 212.00 F.\n"
     ]
    }
   ],
   "source": [
    "def celsiusToFahrenheit(celsius):\n",
    "    return (celsius * 9/5) + 32\n",
    "\n",
    "celsius = float(input(\"Digite uma temperatura em Celsius: \"))\n",
    "\n",
    "fahrenheit = celsiusToFahrenheit(celsius)\n",
    "\n",
    "print(\"A temperatura %.2f C é equivalente a %.2f F.\" %(celsius, fahrenheit))\n"
   ]
  },
  {
   "cell_type": "markdown",
   "id": "33ad30c6",
   "metadata": {},
   "source": [
    "#### Exercício 3.14 (pág. 72):"
   ]
  },
  {
   "cell_type": "code",
   "execution_count": 78,
   "id": "8527d7b7",
   "metadata": {},
   "outputs": [
    {
     "name": "stdout",
     "output_type": "stream",
     "text": [
      "Digite a quantidade de kilômetros percorrido: 100\n",
      "Digite a quantidade de dias alugou o carro: 30\n",
      "Como a diária doi aluguel custa 60.00 reais, o valor do Km percorrido custa 0.15 reais e como foi percorrido 100 Km o cliente ficou com o carro por 30 dias, o total a pagar será de 1815.00 reais.\n"
     ]
    }
   ],
   "source": [
    "def calcTotalAluguel(qtdKm, qtdDias, diariaCarro, valorKmRodado):\n",
    "    reaisKmRodado = qtdKm * valorKmRodado\n",
    "    reaisDiarias = qtdDias * diariaCarro\n",
    "    return reaisKmRodado + reaisDiarias\n",
    "\n",
    "diariaCarro = 60.0\n",
    "valorKmRodado = 0.15\n",
    "\n",
    "qtdKm = int(input(\"Digite a quantidade de kilômetros percorrido: \"))\n",
    "qtdDias = int(input(\"Digite a quantidade de dias alugou o carro: \"))\n",
    "\n",
    "totalAluguel = calcTotalAluguel(qtdKm, qtdDias, diariaCarro, valorKmRodado)\n",
    "\n",
    "print(\"Como a diária doi aluguel custa %.2f reais, o valor do Km percorrido custa %.2f reais e como foram percorridos %d Km e o cliente ficou com o carro por %d dias, o total a pagar será de %.2f reais.\" % (diariaCarro, valorKmRodado, qtdKm, qtdDias, totalAluguel))"
   ]
  },
  {
   "cell_type": "markdown",
   "id": "28975090",
   "metadata": {},
   "source": [
    "#### Exercício 3.15 (pág. 72):"
   ]
  },
  {
   "cell_type": "code",
   "execution_count": 79,
   "id": "07b74a09",
   "metadata": {},
   "outputs": [
    {
     "name": "stdout",
     "output_type": "stream",
     "text": [
      "Digite a quantidade de cigaros fumados por dia: 20\n",
      "Digite a quantidade de anos é fumante: 10\n",
      "Fumando 20 cigarros por dia por um período de 10 anos, o fumante terá uma redução de vida de aproximadamente 506.94 dias.\n"
     ]
    }
   ],
   "source": [
    "def calReducaoVidaFumante(qtdCigarrosDia, qtdAnosFumante):\n",
    "    cigarrosTotal = (qtdCigarrosDia * 365) * qtdAnosFumante\n",
    "    tempoReducaoMin = cigarrosTotal * 10\n",
    "    tempoReducaoDias = tempoReducaoMin / 1440\n",
    "    return tempoReducaoDias\n",
    "    \n",
    "qtdCigarrosDia = int(input(\"Digite a quantidade de cigaros fumados por dia: \"))\n",
    "qtdAnosFumante = int(input(\"Digite a quantidade de anos é fumante: \"))\n",
    "\n",
    "tempoReducaoDias = calReducaoVidaFumante(qtdCigarrosDia, qtdAnosFumante)\n",
    "print(\"Fumando %d cigarros por dia por um período de %d anos, o fumante terá uma redução de vida de aproximadamente %.2f dias.\" % (qtdCigarrosDia, qtdAnosFumante, tempoReducaoDias))"
   ]
  },
  {
   "cell_type": "markdown",
   "id": "204bcd6e",
   "metadata": {},
   "source": [
    "# Capítulo 3"
   ]
  },
  {
   "cell_type": "markdown",
   "id": "acc79faa",
   "metadata": {},
   "source": [
    "#### Exercício 4.1 (pág. 76):"
   ]
  },
  {
   "cell_type": "code",
   "execution_count": 82,
   "id": "ecc3e2be",
   "metadata": {},
   "outputs": [
    {
     "name": "stdout",
     "output_type": "stream",
     "text": [
      "Primeiro valor: 2\n",
      "Segundo valor: 5\n",
      "O segundo número é o maior!\n"
     ]
    }
   ],
   "source": [
    "a = int(input(\"Primeiro valor: \"))\n",
    "b = int(input(\"Segundo valor: \"))\n",
    "\n",
    "if a > b:\n",
    "    print(\"O primeiro número é o maior!\")\n",
    "if b > a:\n",
    "    print(\"O segundo número é o maior!\")"
   ]
  },
  {
   "cell_type": "markdown",
   "id": "7e4e2d96",
   "metadata": {},
   "source": [
    "#### Exercício 4.2 (pág. 77):"
   ]
  },
  {
   "cell_type": "code",
   "execution_count": 84,
   "id": "00194185",
   "metadata": {},
   "outputs": [
    {
     "name": "stdout",
     "output_type": "stream",
     "text": [
      "Digite a velocidade registrada (Km/h): 110\n",
      "Motorista multado por velocidade acima de 80Km/h! Valor da multa: 150.00\n"
     ]
    }
   ],
   "source": [
    "def calcularMulta(velocidadeReg):\n",
    "    kmAcima = velocidadeReg - 80\n",
    "    return 5 * kmAcima\n",
    "\n",
    "velocidadeReg = float(input(\"Digite a velocidade registrada (Km/h): \"))\n",
    "\n",
    "valorMulta = calcularMulta(velocidadeReg)\n",
    "\n",
    "if velocidadeReg > 80:\n",
    "    print(\"Motorista multado por velocidade acima de 80Km/h! Valor da multa: %.2f reais.\" % valorMulta)\n",
    "else:\n",
    "    print(\"Velocidade registrada igual ou abaixo dos 80Km/h permitido para a via, tudo certo!\")\n"
   ]
  },
  {
   "cell_type": "markdown",
   "id": "e2f0e491",
   "metadata": {},
   "source": [
    "#### Exercício 4.3 (pág. 79):"
   ]
  },
  {
   "cell_type": "code",
   "execution_count": 90,
   "id": "781df96e",
   "metadata": {},
   "outputs": [
    {
     "name": "stdout",
     "output_type": "stream",
     "text": [
      "Digite o primeiro número: 5\n",
      "Digite o segundo número: 8\n",
      "Digite o terceiro número: 1\n",
      "O maior número digitado é o 8.00 e o menor é o 1.00\n"
     ]
    }
   ],
   "source": [
    "def maiorMenor(numeros):\n",
    "    maior = max(numeros)\n",
    "    menor = min(numeros)\n",
    "    return maior, menor\n",
    "\n",
    "numeros = []\n",
    "num1 = float(input(\"Digite o primeiro número: \"))\n",
    "num2 = float(input(\"Digite o segundo número: \"))\n",
    "num3 = float(input(\"Digite o terceiro número: \"))\n",
    "numeros.extend([num1, num2, num3])  # Adiciona vários elementos de uma vez\n",
    "\n",
    "maior, menor = maiorMenor(numeros)\n",
    "\n",
    "print(\"O maior número digitado é o %.2f e o menor é o %.2f\" % (maior, menor))\n"
   ]
  },
  {
   "cell_type": "markdown",
   "id": "4d6fff0e",
   "metadata": {},
   "source": [
    "#### Exercício 4.4 (pág. 79):"
   ]
  },
  {
   "cell_type": "code",
   "execution_count": null,
   "id": "39c92327",
   "metadata": {},
   "outputs": [],
   "source": [
    "def calcAumento(salario):\n",
    "    if salario > 1250:\n",
    "        return (salario * 0.1), \"10%\"\n",
    "    else:\n",
    "        return (salario * 0.15), \"15%\"\n",
    "\n",
    "salario = float(input(\"Digite o valor do salário: \"))\n",
    "\n",
    "aumento, aliquota = calcAumento(salario)\n",
    "\n",
    "print(\"O salário de %.2f reais teve um aumento de %s, ou seja, %.2f reais, o novo salário passou para %.2f reais.\" % (salario, aliquota, aumento, salario + aumento))"
   ]
  },
  {
   "cell_type": "markdown",
   "id": "926b86c7",
   "metadata": {},
   "source": [
    "#### Exercício 4.5 (pág. 80):"
   ]
  },
  {
   "cell_type": "code",
   "execution_count": 96,
   "id": "72f02142",
   "metadata": {},
   "outputs": [
    {
     "name": "stdout",
     "output_type": "stream",
     "text": [
      "Digite a idade de seu carro: 10\n",
      "Seu carro é velho\n",
      "Digite a idade do seu carro: 10\n",
      "Seu carro é velho\n"
     ]
    }
   ],
   "source": [
    "# Listagem 4.5:\n",
    "idade = int(input(\"Digite a idade de seu carro: \"))\n",
    "if idade <= 3:\n",
    "    print(\"Seu carro é novo\")\n",
    "else:\n",
    "    print(\"Seu carro é velho\")\n",
    "\n",
    "# Listagem 4.3:\n",
    "idade = int(input(\"Digite a idade do seu carro: \"))\n",
    "if idade <= 3:\n",
    "    print(\"Seu carro é novo\")\n",
    "if idade > 3:\n",
    "    print(\"Seu carro é velho\")"
   ]
  },
  {
   "cell_type": "markdown",
   "id": "78d7ec2a",
   "metadata": {},
   "source": [
    "#### Exercício 4.6 (pág. 80):"
   ]
  },
  {
   "cell_type": "code",
   "execution_count": 102,
   "id": "ee4c8afb",
   "metadata": {},
   "outputs": [
    {
     "name": "stdout",
     "output_type": "stream",
     "text": [
      "Digite a distância que deseja percorrer (Km): 200.1\n",
      "O preço da viagem será: 90.05 reais.\n"
     ]
    }
   ],
   "source": [
    "distancia = float(input(\"Digite a distância que deseja percorrer (Km): \"))\n",
    "\n",
    "if distancia <= 200:\n",
    "    print(\"O preço da viagem será: %.2f reais.\" % (distancia * 0.5))\n",
    "else:\n",
    "    print(\"O preço da viagem será: %.2f reais.\" % (distancia * 0.45))"
   ]
  },
  {
   "cell_type": "markdown",
   "id": "a9dab6d2",
   "metadata": {},
   "source": [
    "#### Exercício 4.7 (pág. 83):"
   ]
  },
  {
   "cell_type": "code",
   "execution_count": 103,
   "id": "0e8e9c40",
   "metadata": {},
   "outputs": [
    {
     "name": "stdout",
     "output_type": "stream",
     "text": [
      "Digite a categoria do produto (1, 2, 3, 4, 5, outras):2\n",
      "O preço do produto é: R$ 18.00\n"
     ]
    }
   ],
   "source": [
    "categoria = int(input(\"Digite a categoria do produto (1, 2, 3, 4, 5, outras):\"))\n",
    "if categoria == 1:\n",
    "    preço = 10\n",
    "else:\n",
    "    if categoria == 2:\n",
    "        preço = 18\n",
    "    else:\n",
    "        if categoria == 3:\n",
    "            preço = 23\n",
    "        else:\n",
    "            if categoria == 4:\n",
    "                preço = 26\n",
    "            else:\n",
    "                if categoria == 5:\n",
    "                    preço = 31\n",
    "                else:\n",
    "                    print(\"Categoria inválida, digite um valor entre 1 e 5!\")\n",
    "                    preço = 0\n",
    "\n",
    "print(\"O preço do produto é: R$%6.2f\" % preço)"
   ]
  },
  {
   "cell_type": "markdown",
   "id": "948ba380",
   "metadata": {},
   "source": [
    "#### Exercício 4.8 (pág. 84):"
   ]
  },
  {
   "cell_type": "code",
   "execution_count": 109,
   "id": "36e1c1fc",
   "metadata": {},
   "outputs": [
    {
     "name": "stdout",
     "output_type": "stream",
     "text": [
      "Digite o primeiro número: 100\n",
      "Digite o segundo número: 61452\n",
      "Informe a operação desejada (+, -, * ou /): asdf\n",
      "Operação não cadastrada.\n"
     ]
    }
   ],
   "source": [
    "def calcula(num1, num2, operacao):\n",
    "    if operacao == \"+\":\n",
    "        return num1 + num2\n",
    "    elif operacao == \"-\":\n",
    "        return num1 - num2\n",
    "    elif operacao == \"*\":\n",
    "        return num1 * num2\n",
    "    elif operacao == \"/\":\n",
    "        if num2 == 0:\n",
    "            return \"Erro: Divisão por zero não é permitida.\"\n",
    "        else:\n",
    "            return num1 / num2\n",
    "    else:\n",
    "        return \"Operação não cadastrada.\"\n",
    "\n",
    "num1 = float(input(\"Digite o primeiro número: \"))\n",
    "num2 = float(input(\"Digite o segundo número: \"))\n",
    "operacao = input(\"Informe a operação desejada (+, -, * ou /): \")\n",
    "\n",
    "resultado = calcula(num1, num2, operacao)\n",
    "\n",
    "if isinstance(resultado, str):\n",
    "    print(resultado)\n",
    "else:\n",
    "    print(\"A operação %.2f %s %.2f = %.2f\" % (num1, operacao, num2, resultado))"
   ]
  },
  {
   "cell_type": "markdown",
   "id": "552eceb2",
   "metadata": {},
   "source": [
    "#### Exercício 4.9 (pág. 84):"
   ]
  },
  {
   "cell_type": "code",
   "execution_count": 113,
   "id": "9059fe42",
   "metadata": {},
   "outputs": [
    {
     "name": "stdout",
     "output_type": "stream",
     "text": [
      "Digite o valor do imóvel: 500000\n",
      "Digite o valor do salário: 15000\n",
      "Digite em quantos anos deseja realizar o pagamento: 30\n",
      "Seu empréstimo foi aprovado, o valor das parcelas será de 45.66 reais.\n"
     ]
    }
   ],
   "source": [
    "def calcParcelas(valorImovel, anosPagar, salario):\n",
    "    parcela = valorImovel / (anosPagar*365)\n",
    "    if parcela > (salario * 0.3):\n",
    "        return parcela, False\n",
    "    else:\n",
    "        return parcela, True\n",
    "\n",
    "valorImovel = float(input(\"Digite o valor do imóvel: \"))\n",
    "salario = float(input(\"Digite o valor do salário: \"))\n",
    "anosPagar = int(input(\"Digite em quantos anos deseja realizar o pagamento: \"))\n",
    "\n",
    "parcela, aprovacaoEmprestimo = calcParcelas(valorImovel, anosPagar, salario)\n",
    "\n",
    "if aprovacaoEmprestimo:\n",
    "    print(\"Seu empréstimo foi aprovado, o valor das parcelas será de %.2f reais.\" % parcela)\n",
    "else:\n",
    "    print(\"Infelizmente seu empréstimo não foi aprovado.\")\n",
    "\n",
    "\n"
   ]
  },
  {
   "cell_type": "markdown",
   "id": "0ee38aca",
   "metadata": {},
   "source": [
    "#### Exercício 4.10 (pág. 84):"
   ]
  },
  {
   "cell_type": "code",
   "execution_count": 118,
   "id": "de5fda76",
   "metadata": {},
   "outputs": [
    {
     "name": "stdout",
     "output_type": "stream",
     "text": [
      "Informe a quantidade de kWh consumida: 1000\n",
      "Informe o tipo de instalação, sendo R - residências, I - indústrias e C - comércios: adfasdf\n",
      "Tipo de instalação inválida! As opções devem ser: R - residências, I - indústrias e C - comércios\n"
     ]
    }
   ],
   "source": [
    "def calcPreco(kWhConsumido, tipoInstalacao):\n",
    "    tipoInstalacao = tipoInstalacao.upper()\n",
    "    if tipoInstalacao == \"R\":\n",
    "        if kWhConsumido <= 500:\n",
    "            return (kWhConsumido * 0.4), \"residêncial\"\n",
    "        else:\n",
    "            return (kWhConsumido * 0.65), \"residêncial\"\n",
    "    elif tipoInstalacao == \"C\":\n",
    "        if kWhConsumido <= 1000:\n",
    "            return (kWhConsumido * 0.55), \"comercial\"\n",
    "        else:\n",
    "            return (kWhConsumido * 0.60), \"comercial\"\n",
    "    elif tipoInstalacao == \"I\":\n",
    "        if kWhConsumido <= 5000:\n",
    "            return (kWhConsumido * 0.55), \"industrial\"\n",
    "        else:\n",
    "            return (kWhConsumido * 0.60), \"industrial\"\n",
    "    else:\n",
    "        return None, \"invalida\"\n",
    "\n",
    "kWhConsumido = float(input(\"Informe a quantidade de kWh consumida: \"))\n",
    "tipoInstalacao = input(\"Informe o tipo de instalação, sendo R - residências, I - indústrias e C - comércios: \")\n",
    "\n",
    "preco, instalacaoString = calcPreco(kWhConsumido, tipoInstalacao)\n",
    "\n",
    "if instalacaoString == \"invalida\":\n",
    "    print(\"Tipo de instalação inválida! As opções devem ser: R - residências, I - indústrias e C - comércios\")\n",
    "else:\n",
    "    print(\"Para o consumo de %.2f kWh e instalação %s, o preço será de %.2f reais.\" % (kWhConsumido, instalacaoString, preco))\n"
   ]
  },
  {
   "cell_type": "markdown",
   "id": "5e4b7ef2",
   "metadata": {},
   "source": [
    "# Capítulo 3"
   ]
  },
  {
   "cell_type": "markdown",
   "id": "dff5c082",
   "metadata": {},
   "source": [
    "#### Exercício 5.1 (pág. 87):"
   ]
  },
  {
   "cell_type": "code",
   "execution_count": 120,
   "id": "2646ea06",
   "metadata": {},
   "outputs": [
    {
     "name": "stdout",
     "output_type": "stream",
     "text": [
      "1\n",
      "2\n",
      "3\n",
      "4\n",
      "5\n",
      "6\n",
      "7\n",
      "8\n",
      "9\n",
      "10\n",
      "11\n",
      "12\n",
      "13\n",
      "14\n",
      "15\n",
      "16\n",
      "17\n",
      "18\n",
      "19\n",
      "20\n",
      "21\n",
      "22\n",
      "23\n",
      "24\n",
      "25\n",
      "26\n",
      "27\n",
      "28\n",
      "29\n",
      "30\n",
      "31\n",
      "32\n",
      "33\n",
      "34\n",
      "35\n",
      "36\n",
      "37\n",
      "38\n",
      "39\n",
      "40\n",
      "41\n",
      "42\n",
      "43\n",
      "44\n",
      "45\n",
      "46\n",
      "47\n",
      "48\n",
      "49\n",
      "50\n",
      "51\n",
      "52\n",
      "53\n",
      "54\n",
      "55\n",
      "56\n",
      "57\n",
      "58\n",
      "59\n",
      "60\n",
      "61\n",
      "62\n",
      "63\n",
      "64\n",
      "65\n",
      "66\n",
      "67\n",
      "68\n",
      "69\n",
      "70\n",
      "71\n",
      "72\n",
      "73\n",
      "74\n",
      "75\n",
      "76\n",
      "77\n",
      "78\n",
      "79\n",
      "80\n",
      "81\n",
      "82\n",
      "83\n",
      "84\n",
      "85\n",
      "86\n",
      "87\n",
      "88\n",
      "89\n",
      "90\n",
      "91\n",
      "92\n",
      "93\n",
      "94\n",
      "95\n",
      "96\n",
      "97\n",
      "98\n",
      "99\n",
      "100\n"
     ]
    }
   ],
   "source": [
    "x=1\n",
    "while x<=100:\n",
    "    print(x)\n",
    "    x = x + 1"
   ]
  },
  {
   "cell_type": "markdown",
   "id": "7166882b",
   "metadata": {},
   "source": [
    "#### Exercício 5.2 (pág. 87):"
   ]
  },
  {
   "cell_type": "code",
   "execution_count": 121,
   "id": "ed2dd5a1",
   "metadata": {},
   "outputs": [
    {
     "name": "stdout",
     "output_type": "stream",
     "text": [
      "50\n",
      "51\n",
      "52\n",
      "53\n",
      "54\n",
      "55\n",
      "56\n",
      "57\n",
      "58\n",
      "59\n",
      "60\n",
      "61\n",
      "62\n",
      "63\n",
      "64\n",
      "65\n",
      "66\n",
      "67\n",
      "68\n",
      "69\n",
      "70\n",
      "71\n",
      "72\n",
      "73\n",
      "74\n",
      "75\n",
      "76\n",
      "77\n",
      "78\n",
      "79\n",
      "80\n",
      "81\n",
      "82\n",
      "83\n",
      "84\n",
      "85\n",
      "86\n",
      "87\n",
      "88\n",
      "89\n",
      "90\n",
      "91\n",
      "92\n",
      "93\n",
      "94\n",
      "95\n",
      "96\n",
      "97\n",
      "98\n",
      "99\n",
      "100\n"
     ]
    }
   ],
   "source": [
    "x=50\n",
    "while x<=100:\n",
    "    print(x)\n",
    "    x = x + 1"
   ]
  },
  {
   "cell_type": "markdown",
   "id": "68063e2f",
   "metadata": {},
   "source": [
    "#### Exercício 5.3 (pág. 87):"
   ]
  },
  {
   "cell_type": "code",
   "execution_count": 124,
   "id": "ffdb6224",
   "metadata": {},
   "outputs": [
    {
     "name": "stdout",
     "output_type": "stream",
     "text": [
      "Início da contagem regressiva!\n",
      "10\n",
      "9\n",
      "8\n",
      "7\n",
      "6\n",
      "5\n",
      "4\n",
      "3\n",
      "2\n",
      "1\n",
      "0\n",
      "Fogo!!!!\n"
     ]
    }
   ],
   "source": [
    "import time\n",
    "\n",
    "x = 10\n",
    "\n",
    "print(\"Início da contagem regressiva!\")\n",
    "while x >= 0:\n",
    "    print(x)\n",
    "    time.sleep(0.5)\n",
    "    x -= 1\n",
    "\n",
    "print(\"Fogo!!!!\")"
   ]
  },
  {
   "cell_type": "markdown",
   "id": "176a3faf",
   "metadata": {},
   "source": [
    "#### Exercício 5.4 (pág. 89):"
   ]
  },
  {
   "cell_type": "code",
   "execution_count": 1,
   "id": "c7f4a2ae",
   "metadata": {},
   "outputs": [
    {
     "name": "stdout",
     "output_type": "stream",
     "text": [
      "Digite o último número a imprimir: 20\n",
      "Somente ímpares: 1\n",
      "Somente ímpares: 3\n",
      "Somente ímpares: 5\n",
      "Somente ímpares: 7\n",
      "Somente ímpares: 9\n",
      "Somente ímpares: 11\n",
      "Somente ímpares: 13\n",
      "Somente ímpares: 15\n",
      "Somente ímpares: 17\n",
      "Somente ímpares: 19\n"
     ]
    }
   ],
   "source": [
    "fim = int(input(\"Digite o último número a imprimir: \"))\n",
    "x = 1\n",
    "while x <= fim:\n",
    "    if (x % 2) != 0:\n",
    "        print(f\"Somente ímpares: {x}\")\n",
    "    x += 1"
   ]
  },
  {
   "cell_type": "markdown",
   "id": "b6a3aba7",
   "metadata": {},
   "source": [
    "#### Exercício 5.5 (pág. 89):"
   ]
  },
  {
   "cell_type": "code",
   "execution_count": 5,
   "id": "93620c50",
   "metadata": {},
   "outputs": [
    {
     "name": "stdout",
     "output_type": "stream",
     "text": [
      "1 - O número 3 é múltiplo de 3.\n",
      "2 - O número 6 é múltiplo de 3.\n",
      "3 - O número 9 é múltiplo de 3.\n",
      "4 - O número 12 é múltiplo de 3.\n",
      "5 - O número 15 é múltiplo de 3.\n",
      "6 - O número 18 é múltiplo de 3.\n",
      "7 - O número 21 é múltiplo de 3.\n",
      "8 - O número 24 é múltiplo de 3.\n",
      "9 - O número 27 é múltiplo de 3.\n",
      "10 - O número 30 é múltiplo de 3.\n"
     ]
    }
   ],
   "source": [
    "num = 1\n",
    "divisor = 3\n",
    "count = 0\n",
    "\n",
    "while count < 10:\n",
    "    if num % divisor == 0:\n",
    "        print(f\"{count+1} - O número {num} é múltiplo de {divisor}.\")\n",
    "        count += 1\n",
    "    \n",
    "    num += 1"
   ]
  },
  {
   "cell_type": "markdown",
   "id": "53ddd23a",
   "metadata": {},
   "source": [
    "#### Exercício 5.6 (pág. 90):"
   ]
  },
  {
   "cell_type": "code",
   "execution_count": 7,
   "id": "3949f71c",
   "metadata": {},
   "outputs": [
    {
     "name": "stdout",
     "output_type": "stream",
     "text": [
      "2 x 0 = 0\n",
      "2 x 1 = 2\n",
      "2 x 2 = 4\n",
      "2 x 3 = 6\n",
      "2 x 4 = 8\n",
      "2 x 5 = 10\n",
      "2 x 6 = 12\n",
      "2 x 7 = 14\n",
      "2 x 8 = 16\n",
      "2 x 9 = 18\n",
      "2 x 10 = 20\n"
     ]
    }
   ],
   "source": [
    "num = 2\n",
    "count = 0\n",
    "\n",
    "while count <= 10:\n",
    "    print(f\"{num} x {count} = {num * count}\")\n",
    "    count += 1"
   ]
  },
  {
   "cell_type": "markdown",
   "id": "4ec5749a",
   "metadata": {},
   "source": [
    "#### Exercício 5.7 (pág. 90):"
   ]
  },
  {
   "cell_type": "code",
   "execution_count": 11,
   "id": "8fa4ec2b",
   "metadata": {},
   "outputs": [
    {
     "name": "stdout",
     "output_type": "stream",
     "text": [
      "Digite o início da tabulada: 3\n",
      "Digite o fim da tabulada: 8\n",
      "2 x 3 = 6\n",
      "2 x 4 = 8\n",
      "2 x 5 = 10\n",
      "2 x 6 = 12\n",
      "2 x 7 = 14\n",
      "2 x 8 = 16\n"
     ]
    }
   ],
   "source": [
    "num = 2\n",
    "count = 0\n",
    "inicio = int(input(\"Digite o início da tabulada: \"))\n",
    "fim = int(input(\"Digite o fim da tabulada: \"))\n",
    "\n",
    "while count <= 10:\n",
    "    if (count >= inicio) and (count <= fim):\n",
    "        print(f\"{num} x {count} = {num * count}\")\n",
    "    count += 1"
   ]
  },
  {
   "cell_type": "markdown",
   "id": "6ebca973",
   "metadata": {},
   "source": [
    "#### Exercício 5.8 (pág. 90):"
   ]
  },
  {
   "cell_type": "code",
   "execution_count": 18,
   "id": "534c0fdb",
   "metadata": {},
   "outputs": [
    {
     "name": "stdout",
     "output_type": "stream",
     "text": [
      "Digite o primeiro número: 2\n",
      "Digite o segundo número: 2\n",
      "2 x 2 = 4\n"
     ]
    }
   ],
   "source": [
    "num1 = int(input(\"Digite o primeiro número: \"))\n",
    "num2 = int(input(\"Digite o segundo número: \"))\n",
    "\n",
    "total = 0\n",
    "\n",
    "# Utiliza um loop for para somar num1 ao total num2 vezes\n",
    "for i in range(num2):\n",
    "    total += num1\n",
    "\n",
    "print(f\"{num1} x {num2} = {total}\")"
   ]
  },
  {
   "cell_type": "markdown",
   "id": "85933822",
   "metadata": {},
   "source": [
    "#### Exercício 5.9 (pág. 90):"
   ]
  },
  {
   "cell_type": "code",
   "execution_count": 22,
   "id": "e4d1d534",
   "metadata": {},
   "outputs": [
    {
     "name": "stdout",
     "output_type": "stream",
     "text": [
      "Digite o primeiro número (dividendo): 2\n",
      "Digite o segundo número (divisor): 5\n",
      "A divisão inteira de 2 por 5 é 0\n",
      "O resto da divisão de 2 por 5 é 2\n"
     ]
    }
   ],
   "source": [
    "def divisao_inteira_resto(dividendo, divisor):\n",
    "    resultadoInteiro = 0\n",
    "    resto = 0\n",
    "    \n",
    "    while dividendo >= divisor:\n",
    "        dividendo -= divisor\n",
    "        resultadoInteiro += 1 #Quantas vezes tem o divisor dentro do dividendo\n",
    "    \n",
    "    resto = dividendo\n",
    "    \n",
    "    return resultadoInteiro, resto\n",
    "\n",
    "num1 = int(input(\"Digite o primeiro número (dividendo): \"))\n",
    "num2 = int(input(\"Digite o segundo número (divisor): \"))\n",
    "\n",
    "resultado_quociente, resultado_resto = divisao_inteira_resto(num1, num2)\n",
    "\n",
    "print(f\"A divisão inteira de {num1} por {num2} é {resultado_quociente}\")\n",
    "print(f\"O resto da divisão de {num1} por {num2} é {resultado_resto}\")"
   ]
  },
  {
   "cell_type": "markdown",
   "id": "7f339d81",
   "metadata": {},
   "source": [
    "#### Exercício 5.10 (pág. 91):"
   ]
  },
  {
   "cell_type": "code",
   "execution_count": 26,
   "id": "68922a20",
   "metadata": {},
   "outputs": [
    {
     "name": "stdout",
     "output_type": "stream",
     "text": [
      "Resposta da questão 1: B\n",
      "Resposta da questão 2: W\n",
      "Resposta da questão 3: D\n",
      "O aluno fez 2 ponto(s)\n"
     ]
    }
   ],
   "source": [
    "# A resposta da primeira é “b”; da segunda, “a”; e da terceira, “d”.\n",
    "pontos = 0\n",
    "questão = 1\n",
    "\n",
    "while questão <= 3:\n",
    "    resposta = input(\"Resposta da questão %d: \" % questão)\n",
    "    resposta = resposta.lower()\n",
    "    if questão == 1 and resposta == \"b\":\n",
    "        pontos = pontos + 1\n",
    "    if questão == 2 and resposta == \"a\":\n",
    "        pontos = pontos + 1\n",
    "    if questão == 3 and resposta == \"d\":\n",
    "        pontos = pontos + 1\n",
    "    questão +=1\n",
    "    \n",
    "print(\"O aluno fez %d ponto(s)\" % pontos)"
   ]
  },
  {
   "cell_type": "markdown",
   "id": "4f2b7a80",
   "metadata": {},
   "source": [
    "#### Exercício 5.11 (pág. 92):"
   ]
  },
  {
   "cell_type": "code",
   "execution_count": 28,
   "id": "09b998ff",
   "metadata": {},
   "outputs": [
    {
     "name": "stdout",
     "output_type": "stream",
     "text": [
      "Qual o depósito inicial: 100\n",
      "Qual a taxa de juros: 5\n",
      "Saldo inicial: R$ 100.00\n",
      "Mês 1: Saldo: R$ 105.00 | Juros no mês: R$ 5.00\n",
      "Mês 2: Saldo: R$ 110.25 | Juros no mês: R$ 5.25\n",
      "Mês 3: Saldo: R$ 115.76 | Juros no mês: R$ 5.51\n",
      "Mês 4: Saldo: R$ 121.55 | Juros no mês: R$ 5.79\n",
      "Mês 5: Saldo: R$ 127.63 | Juros no mês: R$ 6.08\n",
      "Mês 6: Saldo: R$ 134.01 | Juros no mês: R$ 6.38\n",
      "Mês 7: Saldo: R$ 140.71 | Juros no mês: R$ 6.70\n",
      "Mês 8: Saldo: R$ 147.75 | Juros no mês: R$ 7.04\n",
      "Mês 9: Saldo: R$ 155.13 | Juros no mês: R$ 7.39\n",
      "Mês 10: Saldo: R$ 162.89 | Juros no mês: R$ 7.76\n",
      "Mês 11: Saldo: R$ 171.03 | Juros no mês: R$ 8.14\n",
      "Mês 12: Saldo: R$ 179.59 | Juros no mês: R$ 8.55\n",
      "Mês 13: Saldo: R$ 188.56 | Juros no mês: R$ 8.98\n",
      "Mês 14: Saldo: R$ 197.99 | Juros no mês: R$ 9.43\n",
      "Mês 15: Saldo: R$ 207.89 | Juros no mês: R$ 9.90\n",
      "Mês 16: Saldo: R$ 218.29 | Juros no mês: R$ 10.39\n",
      "Mês 17: Saldo: R$ 229.20 | Juros no mês: R$ 10.91\n",
      "Mês 18: Saldo: R$ 240.66 | Juros no mês: R$ 11.46\n",
      "Mês 19: Saldo: R$ 252.70 | Juros no mês: R$ 12.03\n",
      "Mês 20: Saldo: R$ 265.33 | Juros no mês: R$ 12.63\n",
      "Mês 21: Saldo: R$ 278.60 | Juros no mês: R$ 13.27\n",
      "Mês 22: Saldo: R$ 292.53 | Juros no mês: R$ 13.93\n",
      "Mês 23: Saldo: R$ 307.15 | Juros no mês: R$ 14.63\n",
      "Mês 24: Saldo: R$ 322.51 | Juros no mês: R$ 15.36\n",
      "\n",
      "Total ganho com juros em 24 meses: R$ 222.51\n",
      "Saldo final após 24 meses: R$ 322.51\n"
     ]
    }
   ],
   "source": [
    "def calcJuros(depositoInicial, taxaJuros, meses):\n",
    "    saldo = depositoInicial\n",
    "    totalGanho = 0\n",
    "\n",
    "    print(f\"Saldo inicial: R$ {saldo:.2f}\")\n",
    "\n",
    "    for mes in range(1, meses + 1):\n",
    "        jurosMes = saldo * (taxaJuros / 100)\n",
    "        saldo += jurosMes\n",
    "        totalGanho += jurosMes\n",
    "\n",
    "        print(f\"Mês {mes}: Saldo: R$ {saldo:.2f} | Juros no mês: R$ {jurosMes:.2f}\")\n",
    "\n",
    "    print(f\"\\nTotal ganho com juros em {meses} meses: R$ {totalGanho:.2f}\")\n",
    "    print(f\"Saldo final após {meses} meses: R$ {saldo:.2f}\")\n",
    "\n",
    "meses = 24\n",
    "depositoInicial = float(input(\"Qual o depósito inicial: \"))\n",
    "taxaJuros = float(input(\"Qual a taxa de juros: \"))\n",
    "\n",
    "calcJuros(depositoInicial, taxaJuros, meses)\n"
   ]
  },
  {
   "cell_type": "markdown",
   "id": "13a68b57",
   "metadata": {},
   "source": [
    "#### Exercício 5.12 (pág. 93):"
   ]
  },
  {
   "cell_type": "code",
   "execution_count": 29,
   "id": "dbca8047",
   "metadata": {},
   "outputs": [
    {
     "name": "stdout",
     "output_type": "stream",
     "text": [
      "Qual o depósito inicial: 100\n",
      "Qual a taxa de juros: 5\n",
      "Qual o valor depositado mensalmente: 20\n",
      "Saldo inicial: R$ 100.00\n",
      "Mês 1: Saldo: R$ 125.00 | Juros no mês: R$ 5.00\n",
      "Mês 2: Saldo: R$ 151.25 | Juros no mês: R$ 6.25\n",
      "Mês 3: Saldo: R$ 178.81 | Juros no mês: R$ 7.56\n",
      "Mês 4: Saldo: R$ 207.75 | Juros no mês: R$ 8.94\n",
      "Mês 5: Saldo: R$ 238.14 | Juros no mês: R$ 10.39\n",
      "Mês 6: Saldo: R$ 270.05 | Juros no mês: R$ 11.91\n",
      "Mês 7: Saldo: R$ 303.55 | Juros no mês: R$ 13.50\n",
      "Mês 8: Saldo: R$ 338.73 | Juros no mês: R$ 15.18\n",
      "Mês 9: Saldo: R$ 375.66 | Juros no mês: R$ 16.94\n",
      "Mês 10: Saldo: R$ 414.45 | Juros no mês: R$ 18.78\n",
      "Mês 11: Saldo: R$ 455.17 | Juros no mês: R$ 20.72\n",
      "Mês 12: Saldo: R$ 497.93 | Juros no mês: R$ 22.76\n",
      "Mês 13: Saldo: R$ 542.82 | Juros no mês: R$ 24.90\n",
      "Mês 14: Saldo: R$ 589.97 | Juros no mês: R$ 27.14\n",
      "Mês 15: Saldo: R$ 639.46 | Juros no mês: R$ 29.50\n",
      "Mês 16: Saldo: R$ 691.44 | Juros no mês: R$ 31.97\n",
      "Mês 17: Saldo: R$ 746.01 | Juros no mês: R$ 34.57\n",
      "Mês 18: Saldo: R$ 803.31 | Juros no mês: R$ 37.30\n",
      "Mês 19: Saldo: R$ 863.48 | Juros no mês: R$ 40.17\n",
      "Mês 20: Saldo: R$ 926.65 | Juros no mês: R$ 43.17\n",
      "Mês 21: Saldo: R$ 992.98 | Juros no mês: R$ 46.33\n",
      "Mês 22: Saldo: R$ 1062.63 | Juros no mês: R$ 49.65\n",
      "Mês 23: Saldo: R$ 1135.76 | Juros no mês: R$ 53.13\n",
      "Mês 24: Saldo: R$ 1212.55 | Juros no mês: R$ 56.79\n",
      "\n",
      "Total ganho com juros em 24 meses: R$ 632.55\n",
      "Saldo final após 24 meses: R$ 1212.55\n"
     ]
    }
   ],
   "source": [
    "def calcJuros(depositoInicial, taxaJuros, meses, valorDepositadoMensalmente):\n",
    "    saldo = depositoInicial\n",
    "    totalGanho = 0\n",
    "\n",
    "    print(f\"Saldo inicial: R$ {saldo:.2f}\")\n",
    "\n",
    "    for mes in range(1, meses + 1):\n",
    "        jurosMes = saldo * (taxaJuros / 100)\n",
    "        saldo += (jurosMes + valorDepositadoMensalmente) #Juros a partir do segundo mês\n",
    "        totalGanho += jurosMes\n",
    "\n",
    "        print(f\"Mês {mes}: Saldo: R$ {saldo:.2f} | Juros no mês: R$ {jurosMes:.2f}\")\n",
    "\n",
    "    print(f\"\\nTotal ganho com juros em {meses} meses: R$ {totalGanho:.2f}\")\n",
    "    print(f\"Saldo final após {meses} meses: R$ {saldo:.2f}\")\n",
    "\n",
    "meses = 24\n",
    "depositoInicial = float(input(\"Qual o depósito inicial: \"))\n",
    "taxaJuros = float(input(\"Qual a taxa de juros: \"))\n",
    "valorDepositadoMensalmente = float(input(\"Qual o valor depositado mensalmente: \"))\n",
    "\n",
    "calcJuros(depositoInicial, taxaJuros, meses, valorDepositadoMensalmente)"
   ]
  },
  {
   "cell_type": "markdown",
   "id": "598c02ed",
   "metadata": {},
   "source": [
    "#### Exercício 5.13 (pág. 93):"
   ]
  },
  {
   "cell_type": "code",
   "execution_count": 30,
   "id": "5aee8ab7",
   "metadata": {},
   "outputs": [
    {
     "name": "stdout",
     "output_type": "stream",
     "text": [
      "Qual o valor inicial da dívida: 10000\n",
      "Qual o valor do juros mensal: 1\n",
      "Qual o valor pago mensalmente para quitar a dívida: 1000\n",
      "\n",
      "Número de meses para pagar a dívida: 11 meses\n",
      "Total pago ao final: R$ 11000.00\n",
      "Total de juros pagos: R$ 589.85\n"
     ]
    }
   ],
   "source": [
    "def calcDivida(dividaInicial, jurosMensal, valorMensalPago):\n",
    "    mesesPagamento = 0\n",
    "    totalPago = 0\n",
    "    totalJuros = 0\n",
    "    saldoDevedor = dividaInicial\n",
    "\n",
    "    while saldoDevedor > 0:\n",
    "        juros = saldoDevedor * (jurosMensal / 100)\n",
    "        saldoDevedor += juros  #Adiciona o valor dos juros mensal ao saldo devedor, antes de pagar o mensal\n",
    "        saldoDevedor -= valorMensalPago  #Subtrai o pagamento mensal do saldo\n",
    "\n",
    "        if saldoDevedor < 0:\n",
    "            saldoDevedor = 0  #Corrige se der negativo\n",
    "\n",
    "        mesesPagamento += 1\n",
    "        totalPago += valorMensalPago\n",
    "        totalJuros += juros\n",
    "\n",
    "    return mesesPagamento, totalPago, totalJuros\n",
    "\n",
    "dividaInicial = float(input(\"Qual o valor inicial da dívida: \"))\n",
    "jurosMensal = float(input(\"Qual o valor do juros mensal: \"))\n",
    "valorMensalPago = float(input(\"Qual o valor pago mensalmente para quitar a dívida: \"))\n",
    "\n",
    "mesesPagamento, totalPago, totalJuros = calcDivida(dividaInicial, jurosMensal, valorMensalPago)\n",
    "\n",
    "print(f\"\\nNúmero de meses para pagar a dívida: {mesesPagamento} meses\")\n",
    "print(f\"Total pago ao final: R$ {totalPago:.2f}\")\n",
    "print(f\"Total de juros pagos: R$ {totalJuros:.2f}\")"
   ]
  },
  {
   "cell_type": "markdown",
   "id": "4ecc9cb2",
   "metadata": {},
   "source": [
    "#### Exercício 5.14 (pág. 94):"
   ]
  },
  {
   "cell_type": "code",
   "execution_count": 6,
   "id": "2a8db804",
   "metadata": {},
   "outputs": [
    {
     "name": "stdout",
     "output_type": "stream",
     "text": [
      "Digite um número inteiro: 10\n",
      "Digite um número inteiro: 2\n",
      "Digite um número inteiro: 8\n",
      "Digite um número inteiro: 0\n",
      "Foram digitados 3, onde a soma deles é igual a 20 e a média é igual a 6.67.\n"
     ]
    }
   ],
   "source": [
    "def calcMediaSoma(listaNum):\n",
    "    soma = sum(listaNum)\n",
    "    media = soma / len(listaNum)\n",
    "    return media, soma\n",
    "\n",
    "listaNum = []\n",
    "\n",
    "while True:\n",
    "    numUser = int(input(\"Digite um número inteiro ou 0 para sair: \"))\n",
    "    if numUser == 0:\n",
    "        break\n",
    "    else:\n",
    "        listaNum.append(numUser)\n",
    "        media, soma = calcMediaSoma(listaNum)\n",
    "\n",
    "print(f\"Foram digitados {len(listaNum)}, onde a soma deles é igual a {soma} e a média é igual a {media:.2f}.\")\n",
    "    "
   ]
  },
  {
   "cell_type": "markdown",
   "id": "23973a3c",
   "metadata": {},
   "source": [
    "#### Exercício 5.15 (pág. 94):"
   ]
  },
  {
   "cell_type": "code",
   "execution_count": 14,
   "id": "fdd14476",
   "metadata": {},
   "outputs": [
    {
     "name": "stdout",
     "output_type": "stream",
     "text": [
      "Código | Preço\n",
      "----------------\n",
      "   1    |   0.50\n",
      "   2    |   1.00\n",
      "   3    |   4.00\n",
      "   5    |   7.00\n",
      "   9    |   8.00\n",
      "Digite o código de acordo com a tabela acima ou 0 para finalizar: 1\n",
      "Digite a quantidade de produtos comprada: 10\n",
      "Digite o código de acordo com a tabela acima ou 0 para finalizar: 2\n",
      "Digite a quantidade de produtos comprada: 10\n",
      "Digite o código de acordo com a tabela acima ou 0 para finalizar: 0\n",
      "O total das compras é: R$ 15.00\n"
     ]
    }
   ],
   "source": [
    "def exibirTabela(produtos):\n",
    "    print(\"Código | Preço\")\n",
    "    print(\"----------------\")\n",
    "    \n",
    "    for codigo, preco in produtos.items():\n",
    "        print(f\"   {codigo}   |  {preco:.2f}\")\n",
    "\n",
    "def calcTotalCompras(produtos):\n",
    "    total = 0\n",
    "    while True:\n",
    "        codProduto = int(input(\"Digite o código de acordo com a tabela acima ou 0 para finalizar: \"))\n",
    "        \n",
    "        if codProduto == 0:\n",
    "            break\n",
    "        #not in verifica se está presente em uma sequência: lista, tupla, string, dicionário, etc\n",
    "        if codProduto not in produtos:\n",
    "            print(\"Código inválido\")\n",
    "            continue\n",
    "        qtdProdutos = int(input(\"Digite a quantidade de produtos comprada: \"))\n",
    "        total += produtos[codProduto] * qtdProdutos\n",
    "    return total\n",
    "\n",
    "produtos = {\n",
    "    1: 0.50,\n",
    "    2: 1.00,\n",
    "    3: 4.00,\n",
    "    5: 7.00,\n",
    "    9: 8.00\n",
    "}\n",
    "\n",
    "exibirTabela(produtos)\n",
    "totalCompras = calcTotalCompras(produtos)\n",
    "\n",
    "print(f\"O total das compras é: {totalCompras:.2f} reais.\")"
   ]
  },
  {
   "cell_type": "markdown",
   "id": "bad358ff",
   "metadata": {},
   "source": [
    "#### Exercício 5.16 (pág. 94):"
   ]
  },
  {
   "cell_type": "code",
   "execution_count": 16,
   "id": "251d8443",
   "metadata": {},
   "outputs": [
    {
     "name": "stdout",
     "output_type": "stream",
     "text": [
      "Digite o valor a pagar:501\n",
      "10 cédula(s) de R$50\n",
      "0 cédula(s) de R$20\n",
      "0 cédula(s) de R$10\n",
      "0 cédula(s) de R$5\n",
      "1 cédula(s) de R$1\n"
     ]
    }
   ],
   "source": [
    "#Digite os valores: 501,745, 384, 2, 7 e 1\n",
    "\n",
    "valor=int(input(\"Digite o valor a pagar:\"))\n",
    "cédulas=0\n",
    "atual=50\n",
    "apagar=valor\n",
    "while True:\n",
    "    if atual<=apagar:\n",
    "        apagar-=atual\n",
    "        cédulas+=1\n",
    "    else:\n",
    "        print(\"%d cédula(s) de R$%d\" % (cédulas, atual))\n",
    "        if apagar == 0:\n",
    "            break\n",
    "        if atual == 50:\n",
    "            atual = 20\n",
    "        elif atual == 20:\n",
    "            atual = 10\n",
    "        elif atual == 10:\n",
    "            atual = 5\n",
    "        elif atual == 5:\n",
    "            atual = 1\n",
    "        cédulas = 0"
   ]
  },
  {
   "cell_type": "markdown",
   "id": "f4aa1889",
   "metadata": {},
   "source": [
    "#### Exercício 5.17 (pág. 94):"
   ]
  },
  {
   "cell_type": "code",
   "execution_count": 21,
   "id": "42d38dfe",
   "metadata": {},
   "outputs": [
    {
     "name": "stdout",
     "output_type": "stream",
     "text": [
      "Digite o valor a pagar:535\n",
      "10 cédula(s) de R$50\n",
      "1 cédula(s) de R$20\n",
      "1 cédula(s) de R$10\n",
      "1 cédula(s) de R$5\n"
     ]
    }
   ],
   "source": [
    "# Digite o valor: 0\n",
    "# Interompe antes do esperado, não mostrando o número de notas correto, ou seja, 0 cédulas para cada tipo de cédula\n",
    "\n",
    "valor=int(input(\"Digite o valor a pagar:\"))\n",
    "cédulas=0\n",
    "atual=50\n",
    "apagar=valor\n",
    "while True:\n",
    "    if atual<=apagar:\n",
    "        apagar-=atual\n",
    "        cédulas+=1\n",
    "    else:\n",
    "        print(\"%d cédula(s) de R$%d\" % (cédulas, atual))\n",
    "        if apagar == 0:\n",
    "            break\n",
    "        if atual == 50:\n",
    "            atual = 20\n",
    "        elif atual == 20:\n",
    "            atual = 10\n",
    "        elif atual == 10:\n",
    "            atual = 5\n",
    "        elif atual == 5:\n",
    "            atual = 1\n",
    "        cédulas = 0"
   ]
  },
  {
   "cell_type": "markdown",
   "id": "0305998e",
   "metadata": {},
   "source": [
    "#### Exercício 5.18 (pág. 94):"
   ]
  },
  {
   "cell_type": "code",
   "execution_count": 22,
   "id": "d325ccc9",
   "metadata": {},
   "outputs": [
    {
     "name": "stdout",
     "output_type": "stream",
     "text": [
      "Digite o valor a pagar:542\n",
      "5 cédula(s) de R$100\n",
      "0 cédula(s) de R$50\n",
      "2 cédula(s) de R$20\n",
      "0 cédula(s) de R$10\n",
      "0 cédula(s) de R$5\n",
      "2 cédula(s) de R$1\n"
     ]
    }
   ],
   "source": [
    "valor=int(input(\"Digite o valor a pagar:\"))\n",
    "cédulas=0\n",
    "atual=100\n",
    "apagar=valor\n",
    "while True:\n",
    "    if atual<=apagar:\n",
    "        apagar-=atual\n",
    "        cédulas+=1\n",
    "    else:\n",
    "        print(\"%d cédula(s) de R$%d\" % (cédulas, atual))\n",
    "        if apagar == 0:\n",
    "            break\n",
    "        if atual == 100:\n",
    "            atual = 50\n",
    "        elif atual == 50:\n",
    "            atual = 20\n",
    "        elif atual == 20:\n",
    "            atual = 10\n",
    "        elif atual == 10:\n",
    "            atual = 5\n",
    "        elif atual == 5:\n",
    "            atual = 1\n",
    "        cédulas = 0"
   ]
  },
  {
   "cell_type": "markdown",
   "id": "4cf25509",
   "metadata": {},
   "source": [
    "#### Exercício 5.19 (pág. 94):"
   ]
  },
  {
   "cell_type": "code",
   "execution_count": 28,
   "id": "06e2c85d",
   "metadata": {},
   "outputs": [
    {
     "name": "stdout",
     "output_type": "stream",
     "text": [
      "Digite o valor a pagar: 578.69\n",
      "5 cédula(s) de R$100.00\n",
      "1 cédula(s) de R$50.00\n",
      "1 cédula(s) de R$20.00\n",
      "1 cédula(s) de R$5.00\n",
      "3 cédula(s) de R$1.00\n",
      "1 moeda(s) de R$0.50\n",
      "1 moeda(s) de R$0.10\n",
      "1 moeda(s) de R$0.05\n",
      "2 moeda(s) de R$0.02\n"
     ]
    }
   ],
   "source": [
    "valor = float(input(\"Digite o valor a pagar: \"))\n",
    "cedulasOuMoedas = 0\n",
    "atual = 100\n",
    "apagar = valor\n",
    "\n",
    "cedulasMoedas = [100, 50, 20, 10, 5, 1, 0.50, 0.10, 0.05, 0.02, 0.01]\n",
    "\n",
    "i = 0\n",
    "\n",
    "while True:\n",
    "    if atual <= apagar:\n",
    "        apagar -= atual\n",
    "        cedulasOuMoedas += 1\n",
    "    else:\n",
    "        if cedulasOuMoedas > 0:\n",
    "            if atual >= 1:\n",
    "                tipoMoeda = \"cédula(s)\"\n",
    "            else:\n",
    "                tipoMoeda = \"moeda(s)\"\n",
    "            print(\"%d %s de R$%.2f\" % (cedulasOuMoedas, tipoMoeda, atual))\n",
    "        if round(apagar, 2) == 0:\n",
    "            break\n",
    "        if i < len(cedulasMoedas) - 1:\n",
    "            i += 1\n",
    "            atual = cedulasMoedas[i]\n",
    "        cedulasOuMoedas = 0"
   ]
  },
  {
   "cell_type": "markdown",
   "id": "ea3b5a57",
   "metadata": {},
   "source": [
    "#### Exercício 5.20 (pág. 95):"
   ]
  },
  {
   "cell_type": "code",
   "execution_count": 30,
   "id": "0282efd9",
   "metadata": {},
   "outputs": [
    {
     "name": "stdout",
     "output_type": "stream",
     "text": [
      "Digite o valor a pagar: 0\n"
     ]
    }
   ],
   "source": [
    "# O que acontece se digitarmos 0,001?\n",
    "# Não é calculado nada, é como se tivesse digitado 0\n",
    "\n",
    "valor = float(input(\"Digite o valor a pagar: \"))\n",
    "cedulasOuMoedas = 0\n",
    "atual = 100\n",
    "apagar = valor\n",
    "\n",
    "cedulasMoedas = [100, 50, 20, 10, 5, 1, 0.50, 0.10, 0.05, 0.02, 0.01]\n",
    "\n",
    "i = 0\n",
    "\n",
    "while True:\n",
    "    if atual <= apagar:\n",
    "        apagar -= atual\n",
    "        cedulasOuMoedas += 1\n",
    "    else:\n",
    "        if cedulasOuMoedas > 0:\n",
    "            if atual >= 1:\n",
    "                tipoMoeda = \"cédula(s)\"\n",
    "            else:\n",
    "                tipoMoeda = \"moeda(s)\"\n",
    "            print(\"%d %s de R$%.2f\" % (cedulasOuMoedas, tipoMoeda, atual))\n",
    "        if round(apagar, 2) == 0:\n",
    "            break\n",
    "        if i < len(cedulasMoedas) - 1:\n",
    "            i += 1\n",
    "            atual = cedulasMoedas[i]\n",
    "        cedulasOuMoedas = 0"
   ]
  },
  {
   "cell_type": "markdown",
   "id": "3c6e1d49",
   "metadata": {},
   "source": [
    "#### Exercício 5.21 (pág. 97):"
   ]
  },
  {
   "cell_type": "code",
   "execution_count": 31,
   "id": "8ce0c840",
   "metadata": {},
   "outputs": [
    {
     "name": "stdout",
     "output_type": "stream",
     "text": [
      "Digite o valor a pagar ou 0 para sair: 10\n",
      "0 cédula(s) de R$50\n",
      "0 cédula(s) de R$20\n",
      "1 cédula(s) de R$10\n",
      "Digite o valor a pagar ou 0 para sair: 500\n",
      "10 cédula(s) de R$50\n",
      "Digite o valor a pagar ou 0 para sair: 525\n",
      "10 cédula(s) de R$50\n",
      "1 cédula(s) de R$20\n",
      "0 cédula(s) de R$10\n",
      "1 cédula(s) de R$5\n",
      "Digite o valor a pagar ou 0 para sair: 0\n"
     ]
    }
   ],
   "source": [
    "while True:\n",
    "    valor = int(input(\"Digite o valor a pagar ou 0 para sair: \"))\n",
    "    if valor == 0:\n",
    "        break\n",
    "\n",
    "    cedulas = 0\n",
    "    atual = 50\n",
    "    apagar = valor\n",
    "\n",
    "    while True:\n",
    "        if atual <= apagar:\n",
    "            apagar -= atual\n",
    "            cedulas += 1\n",
    "        else:\n",
    "            print(\"%d cédula(s) de R$%d\" % (cedulas, atual))\n",
    "            if apagar == 0:\n",
    "                break\n",
    "            if atual == 50:\n",
    "                atual = 20\n",
    "            elif atual == 20:\n",
    "                atual = 10\n",
    "            elif atual == 10:\n",
    "                atual = 5\n",
    "            elif atual == 5:\n",
    "                atual = 1\n",
    "            cedulas = 0"
   ]
  },
  {
   "cell_type": "markdown",
   "id": "b05d52d4",
   "metadata": {},
   "source": [
    "#### Exercício 5.22 (pág. 97):"
   ]
  },
  {
   "cell_type": "code",
   "execution_count": 36,
   "id": "35fee902",
   "metadata": {},
   "outputs": [
    {
     "name": "stdout",
     "output_type": "stream",
     "text": [
      "\n",
      "=== MENU ===\n",
      "1. Adição\n",
      "2. Subtração\n",
      "3. Multiplicação\n",
      "4. Divisão\n",
      "5. Sair\n",
      "============\n",
      "Escolha uma opção (1 a 5): 1\n",
      "\n",
      "=== TABUADA DE ADIÇÃO ===\n",
      " 1 +  1 =  2\n",
      " 1 +  2 =  3\n",
      " 1 +  3 =  4\n",
      " 1 +  4 =  5\n",
      " 1 +  5 =  6\n",
      " 1 +  6 =  7\n",
      " 1 +  7 =  8\n",
      " 1 +  8 =  9\n",
      " 1 +  9 = 10\n",
      " 1 + 10 = 11\n",
      " 2 +  1 =  3\n",
      " 2 +  2 =  4\n",
      " 2 +  3 =  5\n",
      " 2 +  4 =  6\n",
      " 2 +  5 =  7\n",
      " 2 +  6 =  8\n",
      " 2 +  7 =  9\n",
      " 2 +  8 = 10\n",
      " 2 +  9 = 11\n",
      " 2 + 10 = 12\n",
      " 3 +  1 =  4\n",
      " 3 +  2 =  5\n",
      " 3 +  3 =  6\n",
      " 3 +  4 =  7\n",
      " 3 +  5 =  8\n",
      " 3 +  6 =  9\n",
      " 3 +  7 = 10\n",
      " 3 +  8 = 11\n",
      " 3 +  9 = 12\n",
      " 3 + 10 = 13\n",
      " 4 +  1 =  5\n",
      " 4 +  2 =  6\n",
      " 4 +  3 =  7\n",
      " 4 +  4 =  8\n",
      " 4 +  5 =  9\n",
      " 4 +  6 = 10\n",
      " 4 +  7 = 11\n",
      " 4 +  8 = 12\n",
      " 4 +  9 = 13\n",
      " 4 + 10 = 14\n",
      " 5 +  1 =  6\n",
      " 5 +  2 =  7\n",
      " 5 +  3 =  8\n",
      " 5 +  4 =  9\n",
      " 5 +  5 = 10\n",
      " 5 +  6 = 11\n",
      " 5 +  7 = 12\n",
      " 5 +  8 = 13\n",
      " 5 +  9 = 14\n",
      " 5 + 10 = 15\n",
      " 6 +  1 =  7\n",
      " 6 +  2 =  8\n",
      " 6 +  3 =  9\n",
      " 6 +  4 = 10\n",
      " 6 +  5 = 11\n",
      " 6 +  6 = 12\n",
      " 6 +  7 = 13\n",
      " 6 +  8 = 14\n",
      " 6 +  9 = 15\n",
      " 6 + 10 = 16\n",
      " 7 +  1 =  8\n",
      " 7 +  2 =  9\n",
      " 7 +  3 = 10\n",
      " 7 +  4 = 11\n",
      " 7 +  5 = 12\n",
      " 7 +  6 = 13\n",
      " 7 +  7 = 14\n",
      " 7 +  8 = 15\n",
      " 7 +  9 = 16\n",
      " 7 + 10 = 17\n",
      " 8 +  1 =  9\n",
      " 8 +  2 = 10\n",
      " 8 +  3 = 11\n",
      " 8 +  4 = 12\n",
      " 8 +  5 = 13\n",
      " 8 +  6 = 14\n",
      " 8 +  7 = 15\n",
      " 8 +  8 = 16\n",
      " 8 +  9 = 17\n",
      " 8 + 10 = 18\n",
      " 9 +  1 = 10\n",
      " 9 +  2 = 11\n",
      " 9 +  3 = 12\n",
      " 9 +  4 = 13\n",
      " 9 +  5 = 14\n",
      " 9 +  6 = 15\n",
      " 9 +  7 = 16\n",
      " 9 +  8 = 17\n",
      " 9 +  9 = 18\n",
      " 9 + 10 = 19\n",
      "10 +  1 = 11\n",
      "10 +  2 = 12\n",
      "10 +  3 = 13\n",
      "10 +  4 = 14\n",
      "10 +  5 = 15\n",
      "10 +  6 = 16\n",
      "10 +  7 = 17\n",
      "10 +  8 = 18\n",
      "10 +  9 = 19\n",
      "10 + 10 = 20\n",
      "\n",
      "=== MENU ===\n",
      "1. Adição\n",
      "2. Subtração\n",
      "3. Multiplicação\n",
      "4. Divisão\n",
      "5. Sair\n",
      "============\n",
      "Escolha uma opção (1 a 5): 2\n",
      "\n",
      "=== TABUADA DE SUBTRAÇÃO ===\n",
      " 1 -  1 =  0\n",
      " 1 -  2 = -1\n",
      " 1 -  3 = -2\n",
      " 1 -  4 = -3\n",
      " 1 -  5 = -4\n",
      " 1 -  6 = -5\n",
      " 1 -  7 = -6\n",
      " 1 -  8 = -7\n",
      " 1 -  9 = -8\n",
      " 1 - 10 = -9\n",
      " 2 -  1 =  1\n",
      " 2 -  2 =  0\n",
      " 2 -  3 = -1\n",
      " 2 -  4 = -2\n",
      " 2 -  5 = -3\n",
      " 2 -  6 = -4\n",
      " 2 -  7 = -5\n",
      " 2 -  8 = -6\n",
      " 2 -  9 = -7\n",
      " 2 - 10 = -8\n",
      " 3 -  1 =  2\n",
      " 3 -  2 =  1\n",
      " 3 -  3 =  0\n",
      " 3 -  4 = -1\n",
      " 3 -  5 = -2\n",
      " 3 -  6 = -3\n",
      " 3 -  7 = -4\n",
      " 3 -  8 = -5\n",
      " 3 -  9 = -6\n",
      " 3 - 10 = -7\n",
      " 4 -  1 =  3\n",
      " 4 -  2 =  2\n",
      " 4 -  3 =  1\n",
      " 4 -  4 =  0\n",
      " 4 -  5 = -1\n",
      " 4 -  6 = -2\n",
      " 4 -  7 = -3\n",
      " 4 -  8 = -4\n",
      " 4 -  9 = -5\n",
      " 4 - 10 = -6\n",
      " 5 -  1 =  4\n",
      " 5 -  2 =  3\n",
      " 5 -  3 =  2\n",
      " 5 -  4 =  1\n",
      " 5 -  5 =  0\n",
      " 5 -  6 = -1\n",
      " 5 -  7 = -2\n",
      " 5 -  8 = -3\n",
      " 5 -  9 = -4\n",
      " 5 - 10 = -5\n",
      " 6 -  1 =  5\n",
      " 6 -  2 =  4\n",
      " 6 -  3 =  3\n",
      " 6 -  4 =  2\n",
      " 6 -  5 =  1\n",
      " 6 -  6 =  0\n",
      " 6 -  7 = -1\n",
      " 6 -  8 = -2\n",
      " 6 -  9 = -3\n",
      " 6 - 10 = -4\n",
      " 7 -  1 =  6\n",
      " 7 -  2 =  5\n",
      " 7 -  3 =  4\n",
      " 7 -  4 =  3\n",
      " 7 -  5 =  2\n",
      " 7 -  6 =  1\n",
      " 7 -  7 =  0\n",
      " 7 -  8 = -1\n",
      " 7 -  9 = -2\n",
      " 7 - 10 = -3\n",
      " 8 -  1 =  7\n",
      " 8 -  2 =  6\n",
      " 8 -  3 =  5\n",
      " 8 -  4 =  4\n",
      " 8 -  5 =  3\n",
      " 8 -  6 =  2\n",
      " 8 -  7 =  1\n",
      " 8 -  8 =  0\n",
      " 8 -  9 = -1\n",
      " 8 - 10 = -2\n",
      " 9 -  1 =  8\n",
      " 9 -  2 =  7\n",
      " 9 -  3 =  6\n",
      " 9 -  4 =  5\n",
      " 9 -  5 =  4\n",
      " 9 -  6 =  3\n",
      " 9 -  7 =  2\n",
      " 9 -  8 =  1\n",
      " 9 -  9 =  0\n",
      " 9 - 10 = -1\n",
      "10 -  1 =  9\n",
      "10 -  2 =  8\n",
      "10 -  3 =  7\n",
      "10 -  4 =  6\n",
      "10 -  5 =  5\n",
      "10 -  6 =  4\n",
      "10 -  7 =  3\n",
      "10 -  8 =  2\n",
      "10 -  9 =  1\n",
      "10 - 10 =  0\n",
      "\n",
      "=== MENU ===\n",
      "1. Adição\n",
      "2. Subtração\n",
      "3. Multiplicação\n",
      "4. Divisão\n",
      "5. Sair\n",
      "============\n",
      "Escolha uma opção (1 a 5): 3\n",
      "\n",
      "=== TABUADA DE MULTIPLICAÇÃO ===\n",
      " 1 x  1 =   1\n",
      " 1 x  2 =   2\n",
      " 1 x  3 =   3\n",
      " 1 x  4 =   4\n",
      " 1 x  5 =   5\n",
      " 1 x  6 =   6\n",
      " 1 x  7 =   7\n",
      " 1 x  8 =   8\n",
      " 1 x  9 =   9\n",
      " 1 x 10 =  10\n",
      " 2 x  1 =   2\n",
      " 2 x  2 =   4\n",
      " 2 x  3 =   6\n",
      " 2 x  4 =   8\n",
      " 2 x  5 =  10\n",
      " 2 x  6 =  12\n",
      " 2 x  7 =  14\n",
      " 2 x  8 =  16\n",
      " 2 x  9 =  18\n",
      " 2 x 10 =  20\n",
      " 3 x  1 =   3\n",
      " 3 x  2 =   6\n",
      " 3 x  3 =   9\n",
      " 3 x  4 =  12\n",
      " 3 x  5 =  15\n",
      " 3 x  6 =  18\n",
      " 3 x  7 =  21\n",
      " 3 x  8 =  24\n",
      " 3 x  9 =  27\n",
      " 3 x 10 =  30\n",
      " 4 x  1 =   4\n",
      " 4 x  2 =   8\n",
      " 4 x  3 =  12\n",
      " 4 x  4 =  16\n",
      " 4 x  5 =  20\n",
      " 4 x  6 =  24\n",
      " 4 x  7 =  28\n",
      " 4 x  8 =  32\n",
      " 4 x  9 =  36\n",
      " 4 x 10 =  40\n",
      " 5 x  1 =   5\n",
      " 5 x  2 =  10\n",
      " 5 x  3 =  15\n",
      " 5 x  4 =  20\n",
      " 5 x  5 =  25\n",
      " 5 x  6 =  30\n",
      " 5 x  7 =  35\n",
      " 5 x  8 =  40\n",
      " 5 x  9 =  45\n",
      " 5 x 10 =  50\n",
      " 6 x  1 =   6\n",
      " 6 x  2 =  12\n",
      " 6 x  3 =  18\n",
      " 6 x  4 =  24\n",
      " 6 x  5 =  30\n",
      " 6 x  6 =  36\n",
      " 6 x  7 =  42\n",
      " 6 x  8 =  48\n",
      " 6 x  9 =  54\n",
      " 6 x 10 =  60\n",
      " 7 x  1 =   7\n",
      " 7 x  2 =  14\n",
      " 7 x  3 =  21\n",
      " 7 x  4 =  28\n",
      " 7 x  5 =  35\n",
      " 7 x  6 =  42\n",
      " 7 x  7 =  49\n",
      " 7 x  8 =  56\n",
      " 7 x  9 =  63\n",
      " 7 x 10 =  70\n",
      " 8 x  1 =   8\n",
      " 8 x  2 =  16\n",
      " 8 x  3 =  24\n",
      " 8 x  4 =  32\n",
      " 8 x  5 =  40\n",
      " 8 x  6 =  48\n",
      " 8 x  7 =  56\n",
      " 8 x  8 =  64\n",
      " 8 x  9 =  72\n",
      " 8 x 10 =  80\n",
      " 9 x  1 =   9\n",
      " 9 x  2 =  18\n",
      " 9 x  3 =  27\n",
      " 9 x  4 =  36\n",
      " 9 x  5 =  45\n",
      " 9 x  6 =  54\n",
      " 9 x  7 =  63\n",
      " 9 x  8 =  72\n",
      " 9 x  9 =  81\n",
      " 9 x 10 =  90\n",
      "10 x  1 =  10\n",
      "10 x  2 =  20\n",
      "10 x  3 =  30\n",
      "10 x  4 =  40\n",
      "10 x  5 =  50\n",
      "10 x  6 =  60\n",
      "10 x  7 =  70\n",
      "10 x  8 =  80\n",
      "10 x  9 =  90\n",
      "10 x 10 = 100\n",
      "\n",
      "=== MENU ===\n",
      "1. Adição\n",
      "2. Subtração\n",
      "3. Multiplicação\n",
      "4. Divisão\n",
      "5. Sair\n",
      "============\n",
      "Escolha uma opção (1 a 5): 4\n",
      "\n",
      "=== TABUADA DE DIVISÃO ===\n",
      " 1 /  1 =  1.00\n",
      " 1 /  2 =  0.50\n",
      " 1 /  3 =  0.33\n",
      " 1 /  4 =  0.25\n",
      " 1 /  5 =  0.20\n",
      " 1 /  6 =  0.17\n",
      " 1 /  7 =  0.14\n",
      " 1 /  8 =  0.12\n",
      " 1 /  9 =  0.11\n",
      " 1 / 10 =  0.10\n",
      " 2 /  1 =  2.00\n",
      " 2 /  2 =  1.00\n",
      " 2 /  3 =  0.67\n",
      " 2 /  4 =  0.50\n",
      " 2 /  5 =  0.40\n",
      " 2 /  6 =  0.33\n",
      " 2 /  7 =  0.29\n",
      " 2 /  8 =  0.25\n",
      " 2 /  9 =  0.22\n",
      " 2 / 10 =  0.20\n",
      " 3 /  1 =  3.00\n",
      " 3 /  2 =  1.50\n",
      " 3 /  3 =  1.00\n",
      " 3 /  4 =  0.75\n",
      " 3 /  5 =  0.60\n",
      " 3 /  6 =  0.50\n",
      " 3 /  7 =  0.43\n",
      " 3 /  8 =  0.38\n",
      " 3 /  9 =  0.33\n",
      " 3 / 10 =  0.30\n",
      " 4 /  1 =  4.00\n",
      " 4 /  2 =  2.00\n",
      " 4 /  3 =  1.33\n",
      " 4 /  4 =  1.00\n",
      " 4 /  5 =  0.80\n",
      " 4 /  6 =  0.67\n",
      " 4 /  7 =  0.57\n",
      " 4 /  8 =  0.50\n",
      " 4 /  9 =  0.44\n",
      " 4 / 10 =  0.40\n",
      " 5 /  1 =  5.00\n",
      " 5 /  2 =  2.50\n",
      " 5 /  3 =  1.67\n",
      " 5 /  4 =  1.25\n",
      " 5 /  5 =  1.00\n",
      " 5 /  6 =  0.83\n",
      " 5 /  7 =  0.71\n",
      " 5 /  8 =  0.62\n",
      " 5 /  9 =  0.56\n",
      " 5 / 10 =  0.50\n",
      " 6 /  1 =  6.00\n",
      " 6 /  2 =  3.00\n",
      " 6 /  3 =  2.00\n",
      " 6 /  4 =  1.50\n",
      " 6 /  5 =  1.20\n",
      " 6 /  6 =  1.00\n",
      " 6 /  7 =  0.86\n",
      " 6 /  8 =  0.75\n",
      " 6 /  9 =  0.67\n",
      " 6 / 10 =  0.60\n",
      " 7 /  1 =  7.00\n",
      " 7 /  2 =  3.50\n",
      " 7 /  3 =  2.33\n",
      " 7 /  4 =  1.75\n",
      " 7 /  5 =  1.40\n",
      " 7 /  6 =  1.17\n",
      " 7 /  7 =  1.00\n",
      " 7 /  8 =  0.88\n",
      " 7 /  9 =  0.78\n",
      " 7 / 10 =  0.70\n",
      " 8 /  1 =  8.00\n",
      " 8 /  2 =  4.00\n",
      " 8 /  3 =  2.67\n",
      " 8 /  4 =  2.00\n",
      " 8 /  5 =  1.60\n",
      " 8 /  6 =  1.33\n",
      " 8 /  7 =  1.14\n",
      " 8 /  8 =  1.00\n",
      " 8 /  9 =  0.89\n",
      " 8 / 10 =  0.80\n",
      " 9 /  1 =  9.00\n",
      " 9 /  2 =  4.50\n",
      " 9 /  3 =  3.00\n",
      " 9 /  4 =  2.25\n",
      " 9 /  5 =  1.80\n",
      " 9 /  6 =  1.50\n",
      " 9 /  7 =  1.29\n",
      " 9 /  8 =  1.12\n",
      " 9 /  9 =  1.00\n",
      " 9 / 10 =  0.90\n",
      "10 /  1 = 10.00\n",
      "10 /  2 =  5.00\n",
      "10 /  3 =  3.33\n",
      "10 /  4 =  2.50\n",
      "10 /  5 =  2.00\n",
      "10 /  6 =  1.67\n",
      "10 /  7 =  1.43\n",
      "10 /  8 =  1.25\n",
      "10 /  9 =  1.11\n",
      "10 / 10 =  1.00\n",
      "\n",
      "=== MENU ===\n",
      "1. Adição\n",
      "2. Subtração\n",
      "3. Multiplicação\n",
      "4. Divisão\n",
      "5. Sair\n",
      "============\n",
      "Escolha uma opção (1 a 5): 5\n",
      "Programa encerrado.\n"
     ]
    }
   ],
   "source": [
    "def exibirMenu():\n",
    "    print(\"\\n=== MENU ===\")\n",
    "    print(\"1. Adição\")\n",
    "    print(\"2. Subtração\")\n",
    "    print(\"3. Multiplicação\")\n",
    "    print(\"4. Divisão\")\n",
    "    print(\"5. Sair\")\n",
    "    print(\"============\")\n",
    "\n",
    "def adicaoTabuada():\n",
    "    print(\"\\n=== TABUADA DE ADIÇÃO ===\")\n",
    "    for i in range(1, 11):\n",
    "        for j in range(1, 11):\n",
    "            resultado = i + j\n",
    "            print(f\"{i:2} + {j:2} = {resultado:2}\")\n",
    "\n",
    "def subtracaoTabuada():\n",
    "    print(\"\\n=== TABUADA DE SUBTRAÇÃO ===\")\n",
    "    for i in range(1, 11):\n",
    "        for j in range(1, 11):\n",
    "            resultado = i - j\n",
    "            print(f\"{i:2} - {j:2} = {resultado:2}\")\n",
    "\n",
    "def multiplicacaoTabuada():\n",
    "    print(\"\\n=== TABUADA DE MULTIPLICAÇÃO ===\")\n",
    "    for i in range(1, 11):\n",
    "        for j in range(1, 11):\n",
    "            resultado = i * j\n",
    "            print(f\"{i:2} x {j:2} = {resultado:3}\")\n",
    "\n",
    "def divisaoTabuada():\n",
    "    print(\"\\n=== TABUADA DE DIVISÃO ===\")\n",
    "    for i in range(1, 11):\n",
    "        for j in range(1, 11):\n",
    "            if j != 0:\n",
    "                resultado = i / j\n",
    "                print(f\"{i:2} / {j:2} = {resultado:5.2f}\")\n",
    "\n",
    "while True:\n",
    "    exibirMenu()\n",
    "    opcao = input(\"Escolha uma opção (1 a 5): \")\n",
    "\n",
    "    if opcao == '1':\n",
    "        adicaoTabuada()\n",
    "    elif opcao == '2':\n",
    "        subtracaoTabuada()\n",
    "    elif opcao == '3':\n",
    "        multiplicacaoTabuada()\n",
    "    elif opcao == '4':\n",
    "        divisaoTabuada()\n",
    "    elif opcao == '5':\n",
    "        print(\"Programa encerrado.\")\n",
    "        break\n",
    "    else:\n",
    "        print(\"Opção inválida. Escolha uma opção de 1 a 5.\")"
   ]
  },
  {
   "cell_type": "markdown",
   "id": "53a66c64",
   "metadata": {},
   "source": [
    "#### Exercício 5.23 (pág. 97):"
   ]
  },
  {
   "cell_type": "code",
   "execution_count": 42,
   "id": "eebb6704",
   "metadata": {},
   "outputs": [
    {
     "name": "stdout",
     "output_type": "stream",
     "text": [
      "Digite um número inteiro positivo para verificar se é primo: 147\n",
      "147 não é um número primo.\n"
     ]
    }
   ],
   "source": [
    "import math\n",
    "\n",
    "def ehPrimo(numero):\n",
    "    # <= a 1 não é primo\n",
    "    if numero <= 1:\n",
    "        return False\n",
    "    # Único par que é primo\n",
    "    if numero == 2:\n",
    "        return True\n",
    "    # Par e > 2 não é primo\n",
    "    if numero % 2 == 0:\n",
    "        return False\n",
    "    \n",
    "    # Verifica divisibilidade ímpares até a raiz quadrada do número\n",
    "    limite = int(math.sqrt(numero)) + 1\n",
    "    for i in range(3, limite, 2):\n",
    "        if numero % i == 0:\n",
    "            return False\n",
    "    \n",
    "    # Se nenhum encontrado: é primo\n",
    "    return True\n",
    "\n",
    "num = int(input(\"Digite um número inteiro positivo para verificar se é primo: \"))\n",
    "\n",
    "if ehPrimo(num):\n",
    "    print(f\"{num} é um número primo.\")\n",
    "else:\n",
    "    print(f\"{num} não é um número primo.\")"
   ]
  },
  {
   "cell_type": "markdown",
   "id": "0084419f",
   "metadata": {},
   "source": [
    "#### Exercício 5.24 (pág. 97):"
   ]
  },
  {
   "cell_type": "code",
   "execution_count": 43,
   "id": "ab090dd6",
   "metadata": {},
   "outputs": [
    {
     "name": "stdout",
     "output_type": "stream",
     "text": [
      "Digite um número inteiro positivo para encontrar os n primeiros números primos: 521\n",
      "Os 521 primeiros números primos são: [2, 3, 5, 7, 11, 13, 17, 19, 23, 29, 31, 37, 41, 43, 47, 53, 59, 61, 67, 71, 73, 79, 83, 89, 97, 101, 103, 107, 109, 113, 127, 131, 137, 139, 149, 151, 157, 163, 167, 173, 179, 181, 191, 193, 197, 199, 211, 223, 227, 229, 233, 239, 241, 251, 257, 263, 269, 271, 277, 281, 283, 293, 307, 311, 313, 317, 331, 337, 347, 349, 353, 359, 367, 373, 379, 383, 389, 397, 401, 409, 419, 421, 431, 433, 439, 443, 449, 457, 461, 463, 467, 479, 487, 491, 499, 503, 509, 521, 523, 541, 547, 557, 563, 569, 571, 577, 587, 593, 599, 601, 607, 613, 617, 619, 631, 641, 643, 647, 653, 659, 661, 673, 677, 683, 691, 701, 709, 719, 727, 733, 739, 743, 751, 757, 761, 769, 773, 787, 797, 809, 811, 821, 823, 827, 829, 839, 853, 857, 859, 863, 877, 881, 883, 887, 907, 911, 919, 929, 937, 941, 947, 953, 967, 971, 977, 983, 991, 997, 1009, 1013, 1019, 1021, 1031, 1033, 1039, 1049, 1051, 1061, 1063, 1069, 1087, 1091, 1093, 1097, 1103, 1109, 1117, 1123, 1129, 1151, 1153, 1163, 1171, 1181, 1187, 1193, 1201, 1213, 1217, 1223, 1229, 1231, 1237, 1249, 1259, 1277, 1279, 1283, 1289, 1291, 1297, 1301, 1303, 1307, 1319, 1321, 1327, 1361, 1367, 1373, 1381, 1399, 1409, 1423, 1427, 1429, 1433, 1439, 1447, 1451, 1453, 1459, 1471, 1481, 1483, 1487, 1489, 1493, 1499, 1511, 1523, 1531, 1543, 1549, 1553, 1559, 1567, 1571, 1579, 1583, 1597, 1601, 1607, 1609, 1613, 1619, 1621, 1627, 1637, 1657, 1663, 1667, 1669, 1693, 1697, 1699, 1709, 1721, 1723, 1733, 1741, 1747, 1753, 1759, 1777, 1783, 1787, 1789, 1801, 1811, 1823, 1831, 1847, 1861, 1867, 1871, 1873, 1877, 1879, 1889, 1901, 1907, 1913, 1931, 1933, 1949, 1951, 1973, 1979, 1987, 1993, 1997, 1999, 2003, 2011, 2017, 2027, 2029, 2039, 2053, 2063, 2069, 2081, 2083, 2087, 2089, 2099, 2111, 2113, 2129, 2131, 2137, 2141, 2143, 2153, 2161, 2179, 2203, 2207, 2213, 2221, 2237, 2239, 2243, 2251, 2267, 2269, 2273, 2281, 2287, 2293, 2297, 2309, 2311, 2333, 2339, 2341, 2347, 2351, 2357, 2371, 2377, 2381, 2383, 2389, 2393, 2399, 2411, 2417, 2423, 2437, 2441, 2447, 2459, 2467, 2473, 2477, 2503, 2521, 2531, 2539, 2543, 2549, 2551, 2557, 2579, 2591, 2593, 2609, 2617, 2621, 2633, 2647, 2657, 2659, 2663, 2671, 2677, 2683, 2687, 2689, 2693, 2699, 2707, 2711, 2713, 2719, 2729, 2731, 2741, 2749, 2753, 2767, 2777, 2789, 2791, 2797, 2801, 2803, 2819, 2833, 2837, 2843, 2851, 2857, 2861, 2879, 2887, 2897, 2903, 2909, 2917, 2927, 2939, 2953, 2957, 2963, 2969, 2971, 2999, 3001, 3011, 3019, 3023, 3037, 3041, 3049, 3061, 3067, 3079, 3083, 3089, 3109, 3119, 3121, 3137, 3163, 3167, 3169, 3181, 3187, 3191, 3203, 3209, 3217, 3221, 3229, 3251, 3253, 3257, 3259, 3271, 3299, 3301, 3307, 3313, 3319, 3323, 3329, 3331, 3343, 3347, 3359, 3361, 3371, 3373, 3389, 3391, 3407, 3413, 3433, 3449, 3457, 3461, 3463, 3467, 3469, 3491, 3499, 3511, 3517, 3527, 3529, 3533, 3539, 3541, 3547, 3557, 3559, 3571, 3581, 3583, 3593, 3607, 3613, 3617, 3623, 3631, 3637, 3643, 3659, 3671, 3673, 3677, 3691, 3697, 3701, 3709, 3719, 3727, 3733]\n"
     ]
    }
   ],
   "source": [
    "import math\n",
    "\n",
    "def ehPrimo(numero):\n",
    "    if numero <= 1:\n",
    "        return False\n",
    "    if numero == 2:\n",
    "        return True\n",
    "    if numero % 2 == 0:\n",
    "        return False\n",
    "    limite = int(math.sqrt(numero)) + 1\n",
    "    for i in range(3, limite, 2):\n",
    "        if numero % i == 0:\n",
    "            return False\n",
    "    return True\n",
    "\n",
    "def primeirosNPrimos(n):\n",
    "    primos_encontrados = []\n",
    "    numero = 2  # Começamos com o primeiro número primo\n",
    "    while len(primos_encontrados) < n:\n",
    "        if ehPrimo(numero):\n",
    "            primos_encontrados.append(numero)\n",
    "        numero += 1\n",
    "    return primos_encontrados\n",
    "\n",
    "n = int(input(\"Digite um número inteiro positivo para encontrar os n primeiros números primos: \"))\n",
    "\n",
    "primos = primeirosNPrimos(n)\n",
    "\n",
    "print(f\"Os {n} primeiros números primos são: {primos}\")"
   ]
  },
  {
   "cell_type": "markdown",
   "id": "7387d89f",
   "metadata": {},
   "source": [
    "#### Exercício 5.25 (pág. 97):"
   ]
  },
  {
   "cell_type": "code",
   "execution_count": 45,
   "id": "59fa9aa5",
   "metadata": {},
   "outputs": [
    {
     "name": "stdout",
     "output_type": "stream",
     "text": [
      "Digite um número para calcular a raiz quadrada: 8\n",
      "A raiz quadrada de 8.0 é aproximadamente 2.8284\n"
     ]
    }
   ],
   "source": [
    "def CalcRaizQuadrada(n):\n",
    "    b = 2  #Inicial base\n",
    "    precisao = 0.0001\n",
    "    while True:\n",
    "        p = (b + (n / b)) / 2  #Fórmula de Newton\n",
    "        #Diferença absoluta < 0,0001\n",
    "        if abs(n - p**2) < precisao: #abs() - valor absoluto\n",
    "            break\n",
    "        b = p  #Atualiza base para o próximo passo\n",
    "    return p\n",
    "\n",
    "numero = float(input(\"Digite um número para calcular a raiz quadrada: \"))\n",
    "\n",
    "raizQuadrada = CalcRaizQuadrada(numero)\n",
    "\n",
    "print(f\"A raiz quadrada de {numero} é aproximadamente {raizQuadrada:.4f}\")"
   ]
  },
  {
   "cell_type": "markdown",
   "id": "a6b42ff7",
   "metadata": {},
   "source": [
    "#### Exercício 5.26 (pág. 97):"
   ]
  },
  {
   "cell_type": "code",
   "execution_count": 47,
   "id": "c2368fbd",
   "metadata": {},
   "outputs": [
    {
     "name": "stdout",
     "output_type": "stream",
     "text": [
      "Digite o dividendo (ou 0 para sair): 10\n",
      "Digite o divisor: 2\n",
      "O resto da divisão de 10 por 2 é 0\n",
      "Digite o dividendo (ou 0 para sair): 0\n",
      "Programa encerrado.\n"
     ]
    }
   ],
   "source": [
    "def restoDivisaoInteira(dividendo, divisor):\n",
    "    while dividendo >= divisor:\n",
    "        dividendo -= divisor\n",
    "    return dividendo\n",
    "\n",
    "while True:\n",
    "    dividendo = int(input(\"Digite o dividendo (ou 0 para sair): \"))\n",
    "    if dividendo == 0:\n",
    "        print(\"Programa encerrado.\")\n",
    "        break\n",
    "    divisor = int(input(\"Digite o divisor: \"))\n",
    "    if divisor == 0:\n",
    "        print(\"Programa encerrado.\")\n",
    "        break\n",
    "    resto = restoDivisaoInteira(dividendo, divisor)\n",
    "    print(f\"O resto da divisão de {dividendo} por {divisor} é {resto}\")"
   ]
  },
  {
   "cell_type": "markdown",
   "id": "a005e69b",
   "metadata": {},
   "source": [
    "#### Exercício 5.27 (pág. 97):"
   ]
  },
  {
   "cell_type": "code",
   "execution_count": 48,
   "id": "5ebafb62",
   "metadata": {},
   "outputs": [
    {
     "name": "stdout",
     "output_type": "stream",
     "text": [
      "454 é um número palíndromo.\n",
      "10501 é um número palíndromo.\n",
      "12345 não é um número palíndromo.\n"
     ]
    }
   ],
   "source": [
    "#Palíndromo: 101, pois o inverdito dele também é 101\n",
    "\n",
    "def ehPalindromo(numero):\n",
    "    # Converte o número para string para facilitar a manipulação dos caracteres\n",
    "    numStr = str(numero)\n",
    "    \n",
    "    # Inverte a string do número\n",
    "    # [inicio:fim:passo] - Slicing, onde o :: significa que está \"pegando\" toda a string\n",
    "    # e o -1 inverte a string, ou seja, \"pega\" toda a string e inverte\n",
    "    numInvertido = numStr[::-1]\n",
    "    \n",
    "    # Compara o número original com o número invertido\n",
    "    if numStr == numInvertido:\n",
    "        return True\n",
    "    else:\n",
    "        return False\n",
    "\n",
    "# Exemplos de uso:\n",
    "num1 = 454\n",
    "num2 = 10501\n",
    "num3 = 12345\n",
    "\n",
    "if ehPalindromo(num1):\n",
    "    print(f\"{num1} é um número palíndromo.\")\n",
    "else:\n",
    "    print(f\"{num1} não é um número palíndromo.\")\n",
    "\n",
    "if ehPalindromo(num2):\n",
    "    print(f\"{num2} é um número palíndromo.\")\n",
    "else:\n",
    "    print(f\"{num2} não é um número palíndromo.\")\n",
    "\n",
    "if ehPalindromo(num3):\n",
    "    print(f\"{num3} é um número palíndromo.\")\n",
    "else:\n",
    "    print(f\"{num3} não é um número palíndromo.\")"
   ]
  },
  {
   "cell_type": "markdown",
   "id": "f2d4dc67",
   "metadata": {},
   "source": [
    "# Capítulo 6"
   ]
  },
  {
   "cell_type": "markdown",
   "id": "a8df941a",
   "metadata": {},
   "source": [
    "#### Exercício 6.1 (pág. 100):"
   ]
  },
  {
   "cell_type": "code",
   "execution_count": 54,
   "id": "143e1afb",
   "metadata": {},
   "outputs": [
    {
     "name": "stdout",
     "output_type": "stream",
     "text": [
      "Nota 1: 5\n",
      "Nota 2: 4\n",
      "Nota 3: 4\n",
      "Nota 4: 4\n",
      "Nota 5: 4\n",
      "Nota 6: 4\n",
      "Nota 7: 4\n",
      "\n",
      "Notas: [5.0, 4.0, 4.0, 4.0, 4.0, 4.0, 4.0]\n",
      "Média:  4.14\n"
     ]
    }
   ],
   "source": [
    "notas = [0] * 7  #notas = [0,0,0,0,0,0,0]\n",
    "soma = 0\n",
    "x = 0\n",
    "\n",
    "while x < 7:\n",
    "    notas[x] = float(input(\"Nota %d: \" % (x + 1)))\n",
    "    soma += notas[x]\n",
    "    x += 1\n",
    "print(f\"\\nNotas: {notas}\")\n",
    "media = soma / 7\n",
    "print(\"Média: %5.2f\" % media)"
   ]
  },
  {
   "cell_type": "markdown",
   "id": "95fa199f",
   "metadata": {},
   "source": [
    "#### Exercício 6.2 (pág. 108):"
   ]
  },
  {
   "cell_type": "code",
   "execution_count": 57,
   "id": "4c388eaf",
   "metadata": {},
   "outputs": [
    {
     "name": "stdout",
     "output_type": "stream",
     "text": [
      "Lista1:  ['RN', 'SP', 'RJ', 'DF']\n",
      "Lista2:  ['Natal', 'São Paulo', 'Rio de Janeiro', 'Brasília']\n",
      "\n",
      "Lista1 + Lista2:  ['RN', 'SP', 'RJ', 'DF', 'Natal', 'São Paulo', 'Rio de Janeiro', 'Brasília']\n"
     ]
    }
   ],
   "source": [
    "listas = []\n",
    "lista1 = [\"RN\", \"SP\", \"RJ\", \"DF\"]\n",
    "listas.extend(lista1)\n",
    "lista2 = [\"Natal\", \"São Paulo\", \"Rio de Janeiro\", \"Brasília\"]\n",
    "listas.extend(lista2)\n",
    "\n",
    "print(\"Lista1: \", lista1)\n",
    "print(\"Lista2: \", lista2)\n",
    "print(\"\\nLista1 + Lista2: \", listas)"
   ]
  },
  {
   "cell_type": "markdown",
   "id": "796aeab3",
   "metadata": {},
   "source": [
    "#### Exercício 6.3 (pág. 108):"
   ]
  },
  {
   "cell_type": "code",
   "execution_count": 61,
   "id": "c724acad",
   "metadata": {},
   "outputs": [
    {
     "name": "stdout",
     "output_type": "stream",
     "text": [
      "Lista1:  ['joao', 'pedro', 'joao', 'paulo', 'maria']\n",
      "Lista2:  ['joao', 'maria', 'roberval', 'pedro', 'dagoberto']\n",
      "\n",
      "Listas sem tratamento:  ['joao', 'pedro', 'joao', 'paulo', 'maria', 'joao', 'maria', 'roberval', 'pedro', 'dagoberto']\n",
      "Listas juntas sem repetição:  ['dagoberto', 'maria', 'paulo', 'roberval', 'pedro', 'joao']\n"
     ]
    }
   ],
   "source": [
    "listaSemRepeticao = []\n",
    "lista1 = [\"joao\", \"pedro\", \"joao\", \"paulo\", \"maria\"]\n",
    "print(\"Lista1: \", lista1)\n",
    "listaSemRepeticao.extend(lista1)\n",
    "lista2 = [\"joao\", \"maria\", \"roberval\", \"pedro\", \"dagoberto\"]\n",
    "print(\"Lista2: \", lista2)\n",
    "listaSemRepeticao.extend(lista2)\n",
    "\n",
    "print(\"\\nListas sem tratamento: \",listaSemRepeticao)\n",
    "\n",
    "listaSemRepeticao = set(listaSemRepeticao) # set() converte para um conjunto {}\n",
    "listaSemRepeticao = list(listaSemRepeticao) # Converte novamente para lista\n",
    "\n",
    "print(\"Listas juntas sem repetição: \", listaSemRepeticao)\n",
    "\n"
   ]
  },
  {
   "cell_type": "markdown",
   "id": "9d3f83e7",
   "metadata": {},
   "source": [
    "#### Exercício 6.4 (pág. 109):"
   ]
  },
  {
   "cell_type": "code",
   "execution_count": 62,
   "id": "44fb4b38",
   "metadata": {},
   "outputs": [
    {
     "ename": "IndexError",
     "evalue": "pop from empty list",
     "output_type": "error",
     "traceback": [
      "\u001b[1;31m---------------------------------------------------------------------------\u001b[0m",
      "\u001b[1;31mIndexError\u001b[0m                                Traceback (most recent call last)",
      "Cell \u001b[1;32mIn[62], line 2\u001b[0m\n\u001b[0;32m      1\u001b[0m teste \u001b[38;5;241m=\u001b[39m []\n\u001b[1;32m----> 2\u001b[0m removido \u001b[38;5;241m=\u001b[39m teste\u001b[38;5;241m.\u001b[39mpop()\n",
      "\u001b[1;31mIndexError\u001b[0m: pop from empty list"
     ]
    }
   ],
   "source": [
    "# Ao tentar remover um elemento da lista vazia, ocorre um erro de index: IndexError: pop from empty list\n",
    "teste = []\n",
    "removido = teste.pop()"
   ]
  },
  {
   "cell_type": "markdown",
   "id": "840c4f09",
   "metadata": {},
   "source": [
    "#### Exercício 6.5 (pág. 109):"
   ]
  },
  {
   "cell_type": "code",
   "execution_count": 67,
   "id": "262610e5",
   "metadata": {},
   "outputs": [
    {
     "name": "stdout",
     "output_type": "stream",
     "text": [
      "\n",
      "Existem 10 clientes na fila\n",
      "Fila atual: [1, 2, 3, 4, 5, 6, 7, 8, 9, 10]\n",
      "Digite F para adicionar um cliente ao fim da fila,\n",
      "ou A para realizar o atendimento. S para sair.\n",
      "Operações (F, A ou S):fffffafffffaaffffffaffffaaaffffffs\n",
      "Cliente 1 atendido\n",
      "Cliente 2 atendido\n",
      "Cliente 3 atendido\n",
      "Cliente 4 atendido\n",
      "Cliente 5 atendido\n",
      "Cliente 6 atendido\n",
      "Cliente 7 atendido\n",
      "\n",
      "Programa encerrado.\n",
      "Fila remanescente: [8, 9, 10, 11, 12, 13, 14, 15, 16, 17, 18, 19, 20, 21, 22, 23, 24, 25, 26, 27, 28, 29, 30, 31, 32, 33, 34, 35, 36]\n"
     ]
    }
   ],
   "source": [
    "último = 10\n",
    "fila = list(range(1, último + 1))\n",
    "\n",
    "while True:\n",
    "    print(\"\\nExistem %d clientes na fila\" % len(fila))\n",
    "    print(\"Fila atual:\", fila)\n",
    "    print(\"Digite F para adicionar um cliente ao fim da fila,\")\n",
    "    print(\"ou A para realizar o atendimento. S para sair.\")\n",
    "    operacoes = input(\"Operações (F, A ou S):\").upper()\n",
    "    \n",
    "    for operacao in operacoes:\n",
    "        if operacao == \"A\":\n",
    "            if len(fila) > 0:\n",
    "                atendido = fila.pop(0)\n",
    "                print(\"Cliente %d atendido\" % atendido)\n",
    "            else:\n",
    "                print(\"Fila vazia! Ninguém para atender.\")\n",
    "        elif operacao == \"F\":\n",
    "            último += 1  # Incrementa o ticket do novo cliente\n",
    "            fila.append(último)\n",
    "        elif operacao == \"S\":\n",
    "            break\n",
    "        else:\n",
    "            print(\"Operação inválida! Digite apenas F, A ou S!\")\n",
    "    if \"S\" in operacoes:\n",
    "        break\n",
    "\n",
    "print(\"\\nPrograma encerrado.\")\n",
    "print(\"Fila remanescente:\", fila)"
   ]
  },
  {
   "cell_type": "markdown",
   "id": "8305c442",
   "metadata": {},
   "source": [
    "#### Exercício 6.6 (pág. 109):"
   ]
  },
  {
   "cell_type": "code",
   "execution_count": 73,
   "id": "f7bc9912",
   "metadata": {},
   "outputs": [
    {
     "name": "stdout",
     "output_type": "stream",
     "text": [
      "\n",
      "Informações sobre as filas:\n",
      "Existem 10 clientes na fila 1\n",
      "Fila 1 atual: [1, 2, 3, 4, 5, 6, 7, 8, 9, 10]\n",
      "Existem 20 clientes na fila 2\n",
      "Fila 2 atual: [1, 2, 3, 4, 5, 6, 7, 8, 9, 10, 11, 12, 13, 14, 15, 16, 17, 18, 19, 20]\n",
      "----------------------------------------------------------------------------------------------------\n",
      "Instruções:\n",
      "Digite F para adicionar um cliente ao fim da fila 1,\n",
      "G para adicionar um cliente ao fim da fila 2,\n",
      "A para realizar o atendimento da fila 1,\n",
      "B para realizar o atendimento da fila 2.\n",
      "S para sair.\n",
      "Operações (F, G, A, B ou S):s\n",
      "\n",
      "Programa encerrado.\n",
      "Fila 1 remanescente: [1, 2, 3, 4, 5, 6, 7, 8, 9, 10]\n",
      "Fila 2 remanescente: [1, 2, 3, 4, 5, 6, 7, 8, 9, 10, 11, 12, 13, 14, 15, 16, 17, 18, 19, 20]\n"
     ]
    }
   ],
   "source": [
    "ultimo1 = 10\n",
    "ultimo2 = 20\n",
    "fila1 = list(range(1, ultimo1 + 1))\n",
    "fila2 = list(range(1, ultimo2 + 1))\n",
    "\n",
    "while True:\n",
    "    print(\"\\nInformações sobre as filas:\")\n",
    "    print(\"Existem %d clientes na fila 1\" % len(fila1))\n",
    "    print(\"Fila 1 atual:\", fila1)\n",
    "    print(\"Existem %d clientes na fila 2\" % len(fila2))\n",
    "    print(\"Fila 2 atual:\", fila2)\n",
    "    print(\"-\"*100)\n",
    "    print(\"Instruções:\")\n",
    "    print(\"Digite F para adicionar um cliente ao fim da fila 1,\")\n",
    "    print(\"G para adicionar um cliente ao fim da fila 2,\")\n",
    "    print(\"A para realizar o atendimento da fila 1,\")\n",
    "    print(\"B para realizar o atendimento da fila 2.\")\n",
    "    print(\"S para sair.\")\n",
    "    operacoes = input(\"Operações (F, G, A, B ou S):\").upper()\n",
    "    \n",
    "    for operacao in operacoes:\n",
    "        if operacao == \"A\":\n",
    "            if len(fila1) > 0:\n",
    "                atendido = fila1.pop(0)\n",
    "                print(\"Cliente %d atendido da fila 1\" % atendido)\n",
    "            else:\n",
    "                print(\"Fila 1 vazia! Ninguém para atender.\")\n",
    "        elif operacao == \"B\":\n",
    "            if len(fila2) > 0:\n",
    "                atendido = fila2.pop(0)\n",
    "                print(\"Cliente %d atendido da fila 2\" % atendido)\n",
    "            else:\n",
    "                print(\"Fila 2 vazia! Ninguém para atender.\")\n",
    "        elif operacao == \"F\":\n",
    "            ultimo1 += 1  # Novo cliente na fila 1\n",
    "            fila1.append(ultimo1)\n",
    "        elif operacao == \"G\":\n",
    "            ultimo2 += 1  # Novo cliente na fila 2\n",
    "            fila2.append(ultimo2)\n",
    "        elif operacao == \"S\":\n",
    "            break\n",
    "        else:\n",
    "            print(\"Operação inválida! Digite apenas F, G, A, B ou S!\")\n",
    "    if \"S\" in operacoes:\n",
    "        break\n",
    "\n",
    "print(\"\\nPrograma encerrado.\")\n",
    "print(\"Fila 1 remanescente:\", fila1)\n",
    "print(\"Fila 2 remanescente:\", fila2)"
   ]
  },
  {
   "cell_type": "markdown",
   "id": "d584b5a8",
   "metadata": {},
   "source": [
    "#### Exercício 6.7 (pág. 112):"
   ]
  },
  {
   "cell_type": "code",
   "execution_count": 78,
   "id": "36d754f2",
   "metadata": {},
   "outputs": [],
   "source": [
    "# Exemplo:\n",
    "\n",
    "# Expressão de entrada: \"(()())\"\n",
    "# Iteração 1:\n",
    "\n",
    "# Caractere: '('\n",
    "# Ação: Adiciona à pilha\n",
    "# Pilha: ['(']\n",
    "# Iteração 2:\n",
    "\n",
    "# Caractere: '('\n",
    "# Ação: Adiciona à pilha\n",
    "# Pilha: ['(', '(']\n",
    "# Iteração 3:\n",
    "\n",
    "# Caractere: ')'\n",
    "# Ação: Verifica a pilha (não vazia), então remove o topo\n",
    "# Pilha: ['(']\n",
    "# Iteração 4:\n",
    "\n",
    "# Caractere: '('\n",
    "# Ação: Adiciona à pilha\n",
    "# Pilha: ['(', '(']\n",
    "# Iteração 5:\n",
    "\n",
    "# Caractere: ')'\n",
    "# Ação: Verifica a pilha (não vazia), então remove o topo\n",
    "# Pilha: ['(']\n",
    "# Iteração 6:\n",
    "\n",
    "# Caractere: ')'\n",
    "# Ação: Verifica a pilha (não vazia), então remove o topo\n",
    "# Pilha: []\n",
    "    \n",
    "# Resultado:\n",
    "# Após a iteração, a pilha está vazia, o que significa que todos os parênteses de abertura tiveram correspondência e foram fechados corretamente."
   ]
  },
  {
   "cell_type": "code",
   "execution_count": null,
   "id": "2e760122",
   "metadata": {},
   "outputs": [],
   "source": [
    "# Pilha LIFO (Last In, First Out)\n",
    "\n",
    "def verificaParenteses(expressao):\n",
    "    pilha = []\n",
    "    for char in expressao:\n",
    "        if char == '(':\n",
    "            pilha.append(char)\n",
    "        elif char == ')':\n",
    "            if len(pilha) == 0: # Se vazio, não tem abertura '(', logo não pode ter fechamento ')'\n",
    "                return \"Erro\"\n",
    "            pilha.pop()\n",
    "    if len(pilha) == 0:\n",
    "        return \"OK\"\n",
    "    else:\n",
    "        return \"Erro\"\n",
    "\n",
    "expressao = input(\"Digite uma expressão com parênteses: \")\n",
    "resultado = verificaParenteses(expressao)\n",
    "print(resultado)"
   ]
  },
  {
   "cell_type": "markdown",
   "id": "6d308714",
   "metadata": {},
   "source": [
    "#### Exercício 6.8 (pág. 113):"
   ]
  },
  {
   "cell_type": "code",
   "execution_count": 80,
   "id": "c1f83f0b",
   "metadata": {},
   "outputs": [
    {
     "name": "stdout",
     "output_type": "stream",
     "text": [
      "Digite o valor a procurar: 7\n",
      "7 achado na posição 1\n"
     ]
    }
   ],
   "source": [
    "L = [15, 7, 27, 39]\n",
    "p = int(input(\"Digite o valor a procurar: \"))\n",
    "x = 0\n",
    "\n",
    "while x < len(L):\n",
    "    if L[x] == p:\n",
    "        print(\"%d achado na posição %d\" % (p, x))\n",
    "        break\n",
    "    x += 1\n",
    "else:\n",
    "    print(\"%d não encontrado na lista.\" % p)"
   ]
  },
  {
   "cell_type": "markdown",
   "id": "ac8c4764",
   "metadata": {},
   "source": [
    "#### Exercício 6.9 (pág. 113):"
   ]
  },
  {
   "cell_type": "code",
   "execution_count": 82,
   "id": "53dbd5df",
   "metadata": {},
   "outputs": [
    {
     "name": "stdout",
     "output_type": "stream",
     "text": [
      "Digite o primeiro valor a procurar: 39\n",
      "Digite o segundo valor a procurar: 15\n",
      "15 encontrado primeiro na posição 0\n"
     ]
    }
   ],
   "source": [
    "L = [15, 7, 27, 39]\n",
    "p = int(input(\"Digite o primeiro valor a procurar: \"))\n",
    "v = int(input(\"Digite o segundo valor a procurar: \"))\n",
    "\n",
    "x = 0\n",
    "encontradoPrimeiro = None\n",
    "\n",
    "while x < len(L):\n",
    "    if L[x] == p:\n",
    "        encontradoPrimeiro = p\n",
    "        print(\"%d encontrado primeiro na posição %d\" % (encontradoPrimeiro, x))\n",
    "        break\n",
    "    elif L[x] == v:\n",
    "        encontradoPrimeiro = v\n",
    "        print(\"%d encontrado primeiro na posição %d\" % (encontradoPrimeiro, x))\n",
    "        break\n",
    "    \n",
    "    x += 1\n",
    "else:\n",
    "    if encontradoPrimeiro is None:\n",
    "        print(\"Nenhum dos valores foi encontrado na lista.\")"
   ]
  },
  {
   "cell_type": "markdown",
   "id": "f67eb4b9",
   "metadata": {},
   "source": [
    "#### Exercício 6.10 (pág. 113):"
   ]
  },
  {
   "cell_type": "code",
   "execution_count": 83,
   "id": "3befb0e7",
   "metadata": {},
   "outputs": [
    {
     "name": "stdout",
     "output_type": "stream",
     "text": [
      "Digite o primeiro valor a procurar: 39\n",
      "Digite o segundo valor a procurar: 7\n",
      "7 encontrado na posição 1\n",
      "39 encontrado na posição 3\n"
     ]
    }
   ],
   "source": [
    "L = [15, 7, 27, 39]\n",
    "p = int(input(\"Digite o primeiro valor a procurar: \"))\n",
    "v = int(input(\"Digite o segundo valor a procurar: \"))\n",
    "\n",
    "x = 0\n",
    "encontrados = []\n",
    "\n",
    "while x < len(L):\n",
    "    if L[x] == p:\n",
    "        encontrados.append(p)\n",
    "    elif L[x] == v:\n",
    "        encontrados.append(v)\n",
    "    \n",
    "    x += 1\n",
    "\n",
    "if encontrados:\n",
    "    for valor in encontrados:\n",
    "        print(f\"{valor} encontrado na posição {L.index(valor)}\") #Mostra o indice do primeiro \"valor\" encontrado na lista L, como os números não se repetem, o código funciona\n",
    "else:\n",
    "    print(\"Nenhum dos valores foi encontrado na lista.\")"
   ]
  },
  {
   "cell_type": "markdown",
   "id": "fe432050",
   "metadata": {},
   "source": [
    "#### Exercício 6.11 (pág. 115):"
   ]
  },
  {
   "cell_type": "code",
   "execution_count": 84,
   "id": "0e0acc11",
   "metadata": {},
   "outputs": [
    {
     "name": "stdout",
     "output_type": "stream",
     "text": [
      "Digite um número (0 sai):5\n",
      "Digite um número (0 sai):4\n",
      "Digite um número (0 sai):5\n",
      "Digite um número (0 sai):5\n",
      "Digite um número (0 sai):587\n",
      "Digite um número (0 sai):8\n",
      "Digite um número (0 sai):84\n",
      "Digite um número (0 sai):0\n",
      "5\n",
      "4\n",
      "5\n",
      "5\n",
      "587\n",
      "8\n",
      "84\n"
     ]
    }
   ],
   "source": [
    "#Listagem 6.15\n",
    "# L=[]\n",
    "# while True:\n",
    "#     n=int(input(\"Digite um número (0 sai):\"))\n",
    "#     if n == 0:\n",
    "#         break\n",
    "#     L.append(n)\n",
    "# x=0\n",
    "# while x < len(L):\n",
    "#     print(L[x])\n",
    "#     x=x+1\n",
    "\n",
    "# Alteração para utilização de For:\n",
    "L = []\n",
    "\n",
    "while True:\n",
    "    n = int(input(\"Digite um número (0 sai): \"))\n",
    "    if n == 0:\n",
    "        break\n",
    "    L.append(n)\n",
    "\n",
    "for num in L:\n",
    "    print(num)\n",
    "    \n",
    "# Explicação: Nem todo while pode ser transformado em For pela nature de funcionamento do While,\n",
    "# que pode ser executado utiliando condições de satisfação, possibilitando a execução por uma quatidade indefinida de vezes.\n",
    "# Enquanto o for, geralmente é executado por uma quatidade fixa de vezes, já que essa quantidade já é estipulada no momento\n",
    "# da sua declaração.\n",
    "# Por exemplo: for num in L:\n",
    "# Onde L tem um tamanho fixo, logo o for será executado o número de vezes relativo ao tamanho de L.\n",
    "# Já no exemplo while True:\n",
    "# O código será executado até que seja dado um break explicitamente.\n",
    "\n",
    "# Observação: Existem outras formas de saída de um while sem que seja com a utilizaçào explícita do break, por exemplo:\n",
    "# while True:\n",
    "#     # Executa alguma lógica dentro do loop\n",
    "#     if condição_de_saida:\n",
    "#         return\n",
    "# Nesse caso, o return está interrompendo o while"
   ]
  },
  {
   "cell_type": "markdown",
   "id": "764d582e",
   "metadata": {},
   "source": [
    "#### Exercício 6.12 (pág. 118):"
   ]
  },
  {
   "cell_type": "code",
   "execution_count": 87,
   "id": "0d7cac83",
   "metadata": {},
   "outputs": [
    {
     "name": "stdout",
     "output_type": "stream",
     "text": [
      "O menor valor da lista [1, 7, 2, 4] é o 1\n"
     ]
    }
   ],
   "source": [
    "L=[1,7,2,4]\n",
    "menor=L[0]\n",
    "for e in L:\n",
    "    if e < menor:\n",
    "        menor = e\n",
    "print(f\"O menor valor da lista {L} é o {menor}\")"
   ]
  },
  {
   "cell_type": "markdown",
   "id": "3e4e68fc",
   "metadata": {},
   "source": [
    "#### Exercício 6.13 (pág. 118):"
   ]
  },
  {
   "cell_type": "code",
   "execution_count": 89,
   "id": "2f44a0ea",
   "metadata": {},
   "outputs": [
    {
     "name": "stdout",
     "output_type": "stream",
     "text": [
      "Lista T: [-10, -8, 0, 1, 2, 5, -2, -4].\n",
      "O menor valor da lista T é o -10, o maior é o 5 e a média é -2.0.\n"
     ]
    }
   ],
   "source": [
    "\n",
    "T = [ -10, -8, 0, 1, 2, 5, -2, -4]\n",
    "menor = min(T)\n",
    "maior = max(T)\n",
    "\n",
    "media = sum(T) / len(T)\n",
    "\n",
    "print(f\"Lista T: {T}.\")\n",
    "print(f\"O menor valor da lista T é o {menor}, o maior é o {maior} e a média é {media}.\")\n",
    "\n"
   ]
  },
  {
   "cell_type": "markdown",
   "id": "a2d114ad",
   "metadata": {},
   "source": [
    "#### Exercício 6.14 (pág. 126):"
   ]
  },
  {
   "cell_type": "code",
   "execution_count": 92,
   "id": "78e6fe04",
   "metadata": {},
   "outputs": [
    {
     "name": "stdout",
     "output_type": "stream",
     "text": [
      "1\n",
      "2\n",
      "3\n",
      "4\n",
      "5\n"
     ]
    }
   ],
   "source": [
    "# Listagem 6.44\n",
    "\n",
    "# L=[7,4,3,12,8] # Lista original da listagem\n",
    "L=[1,2,3,4,5]\n",
    "fim=5\n",
    "while fim > 1:\n",
    "    trocou=False\n",
    "    x=0\n",
    "    while x<(fim-1):\n",
    "        if L[x] > L[x+1]:\n",
    "            trocou=True\n",
    "            temp=L[x]\n",
    "            L[x]=L[x+1]\n",
    "            L[x+1]=temp\n",
    "        x+=1\n",
    "    if not trocou:\n",
    "        break\n",
    "    fim-=1\n",
    "for e in L:\n",
    "    print(e)\n",
    "    \n",
    "    \n",
    "# Utilizando a lista ordenada L=[1,2,3,4,5], o programa continua funcionando normalmente, porém como já está ordenada, L não é modificado"
   ]
  },
  {
   "cell_type": "markdown",
   "id": "8afeda7b",
   "metadata": {},
   "source": [
    "#### Exercício 6.15 (pág. 126):"
   ]
  },
  {
   "cell_type": "code",
   "execution_count": 93,
   "id": "bd23d4c1",
   "metadata": {},
   "outputs": [
    {
     "name": "stdout",
     "output_type": "stream",
     "text": [
      "1\n",
      "3\n",
      "3\n",
      "4\n",
      "5\n"
     ]
    }
   ],
   "source": [
    "# Listagem 6.44\n",
    "\n",
    "# L=[7,4,3,12,8] # Lista original da listagem\n",
    "# L=[1,2,3,4,5] # 6.15\n",
    "L=[3,3,1,5,4]\n",
    "\n",
    "fim=5\n",
    "while fim > 1:\n",
    "    trocou=False\n",
    "    x=0\n",
    "    while x<(fim-1):\n",
    "        if L[x] > L[x+1]:\n",
    "            trocou=True\n",
    "            temp=L[x]\n",
    "            L[x]=L[x+1]\n",
    "            L[x+1]=temp\n",
    "        x+=1\n",
    "    if not trocou:\n",
    "        break\n",
    "    fim-=1\n",
    "for e in L:\n",
    "    print(e)\n",
    "    \n",
    "# O programa continua funcionamento corretamente, porém no caso dos números repetidos (L[0] e L[1]), eles não são alterados entre si.\n",
    "# Mas não alterados quando contarados com seus \"vizinhos\" diferentes, realizando as alterações a cada loop."
   ]
  },
  {
   "cell_type": "markdown",
   "id": "272c8ba4",
   "metadata": {},
   "source": [
    "#### Exercício 6.16 (pág. 126):"
   ]
  },
  {
   "cell_type": "code",
   "execution_count": 107,
   "id": "a626dd44",
   "metadata": {},
   "outputs": [
    {
     "name": "stdout",
     "output_type": "stream",
     "text": [
      "Lista inicial:                     [2, 3, 1, 5, 4]\n",
      "Lista ordenada e depois invertida: [5, 4, 3, 2, 1]\n"
     ]
    }
   ],
   "source": [
    "# Listagem 6.44\n",
    "\n",
    "L=[2,3,1,5,4] # Lista desordenada\n",
    "print(f\"Lista inicial:                     {L}\")\n",
    "ordenada = []\n",
    "\n",
    "fim = len(L)\n",
    "while fim > 1:\n",
    "    trocou=False\n",
    "    x=0\n",
    "    while x<(fim-1):\n",
    "        if L[x] > L[x+1]:\n",
    "            trocou=True\n",
    "            temp=L[x]\n",
    "            L[x]=L[x+1]\n",
    "            L[x+1]=temp\n",
    "        x+=1\n",
    "        ordenada = L\n",
    "        #print(f\"Ordenando: {ordenada}\")\n",
    "    if not trocou:\n",
    "        break\n",
    "    fim-=1\n",
    "# for e in L:\n",
    "#     print(e)\n",
    "\n",
    "ordenadaReversa = ordenada\n",
    "ordenadaReversa.reverse()\n",
    "\n",
    "print(f\"Lista ordenada e depois invertida: {ordenadaReversa}\")"
   ]
  },
  {
   "cell_type": "markdown",
   "id": "d9c0aa60",
   "metadata": {},
   "source": [
    "#### Exercício 6.17 (pág. 133):"
   ]
  },
  {
   "cell_type": "code",
   "execution_count": 114,
   "id": "ba4261f3",
   "metadata": {},
   "outputs": [
    {
     "name": "stdout",
     "output_type": "stream",
     "text": [
      "Vendas:\n",
      "\n",
      "\n",
      "Estoque:\n",
      "______________________________\n",
      "Descrição:  tomate\n",
      "Quantidade:  1000\n",
      "Preço:   2.30\n",
      "\n",
      "______________________________\n",
      "Descrição:  alface\n",
      "Quantidade:  500\n",
      "Preço:   0.45\n",
      "\n",
      "______________________________\n",
      "Descrição:  batata\n",
      "Quantidade:  2001\n",
      "Preço:   1.20\n",
      "\n",
      "______________________________\n",
      "Descrição:  feijão\n",
      "Quantidade:  100\n",
      "Preço:   1.50\n",
      "\n",
      "Digite o nome do produto (ou 'fim' para encerrar): tomate\n",
      "Digite a quantidade de 'tomate': 500\n",
      "      tomate: 500 x   2.30 = 1150.00\n",
      " Custo total:               1150.00\n",
      "\n",
      "Digite o nome do produto (ou 'fim' para encerrar): batata\n",
      "Digite a quantidade de 'batata': 1\n",
      "      batata:   1 x   1.20 =   1.20\n",
      " Custo total:               1151.20\n",
      "\n",
      "Digite o nome do produto (ou 'fim' para encerrar): alface\n",
      "Digite a quantidade de 'alface': 20\n",
      "      alface:  20 x   0.45 =   9.00\n",
      " Custo total:               1160.20\n",
      "\n",
      "Digite o nome do produto (ou 'fim' para encerrar): feijão\n",
      "Digite a quantidade de 'feijão': 90\n",
      "      feijão:  90 x   1.50 = 135.00\n",
      " Custo total:               1295.20\n",
      "\n",
      "Digite o nome do produto (ou 'fim' para encerrar): fim\n",
      "\n",
      "Estoque atualizado:\n",
      "______________________________\n",
      "Descrição:  tomate\n",
      "Quantidade:  500\n",
      "Preço:   2.30\n",
      "\n",
      "______________________________\n",
      "Descrição:  alface\n",
      "Quantidade:  480\n",
      "Preço:   0.45\n",
      "\n",
      "______________________________\n",
      "Descrição:  batata\n",
      "Quantidade:  2000\n",
      "Preço:   1.20\n",
      "\n",
      "______________________________\n",
      "Descrição:  feijão\n",
      "Quantidade:  10\n",
      "Preço:   1.50\n",
      "\n"
     ]
    }
   ],
   "source": [
    "def exibirEstoque(estoque):\n",
    "    for chave, dados in estoque.items():\n",
    "        print(\"_\"*30)\n",
    "        print(\"Descrição: \", chave)\n",
    "        print(\"Quantidade: \", dados[0])\n",
    "        print(\"Preço: %6.2f\\n\" % dados[1])\n",
    "        \n",
    "\n",
    "estoque = {\n",
    "    \"tomate\": [1000, 2.30],\n",
    "    \"alface\": [500, 0.45],\n",
    "    \"batata\": [2001, 1.20],\n",
    "    \"feijão\": [100, 1.50]\n",
    "}\n",
    "\n",
    "total = 0\n",
    "\n",
    "print(\"Vendas:\\n\")\n",
    "print(\"\\nEstoque:\")\n",
    "exibirEstoque(estoque)\n",
    "    \n",
    "while True:\n",
    "    produto = input(\"Digite o nome do produto (ou 'fim' para encerrar): \").lower()\n",
    "    \n",
    "    if produto == 'fim':\n",
    "        break\n",
    "    \n",
    "    if produto not in estoque:\n",
    "        print(f\"Produto '{produto}' não encontrado no estoque.\")\n",
    "        continue\n",
    "    \n",
    "    quantidade = int(input(f\"Digite a quantidade de '{produto}': \"))\n",
    "    \n",
    "    if quantidade <= 0:\n",
    "        print(\"Quantidade inválida. Digite um valor positivo.\")\n",
    "        continue\n",
    "    \n",
    "    if quantidade > estoque[produto][0]:\n",
    "        print(f\"Não há quantidade suficiente de '{produto}' em estoque.\")\n",
    "        continue\n",
    "    \n",
    "    preço = estoque[produto][1]\n",
    "    custo = preço * quantidade\n",
    "    print(\"%12s: %3d x %6.2f = %6.2f\" % (produto, quantidade, preço, custo))\n",
    "    estoque[produto][0] -= quantidade\n",
    "    total += custo\n",
    "    print(\" Custo total: %21.2f\\n\" % total)\n",
    "\n",
    "print(\"\\nEstoque atualizado:\")\n",
    "exibirEstoque(estoque)"
   ]
  },
  {
   "cell_type": "markdown",
   "id": "9833b952",
   "metadata": {},
   "source": [
    "#### Exercício 6.18 (pág. 133):"
   ]
  },
  {
   "cell_type": "code",
   "execution_count": 119,
   "id": "0ec469e2",
   "metadata": {},
   "outputs": [
    {
     "name": "stdout",
     "output_type": "stream",
     "text": [
      "Ocorrências dos caracteres na frase:\n",
      "O: 1\n",
      " : 11\n",
      "r: 6\n",
      "a: 6\n",
      "t: 3\n",
      "o: 8\n",
      "e: 4\n",
      "u: 2\n",
      "p: 1\n",
      "d: 2\n",
      "i: 1\n",
      "R: 1\n",
      "m: 2\n",
      ",: 1\n",
      "!: 1\n"
     ]
    }
   ],
   "source": [
    "def contaOcorridos(dicionario, frase):\n",
    "    for caracter in frase:\n",
    "        if caracter in dicionario: # Se o caracter já foi inserido antes, só add +1 no valor relativo aquela chave\n",
    "            dicionario[caracter] += 1\n",
    "        else: #Se é a primeira ocorrência do caracter, cria a chave com o caracter e add +1 no valor\n",
    "            dicionario[caracter] = 1\n",
    "\n",
    "dicionario = {}\n",
    "frase = \"O rato roeu a roupa do rei de Roma, morte ao rato!\"\n",
    "\n",
    "contaOcorridos(dicionario, frase)\n",
    "\n",
    "# print(dicionario)\n",
    "\n",
    "print(\"Ocorrências dos caracteres na frase:\")\n",
    "for caracter, ocorrencias in dicionario.items():\n",
    "    print(f\"{caracter}: {ocorrencias}\")\n",
    "    \n",
    "\n",
    "# dicionario.itens: gera uma lista de tuplas [('chave1', valor1), ('chave2', valor2)]"
   ]
  },
  {
   "cell_type": "markdown",
   "id": "7696b2ca",
   "metadata": {},
   "source": [
    "# Capítulo 7"
   ]
  },
  {
   "cell_type": "markdown",
   "id": "2ce61f06",
   "metadata": {},
   "source": [
    "#### Exercício 7.1 (pág. 142):"
   ]
  },
  {
   "cell_type": "code",
   "execution_count": 4,
   "id": "365563c3",
   "metadata": {},
   "outputs": [
    {
     "name": "stdout",
     "output_type": "stream",
     "text": [
      "Digite a primeira string: testeztes\n",
      "Pesquise se dentro da primeira string: ola\n",
      "A string ola não está dentro da testeztes.\n"
     ]
    }
   ],
   "source": [
    "string1 = input(\"Digite a primeira string: \")\n",
    "string2 = input(\"Pesquise se dentro da primeira string: \")\n",
    "\n",
    "achou = string1.find(string2)\n",
    "\n",
    "if achou == -1:\n",
    "    print(f\"A string {string2} não está dentro da {string1}.\")\n",
    "else:\n",
    "    print(f\"A string {string2} está contida dentro da {string1}, na posição {achou}.\")"
   ]
  },
  {
   "cell_type": "markdown",
   "id": "4744e8ec",
   "metadata": {},
   "source": [
    "#### Exercício 7.2 (pág. 142):"
   ]
  },
  {
   "cell_type": "code",
   "execution_count": 7,
   "id": "c04971f9",
   "metadata": {},
   "outputs": [
    {
     "name": "stdout",
     "output_type": "stream",
     "text": [
      "Digite a primeira string: isdhfgkoskasdkf\n",
      "Digite a segunda string: pfushf\n",
      "stringsComuns: shff\n"
     ]
    }
   ],
   "source": [
    "string1 = input(\"Digite a primeira string: \")\n",
    "string2 = input(\"Digite a segunda string: \")\n",
    "\n",
    "stringsComuns = []\n",
    "\n",
    "for i in range(len(string1)):\n",
    "    for j in range(len(string2)):\n",
    "        if (string2[j] == string1[i]) and (string1[j] not in stringsComuns): # Caracter igual nas strings E ainda não salvou\n",
    "            stringsComuns.append(string2[j])\n",
    "        \n",
    "# Transforma uma lista em uma string:\n",
    "stringsComunsList = \"\".join(stringsComuns)\n",
    "print(f\"stringsComuns: {stringsComunsList}\")\n",
    "            "
   ]
  },
  {
   "cell_type": "markdown",
   "id": "0cf261b0",
   "metadata": {},
   "source": [
    "#### Exercício 7.3 (pág. 143):"
   ]
  },
  {
   "cell_type": "code",
   "execution_count": 9,
   "id": "17aedbf0",
   "metadata": {},
   "outputs": [
    {
     "name": "stdout",
     "output_type": "stream",
     "text": [
      "Digite a 1ª string: asdlkjfhalsdkjhf\\\n",
      "Digite a 2ª string: jdfjhdfhjdf\n",
      "3ª string: ka\\sl\n"
     ]
    }
   ],
   "source": [
    "def gerarTerceiraString(string1, string2):\n",
    "    # Remove todos as strings duplicadas em cada string, gerando os dois conjuntos de dados\n",
    "    set1 = set(string1)\n",
    "    set2 = set(string2)\n",
    "    \n",
    "    # Pega a diferença do cunjunto 1 em relação ao 2\n",
    "    caracteres_unicos1 = set1 - set2\n",
    "    # Pega a diferença do cunjunto 2 em relação ao 1\n",
    "    caracteres_unicos2 = set2 - set1\n",
    "    \n",
    "    # Junta os dois conjuntos em uma única string\n",
    "    terceira_string = ''.join(caracteres_unicos1 | caracteres_unicos2)\n",
    "    # Também poderiamos usar o + para juntar as strings, mas antes teriamos que transformar em strings:\n",
    "    #terceira_string = ''.join(list(caracteres_unicos1) | list(caracteres_unicos2))\n",
    "    \n",
    "    return terceira_string\n",
    "\n",
    "string1 = input(\"Digite a 1ª string: \")\n",
    "string2 = input(\"Digite a 2ª string: \")\n",
    "\n",
    "terceira_string = gerarTerceiraString(string1, string2)\n",
    "\n",
    "print(\"3ª string:\", terceira_string)\n",
    "\n",
    "#Explicações:\n",
    "\n",
    "# O set() é uma função que cria um conjunto (set).\n",
    "# Um conjunto é uma coleção desordenada de elementos únicos.\n",
    "# Ou seja, ele remove automaticamente quaisquer elementos duplicados da coleção.\n",
    "\n",
    "# Operador | (Union) em Conjuntos\n",
    "# O operador | é utilizado para realizar a operação de união (union) entre dois conjuntos em Python. A união de dois conjuntos resulta em um novo conjunto que contém todos os elementos únicos presentes em qualquer um dos conjuntos originais.\n",
    "\n",
    "# Exemplo:\n",
    "\n",
    "# conjunto1 = {1, 2, 3}\n",
    "# conjunto2 = {3, 4, 5}\n",
    "# conjunto3 = conjunto1 | conjunto2\n",
    "# print(conjunto3)  # Saída: {1, 2, 3, 4, 5}\n"
   ]
  },
  {
   "cell_type": "markdown",
   "id": "a3ccea69",
   "metadata": {},
   "source": [
    "#### Exercício 7.4 (pág. 143):"
   ]
  },
  {
   "cell_type": "code",
   "execution_count": 10,
   "id": "0b17ac69",
   "metadata": {},
   "outputs": [
    {
     "name": "stdout",
     "output_type": "stream",
     "text": [
      "String: TTAAC\n",
      "Resultado:\n",
      "T: 2x\n",
      "A: 2x\n",
      "C: 1x\n"
     ]
    }
   ],
   "source": [
    "def contarCaracteres(string):\n",
    "    contador = {}\n",
    "    \n",
    "    # Percorre cada caractere na string\n",
    "    for caracter in string:\n",
    "        # Se já existir no dicionário, incrementa\n",
    "        if caracter in contador:\n",
    "            contador[caracter] += 1\n",
    "        else: # Se não tiver, cria a chave com valor = 1\n",
    "            contador[caracter] = 1\n",
    "    \n",
    "    # Imprime o resultado formatado\n",
    "    for chave, valor in contador.items(): # Pega chave-valor do dicionário\n",
    "        print(f\"{chave}: {valor}x\")\n",
    "\n",
    "string = input(\"Digite uma string: \")\n",
    "print(f\"Resultado: {contarCaracteres(string)}\")"
   ]
  },
  {
   "cell_type": "markdown",
   "id": "cfd05158",
   "metadata": {},
   "source": [
    "#### Exercício 7.5 (pág. 143):"
   ]
  },
  {
   "cell_type": "code",
   "execution_count": 12,
   "id": "29fe1ccb",
   "metadata": {},
   "outputs": [
    {
     "name": "stdout",
     "output_type": "stream",
     "text": [
      "Digite uma string: AATTGGAA\n",
      "Digite outra string: TG\n",
      "Resultado: AAAA\n"
     ]
    }
   ],
   "source": [
    "def retiraCaracteres(string1, string2):\n",
    "    caracteres_string2 = set(string2) # Cria o conjunto com strings2\n",
    "    resultado = []\n",
    "\n",
    "    for char in string1:\n",
    "        if char not in caracteres_string2: # Se char de string1 não estiver no conjunto strings2, pode armazenar\n",
    "            resultado.append(char)\n",
    "\n",
    "    return \"\".join(resultado) # .join() - Transforma uma lista em uma string com separador, no caso o separador será \"\", sem separador\n",
    "        \n",
    "\n",
    "string1 = input(\"Digite uma string: \")\n",
    "string2 = input(\"Digite outra string: \")\n",
    "print(f\"Resultado: {retiraCaracteres(string1, string2)}\")"
   ]
  },
  {
   "cell_type": "markdown",
   "id": "3865bebb",
   "metadata": {},
   "source": [
    "#### Exercício 7.6 (pág. 143):"
   ]
  },
  {
   "cell_type": "code",
   "execution_count": null,
   "id": "11608ca7",
   "metadata": {},
   "outputs": [],
   "source": [
    "# Não entendi #\n",
    "\n",
    "# Exercício 7.6 Escreva um programa que leia três strings. Imprima o resultado da\n",
    "# substituição na primeira, dos caracteres da segunda pelos da terceira.\n",
    "# 1ª string: AATTCGAA\n",
    "# 2ª string: TG\n",
    "# 3ª string: AC\n",
    "# Resultado: AAAACCAA"
   ]
  },
  {
   "cell_type": "markdown",
   "id": "8e615adb",
   "metadata": {},
   "source": [
    "#### Exercício 7.7 (pág. 159):"
   ]
  },
  {
   "cell_type": "code",
   "execution_count": 14,
   "id": "8e1ccc7a",
   "metadata": {},
   "outputs": [
    {
     "name": "stdout",
     "output_type": "stream",
     "text": [
      "Digite a palavra secreta:teste\n",
      "\n",
      "\n",
      "\n",
      "\n",
      "\n",
      "\n",
      "\n",
      "\n",
      "\n",
      "\n",
      "\n",
      "\n",
      "\n",
      "\n",
      "\n",
      "\n",
      "\n",
      "\n",
      "\n",
      "\n",
      "\n",
      "\n",
      "\n",
      "\n",
      "\n",
      "\n",
      "\n",
      "\n",
      "\n",
      "\n",
      "\n",
      "\n",
      "\n",
      "\n",
      "\n",
      "\n",
      "\n",
      "\n",
      "\n",
      "\n",
      "\n",
      "\n",
      "\n",
      "\n",
      "\n",
      "\n",
      "\n",
      "\n",
      "\n",
      "\n",
      "\n",
      "\n",
      "\n",
      "\n",
      "\n",
      "\n",
      "\n",
      "\n",
      "\n",
      "\n",
      "\n",
      "\n",
      "\n",
      "\n",
      "\n",
      "\n",
      "\n",
      "\n",
      "\n",
      "\n",
      "\n",
      "\n",
      "\n",
      "\n",
      "\n",
      "\n",
      "\n",
      "\n",
      "\n",
      "\n",
      "\n",
      "\n",
      "\n",
      "\n",
      "\n",
      "\n",
      "\n",
      "\n",
      "\n",
      "\n",
      "\n",
      "\n",
      "\n",
      "\n",
      "\n",
      "\n",
      "\n",
      "\n",
      "\n",
      "\n",
      ".....\n",
      "\n",
      "Digite uma letra:w\n",
      "Você errou!\n",
      "X==:==\n",
      "X  :  \n",
      "X\n",
      "X\n",
      "X\n",
      "===========\n",
      ".....\n",
      "\n",
      "Digite uma letra:e\n",
      ".e..e\n",
      "\n",
      "Digite uma letra:r\n",
      "Você errou!\n",
      "X==:==\n",
      "X  :  \n",
      "X | \n",
      "X\n",
      "X\n",
      "===========\n",
      ".e..e\n",
      "\n",
      "Digite uma letra:t\n",
      "te.te\n",
      "\n",
      "Digite uma letra:j\n",
      "Você errou!\n",
      "X==:==\n",
      "X  :  \n",
      "X \\| \n",
      "X\n",
      "X\n",
      "===========\n",
      "te.te\n",
      "\n",
      "Digite uma letra:s\n",
      "teste\n",
      "Você acertou!\n"
     ]
    }
   ],
   "source": [
    "# Listagem 7.45 – Jogo da forca\n",
    "palavra = input(\"Digite a palavra secreta:\").lower().strip()\n",
    "for x in range(100):\n",
    "    print()\n",
    "\n",
    "digitadas = []\n",
    "acertos = []\n",
    "erros = 0\n",
    "\n",
    "while True:\n",
    "    senha = \"\"\n",
    "    for letra in palavra:\n",
    "        senha += letra if letra in acertos else \".\"\n",
    "    print(senha)\n",
    "\n",
    "    if senha == palavra:\n",
    "        print(\"Você acertou!\")\n",
    "        break\n",
    "\n",
    "    tentativa = input(\"\\nDigite uma letra:\").lower().strip()\n",
    "\n",
    "    if tentativa in digitadas:\n",
    "        print(\"Você já tentou esta letra!\")\n",
    "        continue\n",
    "    else:\n",
    "        digitadas += tentativa\n",
    "\n",
    "        if tentativa in palavra:\n",
    "            acertos += tentativa\n",
    "        else:\n",
    "            erros += 1\n",
    "            print(\"Você errou!\")\n",
    "            print(\"X==:==\")\n",
    "            print(\"X  :  \")\n",
    "\n",
    "            linha2 = \"\"\n",
    "            if erros == 2:\n",
    "                linha2 = \" | \"\n",
    "            elif erros == 3:\n",
    "                linha2 = \" \\| \"\n",
    "            elif erros >= 4:\n",
    "                linha2 = \" \\|/ \"\n",
    "\n",
    "            print(\"X%s\" % linha2)\n",
    "\n",
    "            linha3 = \"\"\n",
    "            if erros == 5:\n",
    "                linha3 += \" / \"\n",
    "            elif erros >= 6:\n",
    "                linha3 += \" / \\ \"\n",
    "\n",
    "            print(\"X%s\" % linha3)\n",
    "            print(\"X\\n===========\")\n",
    "\n",
    "            if erros == 6:\n",
    "                print(f\"Enforcado! A palavra secreta era '{palavra}'.\") # Mostrando a palavra secreta caso perca.\n",
    "                break"
   ]
  },
  {
   "cell_type": "markdown",
   "id": "66657729",
   "metadata": {},
   "source": [
    "#### Exercício 7.8 (pág. 159):"
   ]
  },
  {
   "cell_type": "code",
   "execution_count": 4,
   "id": "9a5ad8f3",
   "metadata": {},
   "outputs": [
    {
     "name": "stdout",
     "output_type": "stream",
     "text": [
      "Digite um número inteiro: 25\n",
      "\n",
      "\n",
      "\n",
      "\n",
      "\n",
      "\n",
      "\n",
      "\n",
      "\n",
      "\n",
      "\n",
      "\n",
      "\n",
      "\n",
      "\n",
      "\n",
      "\n",
      "\n",
      "\n",
      "\n",
      "\n",
      "\n",
      "\n",
      "\n",
      "\n",
      "\n",
      "\n",
      "\n",
      "\n",
      "\n",
      "\n",
      "\n",
      "\n",
      "\n",
      "\n",
      "\n",
      "\n",
      "\n",
      "\n",
      "\n",
      "\n",
      "\n",
      "\n",
      "\n",
      "\n",
      "\n",
      "\n",
      "\n",
      "\n",
      "\n",
      "\n",
      "\n",
      "\n",
      "\n",
      "\n",
      "\n",
      "\n",
      "\n",
      "\n",
      "\n",
      "\n",
      "\n",
      "\n",
      "\n",
      "\n",
      "\n",
      "\n",
      "\n",
      "\n",
      "\n",
      "\n",
      "\n",
      "\n",
      "\n",
      "\n",
      "\n",
      "\n",
      "\n",
      "\n",
      "\n",
      "\n",
      "\n",
      "\n",
      "\n",
      "\n",
      "\n",
      "\n",
      "\n",
      "\n",
      "\n",
      "\n",
      "\n",
      "\n",
      "\n",
      "\n",
      "\n",
      "\n",
      "\n",
      "\n",
      "\n",
      ".......\n",
      "\n",
      "Digite uma letra:a\n",
      "a.a.a..\n",
      "\n",
      "Digite uma letra:b\n",
      "aba.a..\n",
      "\n",
      "Digite uma letra:i\n",
      "aba.a.i\n",
      "\n",
      "Digite uma letra:x\n",
      "aba.axi\n",
      "\n",
      "Digite uma letra:c\n",
      "abacaxi\n",
      "Você acertou!\n"
     ]
    }
   ],
   "source": [
    "# Exercício 7. 8 Modifique o jogo da forca de forma a utilizar uma lista de palavras.\n",
    "# No início, pergunte um número e calcule o índice da palavra a utilizar pela fórmula:\n",
    "# índice = (número * 776) % len(lista_de_palavras).\n",
    "\n",
    "listaPalavras = [\n",
    "    \"abacaxi\", \"bicicleta\", \"computador\", \"dinossauro\", \"elefante\",\n",
    "    \"futebol\", \"guitarra\", \"hipopotamo\", \"internet\", \"jacare\",\n",
    "    \"kiwi\", \"limonada\", \"macaco\", \"narval\", \"ornitorrinco\",\n",
    "    \"piano\", \"quintal\", \"relogio\", \"saxofone\", \"tartaruga\",\n",
    "    \"uva\", \"violino\", \"xadrez\", \"yamaha\", \"zoologico\",\n",
    "    \"abelha\", \"batata\", \"carro\", \"dinheiro\", \"escola\",\n",
    "    \"floresta\", \"girafa\", \"hiena\", \"igreja\", \"jardim\",\n",
    "    \"karaoke\", \"luz\", \"montanha\", \"navio\", \"oceano\",\n",
    "    \"pinguim\", \"quebra-cabeca\", \"rio\", \"sol\", \"tigre\",\n",
    "    \"urso\", \"vento\", \"xarope\", \"yoga\", \"zebra\"\n",
    "]\n",
    "\n",
    "def escolhePalavra(numeroDigitado, listaPalavras):\n",
    "    indice = (numeroDigitado * 776) % len(listaPalavras)\n",
    "    return listaPalavras[indice]\n",
    "\n",
    "# Listagem 7.45 – Jogo da forca\n",
    "numeroDigitado = int(input(\"Digite um número inteiro: \"))\n",
    "\n",
    "palavra = escolhePalavra(numeroDigitado, listaPalavras)\n",
    "\n",
    "for x in range(100):\n",
    "    print()\n",
    "\n",
    "digitadas = []\n",
    "acertos = []\n",
    "erros = 0\n",
    "\n",
    "while True:\n",
    "    senha = \"\"\n",
    "    for letra in palavra:\n",
    "        senha += letra if letra in acertos else \".\"\n",
    "    print(senha)\n",
    "\n",
    "    if senha == palavra:\n",
    "        print(\"Você acertou!\")\n",
    "        break\n",
    "\n",
    "    tentativa = input(\"\\nDigite uma letra:\").lower().strip()\n",
    "\n",
    "    if tentativa in digitadas:\n",
    "        print(\"Você já tentou esta letra!\")\n",
    "        continue\n",
    "    else:\n",
    "        digitadas += tentativa\n",
    "\n",
    "        if tentativa in palavra:\n",
    "            acertos += tentativa\n",
    "        else:\n",
    "            erros += 1\n",
    "            print(\"Você errou!\")\n",
    "            print(\"X==:==\")\n",
    "            print(\"X  :  \")\n",
    "\n",
    "            linha2 = \"\"\n",
    "            if erros == 2:\n",
    "                linha2 = \" | \"\n",
    "            elif erros == 3:\n",
    "                linha2 = \" \\| \"\n",
    "            elif erros >= 4:\n",
    "                linha2 = \" \\|/ \"\n",
    "\n",
    "            print(\"X%s\" % linha2)\n",
    "\n",
    "            linha3 = \"\"\n",
    "            if erros == 5:\n",
    "                linha3 += \" / \"\n",
    "            elif erros >= 6:\n",
    "                linha3 += \" / \\ \"\n",
    "\n",
    "            print(\"X%s\" % linha3)\n",
    "            print(\"X\\n===========\")\n",
    "\n",
    "            if erros == 6:\n",
    "                print(f\"Enforcado! A palavra secreta era '{palavra}'.\") # Mostrando a palavra secreta caso perca.\n",
    "                break"
   ]
  },
  {
   "cell_type": "markdown",
   "id": "6add7ffb",
   "metadata": {},
   "source": [
    "#### Exercício 7.9 (pág. 159):"
   ]
  },
  {
   "cell_type": "code",
   "execution_count": null,
   "id": "193cf535",
   "metadata": {},
   "outputs": [],
   "source": [
    "# Exercício 7.9 Modifique o programa para utilizar listas de strings para desenhar\n",
    "# o boneco da forca. Você pode utilizar uma lista para cada linha e organizá-las em\n",
    "# uma lista de listas. Em vez de controlar quando imprimir cada parte, desenhe\n",
    "# nessas listas, substituindo o elemento a desenhar.\n",
    "# Exemplo:\n",
    "# >>> linha = list(\"X------\")\n",
    "# >>> linha\n",
    "# ['X', '-', '-', '-', '-', '-', '-']\n",
    "# >>> linha[6] = \"|\"\n",
    "# >>> linha\n",
    "# ['X', '-', '-', '-', '-', '-', '|']\n",
    "# >>> \"\".join(linha)\n",
    "# 'X-----|'\n",
    "\n",
    "# - O custo x benefício desse exercício não compensa. \"Pulei\""
   ]
  },
  {
   "cell_type": "markdown",
   "id": "39487b6e",
   "metadata": {},
   "source": [
    "#### Exercício 7.10 (pág. 160):"
   ]
  },
  {
   "cell_type": "code",
   "execution_count": null,
   "id": "437b1fad",
   "metadata": {},
   "outputs": [],
   "source": [
    "# Código gerado via Chat GPT e alterado por mim:\n",
    "\n",
    "def exibirTabuleiro(board):\n",
    "    for row in board:\n",
    "        print(\"  |\".join(row))\n",
    "        print(\"---+---+---\")\n",
    "\n",
    "def verificaGanhador(board, player):\n",
    "    # Check rows, columns, and diagonals for a win\n",
    "    for row in board:\n",
    "        if all(spot == player for spot in row):\n",
    "            return True\n",
    "    for col in range(3):\n",
    "        if all(row[col] == player for row in board):\n",
    "            return True\n",
    "    if all(board[i][i] == player for i in range(3)) or all(board[i][2-i] == player for i in range(3)):\n",
    "        return True\n",
    "    return False\n",
    "\n",
    "def is_draw(board):\n",
    "    return all(all(spot != \" \" for spot in row) for row in board)\n",
    "\n",
    "def get_position_choice():\n",
    "    while True:\n",
    "        try:\n",
    "            position = int(input(\"Escolha uma posição (1-9): \"))\n",
    "            if position in range(1, 10):\n",
    "                return position\n",
    "            else:\n",
    "                print(\"Posição inválida. Escolha um número entre 1 e 9.\")\n",
    "        except ValueError:\n",
    "            print(\"Entrada inválida. Digite um número.\")\n",
    "\n",
    "def convert_position_to_indices(position):\n",
    "    # Map positions from 1-9 to (row, col) indices\n",
    "    mapping = {\n",
    "        1: (2, 0), 2: (2, 1), 3: (2, 2),\n",
    "        4: (1, 0), 5: (1, 1), 6: (1, 2),\n",
    "        7: (0, 0), 8: (0, 1), 9: (0, 2)\n",
    "    }\n",
    "    return mapping[position]\n",
    "\n",
    "def play_game():\n",
    "    board = [[\" \" for _ in range(3)] for _ in range(3)]\n",
    "    players = [\"X\", \"O\"]\n",
    "    current_player_index = 0\n",
    "\n",
    "    while True:\n",
    "        exibirTabuleiro(board)\n",
    "        current_player = players[current_player_index]\n",
    "        print(f\"Jogador {current_player}, é sua vez.\")\n",
    "\n",
    "        while True:\n",
    "            position = get_position_choice()\n",
    "            row, col = convert_position_to_indices(position)\n",
    "            if board[row][col] == \" \":\n",
    "                board[row][col] = current_player\n",
    "                break\n",
    "            else:\n",
    "                print(\"Posição já ocupada. Escolha outra posição.\")\n",
    "\n",
    "        if verificaGanhador(board, current_player):\n",
    "            exibirTabuleiro(board)\n",
    "            print(f\"Parabéns! Jogador {current_player} venceu!\")\n",
    "            break\n",
    "\n",
    "        if is_draw(board):\n",
    "            exibirTabuleiro(board)\n",
    "            print(\"Empate! Não há mais posições disponíveis.\")\n",
    "            break\n",
    "\n",
    "        current_player_index = 1 - current_player_index  # Alterna entre 0 e 1\n",
    "\n",
    "play_game()"
   ]
  },
  {
   "cell_type": "markdown",
   "id": "c706f9b2",
   "metadata": {},
   "source": [
    "# Capítulo 8"
   ]
  },
  {
   "cell_type": "markdown",
   "id": "7cf38e14",
   "metadata": {},
   "source": [
    "#### Exercício 8.1 (pág. 163):"
   ]
  },
  {
   "cell_type": "code",
   "execution_count": 4,
   "id": "80bf36fd",
   "metadata": {},
   "outputs": [
    {
     "name": "stdout",
     "output_type": "stream",
     "text": [
      "Digite o primeiro número: 10\n",
      "Digite o o segundo número: 20000\n",
      "O maior número entre os números 10.0 e 20000.0 é o número 20000.0.\n"
     ]
    }
   ],
   "source": [
    "def qualOMaior(a, b):\n",
    "    numeros = [a, b]\n",
    "    maior = max(numeros)\n",
    "    return maior\n",
    "\n",
    "a = float(input(\"Digite o primeiro número: \"))\n",
    "b = float(input(\"Digite o o segundo número: \"))\n",
    "\n",
    "maior = qualOMaior(a, b)\n",
    "\n",
    "print(f\"O maior número entre os números {a:.2f} e {b:.2f} é o número {maior:.2f}.\")\n",
    "\n",
    "# Formatação de duas casas decimais sem arredondamento: variável:.2f -> :.2f\n",
    "# Existem outras formas, mas acho essa a mais clara e produtiva, pois as variáveis já ficam nos locais onde irão ser exibidas\n",
    "# e a formatação fica clara para cada variável."
   ]
  },
  {
   "cell_type": "markdown",
   "id": "da5feea1",
   "metadata": {},
   "source": [
    "#### Exercício 8.2 (pág. 163):"
   ]
  },
  {
   "cell_type": "code",
   "execution_count": 8,
   "id": "409262a2",
   "metadata": {},
   "outputs": [
    {
     "name": "stdout",
     "output_type": "stream",
     "text": [
      "Digite o primeiro número: 13\n",
      "Digite o o segundo número: 7.4\n",
      "O número 13.00 não é múltiplo do número 7.40.\n"
     ]
    }
   ],
   "source": [
    "def isMultiplo(primeiro, segundo):\n",
    "    if (primeiro % segundo) == 0:\n",
    "        return True\n",
    "    else:\n",
    "        return False\n",
    "\n",
    "primeiro = float(input(\"Digite o primeiro número: \"))\n",
    "segundo = float(input(\"Digite o o segundo número: \"))\n",
    "\n",
    "if isMultiplo(primeiro, segundo):\n",
    "    print(f\"O número {primeiro:.2f} é múltiplo do número {segundo:.2f}.\")\n",
    "else:\n",
    "    print(f\"O número {primeiro:.2f} não é múltiplo do número {segundo:.2f}.\")"
   ]
  },
  {
   "cell_type": "markdown",
   "id": "8c5affe2",
   "metadata": {},
   "source": [
    "#### Exercício 8.3 (pág. 164):"
   ]
  },
  {
   "cell_type": "code",
   "execution_count": 13,
   "id": "69b71372",
   "metadata": {},
   "outputs": [
    {
     "name": "stdout",
     "output_type": "stream",
     "text": [
      "Digite a medida do lado de um quadrado (m): 9\n",
      "A área do quadrado com lado de 9.0m é igual a 81.00m.\n"
     ]
    }
   ],
   "source": [
    "def areaQuadrado(lado):\n",
    "    return lado**2\n",
    "\n",
    "lado =float(input(\"Digite a medida do lado de um quadrado (m): \"))\n",
    "\n",
    "print(f\"A área do quadrado com lado de {lado}m é igual a {areaQuadrado(lado):.2f}m.\")"
   ]
  },
  {
   "cell_type": "markdown",
   "id": "0c97ca7c",
   "metadata": {},
   "source": [
    "#### Exercício 8.4 (pág. 164):"
   ]
  },
  {
   "cell_type": "code",
   "execution_count": 15,
   "id": "ed7b96c3",
   "metadata": {},
   "outputs": [
    {
     "name": "stdout",
     "output_type": "stream",
     "text": [
      "Digite a medida da base de um triângulo (m): 5\n",
      "Digite a medida da altura de um triângulo (m): 8\n",
      "A área do triângulo com base de 5.00m e altura 8.00m é igual a 20.00m.\n"
     ]
    }
   ],
   "source": [
    "def areaTriangulo(base, altura):\n",
    "    return ((base * altura) / 2)\n",
    "\n",
    "base =float(input(\"Digite a medida da base de um triângulo (m): \"))\n",
    "altura =float(input(\"Digite a medida da altura de um triângulo (m): \"))\n",
    "\n",
    "print(f\"A área do triângulo com base de {base:.2f}m e altura {altura:.2f}m é igual a {areaTriangulo(base, altura):.2f}m.\")"
   ]
  },
  {
   "cell_type": "markdown",
   "id": "074281f3",
   "metadata": {},
   "source": [
    "#### Exercício 8.5 (pág. 164):"
   ]
  },
  {
   "cell_type": "code",
   "execution_count": 21,
   "id": "56f695ed",
   "metadata": {},
   "outputs": [
    {
     "name": "stdout",
     "output_type": "stream",
     "text": [
      "Digite um número inteiro: 500000\n",
      "O valor 500000 não está contido na lista [10, 20, 25, 30].\n"
     ]
    }
   ],
   "source": [
    "# Listagem 8.5:\n",
    "\n",
    "# def pesquise(lista, valor):\n",
    "#     for x,e in enumerate(lista):\n",
    "#         if e == valor:\n",
    "#             return x\n",
    "#     return None\n",
    "\n",
    "# L=[10, 20, 25, 30]\n",
    "\n",
    "# print(pesquise(L, 25))\n",
    "# print(pesquise(L, 27))\n",
    "\n",
    "def pesquise(lista, valor):\n",
    "    try:\n",
    "        indexEncontrado = lista.index(valor)\n",
    "        print(f\"O valor {valor} está contido na lista {lista}, na posição {indexEncontrado}.\")\n",
    "    except ValueError:\n",
    "        print(f\"O valor {valor} não está contido na lista {lista}.\")\n",
    "\n",
    "L=[10, 20, 25, 30]\n",
    "\n",
    "valor = int(input(\"Digite um número inteiro: \"))\n",
    "\n",
    "pesquise(L, valor)\n",
    "\n",
    "# Para utilizar o bloco try - except de forma genérica (não recomendado):\n",
    "# try:\n",
    "#     indexEncontrado = lista.index(valor)\n",
    "#     print(f\"O valor {valor} está contido na lista {lista}, na posição {indexEncontrado}.\")\n",
    "# except Exception as e:\n",
    "#     print(f\"O valor {valor} não está contido na lista {lista}.\")\n"
   ]
  },
  {
   "cell_type": "markdown",
   "id": "8d017fdb",
   "metadata": {},
   "source": [
    "#### Exercício 8.6 (pág. 164):"
   ]
  },
  {
   "cell_type": "code",
   "execution_count": 22,
   "id": "9002faf5",
   "metadata": {},
   "outputs": [
    {
     "name": "stdout",
     "output_type": "stream",
     "text": [
      "34\n",
      "155\n"
     ]
    }
   ],
   "source": [
    "# Listagem 8.8:\n",
    "# def soma(L):\n",
    "#     total=0\n",
    "#     x = 0\n",
    "#     while x<5:\n",
    "#         total+=L[x]\n",
    "#         x+=1\n",
    "#     return total\n",
    "\n",
    "# L=[1,7,2,9,15]\n",
    "\n",
    "# print(soma(L))\n",
    "# print(soma([7,9,12,3,100,20,4]))\n",
    "\n",
    "# Com for em vez do while:\n",
    "def soma(L):\n",
    "    total=0\n",
    "    for x in range(len(L)):\n",
    "        total+=L[x]\n",
    "    return total\n",
    "\n",
    "L=[1,7,2,9,15]\n",
    "\n",
    "print(soma(L))\n",
    "print(soma([7,9,12,3,100,20,4]))"
   ]
  },
  {
   "cell_type": "markdown",
   "id": "9605a6b8",
   "metadata": {},
   "source": [
    "#### Exercício 8.7 (pág. 172):"
   ]
  },
  {
   "cell_type": "code",
   "execution_count": 30,
   "id": "b892008b",
   "metadata": {},
   "outputs": [
    {
     "name": "stdout",
     "output_type": "stream",
     "text": [
      "O MDC de 40 e 64 é 8\n"
     ]
    }
   ],
   "source": [
    "# Termos Fibonnaci: 1, 1, 2, 3, 5, 8, 13, 21, 34, 55, 89, 144, 233, 377, 610, 987, 1597, 2584, 4181, 6765\n",
    "\n",
    "# def fibonacci(n):\n",
    "#     if n<=1:\n",
    "#         return n\n",
    "#     else:\n",
    "#         return fibonacci(n-1)+fibonacci(n-2)\n",
    "# print(fibonacci(20))\n",
    "\n",
    "\n",
    "def calculaMdc(a, b):\n",
    "    # Caso base: Se b for igual a 0, o MDC é a\n",
    "    if b == 0:\n",
    "        return a\n",
    "    # Caso recursivo: Chamamos mdc passando b e a % b\n",
    "    return calculaMdc(b, a % b)\n",
    "\n",
    "# a = 48\n",
    "# b = 18\n",
    "# a = 12\n",
    "# b = 18\n",
    "a = 40\n",
    "b = 64\n",
    "resultado = calculaMdc(a, b)\n",
    "print(f\"O MDC de {a} e {b} é {resultado}\")\n",
    "\n",
    "\n"
   ]
  },
  {
   "cell_type": "markdown",
   "id": "633b84dc",
   "metadata": {},
   "source": [
    "#### Exercício 8.8 (pág. 172):"
   ]
  },
  {
   "cell_type": "code",
   "execution_count": 33,
   "id": "9cedfa8f",
   "metadata": {},
   "outputs": [
    {
     "name": "stdout",
     "output_type": "stream",
     "text": [
      "O MMC de 40 e 30 é 120.0\n"
     ]
    }
   ],
   "source": [
    "def calculaMdc(a, b):\n",
    "    # Caso base: Se b for igual a 0, o MDC é a\n",
    "    if b == 0:\n",
    "        return a\n",
    "    # Caso recursivo: Chamamos mdc passando b e a % b\n",
    "    return calculaMdc(b, a % b)\n",
    "\n",
    "def calculaMmc(a, b):\n",
    "    mdc = calculaMdc(a, b)\n",
    "    return (abs(a*b) / mdc)\n",
    "\n",
    "# a = 12\n",
    "# b = 18\n",
    "# result = 36\n",
    "\n",
    "# a = 8\n",
    "# b = 4\n",
    "#MMC (8,4) = 8\n",
    "\n",
    "a = 40\n",
    "b = 30\n",
    "# result = 120\n",
    "\n",
    "resultado = calculaMmc(a, b)\n",
    "print(f\"O MMC de {a} e {b} é {resultado}\")"
   ]
  },
  {
   "cell_type": "markdown",
   "id": "c6f7fe24",
   "metadata": {},
   "source": [
    "#### Exercício 8.9 (pág. 173):"
   ]
  },
  {
   "cell_type": "code",
   "execution_count": 34,
   "id": "0df148b2",
   "metadata": {},
   "outputs": [
    {
     "name": "stdout",
     "output_type": "stream",
     "text": [
      "Calculando o fatorial de 4\n",
      "Calculando o fatorial de 3\n",
      "Calculando o fatorial de 2\n",
      "Calculando o fatorial de 1\n",
      "Fatorial de 1 = 1\n",
      " fatorial de 2 = 2\n",
      " fatorial de 3 = 6\n",
      " fatorial de 4 = 24\n"
     ]
    },
    {
     "data": {
      "text/plain": [
       "24"
      ]
     },
     "execution_count": 34,
     "metadata": {},
     "output_type": "execute_result"
    }
   ],
   "source": [
    "# Listagem 8.12:\n",
    "def fatorial(n):\n",
    "    print(\"Calculando o fatorial de %d\" % n)\n",
    "    if n==0 or n == 1:\n",
    "        print(\"Fatorial de %d = 1\" % n)\n",
    "        return 1\n",
    "    else:\n",
    "        fat = n*fatorial(n-1)\n",
    "        print(\" fatorial de %d = %d\" % (n, fat) )\n",
    "    return fat\n",
    "\n",
    "fatorial(4)\n",
    "\n",
    "# Listagem 8.13:\n",
    "# resultados:\n",
    "# Calculando o fatorial de 4\n",
    "# Calculando o fatorial de 3\n",
    "# Calculando o fatorial de 2\n",
    "# Calculando o fatorial de 1\n",
    "# Fatorial de 1 = 1\n",
    "# fatorial de 2 = 2\n",
    "# fatorial de 3 = 6\n",
    "# fatorial de 4 = 24"
   ]
  },
  {
   "cell_type": "markdown",
   "id": "f0bf3fc4",
   "metadata": {},
   "source": [
    "#### Exercício 8.10 (pág. 173):"
   ]
  },
  {
   "cell_type": "code",
   "execution_count": 38,
   "id": "fe721582",
   "metadata": {},
   "outputs": [
    {
     "name": "stdout",
     "output_type": "stream",
     "text": [
      "O 15-ésimo número da sequência de Fibonacci é: 610\n"
     ]
    }
   ],
   "source": [
    "# Termos Fibonnaci: 1, 1, 2, 3, 5, 8, 13, 21, 34, 55, 89, 144, 233, 377, 610, 987, 1597, 2584, 4181, 6765\n",
    "\n",
    "def fibonacci(n):\n",
    "    # Inicializamos os primeiros dois números da sequência\n",
    "    a, b = 0, 1\n",
    "    # Caso especial: se n for 0, retornamos 0\n",
    "    if n == 0:\n",
    "        return 0\n",
    "    # Caso especial: se n for 1, retornamos 1\n",
    "    elif n == 1:\n",
    "        return 1\n",
    "    # Iteramos para calcular o n-ésimo número da sequência\n",
    "    else:\n",
    "        for i in range(2, n+1):\n",
    "            a, b = b, a + b\n",
    "        return b\n",
    "\n",
    "n = 15\n",
    "resultado = fibonacci(n)\n",
    "print(f\"O {n}-ésimo número da sequência de Fibonacci é: {resultado}\")\n"
   ]
  },
  {
   "cell_type": "markdown",
   "id": "b38fd3fc",
   "metadata": {},
   "source": [
    "#### Exercício 8.11 (pág. 174):"
   ]
  },
  {
   "cell_type": "code",
   "execution_count": 44,
   "id": "dd57fd8e",
   "metadata": {},
   "outputs": [
    {
     "name": "stdout",
     "output_type": "stream",
     "text": [
      "Digite o texto para validação: o\n",
      "Texto está fora da especificação! - Tamanho texto: 1.\n"
     ]
    }
   ],
   "source": [
    "def isTamanhoOk(string, min, max):\n",
    "    return ((len(string) >= min) and (len(string) <= max))\n",
    "\n",
    "max = 10\n",
    "min = 2\n",
    "\n",
    "string = input(\"Digite o texto para validação: \")\n",
    "\n",
    "if isTamanhoOk(string, min, max):\n",
    "    print(f\"Texto está ok! - Tamanho texto: {len(string)}.\")\n",
    "else:\n",
    "    print(f\"Texto está fora da especificação! - Tamanho texto: {len(string)}.\")"
   ]
  },
  {
   "cell_type": "markdown",
   "id": "39d79ac0",
   "metadata": {},
   "source": [
    "#### Exercício 8.12 (pág. 174):"
   ]
  },
  {
   "cell_type": "code",
   "execution_count": 48,
   "id": "4307c970",
   "metadata": {},
   "outputs": [
    {
     "name": "stdout",
     "output_type": "stream",
     "text": [
      "Digite a string: pedra\n",
      "a string 'pedra' não está contida na lista: ['oi', 'olá', 'mundo', 'carro', 'python'].\n"
     ]
    }
   ],
   "source": [
    "def estaContido(string, lista):\n",
    "    isIn =  string in lista\n",
    "    return isIn\n",
    "\n",
    "lista = [\"oi\", \"olá\", \"mundo\", \"carro\", \"python\"]\n",
    "\n",
    "string = input(\"Digite a string: \")\n",
    "\n",
    "if estaContido(string, lista):\n",
    "    print(f\"a string '{string}' está contida na lista: {lista}.\")\n",
    "else:\n",
    "    print(f\"a string '{string}' não está contida na lista: {lista}.\")"
   ]
  },
  {
   "cell_type": "code",
   "execution_count": 50,
   "id": "0fc7a3c8",
   "metadata": {},
   "outputs": [
    {
     "name": "stdout",
     "output_type": "stream",
     "text": [
      "Maior: 5\n",
      "Max: 9\n"
     ]
    }
   ],
   "source": [
    "def imprime_maior(mensagem, *numeros):\n",
    "    maior = None\n",
    "    for e in numeros:\n",
    "        if maior == None or maior < e:\n",
    "            maior = e\n",
    "    print(mensagem, maior)\n",
    "\n",
    "imprime_maior(\"Maior:\",5,4,3,1)\n",
    "imprime_maior(\"Max:\", *[1,7,9])"
   ]
  },
  {
   "cell_type": "markdown",
   "id": "2d541113",
   "metadata": {},
   "source": [
    "#### Exercício 8.13 (pág. 184):"
   ]
  },
  {
   "cell_type": "code",
   "execution_count": 56,
   "id": "cf5d576b",
   "metadata": {},
   "outputs": [
    {
     "name": "stdout",
     "output_type": "stream",
     "text": [
      "Escolha um número entre 1 e 10:8\n",
      "Você acertou!\n",
      "Fim de proigrama!\n"
     ]
    }
   ],
   "source": [
    "# Listagem 8.37:\n",
    "    \n",
    "# import random\n",
    "\n",
    "# n=random.randint(1,10)\n",
    "\n",
    "# x=int(input(\"Escolha um número entre 1 e 10:\"))\n",
    "\n",
    "# if (x==n):\n",
    "#     print(\"Você acertou!\")\n",
    "# else:\n",
    "#     print(\"Você errou.\")\n",
    "\n",
    "import random\n",
    "\n",
    "n=random.randint(1,10)\n",
    "\n",
    "tentativa = 0\n",
    "\n",
    "while True:\n",
    "    x=int(input(\"Escolha um número entre 1 e 10:\"))\n",
    "\n",
    "    if (x!=n):\n",
    "        print(\"Você errou.\")\n",
    "        tentativa += 1\n",
    "    else:\n",
    "        print(\"Você acertou!\")\n",
    "        print(\"Fim de proigrama!\")\n",
    "        break\n",
    "    if (tentativa >= 3):\n",
    "        print(\"Você gastou todas suas tentativas, coloque outra ficha para continuar!\")\n",
    "        print(\"Fim de programa!\")\n",
    "        break"
   ]
  },
  {
   "cell_type": "markdown",
   "id": "1f5225de",
   "metadata": {},
   "source": [
    "#### Exercício 8.14 (pág. 185):"
   ]
  },
  {
   "cell_type": "code",
   "execution_count": 66,
   "id": "f0aaa1f5",
   "metadata": {},
   "outputs": [
    {
     "name": "stdout",
     "output_type": "stream",
     "text": [
      "Gerando a palavra.\n",
      ".\n",
      ".\n",
      ".\n",
      ".\n",
      ".\n",
      "\n",
      "\n",
      "Palavra gerada com sucesso!\n",
      "\n",
      "Pressione uma tecla para continuar!\n",
      "\n",
      "\n",
      "\n",
      "\n",
      "\n",
      "\n",
      "\n",
      "\n",
      "\n",
      "\n",
      "\n",
      "\n",
      "\n",
      "\n",
      "\n",
      "\n",
      "\n",
      "\n",
      "\n",
      "\n",
      "\n",
      "\n",
      "\n",
      "\n",
      "\n",
      "\n",
      "\n",
      "\n",
      "\n",
      "\n",
      "\n",
      "\n",
      "\n",
      "\n",
      "\n",
      "\n",
      "\n",
      "\n",
      "\n",
      "\n",
      "\n",
      "\n",
      "\n",
      "\n",
      "\n",
      "\n",
      "\n",
      "\n",
      "\n",
      "\n",
      "\n",
      "\n",
      "\n",
      "\n",
      "\n",
      "\n",
      "\n",
      "\n",
      "\n",
      "\n",
      "\n",
      "\n",
      "\n",
      "\n",
      "\n",
      "\n",
      "\n",
      "\n",
      "\n",
      "\n",
      "\n",
      "\n",
      "\n",
      "\n",
      "\n",
      "\n",
      "\n",
      "\n",
      "\n",
      "\n",
      "\n",
      "\n",
      "\n",
      "\n",
      "\n",
      "\n",
      "\n",
      "\n",
      "\n",
      "\n",
      "\n",
      "\n",
      "\n",
      "\n",
      "\n",
      "\n",
      "\n",
      "\n",
      "\n",
      "\n",
      "....\n",
      "\n",
      "Digite uma letra:a\n",
      "X==:==\n",
      "X  : \n",
      "X\n",
      "X\n",
      "X\n",
      "X\n",
      "===========\n",
      "...a\n",
      "\n",
      "Digite uma letra:g\n",
      "Você errou!\n",
      "X==:==\n",
      "X  : \n",
      "X  O \n",
      "X\n",
      "X\n",
      "X\n",
      "===========\n",
      "...a\n",
      "\n",
      "Digite uma letra:i\n",
      "X==:==\n",
      "X  : \n",
      "X  O \n",
      "X\n",
      "X\n",
      "X\n",
      "===========\n",
      "i..a\n",
      "\n",
      "Digite uma letra:l\n",
      "X==:==\n",
      "X  : \n",
      "X  O \n",
      "X\n",
      "X\n",
      "X\n",
      "===========\n",
      "il.a\n",
      "\n",
      "Digite uma letra:h\n",
      "X==:==\n",
      "X  : \n",
      "X  O \n",
      "X\n",
      "X\n",
      "X\n",
      "===========\n",
      "ilha\n",
      "Você acertou!\n"
     ]
    }
   ],
   "source": [
    "# Listagem 7.45 - Alteração escolhando a palavra utilizando números aleatórios:\n",
    "\n",
    "import random\n",
    "import time\n",
    "\n",
    "listaPalavras = [\n",
    "    \"abacaxi\", \"bicicleta\", \"computador\", \"dinossauro\", \"elefante\", \n",
    "    \"formiga\", \"guitarra\", \"helicoptero\", \"iguana\", \"jardim\", \n",
    "    \"kanguru\", \"lantejoula\", \"macaco\", \"neve\", \"oceano\", \n",
    "    \"pipoca\", \"quadro\", \"roda\", \"sapato\", \"tigre\", \n",
    "    \"unicórnio\", \"violão\", \"xadrez\", \"yoga\", \"zebra\", \n",
    "    \"abajur\", \"borboleta\", \"cachorro\", \"dente\", \"estrela\", \n",
    "    \"foguete\", \"golfinho\", \"hamburguer\", \"ilha\", \"janela\", \n",
    "    \"kiwi\", \"leopardo\", \"montanha\", \"navio\", \"orquestra\", \n",
    "    \"pirata\", \"quintal\", \"relógio\", \"sereia\", \"trator\", \n",
    "    \"urso\", \"vassoura\", \"xícara\", \"yeti\", \"zumbi\"\n",
    "]\n",
    "\n",
    "print(\"Gerando a palavra.\")\n",
    "time.sleep(0.3)\n",
    "print(\".\")\n",
    "time.sleep(0.3)\n",
    "print(\".\")\n",
    "time.sleep(0.3)\n",
    "print(\".\")\n",
    "time.sleep(0.3)\n",
    "print(\".\")\n",
    "time.sleep(0.3)\n",
    "print(\".\")\n",
    "\n",
    "indicePalavra = random.randint(0, 49)\n",
    "\n",
    "palavra = listaPalavras[indicePalavra]\n",
    "\n",
    "print(\"\\n\\nPalavra gerada com sucesso!\\n\")\n",
    "\n",
    "input(\"Pressione uma tecla para continuar!\")\n",
    "\n",
    "for x in range(100):\n",
    "    print()\n",
    "digitadas = []\n",
    "acertos = []\n",
    "erros = 0\n",
    "while True:\n",
    "    senha = \"\"\n",
    "    for letra in palavra:\n",
    "        senha += letra if letra in acertos else \".\"\n",
    "    print(senha)\n",
    "    if senha == palavra:\n",
    "        print(\"Você acertou!\")\n",
    "        break\n",
    "    tentativa = input(\"\\nDigite uma letra:\").lower().strip()\n",
    "    if tentativa in digitadas:\n",
    "        print(\"Você já tentou esta letra!\")\n",
    "        continue\n",
    "    else:\n",
    "        digitadas += tentativa\n",
    "        if tentativa in palavra:\n",
    "            acertos += tentativa\n",
    "        else:\n",
    "            erros += 1\n",
    "            print(\"Você errou!\")\n",
    "    print(\"X==:==\\nX  : \")\n",
    "    print(\"X  O \" if erros >= 1 else \"X\")\n",
    "    linha2 = \"\"\n",
    "    if erros == 2:\n",
    "        linha2 = \"  |  \"\n",
    "    elif erros == 3:\n",
    "        linha2 = \" \\|  \"\n",
    "    elif erros >= 4:\n",
    "        linha2 = \" \\|/ \"\n",
    "    print(\"X%s\" % linha2)\n",
    "    linha3 = \"\"\n",
    "    if erros == 5:\n",
    "        linha3 += \" /  \"\n",
    "    elif erros >= 6:\n",
    "        linha3 += \" / \\ \"\n",
    "    print(\"X%s\" % linha3)\n",
    "    print(\"X\\n===========\")\n",
    "    if erros == 6:\n",
    "        print(\"Enforcado!\")\n",
    "        break\n",
    "\n",
    "\n",
    "# import random\n",
    "# for x in range(10):\n",
    "#     print(random.random())\n",
    "\n",
    "# print(\"-\" * 30)\n",
    "    \n",
    "# for x in range(10):\n",
    "#     print(random.uniform(15,25))\n",
    "\n",
    "# print(\"-\" * 30)\n",
    "    \n",
    "# a=[\"Python\", 101, \"Olá Mundo\", True, False]\n",
    "# random.shuffle(a)\n",
    "# print(a)"
   ]
  },
  {
   "cell_type": "markdown",
   "id": "b408143d",
   "metadata": {},
   "source": [
    "#### Exercício 8.15 (pág. 187):"
   ]
  },
  {
   "cell_type": "code",
   "execution_count": 68,
   "id": "d51d8909",
   "metadata": {},
   "outputs": [
    {
     "name": "stdout",
     "output_type": "stream",
     "text": [
      "1\n",
      "    2\n",
      "    3\n",
      "    4\n",
      "        5\n",
      "        6\n",
      "        7\n",
      "            8\n",
      "            9\n",
      "            10\n",
      "            11\n",
      "                12\n",
      "                13\n",
      "                14\n",
      "                15\n",
      "                16\n",
      "                    17\n",
      "                    18\n",
      "                    19\n",
      "                    20\n",
      "                        21\n",
      "                        22\n",
      "                        23\n",
      "                        24\n",
      "                        25\n",
      "                            26\n",
      "                                27\n",
      "                                28\n",
      "                                    29\n",
      "                                        30\n"
     ]
    }
   ],
   "source": [
    "def imprimirLista(lista, nivel=0):\n",
    "    for elemento in lista:\n",
    "        # verifica se é uma lista, se for aumenta o nível e \"pega\" (recurssivamente) a lista mais interna, e assim por diante\n",
    "        if type(elemento) == list:\n",
    "            imprimirLista(elemento, nivel + 1)\n",
    "        else:\n",
    "            print('    ' * nivel + str(elemento))\n",
    "            \n",
    "\n",
    "L = [1, [2, 3, 4, [5, 6, 7,[8,9,10,11,[12,13,14,15,16,[17,18,19,20,[21,22,23,24,25,[26,[27,28,[29,[30]]]]]]]]]]]\n",
    "\n",
    "imprimirLista(L)"
   ]
  },
  {
   "cell_type": "markdown",
   "id": "9a320f0a-79a0-401f-865b-8f11a02d0015",
   "metadata": {},
   "source": [
    "# Capítulo 9"
   ]
  },
  {
   "cell_type": "markdown",
   "id": "237950db-0252-45b3-a9a8-e4763986a203",
   "metadata": {},
   "source": [
    "#### Exercício 9.1 (pág. 191):"
   ]
  },
  {
   "cell_type": "code",
   "execution_count": 14,
   "id": "4783fb0e-be34-4e17-828d-e4f6fe6ff6ae",
   "metadata": {},
   "outputs": [
    {
     "name": "stdout",
     "output_type": "stream",
     "text": [
      "Lorem ipsum dolor sit amet, consectetur adipiscing elit. Etiam eget purus convallis, rutrum eros eget, malesuada ligula.\n",
      "In viverra dolor sed nibh semper, sed euismod tellus viverra. In non augue non ipsum accumsan rutrum. Phasellus nibh lectus, tempus at lectus eget, venenatis ultricies metus. Praesent ut mauris sagittis, hendrerit ante eu, fringilla elit. In maximus nisi magna, a luctus elit cursus vitae.\n",
      "Vivamus interdum nibh est, ut lacinia mauris lobortis quis. Mauris porta dolor non turpis porttitor mattis.\n",
      "Vestibulum finibus elit et hendrerit laoreet. Maecenas ornare neque nec nulla luctus fringilla.\n",
      "Nunc blandit elit ac ex feugiat, in tempus odio consequat. Integer non tristique mauris.\n",
      "Sed ligula elit, dapibus at nunc ac, volutpat egestas eros."
     ]
    }
   ],
   "source": [
    "# Para funcionar como é pedido no livro, crie um script .py (retirando os comentários dos código úteis) com o código abaixo e a estrutura de diretórios determinada no código.\n",
    "# import os\n",
    "# import sys\n",
    "\n",
    "# # Caminho padrão para os arquivos\n",
    "# caminhoPastaPadrao = os.path.join(os.getcwd(), \"arquivos\") + os.sep\n",
    "# # os.path.join -> concatena diretórios. Importante pois Linux usa / e Windows usa \\, utilizando esse método, \n",
    "# # o próprio Python faz esse tratamento, retornando o caminho na estrutura aceita pelo OS usado.\n",
    "# # os.sep -> Adiciona um separador, também considerando o OS usado.\n",
    "# # Output: C:\\Users\\ivanv\\Documents\\Dev\\FAP\\FAP-2024-Backend-Python\\Módulo1\\atividades\\12-07-2024\\Livro_IntroProgPython\\arquivos\\\n",
    "\n",
    "\n",
    "# # Verifica se o nome do arquivo foi passado\n",
    "# if len(sys.argv) != 2:\n",
    "#     print(\"Para o uso correto execute desta forma: python nome_do_script.py nome_do_arquivo\")\n",
    "#     sys.exit(1)  # Sai do programa com código de erro\n",
    "\n",
    "# # Pega o nome do arquivo passado como argumento\n",
    "# nome_arquivo = sys.argv[1]  # O segundo argumento é o nome do arquivo\n",
    "\n",
    "# try:\n",
    "#     # Abre o arquivo para leitura\n",
    "#     with open(nome_arquivo, 'r') as arquivo:\n",
    "#         # Itera sobre as linhas do arquivo e imprime cada uma\n",
    "#         for linha in arquivo:\n",
    "#             print(linha, end='')  # end='' evita adicionar nova linha extra\n",
    "# except FileNotFoundError:\n",
    "#     print(f\"Arquivo '{nome_arquivo}' não encontrado.\")\n",
    "# except Exception as e:\n",
    "#     print(f\"Ocorreu um erro ao tentar ler o arquivo: {e}\")\n",
    "\n",
    "\n",
    "# Adaptação para utilizar o Jupiter Notebook:\n",
    "import os\n",
    "\n",
    "# Caminho padrão para os arquivos\n",
    "caminhoPastaPadrao = os.path.join(os.getcwd(), \"arquivos\") + os.sep\n",
    "# os.path.join -> concatena diretórios. Importante pois Linux usa / e Windows usa \\, utilizando esse método, \n",
    "# o próprio Python faz esse tratamento, retornando o caminho na estrutura aceita pelo OS usado.\n",
    "# os.sep -> Adiciona um separador, também considerando o OS usado.\n",
    "# Output: C:\\Users\\ivanv\\Documents\\Dev\\FAP\\FAP-2024-Backend-Python\\Módulo1\\atividades\\12-07-2024\\Livro_IntroProgPython\\arquivos\\\n",
    "\n",
    "# Pega o nome do arquivo\n",
    "nome_arquivo = \"teste.txt\"\n",
    "\n",
    "# Concatena o caminho padrão com o nome do arquivo\n",
    "caminho_completo = os.path.join(caminhoPastaPadrao, nome_arquivo)\n",
    "\n",
    "try:\n",
    "    # Abre o arquivo para leitura\n",
    "    with open(caminho_completo, 'r') as arquivo:\n",
    "        # Itera sobre as linhas do arquivo e imprime cada uma\n",
    "        for linha in arquivo:\n",
    "            print(linha, end='')  # end='' evita adicionar nova linha extra\n",
    "except FileNotFoundError: # Excessão específica\n",
    "    print(f\"Arquivo '{caminho_completo}' não encontrado.\")\n",
    "except Exception as e: # Excessão genérica, caso não seja a espefícica\n",
    "    print(f\"Ocorreu um erro ao tentar ler o arquivo: {e}\")\n"
   ]
  },
  {
   "cell_type": "markdown",
   "id": "6c4a42d2-092b-4b6e-8e67-abc27cf522f3",
   "metadata": {},
   "source": [
    "#### Exercício 9.2 (pág. 192):"
   ]
  },
  {
   "cell_type": "code",
   "execution_count": 28,
   "id": "6cb00303-9edb-4627-82bb-787d91cb654b",
   "metadata": {},
   "outputs": [
    {
     "name": "stdout",
     "output_type": "stream",
     "text": [
      "O arquivo possui 30 linhas.\n"
     ]
    },
    {
     "name": "stdin",
     "output_type": "stream",
     "text": [
      "Digite a linha inicial (começando de 1):  5\n",
      "Digite a linha final:  15\n"
     ]
    },
    {
     "name": "stdout",
     "output_type": "stream",
     "text": [
      "Linha 5:  Vivamus interdum nibh est, ut lacinia mauris lobortis quis.0\n",
      "Linha 6:   Mauris porta dolor non turpis porttitor mattis.\n",
      "Linha 7:  Vestibulum finibus elit et hendrerit laoreet. Maecenas ornare neque nec nulla luctus fringilla.\n",
      "Linha 8:  Nunc blandit elit ac ex feugiat, in tempus odio consequat. \n",
      "Linha 9:  Integer non tristique mauris.\n",
      "Linha 10:  Sed ligula elit, dapibus at nunc ac, volutpat egestas eros.\n",
      "Linha 11:  Lorem ipsum dolor sit amet, consectetur adipiscing elit. Etiam eget purus convallis, rutrum eros eget, malesuada ligula.\n",
      "Linha 12:  In viverra dolor sed nibh semper, sed euismod tellus viverra. In non augue non ipsum accumsan rutrum. \n",
      "Linha 13:  Phasellus nibh lectus, tempus at lectus eget, venenatis ultricies metus. \n",
      "Linha 14:  Praesent ut mauris sagittis, hendrerit ante eu, fringilla elit. In maximus nisi magna, a luctus elit cursus vitae.\n",
      "Linha 15:  Vivamus interdum nibh est, ut lacinia mauris lobortis quis.0\n"
     ]
    }
   ],
   "source": [
    "# Adaptação para utilizar o Jupiter Notebook:\n",
    "import os\n",
    "\n",
    "# Caminho padrão para os arquivos\n",
    "caminhoPastaPadrao = os.path.join(os.getcwd(), \"arquivos\") + os.sep\n",
    "# # os.path.join -> concatena diretórios. Importante pois Linux usa / e Windows usa \\, utilizando esse método, \n",
    "# # o próprio Python faz esse tratamento, retornando o caminho na estrutura aceita pelo OS usado.\n",
    "# # os.sep -> Adiciona um separador, também considerando o OS usado.\n",
    "# # Output: C:\\Users\\ivanv\\Documents\\Dev\\FAP\\FAP-2024-Backend-Python\\Módulo1\\atividades\\12-07-2024\\Livro_IntroProgPython\\arquivos\\\n",
    "\n",
    "# Pega o nome do arquivo\n",
    "nome_arquivo = \"teste.txt\"\n",
    "\n",
    "# Concatena o caminho padrão com o nome do arquivo\n",
    "caminho_completo = os.path.join(caminhoPastaPadrao, nome_arquivo)\n",
    "\n",
    "try:\n",
    "    # Abre o arquivo para leitura\n",
    "    with open(caminho_completo, 'r') as arquivo:\n",
    "        \n",
    "        # Conta o número total de linhas\n",
    "        total_linhas = sum(1 for temp in arquivo) # Expressão geradora\n",
    "        print(f\"O arquivo possui {total_linhas} linhas.\")\n",
    "        \n",
    "        # Pede ao usuário para digitar a linha inicial e final desejada\n",
    "        inicio_linha = int(input(\"Digite a linha inicial (começando de 1): \"))\n",
    "        fim_linha = int(input(\"Digite a linha final: \"))\n",
    "\n",
    "        # Volta para o início do arquivo\n",
    "        arquivo.seek(0)\n",
    "\n",
    "        # Itera sobre as linhas do arquivo e imprime as linhas desejadas\n",
    "        for num_linha, linha in enumerate(arquivo, start=1):\n",
    "            if inicio_linha <= num_linha <= fim_linha:\n",
    "                print(f\"Linha {num_linha}: \",linha, end='')  # end='' evita adicionar nova linha extra\n",
    "            elif num_linha > fim_linha:\n",
    "                break  # Termina a leitura após a última linha desejada\n",
    "except FileNotFoundError:\n",
    "    print(f\"Arquivo '{caminho_completo}' não encontrado.\")\n",
    "except Exception as e:\n",
    "    print(f\"Ocorreu um erro ao tentar ler o arquivo: {e}\")"
   ]
  },
  {
   "cell_type": "markdown",
   "id": "072c7f29-74c4-4f94-9cf8-87d21cd7dd26",
   "metadata": {},
   "source": [
    "#### Exercício 9.3 (pág. 193):"
   ]
  },
  {
   "cell_type": "code",
   "execution_count": 34,
   "id": "c3bece03-d4db-431f-accf-4eb808b09c45",
   "metadata": {},
   "outputs": [
    {
     "name": "stdout",
     "output_type": "stream",
     "text": [
      "Arquivo criado ou sobrescrito com sucesso!\n"
     ]
    }
   ],
   "source": [
    "# Adaptação para utilizar o Jupiter Notebook:\n",
    "import os\n",
    "\n",
    "# Caminho padrão para os arquivos\n",
    "caminhoPastaPadrao = os.path.join(os.getcwd(), \"arquivos\") + os.sep\n",
    "# # os.path.join -> concatena diretórios. Importante pois Linux usa / e Windows usa \\, utilizando esse método, \n",
    "# # o próprio Python faz esse tratamento, retornando o caminho na estrutura aceita pelo OS usado.\n",
    "# # os.sep -> Adiciona um separador, também considerando o OS usado.\n",
    "# # Output: C:\\Users\\ivanv\\Documents\\Dev\\FAP\\FAP-2024-Backend-Python\\Módulo1\\atividades\\12-07-2024\\Livro_IntroProgPython\\arquivos\\\n",
    "\n",
    "# Pega o nome do arquivo\n",
    "pares = \"pares.txt\"\n",
    "impares = \"impares.txt\"\n",
    "\n",
    "# Concatena o caminho padrão com o nome do arquivo\n",
    "caminho_completo_pares = os.path.join(caminhoPastaPadrao, pares)\n",
    "caminho_completo_impares = os.path.join(caminhoPastaPadrao, impares)\n",
    "\n",
    "sucessoPares = False\n",
    "sucessoImpares = False\n",
    "\n",
    "# Para o arquivo pares.txt\n",
    "try:\n",
    "    # Abre o arquivo para leitura\n",
    "    with open(caminho_completo_pares, 'r') as pares:\n",
    "        conteudoPares = pares.read()\n",
    "        sucessoPares = True\n",
    "        \n",
    "except FileNotFoundError:\n",
    "    print(f\"Arquivo '{caminho_completo_pares}' não encontrado.\")\n",
    "except Exception as e:\n",
    "    print(f\"Ocorreu um erro ao tentar ler o arquivo: {e}\")\n",
    "\n",
    "# Para o arquivo impares.txt\n",
    "try:\n",
    "    # Abre o arquivo para leitura\n",
    "    with open(caminho_completo_impares, 'r') as impares:\n",
    "        conteudoImpares = impares.read()\n",
    "        sucessoImpares = True\n",
    "        \n",
    "except FileNotFoundError:\n",
    "    print(f\"Arquivo '{caminho_completo_impares}' não encontrado.\")\n",
    "except Exception as e:\n",
    "    print(f\"Ocorreu um erro ao tentar ler o arquivo: {e}\")\n",
    "\n",
    "# Verifica se conseguiu ler os dois arquivos:\n",
    "if sucessoPares and sucessoImpares:\n",
    "\n",
    "    # Junta o conteúdo dos dois arquivos:\n",
    "    conteudoTotal = conteudoPares + \", \" + conteudoImpares\n",
    "    \n",
    "    try:\n",
    "        # Abre o arquivo para escrita - Se não existir será criado\n",
    "        with open(os.path.join(caminhoPastaPadrao, 'paresImpares.txt'), 'w+') as paresImpares: # w+ = leitura e escrita, aparentemente é igual ao w\n",
    "            # Escreve algo no arquivo\n",
    "            paresImpares.write(conteudoTotal)\n",
    "\n",
    "        print(\"Arquivo criado ou sobrescrito com sucesso!\")\n",
    "    except Exception as e:\n",
    "        print(f\"Ocorreu um erro ao tentar criar o arquivo: {e}\")\n",
    "\n",
    "\n",
    "\n",
    "# 'w': Abre o arquivo para escrita. Se o arquivo já existir, ele será truncado (ou seja, o conteúdo anterior será apagado). Se o arquivo não existir, ele será criado.\n",
    "\n",
    "# 'w+': Abre o arquivo para leitura e escrita. Assim como 'w', se o arquivo já existir, ele será truncado. Se o arquivo não existir, ele será criado.\n"
   ]
  },
  {
   "cell_type": "markdown",
   "id": "34860462-2ef9-4813-b303-8e049c9022e2",
   "metadata": {},
   "source": [
    "#### Exercício 9.4 (pág. 193):"
   ]
  },
  {
   "cell_type": "code",
   "execution_count": null,
   "id": "2f1d74b2-0a78-4aff-856e-24b3d17aff98",
   "metadata": {},
   "outputs": [],
   "source": [
    "# Adaptação para utilizar o Jupiter Notebook:\n",
    "# Esse exercício é quase idêntico ao anterior.\n",
    "import os\n",
    "\n",
    "# Caminho padrão para os arquivos\n",
    "caminhoPastaPadrao = os.path.join(os.getcwd(), \"arquivos\") + os.sep\n",
    "# # os.path.join -> concatena diretórios. Importante pois Linux usa / e Windows usa \\, utilizando esse método, \n",
    "# # o próprio Python faz esse tratamento, retornando o caminho na estrutura aceita pelo OS usado.\n",
    "# # os.sep -> Adiciona um separador, também considerando o OS usado.\n",
    "# # Output: C:\\Users\\ivanv\\Documents\\Dev\\FAP\\FAP-2024-Backend-Python\\Módulo1\\atividades\\12-07-2024\\Livro_IntroProgPython\\arquivos\\\n",
    "\n",
    "# Pega o nome do arquivo\n",
    "pares = \"pares.txt\"\n",
    "impares = \"impares.txt\"\n",
    "\n",
    "# Concatena o caminho padrão com o nome do arquivo\n",
    "caminho_completo_pares = os.path.join(caminhoPastaPadrao, pares)\n",
    "caminho_completo_impares = os.path.join(caminhoPastaPadrao, impares)\n",
    "\n",
    "sucessoPares = False\n",
    "sucessoImpares = False\n",
    "\n",
    "# Para o arquivo pares.txt\n",
    "try:\n",
    "    # Abre o arquivo para leitura\n",
    "    with open(caminho_completo_pares, 'r') as pares:\n",
    "        conteudoPares = pares.read()\n",
    "        sucessoPares = True\n",
    "        \n",
    "except FileNotFoundError:\n",
    "    print(f\"Arquivo '{caminho_completo_pares}' não encontrado.\")\n",
    "except Exception as e:\n",
    "    print(f\"Ocorreu um erro ao tentar ler o arquivo: {e}\")\n",
    "\n",
    "# Para o arquivo impares.txt\n",
    "try:\n",
    "    # Abre o arquivo para leitura\n",
    "    with open(caminho_completo_impares, 'r') as impares:\n",
    "        conteudoImpares = impares.read()\n",
    "        sucessoImpares = True\n",
    "        \n",
    "except FileNotFoundError:\n",
    "    print(f\"Arquivo '{caminho_completo_impares}' não encontrado.\")\n",
    "except Exception as e:\n",
    "    print(f\"Ocorreu um erro ao tentar ler o arquivo: {e}\")\n",
    "\n",
    "# Verifica se conseguiu ler os dois arquivos:\n",
    "if sucessoPares and sucessoImpares:\n",
    "b\n",
    "    # Junta o conteúdo dos dois arquivos:b\n",
    "    conteudoTotal = conteudoPares + \", \" + conteudoImpares\n",
    "    \n",
    "    try:\n",
    "        # Abre o arquivo para escrita - Se não existir será criado\n",
    "        with open(os.path.join(caminhoPastaPadrao, 'paresImpares.txt'), 'w+') as paresImpares: # w+ = leitura e escrita, aparentemente é igual ao w\n",
    "            # Escreve algo no arquivo\n",
    "            paresImpares.write(conteudoTotal)\n",
    "\n",
    "        print(\"Arquivo criado ou sobrescrito com sucesso!\")\n",
    "    except Exception as e:\n",
    "        print(f\"Ocorreu um erro ao tentar criar o arquivo: {e}\")"
   ]
  },
  {
   "cell_type": "markdown",
   "id": "2c44d7f9-04df-4e22-b82c-087b95b18754",
   "metadata": {},
   "source": [
    "#### Exercício 9.5 (pág. 193):"
   ]
  },
  {
   "cell_type": "code",
   "execution_count": 35,
   "id": "1ddd6c52-42f0-4583-86a0-03dad0b877ae",
   "metadata": {},
   "outputs": [
    {
     "name": "stdout",
     "output_type": "stream",
     "text": [
      "A ordem dos números do arquivo foi invertida com sucesso.\n"
     ]
    }
   ],
   "source": [
    "import os\n",
    "\n",
    "# Caminho padrão para os arquivos\n",
    "caminhoPastaPadrao = os.path.join(os.getcwd(), \"arquivos\") + os.sep\n",
    "arquivo_pares = \"pares.txt\"\n",
    "caminho_completo_pares = os.path.join(caminhoPastaPadrao, arquivo_pares)\n",
    "\n",
    "try:\n",
    "    # Ler o arquivo e armazenar as linhas em uma lista\n",
    "    with open(caminho_completo_pares, 'r') as arquivo:\n",
    "        conteudo = arquivo.read() # Como só tem uma linha no arquivo, não precisa usar o readlines()\n",
    "    \n",
    "    # Separar os números, inverter a ordem e juntar novamente com vírgulas\n",
    "    numeros = conteudo.split(\", \") # Como a cada números tem \", \", então cria um lista utilizando isso como separador\n",
    "    numeros_invertidos = \", \".join(numeros[::-1]) # Inverte a lista de números e insere novamente o separador \", \" retornando como uma string\n",
    "    \n",
    "    # Escrever os números invertidos de volta no arquivo\n",
    "    with open(caminho_completo_pares, 'w') as arquivo:\n",
    "        arquivo.write(numeros_invertidos)\n",
    "    \n",
    "    print(\"A ordem dos números do arquivo foi invertida com sucesso.\")\n",
    "except FileNotFoundError:\n",
    "    print(f\"Arquivo '{caminho_completo_pares}' não encontrado.\")\n",
    "except Exception as e:\n",
    "    print(f\"Ocorreu um erro ao tentar processar o arquivo: {e}\")\n",
    "\n",
    "\n",
    "# Repare que a estrutura do Try comporta dois contextos do with, ou seja, em cada with pode ser gerado um erro de excessão, mas somente um."
   ]
  },
  {
   "cell_type": "markdown",
   "id": "a50b9f82-84a6-4184-9518-d9b884f71e37",
   "metadata": {},
   "source": [
    "#### Exercício 9.6 (pág. 194):"
   ]
  },
  {
   "cell_type": "code",
   "execution_count": 36,
   "id": "ea254dbe-c55d-4e0c-a9de-d062fd4cb55b",
   "metadata": {},
   "outputs": [
    {
     "name": "stdout",
     "output_type": "stream",
     "text": [
      "                               Esta linha deve ser impressa alinhada a direita\n",
      "\n",
      "                       Esta linha deve ser centralizada\n",
      "                       \n",
      "========================================\n",
      "Uma linha normal\n",
      "\n",
      "Outra linha normal\n"
     ]
    }
   ],
   "source": [
    "# Código adaptado para uma sintaxe mais moderna\n",
    "import os\n",
    "\n",
    "# Caminho padrão para os arquivos\n",
    "caminhoPastaPadrao = os.path.join(os.getcwd(), \"arquivos\") + os.sep\n",
    "arquivo_entrada = \"entrada.txt\"\n",
    "caminho_completo_arquivo = os.path.join(caminhoPastaPadrao, arquivo_entrada)\n",
    "\n",
    "try:\n",
    "    # Ler o arquivo e armazenar as linhas em uma lista\n",
    "    with open(caminho_completo_arquivo, 'r') as arquivo:\n",
    "        LARGURA=79\n",
    "        for linha in arquivo.readlines():\n",
    "            if linha[0]==\";\":\n",
    "                continue\n",
    "            elif linha[0]==\">\":\n",
    "                print(linha[1:].rjust(LARGURA))\n",
    "            elif linha[0]==\"*\":\n",
    "                print(linha[1:].center(LARGURA))\n",
    "            elif linha[0] == \"=\":\n",
    "                print(\"=\" * 40)\n",
    "            else:\n",
    "                print(linha)\n",
    "    \n",
    "except FileNotFoundError:\n",
    "    print(f\"Arquivo '{caminho_completo_arquivo}' não encontrado.\")\n",
    "except Exception as e:\n",
    "    print(f\"Ocorreu um erro ao tentar processar o arquivo: {e}\")"
   ]
  },
  {
   "cell_type": "markdown",
   "id": "894cea30-dee4-40ab-a74f-131006625ea8",
   "metadata": {},
   "source": [
    "#### Exercício 9.7 (pág. 194):"
   ]
  },
  {
   "cell_type": "code",
   "execution_count": 37,
   "id": "63a0e88b-e884-47bf-b814-7e2c63cdfa17",
   "metadata": {},
   "outputs": [
    {
     "name": "stdout",
     "output_type": "stream",
     "text": [
      "Arquivo '<_io.TextIOWrapper name='C:\\\\Users\\\\ivanv\\\\Documents\\\\Dev\\\\FAP\\\\FAP-2024-Backend-Python\\\\Módulo1\\\\atividades\\\\12-07-2024\\\\Livro_IntroProgPython\\\\arquivos\\\\saida_paginada.txt' mode='w' encoding='cp1252'>' gerado com sucesso!\n"
     ]
    }
   ],
   "source": [
    "import os\n",
    "\n",
    "# Caminho padrão para os arquivos\n",
    "caminhoPastaPadrao = os.path.join(os.getcwd(), \"arquivos\") + os.sep\n",
    "arquivo_entrada = \"teste.txt\"\n",
    "arquivo_saida = \"saida_paginada.txt\"\n",
    "caminho_completo_entrada = os.path.join(caminhoPastaPadrao, arquivo_entrada)\n",
    "caminho_completo_saida = os.path.join(caminhoPastaPadrao, arquivo_saida)\n",
    "\n",
    "# Função para dividir texto em linhas com no máximo 76 caracteres\n",
    "def dividir_linhas(texto, max_largura):\n",
    "    linhas = []\n",
    "    for paragrafo in texto.split('\\n'):\n",
    "        while len(paragrafo) > max_largura:\n",
    "            corte = paragrafo[:max_largura].rfind(' ')\n",
    "            if corte == -1:\n",
    "                corte = max_largura\n",
    "            linhas.append(paragrafo[:corte])\n",
    "            paragrafo = paragrafo[corte:].strip()\n",
    "        linhas.append(paragrafo)\n",
    "    return linhas\n",
    "\n",
    "try:\n",
    "    with open(caminho_completo_entrada, 'r') as arquivo:\n",
    "        conteudo = arquivo.read()\n",
    "\n",
    "    linhas = dividir_linhas(conteudo, 76)\n",
    "    paginas = []\n",
    "    pagina_atual = []\n",
    "    max_linhas_por_pagina = 60\n",
    "    numero_pagina = 1\n",
    "\n",
    "    for linha in linhas:\n",
    "        if len(pagina_atual) >= max_linhas_por_pagina - 1:\n",
    "            pagina_atual.append(f\"{numero_pagina} - {arquivo_entrada}\")\n",
    "            paginas.append(pagina_atual)\n",
    "            pagina_atual = []\n",
    "            numero_pagina += 1\n",
    "        pagina_atual.append(linha)\n",
    "\n",
    "    if pagina_atual:\n",
    "        pagina_atual.append(f\"{numero_pagina} - {arquivo_entrada}\")\n",
    "        paginas.append(pagina_atual)\n",
    "\n",
    "    with open(caminho_completo_saida, 'w') as arquivo_saida:\n",
    "        for pagina in paginas:\n",
    "            for linha in pagina:\n",
    "                arquivo_saida.write(linha + '\\n')\n",
    "            arquivo_saida.write('\\n')\n",
    "\n",
    "    print(f\"Arquivo '{arquivo_saida}' gerado com sucesso!\")\n",
    "\n",
    "except FileNotFoundError:\n",
    "    print(f\"Arquivo '{caminho_completo_entrada}' não encontrado.\")\n",
    "except Exception as e:\n",
    "    print(f\"Ocorreu um erro ao tentar processar o arquivo: {e}\")"
   ]
  },
  {
   "cell_type": "markdown",
   "id": "8f17fc9d-b57c-4d5b-a0ec-7114d5c7cdeb",
   "metadata": {},
   "source": [
    "#### Exercício 9.8 (pág. 194):"
   ]
  },
  {
   "cell_type": "code",
   "execution_count": 38,
   "id": "1f9dc782-c621-4ba9-b41b-6f9065b22a13",
   "metadata": {},
   "outputs": [
    {
     "name": "stdin",
     "output_type": "stream",
     "text": [
      "Digite o número de caracteres por linha (máximo 76):  30\n"
     ]
    },
    {
     "name": "stdout",
     "output_type": "stream",
     "text": [
      "Arquivo '<_io.TextIOWrapper name='C:\\\\Users\\\\ivanv\\\\Documents\\\\Dev\\\\FAP\\\\FAP-2024-Backend-Python\\\\Módulo1\\\\atividades\\\\12-07-2024\\\\Livro_IntroProgPython\\\\arquivos\\\\saida_paginada.txt' mode='w' encoding='cp1252'>' gerado com sucesso!\n"
     ]
    }
   ],
   "source": [
    "# Adaptação para utilizar o Jupiter Notebook:\n",
    "# Não fiz a alteração de alterar o número de páginas por folha pois não sem muito sentido\n",
    "\n",
    "import os\n",
    "\n",
    "# Caminho padrão para os arquivos\n",
    "caminhoPastaPadrao = os.path.join(os.getcwd(), \"arquivos\") + os.sep\n",
    "arquivo_entrada = \"teste.txt\"\n",
    "arquivo_saida = \"saida_paginada.txt\"\n",
    "caminho_completo_entrada = os.path.join(caminhoPastaPadrao, arquivo_entrada)\n",
    "caminho_completo_saida = os.path.join(caminhoPastaPadrao, arquivo_saida)\n",
    "\n",
    "# Solicita ao usuário o número de caracteres por linha\n",
    "max_caracteres_por_linha = int(input(\"Digite o número de caracteres por linha (máximo 76): \"))\n",
    "max_caracteres_por_linha = min(max_caracteres_por_linha, 76)  # Limita o valor a 76\n",
    "\n",
    "# Função para dividir texto em linhas com o máximo de caracteres especificado\n",
    "def dividir_linhas(texto, max_largura):\n",
    "    linhas = []\n",
    "    for paragrafo in texto.split('\\n'):\n",
    "        while len(paragrafo) > max_largura:\n",
    "            corte = paragrafo[:max_largura].rfind(' ')\n",
    "            if corte == -1:\n",
    "                corte = max_largura\n",
    "            linhas.append(paragrafo[:corte])\n",
    "            paragrafo = paragrafo[corte:].strip()\n",
    "        linhas.append(paragrafo)\n",
    "    return linhas\n",
    "\n",
    "try:\n",
    "    with open(caminho_completo_entrada, 'r') as arquivo:\n",
    "        conteudo = arquivo.read()\n",
    "\n",
    "    linhas = dividir_linhas(conteudo, max_caracteres_por_linha)\n",
    "    paginas = []\n",
    "    pagina_atual = []\n",
    "    max_linhas_por_pagina = 60\n",
    "    numero_pagina = 1\n",
    "\n",
    "    for linha in linhas:\n",
    "        if len(pagina_atual) >= max_linhas_por_pagina - 1:\n",
    "            pagina_atual.append(f\"{numero_pagina} - {arquivo_entrada}\")\n",
    "            paginas.append(pagina_atual)\n",
    "            pagina_atual = []\n",
    "            numero_pagina += 1\n",
    "        pagina_atual.append(linha)\n",
    "\n",
    "    if pagina_atual:\n",
    "        pagina_atual.append(f\"{numero_pagina} - {arquivo_entrada}\")\n",
    "        paginas.append(pagina_atual)\n",
    "\n",
    "    with open(caminho_completo_saida, 'w') as arquivo_saida:\n",
    "        for pagina in paginas:\n",
    "            for linha in pagina:\n",
    "                arquivo_saida.write(linha + '\\n')\n",
    "            arquivo_saida.write('\\n')\n",
    "\n",
    "    print(f\"Arquivo '{arquivo_saida}' gerado com sucesso!\")\n",
    "\n",
    "except FileNotFoundError:\n",
    "    print(f\"Arquivo '{caminho_completo_entrada}' não encontrado.\")\n",
    "except Exception as e:\n",
    "    print(f\"Ocorreu um erro ao tentar processar o arquivo: {e}\")"
   ]
  },
  {
   "cell_type": "markdown",
   "id": "eee429f4-40cc-45c8-ba55-446ed0d21914",
   "metadata": {},
   "source": [
    "#### Exercício 9.9 (pág. 194):"
   ]
  },
  {
   "cell_type": "code",
   "execution_count": 45,
   "id": "aae61758-0362-4edf-9143-7a7bc73934f2",
   "metadata": {},
   "outputs": [
    {
     "name": "stdout",
     "output_type": "stream",
     "text": [
      "Conteúdo do arquivo 'entrada.txt':\n",
      ";Esta linha nÃ£o deve ser impressa.\n",
      ">Esta linha deve ser impressa alinhada a direita\n",
      "*Esta linha deve ser centralizada\n",
      "=Esta linha Ã© tipo um separador\n",
      "Uma linha normal\n",
      "Outra linha normal\n",
      "\n",
      "------------------------------------------------------------------------------------------------------------------------\n",
      "Conteúdo do arquivo 'impares.txt':\n",
      "1, 3, 5, 7, 9, 11, 13, 15, 17, 19, 21, 23, 25, 27, 29, 31, 33, 35, 37, 39, 41, 43, 45, 47, 49, 51, 53, 55, 57, 59, 61, 63, 65, 67, 69, 71, 73, 75, 77, 79, 81, 83, 85, 87, 89, 91, 93, 95, 97, 99\n",
      "\n",
      "------------------------------------------------------------------------------------------------------------------------\n",
      "Conteúdo do arquivo 'pares.txt':\n",
      "100, 98, 96, 94, 92, 90, 88, 86, 84, 82, 80, 78, 76, 74, 72, 70, 68, 66, 64, 62, 60, 58, 56, 54, 52, 50, 48, 46, 44, 42, 40, 38, 36, 34, 32, 30, 28, 26, 24, 22, 20, 18, 16, 14, 12, 10, 8, 6, 4, 2\n",
      "\n",
      "------------------------------------------------------------------------------------------------------------------------\n",
      "Conteúdo do arquivo 'paresImpares.txt':\n",
      "2, 4, 6, 8, 10, 12, 14, 16, 18, 20, 22, 24, 26, 28, 30, 32, 34, 36, 38, 40, 42, 44, 46, 48, 50, 52, 54, 56, 58, 60, 62, 64, 66, 68, 70, 72, 74, 76, 78, 80, 82, 84, 86, 88, 90, 92, 94, 96, 98, 100, 1, 3, 5, 7, 9, 11, 13, 15, 17, 19, 21, 23, 25, 27, 29, 31, 33, 35, 37, 39, 41, 43, 45, 47, 49, 51, 53, 55, 57, 59, 61, 63, 65, 67, 69, 71, 73, 75, 77, 79, 81, 83, 85, 87, 89, 91, 93, 95, 97, 99\n",
      "\n",
      "------------------------------------------------------------------------------------------------------------------------\n",
      "Conteúdo do arquivo 'testeSample.txt':\n",
      "Lorem ipsum dolor sit amet, consectetur adipiscing elit. Etiam eget purus convallis, rutrum eros eget, malesuada ligula.\n",
      "In viverra dolor sed nibh semper, sed euismod tellus viverra. In non augue non ipsum accumsan rutrum. \n",
      "Phasellus nibh lectus, tempus at lectus eget, venenatis ultricies metus. \n",
      "Praesent ut mauris sagittis, hendrerit ante eu, fringilla elit. In maximus nisi magna, a luctus elit cursus vitae.\n",
      "Vivamus interdum nibh est, ut lacinia mauris lobortis quis.0\n",
      " Mauris porta dolor non turpis porttitor mattis.\n",
      "Vestibulum finibus elit et hendrerit laoreet. Maecenas ornare neque nec nulla luctus fringilla.\n",
      "Nunc blandit elit ac ex feugiat, in tempus odio consequat. \n",
      "Integer non tristique mauris.\n",
      "Sed ligula elit, dapibus at nunc ac, volutpat egestas eros.\n",
      "Lorem ipsum dolor sit amet, consectetur adipiscing elit. Etiam eget purus convallis, rutrum eros eget, malesuada ligula.\n",
      "In viverra dolor sed nibh semper, sed euismod tellus viverra. In non augue non ipsum accumsan rutrum. \n",
      "Phasellus nibh lectus, tempus at lectus eget, venenatis ultricies metus. \n",
      "Praesent ut mauris sagittis, hendrerit ante eu, fringilla elit. In maximus nisi magna, a luctus elit cursus vitae.\n",
      "Vivamus interdum nibh est, ut lacinia mauris lobortis quis.0\n",
      " Mauris porta dolor non turpis porttitor mattis.\n",
      "Vestibulum finibus elit et hendrerit laoreet. Maecenas ornare neque nec nulla luctus fringilla.\n",
      "Nunc blandit elit ac ex feugiat, in tempus odio consequat. \n",
      "Integer non tristique mauris.\n",
      "Sed ligula elit, dapibus at nunc ac, volutpat egestas eros.\n",
      "Lorem ipsum dolor sit amet, consectetur adipiscing elit. Etiam eget purus convallis, rutrum eros eget, malesuada ligula.\n",
      "In viverra dolor sed nibh semper, sed euismod tellus viverra. In non augue non ipsum accumsan rutrum. \n",
      "Phasellus nibh lectus, tempus at lectus eget, venenatis ultricies metus. \n",
      "Praesent ut mauris sagittis, hendrerit ante eu, fringilla elit. In maximus nisi magna, a luctus elit cursus vitae.\n",
      "Vivamus interdum nibh est, ut lacinia mauris lobortis quis.\n",
      " Mauris porta dolor non turpis porttitor mattis.\n",
      "Vestibulum finibus elit et hendrerit laoreet. Maecenas ornare neque nec nulla luctus fringilla.\n",
      "Nunc blandit elit ac ex feugiat, in tempus odio consequat. \n",
      "Integer non tristique mauris.\n",
      "Sed ligula elit, dapibus at nunc ac, volutpat egestas eros.\n",
      "Lorem ipsum dolor sit amet, consectetur adipiscing elit. Etiam eget purus convallis, rutrum eros eget, malesuada ligula.\n",
      "\n",
      "\n",
      "------------------------------------------------------------------------------------------------------------------------\n"
     ]
    }
   ],
   "source": [
    "import os\n",
    "\n",
    "# Caminho padrão para os arquivos\n",
    "caminhoPastaPadrao = os.path.join(os.getcwd(), \"arquivos\") + os.sep\n",
    "\n",
    "def imprimir_conteudo_arquivos(lista_arquivos):\n",
    "    for nome_arquivo in lista_arquivos:\n",
    "        caminho_arquivo = os.path.join(os.getcwd(), \"arquivos\") + os.sep + nome_arquivo\n",
    "        try:\n",
    "            with open(caminho_arquivo, 'r') as arquivo:\n",
    "                conteudo = arquivo.read()\n",
    "                print(f\"Conteúdo do arquivo '{nome_arquivo}':\\n{conteudo}\\n\")\n",
    "                print(\"-\" * 120)\n",
    "        except FileNotFoundError:\n",
    "            print(f\"Arquivo '{nome_arquivo}' não encontrado.\")\n",
    "        except Exception as e:\n",
    "            print(f\"Ocorreu um erro ao tentar ler o arquivo '{nome_arquivo}': {e}\")\n",
    "\n",
    "\n",
    "# Comentádo para facilitar o teste:\n",
    "#entrada = input(\"Digite os nomes dos arquivos separados por espaço:\")\n",
    "#lista_arquivos = entrada.split()\n",
    "\n",
    "lista_arquivos = [\"entrada.txt\", \"impares.txt\", \"pares.txt\", \"paresImpares.txt\", \"testeSample.txt\"]\n",
    "\n",
    "imprimir_conteudo_arquivos(lista_arquivos)"
   ]
  },
  {
   "cell_type": "markdown",
   "id": "d2c4f865-bb17-4969-9dde-77c59417f301",
   "metadata": {},
   "source": [
    "#### Exercício 9.10 (pág. 194):"
   ]
  },
  {
   "cell_type": "code",
   "execution_count": 46,
   "id": "801f2d45-fecf-4a51-8b72-a8528687131c",
   "metadata": {},
   "outputs": [
    {
     "name": "stdout",
     "output_type": "stream",
     "text": [
      "Arquivo 'C:\\Users\\ivanv\\Documents\\Dev\\FAP\\FAP-2024-Backend-Python\\Módulo1\\atividades\\12-07-2024\\Livro_IntroProgPython\\arquivos\\grandeArquivoSaida.txt' gerado com sucesso!\n"
     ]
    }
   ],
   "source": [
    "import os\n",
    "\n",
    "# Caminho padrão para os arquivos\n",
    "caminhoPastaPadrao = os.path.join(os.getcwd(), \"arquivos\") + os.sep\n",
    "caminho_arquivo_saida = caminhoPastaPadrao + \"grandeArquivoSaida.txt\"\n",
    "\n",
    "def imprimir_conteudo_arquivos(lista_arquivos):\n",
    "    conteudoTotal = \"\"\n",
    "    for nome_arquivo in lista_arquivos:\n",
    "        caminho_arquivo = os.path.join(os.getcwd(), \"arquivos\") + os.sep + nome_arquivo\n",
    "        try:\n",
    "            with open(caminho_arquivo, 'r') as arquivo:\n",
    "                # \"Acumula o conteúdo de todos os arquivos\"\n",
    "                conteudoTotal += arquivo.read()\n",
    "                \n",
    "        except FileNotFoundError:\n",
    "            print(f\"Arquivo '{nome_arquivo}' não encontrado.\")\n",
    "        except Exception as e:\n",
    "            print(f\"Ocorreu um erro ao tentar ler o arquivo '{nome_arquivo}': {e}\")\n",
    "    try:\n",
    "        with open(caminho_arquivo_saida, 'w+') as arquivo_saida:\n",
    "            arquivo_saida.write(conteudoTotal)\n",
    "             \n",
    "        print(f\"Arquivo '{caminho_arquivo_saida}' gerado com sucesso!\")\n",
    "    except FileNotFoundError:\n",
    "        print(f\"Arquivo '{nome_arquivo}' não encontrado.\")\n",
    "    except Exception as e:\n",
    "        print(f\"Ocorreu um erro ao tentar ler o arquivo '{nome_arquivo}': {e}\")\n",
    "\n",
    "\n",
    "# Comentádo para facilitar o teste:\n",
    "#entrada = input(\"Digite os nomes dos arquivos separados por espaço:\")\n",
    "#lista_arquivos = entrada.split()\n",
    "\n",
    "lista_arquivos = [\"entrada.txt\", \"impares.txt\", \"pares.txt\", \"paresImpares.txt\", \"testeSample.txt\"]\n",
    "\n",
    "imprimir_conteudo_arquivos(lista_arquivos)"
   ]
  },
  {
   "cell_type": "markdown",
   "id": "456bd904-daea-4322-a61c-b04516fa17f5",
   "metadata": {},
   "source": [
    "#### Exercício 9.11 (pág. 195):"
   ]
  },
  {
   "cell_type": "code",
   "execution_count": 50,
   "id": "242b8c8a-e9e6-40f3-be11-03b871332286",
   "metadata": {},
   "outputs": [
    {
     "name": "stdout",
     "output_type": "stream",
     "text": [
      "Contagem de palavras:\n",
      "lorem: 65\n",
      "ipsum: 132\n",
      "dolor: 199\n",
      "sit: 65\n",
      "amet: 65\n",
      "consectetur: 65\n",
      "adipiscing: 65\n",
      "elit: 400\n",
      "etiam: 65\n",
      "eget: 197\n",
      "purus: 65\n",
      "convallis: 65\n",
      "rutrum: 132\n",
      "eros: 132\n",
      "malesuada: 65\n",
      "ligula: 132\n",
      "in: 268\n",
      "viverra: 134\n",
      "sed: 201\n",
      "nibh: 201\n",
      "semper: 67\n",
      "euismod: 67\n",
      "tellus: 67\n",
      "non: 268\n",
      "augue: 67\n",
      "accumsan: 67\n",
      "phasellus: 67\n",
      "lectus: 134\n",
      "tempus: 134\n",
      "at: 134\n",
      "venenatis: 67\n",
      "ultricies: 67\n",
      "metus: 67\n",
      "praesent: 67\n",
      "ut: 134\n",
      "mauris: 268\n",
      "sagittis: 67\n",
      "hendrerit: 134\n",
      "ante: 67\n",
      "eu: 67\n",
      "fringilla: 134\n",
      "maximus: 67\n",
      "nisi: 67\n",
      "magna: 67\n",
      "a: 67\n",
      "luctus: 134\n",
      "cursus: 67\n",
      "vitae: 67\n",
      "vivamus: 67\n",
      "interdum: 67\n",
      "est: 67\n",
      "lacinia: 67\n",
      "lobortis: 67\n",
      "quis0: 44\n",
      "porta: 67\n",
      "turpis: 67\n",
      "porttitor: 67\n",
      "mattis: 67\n",
      "vestibulum: 67\n",
      "finibus: 67\n",
      "et: 67\n",
      "laoreet: 67\n",
      "maecenas: 67\n",
      "ornare: 67\n",
      "neque: 67\n",
      "nec: 67\n",
      "nulla: 67\n",
      "nunc: 134\n",
      "blandit: 67\n",
      "ac: 134\n",
      "ex: 67\n",
      "feugiat: 67\n",
      "odio: 67\n",
      "consequat: 67\n",
      "integer: 67\n",
      "tristique: 67\n",
      "dapibus: 67\n",
      "volutpat: 67\n",
      "egestas: 67\n",
      "quis: 23\n"
     ]
    }
   ],
   "source": [
    "import string\n",
    "import os\n",
    "\n",
    "# Caminho padrão para os arquivos\n",
    "caminhoPastaPadrao = os.path.join(os.getcwd(), \"arquivos\") + os.sep\n",
    "\n",
    "def contar_palavras(caminho_arquivo):\n",
    "    # Dicionário para armazenar as contagens de palavras\n",
    "    contagem_palavras = {}\n",
    "\n",
    "    try:\n",
    "        with open(caminho_arquivo, 'r') as arquivo:\n",
    "            # Ler o conteúdo do arquivo\n",
    "            texto = arquivo.read()\n",
    "            \n",
    "            # Remover pontuações e converter para minúsculas\n",
    "            texto = texto.translate(str.maketrans('', '', string.punctuation)).lower()\n",
    "            \n",
    "            # Dividir o texto em palavras\n",
    "            palavras = texto.split()\n",
    "\n",
    "            # Contar as ocorrências de cada palavra\n",
    "            for palavra in palavras:\n",
    "                if palavra in contagem_palavras:\n",
    "                    contagem_palavras[palavra] += 1\n",
    "                else:\n",
    "                    contagem_palavras[palavra] = 1\n",
    "\n",
    "    except FileNotFoundError:\n",
    "        print(f\"Arquivo '{caminho_arquivo}' não encontrado.\")\n",
    "    except Exception as e:\n",
    "        print(f\"Ocorreu um erro ao processar o arquivo '{caminho_arquivo}': {e}\")\n",
    "\n",
    "    return contagem_palavras\n",
    "\n",
    "\n",
    "nome_arquivo = \"teste.txt\"  # Substitua pelo nome do arquivo que deseja analisar\n",
    "caminho_arquivo = os.path.join(caminhoPastaPadrao, nome_arquivo)\n",
    "resultado = contar_palavras(caminho_arquivo)\n",
    "\n",
    "# Imprimir o resultado\n",
    "print(\"Contagem das ocorrências de cada palavra:\")\n",
    "for palavra, contagem in resultado.items():\n",
    "    print(f\"{palavra}: {contagem}\")\n",
    "\n",
    "# Explicação do uso da biblioteca string:\n",
    "\n",
    "# linha = linha.translate(str.maketrans('', '', string.punctuation)).lower()\n",
    "\n",
    "# O método str.maketrans() faz a substituição de caracteres em uma string, onde o primeiro argumento (\"''\" - vazio no exemplo) \n",
    "# especifica a string que desejo substituir, o segundo arguemnto (\"''\" - também vazio no exemplo) especifica qual string usar \n",
    "# para substituir, e o terceiro argumento (string.punctuation - no exemplo) especifica quais os caracteres queremos substituir, \n",
    "# no nosso exemplo usamos o string.punctuation, que contém todos os caracteres de pontuação, herdado da biblioteca string importada no início.\n",
    "# Além disso, o método str.maketrans() cria uma tabela de mapeamento de caracteres que será usada pelo método translate().\n",
    "\n",
    "# Então, ao executar linha.translate() na tabela gerada pelo método str.maketrans('', '', string.punctuation), o resultado é a substituição \n",
    "# de todos os caracteres de pontuação (string.punctuation) por vazio, logo, na verdade os caracteres de pontuação são removidos da string.\n",
    "    \n",
    "# Exempos:\n",
    "# Remover e substituir ao mesmo tempo:\n",
    "# texto = \"Hello, world!\"\n",
    "# tabela = str.maketrans('o', '0', string.punctuation)\n",
    "# novo_texto = texto.translate(tabela)\n",
    "# print(novo_texto)  # Saída: \"Hell0 world\""
   ]
  },
  {
   "cell_type": "markdown",
   "id": "5e22fb1c-6bb8-4cdf-9c23-ae37935532d4",
   "metadata": {},
   "source": [
    "#### Exercício 9.12 (pág. 195):"
   ]
  },
  {
   "cell_type": "code",
   "execution_count": 54,
   "id": "56c6f814-e5e6-4e95-a5c3-eadbbabb12d4",
   "metadata": {},
   "outputs": [
    {
     "name": "stdout",
     "output_type": "stream",
     "text": [
      "Contagem das ocorrências de cada palavra (linha, coluna):\n",
      "lorem: [(1, 1), (11, 1), (21, 1), (31, 1), (41, 1), (51, 1), (61, 1), (71, 1), (81, 1), (91, 1), (101, 1), (111, 1), (121, 1), (131, 1), (141, 1), (151, 1), (161, 1), (171, 1), (181, 1), (191, 1), (201, 1), (211, 1), (221, 1), (231, 1), (241, 1), (251, 1), (261, 1), (271, 1), (281, 1), (291, 1), (301, 1), (311, 1), (321, 1), (331, 1), (341, 1), (351, 1), (361, 1), (371, 1), (381, 1), (391, 1), (401, 1), (411, 1), (421, 1), (431, 1), (441, 1), (451, 1), (461, 1), (471, 1), (481, 1), (491, 1), (501, 1), (511, 1), (521, 1), (531, 1), (541, 1), (551, 1), (561, 1), (580, 1), (590, 1), (600, 1), (610, 1), (629, 1), (639, 1), (649, 1), (659, 1)]\n",
      "------------------------------------------------------------------------------------------------------------------------\n",
      "ipsum: [(1, 7), (2, 78), (11, 7), (12, 78), (21, 7), (22, 78), (31, 7), (32, 78), (41, 7), (42, 78), (51, 7), (52, 78), (61, 7), (62, 78), (71, 7), (72, 78), (81, 7), (82, 78), (91, 7), (92, 78), (101, 7), (102, 78), (111, 7), (112, 78), (121, 7), (122, 78), (131, 7), (132, 78), (141, 7), (142, 78), (151, 7), (152, 78), (161, 7), (162, 78), (171, 7), (172, 78), (181, 7), (182, 78), (191, 7), (192, 78), (201, 7), (202, 78), (211, 7), (212, 78), (221, 7), (222, 78), (231, 7), (232, 78), (241, 7), (242, 78), (251, 7), (252, 78), (261, 7), (262, 78), (271, 7), (272, 78), (281, 7), (282, 78), (291, 7), (292, 78), (301, 7), (302, 78), (311, 7), (312, 78), (321, 7), (322, 78), (331, 7), (332, 78), (341, 7), (342, 78), (351, 7), (352, 78), (361, 7), (362, 78), (371, 7), (372, 78), (381, 7), (382, 78), (391, 7), (392, 78), (401, 7), (402, 78), (411, 7), (412, 78), (421, 7), (422, 78), (431, 7), (432, 78), (441, 7), (442, 78), (451, 7), (452, 78), (461, 7), (462, 78), (471, 7), (472, 78), (481, 7), (482, 78), (491, 7), (492, 78), (501, 7), (502, 78), (511, 7), (512, 78), (521, 7), (522, 78), (531, 7), (532, 78), (541, 7), (542, 78), (551, 7), (552, 78), (561, 7), (562, 78), (571, 78), (580, 7), (581, 78), (590, 7), (591, 78), (600, 7), (601, 78), (610, 7), (611, 78), (620, 78), (629, 7), (630, 78), (639, 7), (640, 78), (649, 7), (650, 78), (659, 7), (660, 78)]\n",
      "------------------------------------------------------------------------------------------------------------------------\n",
      "dolor: [(1, 13), (2, 12), (6, 15), (11, 13), (12, 12), (16, 15), (21, 13), (22, 12), (26, 15), (31, 13), (32, 12), (36, 15), (41, 13), (42, 12), (46, 15), (51, 13), (52, 12), (56, 15), (61, 13), (62, 12), (66, 15), (71, 13), (72, 12), (76, 15), (81, 13), (82, 12), (86, 15), (91, 13), (92, 12), (96, 15), (101, 13), (102, 12), (106, 15), (111, 13), (112, 12), (116, 15), (121, 13), (122, 12), (126, 15), (131, 13), (132, 12), (136, 15), (141, 13), (142, 12), (146, 15), (151, 13), (152, 12), (156, 15), (161, 13), (162, 12), (166, 15), (171, 13), (172, 12), (176, 15), (181, 13), (182, 12), (186, 15), (191, 13), (192, 12), (196, 15), (201, 13), (202, 12), (206, 15), (211, 13), (212, 12), (216, 15), (221, 13), (222, 12), (226, 15), (231, 13), (232, 12), (236, 15), (241, 13), (242, 12), (246, 15), (251, 13), (252, 12), (256, 15), (261, 13), (262, 12), (266, 15), (271, 13), (272, 12), (276, 15), (281, 13), (282, 12), (286, 15), (291, 13), (292, 12), (296, 15), (301, 13), (302, 12), (306, 15), (311, 13), (312, 12), (316, 15), (321, 13), (322, 12), (326, 15), (331, 13), (332, 12), (336, 15), (341, 13), (342, 12), (346, 15), (351, 13), (352, 12), (356, 15), (361, 13), (362, 12), (366, 15), (371, 13), (372, 12), (376, 15), (381, 13), (382, 12), (386, 15), (391, 13), (392, 12), (396, 15), (401, 13), (402, 12), (406, 15), (411, 13), (412, 12), (416, 15), (421, 13), (422, 12), (426, 15), (431, 13), (432, 12), (436, 15), (441, 13), (442, 12), (446, 15), (451, 13), (452, 12), (456, 15), (461, 13), (462, 12), (466, 15), (471, 13), (472, 12), (476, 15), (481, 13), (482, 12), (486, 15), (491, 13), (492, 12), (496, 15), (501, 13), (502, 12), (506, 15), (511, 13), (512, 12), (516, 15), (521, 13), (522, 12), (526, 15), (531, 13), (532, 12), (536, 15), (541, 13), (542, 12), (546, 15), (551, 13), (552, 12), (556, 15), (561, 13), (562, 12), (566, 15), (571, 12), (575, 15), (580, 13), (581, 12), (585, 15), (590, 13), (591, 12), (595, 15), (600, 13), (601, 12), (605, 15), (610, 13), (611, 12), (615, 15), (620, 12), (624, 15), (629, 13), (630, 12), (634, 15), (639, 13), (640, 12), (644, 15), (649, 13), (650, 12), (654, 15), (659, 13), (660, 12), (664, 15)]\n",
      "------------------------------------------------------------------------------------------------------------------------\n",
      "sit: [(1, 19), (11, 19), (21, 19), (31, 19), (41, 19), (51, 19), (61, 19), (71, 19), (81, 19), (91, 19), (101, 19), (111, 19), (121, 19), (131, 19), (141, 19), (151, 19), (161, 19), (171, 19), (181, 19), (191, 19), (201, 19), (211, 19), (221, 19), (231, 19), (241, 19), (251, 19), (261, 19), (271, 19), (281, 19), (291, 19), (301, 19), (311, 19), (321, 19), (331, 19), (341, 19), (351, 19), (361, 19), (371, 19), (381, 19), (391, 19), (401, 19), (411, 19), (421, 19), (431, 19), (441, 19), (451, 19), (461, 19), (471, 19), (481, 19), (491, 19), (501, 19), (511, 19), (521, 19), (531, 19), (541, 19), (551, 19), (561, 19), (580, 19), (590, 19), (600, 19), (610, 19), (629, 19), (639, 19), (649, 19), (659, 19)]\n",
      "------------------------------------------------------------------------------------------------------------------------\n",
      "amet: [(1, 23), (11, 23), (21, 23), (31, 23), (41, 23), (51, 23), (61, 23), (71, 23), (81, 23), (91, 23), (101, 23), (111, 23), (121, 23), (131, 23), (141, 23), (151, 23), (161, 23), (171, 23), (181, 23), (191, 23), (201, 23), (211, 23), (221, 23), (231, 23), (241, 23), (251, 23), (261, 23), (271, 23), (281, 23), (291, 23), (301, 23), (311, 23), (321, 23), (331, 23), (341, 23), (351, 23), (361, 23), (371, 23), (381, 23), (391, 23), (401, 23), (411, 23), (421, 23), (431, 23), (441, 23), (451, 23), (461, 23), (471, 23), (481, 23), (491, 23), (501, 23), (511, 23), (521, 23), (531, 23), (541, 23), (551, 23), (561, 23), (580, 23), (590, 23), (600, 23), (610, 23), (629, 23), (639, 23), (649, 23), (659, 23)]\n",
      "------------------------------------------------------------------------------------------------------------------------\n",
      "consectetur: [(1, 28), (11, 28), (21, 28), (31, 28), (41, 28), (51, 28), (61, 28), (71, 28), (81, 28), (91, 28), (101, 28), (111, 28), (121, 28), (131, 28), (141, 28), (151, 28), (161, 28), (171, 28), (181, 28), (191, 28), (201, 28), (211, 28), (221, 28), (231, 28), (241, 28), (251, 28), (261, 28), (271, 28), (281, 28), (291, 28), (301, 28), (311, 28), (321, 28), (331, 28), (341, 28), (351, 28), (361, 28), (371, 28), (381, 28), (391, 28), (401, 28), (411, 28), (421, 28), (431, 28), (441, 28), (451, 28), (461, 28), (471, 28), (481, 28), (491, 28), (501, 28), (511, 28), (521, 28), (531, 28), (541, 28), (551, 28), (561, 28), (580, 28), (590, 28), (600, 28), (610, 28), (629, 28), (639, 28), (649, 28), (659, 28)]\n",
      "------------------------------------------------------------------------------------------------------------------------\n",
      "adipiscing: [(1, 40), (11, 40), (21, 40), (31, 40), (41, 40), (51, 40), (61, 40), (71, 40), (81, 40), (91, 40), (101, 40), (111, 40), (121, 40), (131, 40), (141, 40), (151, 40), (161, 40), (171, 40), (181, 40), (191, 40), (201, 40), (211, 40), (221, 40), (231, 40), (241, 40), (251, 40), (261, 40), (271, 40), (281, 40), (291, 40), (301, 40), (311, 40), (321, 40), (331, 40), (341, 40), (351, 40), (361, 40), (371, 40), (381, 40), (391, 40), (401, 40), (411, 40), (421, 40), (431, 40), (441, 40), (451, 40), (461, 40), (471, 40), (481, 40), (491, 40), (501, 40), (511, 40), (521, 40), (531, 40), (541, 40), (551, 40), (561, 40), (580, 40), (590, 40), (600, 40), (610, 40), (629, 40), (639, 40), (649, 40), (659, 40)]\n",
      "------------------------------------------------------------------------------------------------------------------------\n",
      "elit: [(1, 51), (4, 57), (4, 93), (7, 20), (8, 14), (10, 12), (11, 51), (14, 57), (14, 93), (17, 20), (18, 14), (20, 12), (21, 51), (24, 57), (24, 93), (27, 20), (28, 14), (30, 12), (31, 51), (34, 57), (34, 93), (37, 20), (38, 14), (40, 12), (41, 51), (44, 57), (44, 93), (47, 20), (48, 14), (50, 12), (51, 51), (54, 57), (54, 93), (57, 20), (58, 14), (60, 12), (61, 51), (64, 57), (64, 93), (67, 20), (68, 14), (70, 12), (71, 51), (74, 57), (74, 93), (77, 20), (78, 14), (80, 12), (81, 51), (84, 57), (84, 93), (87, 20), (88, 14), (90, 12), (91, 51), (94, 57), (94, 93), (97, 20), (98, 14), (100, 12), (101, 51), (104, 57), (104, 93), (107, 20), (108, 14), (110, 12), (111, 51), (114, 57), (114, 93), (117, 20), (118, 14), (120, 12), (121, 51), (124, 57), (124, 93), (127, 20), (128, 14), (130, 12), (131, 51), (134, 57), (134, 93), (137, 20), (138, 14), (140, 12), (141, 51), (144, 57), (144, 93), (147, 20), (148, 14), (150, 12), (151, 51), (154, 57), (154, 93), (157, 20), (158, 14), (160, 12), (161, 51), (164, 57), (164, 93), (167, 20), (168, 14), (170, 12), (171, 51), (174, 57), (174, 93), (177, 20), (178, 14), (180, 12), (181, 51), (184, 57), (184, 93), (187, 20), (188, 14), (190, 12), (191, 51), (194, 57), (194, 93), (197, 20), (198, 14), (200, 12), (201, 51), (204, 57), (204, 93), (207, 20), (208, 14), (210, 12), (211, 51), (214, 57), (214, 93), (217, 20), (218, 14), (220, 12), (221, 51), (224, 57), (224, 93), (227, 20), (228, 14), (230, 12), (231, 51), (234, 57), (234, 93), (237, 20), (238, 14), (240, 12), (241, 51), (244, 57), (244, 93), (247, 20), (248, 14), (250, 12), (251, 51), (254, 57), (254, 93), (257, 20), (258, 14), (260, 12), (261, 51), (264, 57), (264, 93), (267, 20), (268, 14), (270, 12), (271, 51), (274, 57), (274, 93), (277, 20), (278, 14), (280, 12), (281, 51), (284, 57), (284, 93), (287, 20), (288, 14), (290, 12), (291, 51), (294, 57), (294, 93), (297, 20), (298, 14), (300, 12), (301, 51), (304, 57), (304, 93), (307, 20), (308, 14), (310, 12), (311, 51), (314, 57), (314, 93), (317, 20), (318, 14), (320, 12), (321, 51), (324, 57), (324, 93), (327, 20), (328, 14), (330, 12), (331, 51), (334, 57), (334, 93), (337, 20), (338, 14), (340, 12), (341, 51), (344, 57), (344, 93), (347, 20), (348, 14), (350, 12), (351, 51), (354, 57), (354, 93), (357, 20), (358, 14), (360, 12), (361, 51), (364, 57), (364, 93), (367, 20), (368, 14), (370, 12), (371, 51), (374, 57), (374, 93), (377, 20), (378, 14), (380, 12), (381, 51), (384, 57), (384, 93), (387, 20), (388, 14), (390, 12), (391, 51), (394, 57), (394, 93), (397, 20), (398, 14), (400, 12), (401, 51), (404, 57), (404, 93), (407, 20), (408, 14), (410, 12), (411, 51), (414, 57), (414, 93), (417, 20), (418, 14), (420, 12), (421, 51), (424, 57), (424, 93), (427, 20), (428, 14), (430, 12), (431, 51), (434, 57), (434, 93), (437, 20), (438, 14), (440, 12), (441, 51), (444, 57), (444, 93), (447, 20), (448, 14), (450, 12), (451, 51), (454, 57), (454, 93), (457, 20), (458, 14), (460, 12), (461, 51), (464, 57), (464, 93), (467, 20), (468, 14), (470, 12), (471, 51), (474, 57), (474, 93), (477, 20), (478, 14), (480, 12), (481, 51), (484, 57), (484, 93), (487, 20), (488, 14), (490, 12), (491, 51), (494, 57), (494, 93), (497, 20), (498, 14), (500, 12), (501, 51), (504, 57), (504, 93), (507, 20), (508, 14), (510, 12), (511, 51), (514, 57), (514, 93), (517, 20), (518, 14), (520, 12), (521, 51), (524, 57), (524, 93), (527, 20), (528, 14), (530, 12), (531, 51), (534, 57), (534, 93), (537, 20), (538, 14), (540, 12), (541, 51), (544, 57), (544, 93), (547, 20), (548, 14), (550, 12), (551, 51), (554, 57), (554, 93), (557, 20), (558, 14), (560, 12), (561, 51), (564, 57), (564, 93), (567, 20), (568, 14), (570, 12), (573, 57), (573, 93), (576, 20), (577, 14), (579, 12), (580, 51), (583, 57), (583, 93), (586, 20), (587, 14), (589, 12), (590, 51), (593, 57), (593, 93), (596, 20), (597, 14), (599, 12), (600, 51), (603, 57), (603, 93), (606, 20), (607, 14), (609, 12), (610, 51), (613, 57), (613, 93), (616, 20), (617, 14), (619, 12), (622, 57), (622, 93), (625, 20), (626, 14), (628, 12), (629, 51), (632, 57), (632, 93), (635, 20), (636, 14), (638, 12), (639, 51), (642, 57), (642, 93), (645, 20), (646, 14), (648, 12), (649, 51), (652, 57), (652, 93), (655, 20), (656, 14), (658, 12), (659, 51), (662, 57), (662, 93), (665, 20), (666, 14), (668, 12)]\n",
      "------------------------------------------------------------------------------------------------------------------------\n",
      "etiam: [(1, 56), (11, 56), (21, 56), (31, 56), (41, 56), (51, 56), (61, 56), (71, 56), (81, 56), (91, 56), (101, 56), (111, 56), (121, 56), (131, 56), (141, 56), (151, 56), (161, 56), (171, 56), (181, 56), (191, 56), (201, 56), (211, 56), (221, 56), (231, 56), (241, 56), (251, 56), (261, 56), (271, 56), (281, 56), (291, 56), (301, 56), (311, 56), (321, 56), (331, 56), (341, 56), (351, 56), (361, 56), (371, 56), (381, 56), (391, 56), (401, 56), (411, 56), (421, 56), (431, 56), (441, 56), (451, 56), (461, 56), (471, 56), (481, 56), (491, 56), (501, 56), (511, 56), (521, 56), (531, 56), (541, 56), (551, 56), (561, 56), (580, 56), (590, 56), (600, 56), (610, 56), (629, 56), (639, 56), (649, 56), (659, 56)]\n",
      "------------------------------------------------------------------------------------------------------------------------\n",
      "eget: [(1, 62), (1, 95), (3, 40), (11, 62), (11, 95), (13, 40), (21, 62), (21, 95), (23, 40), (31, 62), (31, 95), (33, 40), (41, 62), (41, 95), (43, 40), (51, 62), (51, 95), (53, 40), (61, 62), (61, 95), (63, 40), (71, 62), (71, 95), (73, 40), (81, 62), (81, 95), (83, 40), (91, 62), (91, 95), (93, 40), (101, 62), (101, 95), (103, 40), (111, 62), (111, 95), (113, 40), (121, 62), (121, 95), (123, 40), (131, 62), (131, 95), (133, 40), (141, 62), (141, 95), (143, 40), (151, 62), (151, 95), (153, 40), (161, 62), (161, 95), (163, 40), (171, 62), (171, 95), (173, 40), (181, 62), (181, 95), (183, 40), (191, 62), (191, 95), (193, 40), (201, 62), (201, 95), (203, 40), (211, 62), (211, 95), (213, 40), (221, 62), (221, 95), (223, 40), (231, 62), (231, 95), (233, 40), (241, 62), (241, 95), (243, 40), (251, 62), (251, 95), (253, 40), (261, 62), (261, 95), (263, 40), (271, 62), (271, 95), (273, 40), (281, 62), (281, 95), (283, 40), (291, 62), (291, 95), (293, 40), (301, 62), (301, 95), (303, 40), (311, 62), (311, 95), (313, 40), (321, 62), (321, 95), (323, 40), (331, 62), (331, 95), (333, 40), (341, 62), (341, 95), (343, 40), (351, 62), (351, 95), (353, 40), (361, 62), (361, 95), (363, 40), (371, 62), (371, 95), (373, 40), (381, 62), (381, 95), (383, 40), (391, 62), (391, 95), (393, 40), (401, 62), (401, 95), (403, 40), (411, 62), (411, 95), (413, 40), (421, 62), (421, 95), (423, 40), (431, 62), (431, 95), (433, 40), (441, 62), (441, 95), (443, 40), (451, 62), (451, 95), (453, 40), (461, 62), (461, 95), (463, 40), (471, 62), (471, 95), (473, 40), (481, 62), (481, 95), (483, 40), (491, 62), (491, 95), (493, 40), (501, 62), (501, 95), (503, 40), (511, 62), (511, 95), (513, 40), (521, 62), (521, 95), (523, 40), (531, 62), (531, 95), (533, 40), (541, 62), (541, 95), (543, 40), (551, 62), (551, 95), (553, 40), (561, 62), (561, 95), (563, 40), (572, 40), (580, 62), (580, 95), (582, 40), (590, 62), (590, 95), (592, 40), (600, 62), (600, 95), (602, 40), (610, 62), (610, 95), (612, 40), (621, 40), (629, 62), (629, 95), (631, 40), (639, 62), (639, 95), (641, 40), (649, 62), (649, 95), (651, 40), (659, 62), (659, 95), (661, 40)]\n",
      "------------------------------------------------------------------------------------------------------------------------\n",
      "purus: [(1, 67), (11, 67), (21, 67), (31, 67), (41, 67), (51, 67), (61, 67), (71, 67), (81, 67), (91, 67), (101, 67), (111, 67), (121, 67), (131, 67), (141, 67), (151, 67), (161, 67), (171, 67), (181, 67), (191, 67), (201, 67), (211, 67), (221, 67), (231, 67), (241, 67), (251, 67), (261, 67), (271, 67), (281, 67), (291, 67), (301, 67), (311, 67), (321, 67), (331, 67), (341, 67), (351, 67), (361, 67), (371, 67), (381, 67), (391, 67), (401, 67), (411, 67), (421, 67), (431, 67), (441, 67), (451, 67), (461, 67), (471, 67), (481, 67), (491, 67), (501, 67), (511, 67), (521, 67), (531, 67), (541, 67), (551, 67), (561, 67), (580, 67), (590, 67), (600, 67), (610, 67), (629, 67), (639, 67), (649, 67), (659, 67)]\n",
      "------------------------------------------------------------------------------------------------------------------------\n",
      "convallis: [(1, 73), (11, 73), (21, 73), (31, 73), (41, 73), (51, 73), (61, 73), (71, 73), (81, 73), (91, 73), (101, 73), (111, 73), (121, 73), (131, 73), (141, 73), (151, 73), (161, 73), (171, 73), (181, 73), (191, 73), (201, 73), (211, 73), (221, 73), (231, 73), (241, 73), (251, 73), (261, 73), (271, 73), (281, 73), (291, 73), (301, 73), (311, 73), (321, 73), (331, 73), (341, 73), (351, 73), (361, 73), (371, 73), (381, 73), (391, 73), (401, 73), (411, 73), (421, 73), (431, 73), (441, 73), (451, 73), (461, 73), (471, 73), (481, 73), (491, 73), (501, 73), (511, 73), (521, 73), (531, 73), (541, 73), (551, 73), (561, 73), (580, 73), (590, 73), (600, 73), (610, 73), (629, 73), (639, 73), (649, 73), (659, 73)]\n",
      "------------------------------------------------------------------------------------------------------------------------\n",
      "rutrum: [(1, 83), (2, 93), (11, 83), (12, 93), (21, 83), (22, 93), (31, 83), (32, 93), (41, 83), (42, 93), (51, 83), (52, 93), (61, 83), (62, 93), (71, 83), (72, 93), (81, 83), (82, 93), (91, 83), (92, 93), (101, 83), (102, 93), (111, 83), (112, 93), (121, 83), (122, 93), (131, 83), (132, 93), (141, 83), (142, 93), (151, 83), (152, 93), (161, 83), (162, 93), (171, 83), (172, 93), (181, 83), (182, 93), (191, 83), (192, 93), (201, 83), (202, 93), (211, 83), (212, 93), (221, 83), (222, 93), (231, 83), (232, 93), (241, 83), (242, 93), (251, 83), (252, 93), (261, 83), (262, 93), (271, 83), (272, 93), (281, 83), (282, 93), (291, 83), (292, 93), (301, 83), (302, 93), (311, 83), (312, 93), (321, 83), (322, 93), (331, 83), (332, 93), (341, 83), (342, 93), (351, 83), (352, 93), (361, 83), (362, 93), (371, 83), (372, 93), (381, 83), (382, 93), (391, 83), (392, 93), (401, 83), (402, 93), (411, 83), (412, 93), (421, 83), (422, 93), (431, 83), (432, 93), (441, 83), (442, 93), (451, 83), (452, 93), (461, 83), (462, 93), (471, 83), (472, 93), (481, 83), (482, 93), (491, 83), (492, 93), (501, 83), (502, 93), (511, 83), (512, 93), (521, 83), (522, 93), (531, 83), (532, 93), (541, 83), (542, 93), (551, 83), (552, 93), (561, 83), (562, 93), (571, 93), (580, 83), (581, 93), (590, 83), (591, 93), (600, 83), (601, 93), (610, 83), (611, 93), (620, 93), (629, 83), (630, 93), (639, 83), (640, 93), (649, 83), (650, 93), (659, 83), (660, 93)]\n",
      "------------------------------------------------------------------------------------------------------------------------\n",
      "eros: [(1, 90), (10, 53), (11, 90), (20, 53), (21, 90), (30, 53), (31, 90), (40, 53), (41, 90), (50, 53), (51, 90), (60, 53), (61, 90), (70, 53), (71, 90), (80, 53), (81, 90), (90, 53), (91, 90), (100, 53), (101, 90), (110, 53), (111, 90), (120, 53), (121, 90), (130, 53), (131, 90), (140, 53), (141, 90), (150, 53), (151, 90), (160, 53), (161, 90), (170, 53), (171, 90), (180, 53), (181, 90), (190, 53), (191, 90), (200, 53), (201, 90), (210, 53), (211, 90), (220, 53), (221, 90), (230, 53), (231, 90), (240, 53), (241, 90), (250, 53), (251, 90), (260, 53), (261, 90), (270, 53), (271, 90), (280, 53), (281, 90), (290, 53), (291, 90), (300, 53), (301, 90), (310, 53), (311, 90), (320, 53), (321, 90), (330, 53), (331, 90), (340, 53), (341, 90), (350, 53), (351, 90), (360, 53), (361, 90), (370, 53), (371, 90), (380, 53), (381, 90), (390, 53), (391, 90), (400, 53), (401, 90), (410, 53), (411, 90), (420, 53), (421, 90), (430, 53), (431, 90), (440, 53), (441, 90), (450, 53), (451, 90), (460, 53), (461, 90), (470, 53), (471, 90), (480, 53), (481, 90), (490, 53), (491, 90), (500, 53), (501, 90), (510, 53), (511, 90), (520, 53), (521, 90), (530, 53), (531, 90), (540, 53), (541, 90), (550, 53), (551, 90), (560, 53), (561, 90), (570, 53), (579, 53), (580, 90), (589, 53), (590, 90), (599, 53), (600, 90), (609, 53), (610, 90), (619, 53), (628, 53), (629, 90), (638, 53), (639, 90), (648, 53), (649, 90), (658, 53), (659, 90), (668, 53)]\n",
      "------------------------------------------------------------------------------------------------------------------------\n",
      "malesuada: [(1, 100), (11, 100), (21, 100), (31, 100), (41, 100), (51, 100), (61, 100), (71, 100), (81, 100), (91, 100), (101, 100), (111, 100), (121, 100), (131, 100), (141, 100), (151, 100), (161, 100), (171, 100), (181, 100), (191, 100), (201, 100), (211, 100), (221, 100), (231, 100), (241, 100), (251, 100), (261, 100), (271, 100), (281, 100), (291, 100), (301, 100), (311, 100), (321, 100), (331, 100), (341, 100), (351, 100), (361, 100), (371, 100), (381, 100), (391, 100), (401, 100), (411, 100), (421, 100), (431, 100), (441, 100), (451, 100), (461, 100), (471, 100), (481, 100), (491, 100), (501, 100), (511, 100), (521, 100), (531, 100), (541, 100), (551, 100), (561, 100), (580, 100), (590, 100), (600, 100), (610, 100), (629, 100), (639, 100), (649, 100), (659, 100)]\n",
      "------------------------------------------------------------------------------------------------------------------------\n",
      "ligula: [(1, 110), (10, 5), (11, 110), (20, 5), (21, 110), (30, 5), (31, 110), (40, 5), (41, 110), (50, 5), (51, 110), (60, 5), (61, 110), (70, 5), (71, 110), (80, 5), (81, 110), (90, 5), (91, 110), (100, 5), (101, 110), (110, 5), (111, 110), (120, 5), (121, 110), (130, 5), (131, 110), (140, 5), (141, 110), (150, 5), (151, 110), (160, 5), (161, 110), (170, 5), (171, 110), (180, 5), (181, 110), (190, 5), (191, 110), (200, 5), (201, 110), (210, 5), (211, 110), (220, 5), (221, 110), (230, 5), (231, 110), (240, 5), (241, 110), (250, 5), (251, 110), (260, 5), (261, 110), (270, 5), (271, 110), (280, 5), (281, 110), (290, 5), (291, 110), (300, 5), (301, 110), (310, 5), (311, 110), (320, 5), (321, 110), (330, 5), (331, 110), (340, 5), (341, 110), (350, 5), (351, 110), (360, 5), (361, 110), (370, 5), (371, 110), (380, 5), (381, 110), (390, 5), (391, 110), (400, 5), (401, 110), (410, 5), (411, 110), (420, 5), (421, 110), (430, 5), (431, 110), (440, 5), (441, 110), (450, 5), (451, 110), (460, 5), (461, 110), (470, 5), (471, 110), (480, 5), (481, 110), (490, 5), (491, 110), (500, 5), (501, 110), (510, 5), (511, 110), (520, 5), (521, 110), (530, 5), (531, 110), (540, 5), (541, 110), (550, 5), (551, 110), (560, 5), (561, 110), (570, 5), (579, 5), (580, 110), (589, 5), (590, 110), (599, 5), (600, 110), (609, 5), (610, 110), (619, 5), (628, 5), (629, 110), (638, 5), (639, 110), (648, 5), (649, 110), (658, 5), (659, 110), (668, 5)]\n",
      "------------------------------------------------------------------------------------------------------------------------\n",
      "in: [(2, 1), (2, 61), (4, 62), (8, 33), (12, 1), (12, 61), (14, 62), (18, 33), (22, 1), (22, 61), (24, 62), (28, 33), (32, 1), (32, 61), (34, 62), (38, 33), (42, 1), (42, 61), (44, 62), (48, 33), (52, 1), (52, 61), (54, 62), (58, 33), (62, 1), (62, 61), (64, 62), (68, 33), (72, 1), (72, 61), (74, 62), (78, 33), (82, 1), (82, 61), (84, 62), (88, 33), (92, 1), (92, 61), (94, 62), (98, 33), (102, 1), (102, 61), (104, 62), (108, 33), (112, 1), (112, 61), (114, 62), (118, 33), (122, 1), (122, 61), (124, 62), (128, 33), (132, 1), (132, 61), (134, 62), (138, 33), (142, 1), (142, 61), (144, 62), (148, 33), (152, 1), (152, 61), (154, 62), (158, 33), (162, 1), (162, 61), (164, 62), (168, 33), (172, 1), (172, 61), (174, 62), (178, 33), (182, 1), (182, 61), (184, 62), (188, 33), (192, 1), (192, 61), (194, 62), (198, 33), (202, 1), (202, 61), (204, 62), (208, 33), (212, 1), (212, 61), (214, 62), (218, 33), (222, 1), (222, 61), (224, 62), (228, 33), (232, 1), (232, 61), (234, 62), (238, 33), (242, 1), (242, 61), (244, 62), (248, 33), (252, 1), (252, 61), (254, 62), (258, 33), (262, 1), (262, 61), (264, 62), (268, 33), (272, 1), (272, 61), (274, 62), (278, 33), (282, 1), (282, 61), (284, 62), (288, 33), (292, 1), (292, 61), (294, 62), (298, 33), (302, 1), (302, 61), (304, 62), (308, 33), (312, 1), (312, 61), (314, 62), (318, 33), (322, 1), (322, 61), (324, 62), (328, 33), (332, 1), (332, 61), (334, 62), (338, 33), (342, 1), (342, 61), (344, 62), (348, 33), (352, 1), (352, 61), (354, 62), (358, 33), (362, 1), (362, 61), (364, 62), (368, 33), (372, 1), (372, 61), (374, 62), (378, 33), (382, 1), (382, 61), (384, 62), (388, 33), (392, 1), (392, 61), (394, 62), (398, 33), (402, 1), (402, 61), (404, 62), (408, 33), (412, 1), (412, 61), (414, 62), (418, 33), (422, 1), (422, 61), (424, 62), (428, 33), (432, 1), (432, 61), (434, 62), (438, 33), (442, 1), (442, 61), (444, 62), (448, 33), (452, 1), (452, 61), (454, 62), (458, 33), (462, 1), (462, 61), (464, 62), (468, 33), (472, 1), (472, 61), (474, 62), (478, 33), (482, 1), (482, 61), (484, 62), (488, 33), (492, 1), (492, 61), (494, 62), (498, 33), (502, 1), (502, 61), (504, 62), (508, 33), (512, 1), (512, 61), (514, 62), (518, 33), (522, 1), (522, 61), (524, 62), (528, 33), (532, 1), (532, 61), (534, 62), (538, 33), (542, 1), (542, 61), (544, 62), (548, 33), (552, 1), (552, 61), (554, 62), (558, 33), (562, 1), (562, 61), (564, 62), (568, 33), (571, 1), (571, 61), (573, 62), (577, 33), (581, 1), (581, 61), (583, 62), (587, 33), (591, 1), (591, 61), (593, 62), (597, 33), (601, 1), (601, 61), (603, 62), (607, 33), (611, 1), (611, 61), (613, 62), (617, 33), (620, 1), (620, 61), (622, 62), (626, 33), (630, 1), (630, 61), (632, 62), (636, 33), (640, 1), (640, 61), (642, 62), (646, 33), (650, 1), (650, 61), (652, 62), (656, 33), (660, 1), (660, 61), (662, 62), (666, 33)]\n",
      "------------------------------------------------------------------------------------------------------------------------\n",
      "viverra: [(2, 4), (2, 53), (12, 4), (12, 53), (22, 4), (22, 53), (32, 4), (32, 53), (42, 4), (42, 53), (52, 4), (52, 53), (62, 4), (62, 53), (72, 4), (72, 53), (82, 4), (82, 53), (92, 4), (92, 53), (102, 4), (102, 53), (112, 4), (112, 53), (122, 4), (122, 53), (132, 4), (132, 53), (142, 4), (142, 53), (152, 4), (152, 53), (162, 4), (162, 53), (172, 4), (172, 53), (182, 4), (182, 53), (192, 4), (192, 53), (202, 4), (202, 53), (212, 4), (212, 53), (222, 4), (222, 53), (232, 4), (232, 53), (242, 4), (242, 53), (252, 4), (252, 53), (262, 4), (262, 53), (272, 4), (272, 53), (282, 4), (282, 53), (292, 4), (292, 53), (302, 4), (302, 53), (312, 4), (312, 53), (322, 4), (322, 53), (332, 4), (332, 53), (342, 4), (342, 53), (352, 4), (352, 53), (362, 4), (362, 53), (372, 4), (372, 53), (382, 4), (382, 53), (392, 4), (392, 53), (402, 4), (402, 53), (412, 4), (412, 53), (422, 4), (422, 53), (432, 4), (432, 53), (442, 4), (442, 53), (452, 4), (452, 53), (462, 4), (462, 53), (472, 4), (472, 53), (482, 4), (482, 53), (492, 4), (492, 53), (502, 4), (502, 53), (512, 4), (512, 53), (522, 4), (522, 53), (532, 4), (532, 53), (542, 4), (542, 53), (552, 4), (552, 53), (562, 4), (562, 53), (571, 4), (571, 53), (581, 4), (581, 53), (591, 4), (591, 53), (601, 4), (601, 53), (611, 4), (611, 53), (620, 4), (620, 53), (630, 4), (630, 53), (640, 4), (640, 53), (650, 4), (650, 53), (660, 4), (660, 53)]\n",
      "------------------------------------------------------------------------------------------------------------------------\n",
      "sed: [(2, 18), (2, 34), (10, 1), (12, 18), (12, 34), (20, 1), (22, 18), (22, 34), (30, 1), (32, 18), (32, 34), (40, 1), (42, 18), (42, 34), (50, 1), (52, 18), (52, 34), (60, 1), (62, 18), (62, 34), (70, 1), (72, 18), (72, 34), (80, 1), (82, 18), (82, 34), (90, 1), (92, 18), (92, 34), (100, 1), (102, 18), (102, 34), (110, 1), (112, 18), (112, 34), (120, 1), (122, 18), (122, 34), (130, 1), (132, 18), (132, 34), (140, 1), (142, 18), (142, 34), (150, 1), (152, 18), (152, 34), (160, 1), (162, 18), (162, 34), (170, 1), (172, 18), (172, 34), (180, 1), (182, 18), (182, 34), (190, 1), (192, 18), (192, 34), (200, 1), (202, 18), (202, 34), (210, 1), (212, 18), (212, 34), (220, 1), (222, 18), (222, 34), (230, 1), (232, 18), (232, 34), (240, 1), (242, 18), (242, 34), (250, 1), (252, 18), (252, 34), (260, 1), (262, 18), (262, 34), (270, 1), (272, 18), (272, 34), (280, 1), (282, 18), (282, 34), (290, 1), (292, 18), (292, 34), (300, 1), (302, 18), (302, 34), (310, 1), (312, 18), (312, 34), (320, 1), (322, 18), (322, 34), (330, 1), (332, 18), (332, 34), (340, 1), (342, 18), (342, 34), (350, 1), (352, 18), (352, 34), (360, 1), (362, 18), (362, 34), (370, 1), (372, 18), (372, 34), (380, 1), (382, 18), (382, 34), (390, 1), (392, 18), (392, 34), (400, 1), (402, 18), (402, 34), (410, 1), (412, 18), (412, 34), (420, 1), (422, 18), (422, 34), (430, 1), (432, 18), (432, 34), (440, 1), (442, 18), (442, 34), (450, 1), (452, 18), (452, 34), (460, 1), (462, 18), (462, 34), (470, 1), (472, 18), (472, 34), (480, 1), (482, 18), (482, 34), (490, 1), (492, 18), (492, 34), (500, 1), (502, 18), (502, 34), (510, 1), (512, 18), (512, 34), (520, 1), (522, 18), (522, 34), (530, 1), (532, 18), (532, 34), (540, 1), (542, 18), (542, 34), (550, 1), (552, 18), (552, 34), (560, 1), (562, 18), (562, 34), (570, 1), (571, 18), (571, 34), (579, 1), (581, 18), (581, 34), (589, 1), (591, 18), (591, 34), (599, 1), (601, 18), (601, 34), (609, 1), (611, 18), (611, 34), (619, 1), (620, 18), (620, 34), (628, 1), (630, 18), (630, 34), (638, 1), (640, 18), (640, 34), (648, 1), (650, 18), (650, 34), (658, 1), (660, 18), (660, 34), (668, 1)]\n",
      "------------------------------------------------------------------------------------------------------------------------\n",
      "nibh: [(2, 22), (3, 11), (5, 18), (12, 22), (13, 11), (15, 18), (22, 22), (23, 11), (25, 18), (32, 22), (33, 11), (35, 18), (42, 22), (43, 11), (45, 18), (52, 22), (53, 11), (55, 18), (62, 22), (63, 11), (65, 18), (72, 22), (73, 11), (75, 18), (82, 22), (83, 11), (85, 18), (92, 22), (93, 11), (95, 18), (102, 22), (103, 11), (105, 18), (112, 22), (113, 11), (115, 18), (122, 22), (123, 11), (125, 18), (132, 22), (133, 11), (135, 18), (142, 22), (143, 11), (145, 18), (152, 22), (153, 11), (155, 18), (162, 22), (163, 11), (165, 18), (172, 22), (173, 11), (175, 18), (182, 22), (183, 11), (185, 18), (192, 22), (193, 11), (195, 18), (202, 22), (203, 11), (205, 18), (212, 22), (213, 11), (215, 18), (222, 22), (223, 11), (225, 18), (232, 22), (233, 11), (235, 18), (242, 22), (243, 11), (245, 18), (252, 22), (253, 11), (255, 18), (262, 22), (263, 11), (265, 18), (272, 22), (273, 11), (275, 18), (282, 22), (283, 11), (285, 18), (292, 22), (293, 11), (295, 18), (302, 22), (303, 11), (305, 18), (312, 22), (313, 11), (315, 18), (322, 22), (323, 11), (325, 18), (332, 22), (333, 11), (335, 18), (342, 22), (343, 11), (345, 18), (352, 22), (353, 11), (355, 18), (362, 22), (363, 11), (365, 18), (372, 22), (373, 11), (375, 18), (382, 22), (383, 11), (385, 18), (392, 22), (393, 11), (395, 18), (402, 22), (403, 11), (405, 18), (412, 22), (413, 11), (415, 18), (422, 22), (423, 11), (425, 18), (432, 22), (433, 11), (435, 18), (442, 22), (443, 11), (445, 18), (452, 22), (453, 11), (455, 18), (462, 22), (463, 11), (465, 18), (472, 22), (473, 11), (475, 18), (482, 22), (483, 11), (485, 18), (492, 22), (493, 11), (495, 18), (502, 22), (503, 11), (505, 18), (512, 22), (513, 11), (515, 18), (522, 22), (523, 11), (525, 18), (532, 22), (533, 11), (535, 18), (542, 22), (543, 11), (545, 18), (552, 22), (553, 11), (555, 18), (562, 22), (563, 11), (565, 18), (571, 22), (572, 11), (574, 18), (581, 22), (582, 11), (584, 18), (591, 22), (592, 11), (594, 18), (601, 22), (602, 11), (604, 18), (611, 22), (612, 11), (614, 18), (620, 22), (621, 11), (623, 18), (630, 22), (631, 11), (633, 18), (640, 22), (641, 11), (643, 18), (650, 22), (651, 11), (653, 18), (660, 22), (661, 11), (663, 18)]\n",
      "------------------------------------------------------------------------------------------------------------------------\n",
      "semper: [(2, 27), (12, 27), (22, 27), (32, 27), (42, 27), (52, 27), (62, 27), (72, 27), (82, 27), (92, 27), (102, 27), (112, 27), (122, 27), (132, 27), (142, 27), (152, 27), (162, 27), (172, 27), (182, 27), (192, 27), (202, 27), (212, 27), (222, 27), (232, 27), (242, 27), (252, 27), (262, 27), (272, 27), (282, 27), (292, 27), (302, 27), (312, 27), (322, 27), (332, 27), (342, 27), (352, 27), (362, 27), (372, 27), (382, 27), (392, 27), (402, 27), (412, 27), (422, 27), (432, 27), (442, 27), (452, 27), (462, 27), (472, 27), (482, 27), (492, 27), (502, 27), (512, 27), (522, 27), (532, 27), (542, 27), (552, 27), (562, 27), (571, 27), (581, 27), (591, 27), (601, 27), (611, 27), (620, 27), (630, 27), (640, 27), (650, 27), (660, 27)]\n",
      "------------------------------------------------------------------------------------------------------------------------\n",
      "euismod: [(2, 38), (12, 38), (22, 38), (32, 38), (42, 38), (52, 38), (62, 38), (72, 38), (82, 38), (92, 38), (102, 38), (112, 38), (122, 38), (132, 38), (142, 38), (152, 38), (162, 38), (172, 38), (182, 38), (192, 38), (202, 38), (212, 38), (222, 38), (232, 38), (242, 38), (252, 38), (262, 38), (272, 38), (282, 38), (292, 38), (302, 38), (312, 38), (322, 38), (332, 38), (342, 38), (352, 38), (362, 38), (372, 38), (382, 38), (392, 38), (402, 38), (412, 38), (422, 38), (432, 38), (442, 38), (452, 38), (462, 38), (472, 38), (482, 38), (492, 38), (502, 38), (512, 38), (522, 38), (532, 38), (542, 38), (552, 38), (562, 38), (571, 38), (581, 38), (591, 38), (601, 38), (611, 38), (620, 38), (630, 38), (640, 38), (650, 38), (660, 38)]\n",
      "------------------------------------------------------------------------------------------------------------------------\n",
      "tellus: [(2, 46), (12, 46), (22, 46), (32, 46), (42, 46), (52, 46), (62, 46), (72, 46), (82, 46), (92, 46), (102, 46), (112, 46), (122, 46), (132, 46), (142, 46), (152, 46), (162, 46), (172, 46), (182, 46), (192, 46), (202, 46), (212, 46), (222, 46), (232, 46), (242, 46), (252, 46), (262, 46), (272, 46), (282, 46), (292, 46), (302, 46), (312, 46), (322, 46), (332, 46), (342, 46), (352, 46), (362, 46), (372, 46), (382, 46), (392, 46), (402, 46), (412, 46), (422, 46), (432, 46), (442, 46), (452, 46), (462, 46), (472, 46), (482, 46), (492, 46), (502, 46), (512, 46), (522, 46), (532, 46), (542, 46), (552, 46), (562, 46), (571, 46), (581, 46), (591, 46), (601, 46), (611, 46), (620, 46), (630, 46), (640, 46), (650, 46), (660, 46)]\n",
      "------------------------------------------------------------------------------------------------------------------------\n",
      "non: [(2, 64), (2, 74), (6, 21), (9, 9), (12, 64), (12, 74), (16, 21), (19, 9), (22, 64), (22, 74), (26, 21), (29, 9), (32, 64), (32, 74), (36, 21), (39, 9), (42, 64), (42, 74), (46, 21), (49, 9), (52, 64), (52, 74), (56, 21), (59, 9), (62, 64), (62, 74), (66, 21), (69, 9), (72, 64), (72, 74), (76, 21), (79, 9), (82, 64), (82, 74), (86, 21), (89, 9), (92, 64), (92, 74), (96, 21), (99, 9), (102, 64), (102, 74), (106, 21), (109, 9), (112, 64), (112, 74), (116, 21), (119, 9), (122, 64), (122, 74), (126, 21), (129, 9), (132, 64), (132, 74), (136, 21), (139, 9), (142, 64), (142, 74), (146, 21), (149, 9), (152, 64), (152, 74), (156, 21), (159, 9), (162, 64), (162, 74), (166, 21), (169, 9), (172, 64), (172, 74), (176, 21), (179, 9), (182, 64), (182, 74), (186, 21), (189, 9), (192, 64), (192, 74), (196, 21), (199, 9), (202, 64), (202, 74), (206, 21), (209, 9), (212, 64), (212, 74), (216, 21), (219, 9), (222, 64), (222, 74), (226, 21), (229, 9), (232, 64), (232, 74), (236, 21), (239, 9), (242, 64), (242, 74), (246, 21), (249, 9), (252, 64), (252, 74), (256, 21), (259, 9), (262, 64), (262, 74), (266, 21), (269, 9), (272, 64), (272, 74), (276, 21), (279, 9), (282, 64), (282, 74), (286, 21), (289, 9), (292, 64), (292, 74), (296, 21), (299, 9), (302, 64), (302, 74), (306, 21), (309, 9), (312, 64), (312, 74), (316, 21), (319, 9), (322, 64), (322, 74), (326, 21), (329, 9), (332, 64), (332, 74), (336, 21), (339, 9), (342, 64), (342, 74), (346, 21), (349, 9), (352, 64), (352, 74), (356, 21), (359, 9), (362, 64), (362, 74), (366, 21), (369, 9), (372, 64), (372, 74), (376, 21), (379, 9), (382, 64), (382, 74), (386, 21), (389, 9), (392, 64), (392, 74), (396, 21), (399, 9), (402, 64), (402, 74), (406, 21), (409, 9), (412, 64), (412, 74), (416, 21), (419, 9), (422, 64), (422, 74), (426, 21), (429, 9), (432, 64), (432, 74), (436, 21), (439, 9), (442, 64), (442, 74), (446, 21), (449, 9), (452, 64), (452, 74), (456, 21), (459, 9), (462, 64), (462, 74), (466, 21), (469, 9), (472, 64), (472, 74), (476, 21), (479, 9), (482, 64), (482, 74), (486, 21), (489, 9), (492, 64), (492, 74), (496, 21), (499, 9), (502, 64), (502, 74), (506, 21), (509, 9), (512, 64), (512, 74), (516, 21), (519, 9), (522, 64), (522, 74), (526, 21), (529, 9), (532, 64), (532, 74), (536, 21), (539, 9), (542, 64), (542, 74), (546, 21), (549, 9), (552, 64), (552, 74), (556, 21), (559, 9), (562, 64), (562, 74), (566, 21), (569, 9), (571, 64), (571, 74), (575, 21), (578, 9), (581, 64), (581, 74), (585, 21), (588, 9), (591, 64), (591, 74), (595, 21), (598, 9), (601, 64), (601, 74), (605, 21), (608, 9), (611, 64), (611, 74), (615, 21), (618, 9), (620, 64), (620, 74), (624, 21), (627, 9), (630, 64), (630, 74), (634, 21), (637, 9), (640, 64), (640, 74), (644, 21), (647, 9), (650, 64), (650, 74), (654, 21), (657, 9), (660, 64), (660, 74), (664, 21), (667, 9)]\n",
      "------------------------------------------------------------------------------------------------------------------------\n",
      "augue: [(2, 68), (12, 68), (22, 68), (32, 68), (42, 68), (52, 68), (62, 68), (72, 68), (82, 68), (92, 68), (102, 68), (112, 68), (122, 68), (132, 68), (142, 68), (152, 68), (162, 68), (172, 68), (182, 68), (192, 68), (202, 68), (212, 68), (222, 68), (232, 68), (242, 68), (252, 68), (262, 68), (272, 68), (282, 68), (292, 68), (302, 68), (312, 68), (322, 68), (332, 68), (342, 68), (352, 68), (362, 68), (372, 68), (382, 68), (392, 68), (402, 68), (412, 68), (422, 68), (432, 68), (442, 68), (452, 68), (462, 68), (472, 68), (482, 68), (492, 68), (502, 68), (512, 68), (522, 68), (532, 68), (542, 68), (552, 68), (562, 68), (571, 68), (581, 68), (591, 68), (601, 68), (611, 68), (620, 68), (630, 68), (640, 68), (650, 68), (660, 68)]\n",
      "------------------------------------------------------------------------------------------------------------------------\n",
      "accumsan: [(2, 84), (12, 84), (22, 84), (32, 84), (42, 84), (52, 84), (62, 84), (72, 84), (82, 84), (92, 84), (102, 84), (112, 84), (122, 84), (132, 84), (142, 84), (152, 84), (162, 84), (172, 84), (182, 84), (192, 84), (202, 84), (212, 84), (222, 84), (232, 84), (242, 84), (252, 84), (262, 84), (272, 84), (282, 84), (292, 84), (302, 84), (312, 84), (322, 84), (332, 84), (342, 84), (352, 84), (362, 84), (372, 84), (382, 84), (392, 84), (402, 84), (412, 84), (422, 84), (432, 84), (442, 84), (452, 84), (462, 84), (472, 84), (482, 84), (492, 84), (502, 84), (512, 84), (522, 84), (532, 84), (542, 84), (552, 84), (562, 84), (571, 84), (581, 84), (591, 84), (601, 84), (611, 84), (620, 84), (630, 84), (640, 84), (650, 84), (660, 84)]\n",
      "------------------------------------------------------------------------------------------------------------------------\n",
      "phasellus: [(3, 1), (13, 1), (23, 1), (33, 1), (43, 1), (53, 1), (63, 1), (73, 1), (83, 1), (93, 1), (103, 1), (113, 1), (123, 1), (133, 1), (143, 1), (153, 1), (163, 1), (173, 1), (183, 1), (193, 1), (203, 1), (213, 1), (223, 1), (233, 1), (243, 1), (253, 1), (263, 1), (273, 1), (283, 1), (293, 1), (303, 1), (313, 1), (323, 1), (333, 1), (343, 1), (353, 1), (363, 1), (373, 1), (383, 1), (393, 1), (403, 1), (413, 1), (423, 1), (433, 1), (443, 1), (453, 1), (463, 1), (473, 1), (483, 1), (493, 1), (503, 1), (513, 1), (523, 1), (533, 1), (543, 1), (553, 1), (563, 1), (572, 1), (582, 1), (592, 1), (602, 1), (612, 1), (621, 1), (631, 1), (641, 1), (651, 1), (661, 1)]\n",
      "------------------------------------------------------------------------------------------------------------------------\n",
      "lectus: [(3, 16), (3, 33), (13, 16), (13, 33), (23, 16), (23, 33), (33, 16), (33, 33), (43, 16), (43, 33), (53, 16), (53, 33), (63, 16), (63, 33), (73, 16), (73, 33), (83, 16), (83, 33), (93, 16), (93, 33), (103, 16), (103, 33), (113, 16), (113, 33), (123, 16), (123, 33), (133, 16), (133, 33), (143, 16), (143, 33), (153, 16), (153, 33), (163, 16), (163, 33), (173, 16), (173, 33), (183, 16), (183, 33), (193, 16), (193, 33), (203, 16), (203, 33), (213, 16), (213, 33), (223, 16), (223, 33), (233, 16), (233, 33), (243, 16), (243, 33), (253, 16), (253, 33), (263, 16), (263, 33), (273, 16), (273, 33), (283, 16), (283, 33), (293, 16), (293, 33), (303, 16), (303, 33), (313, 16), (313, 33), (323, 16), (323, 33), (333, 16), (333, 33), (343, 16), (343, 33), (353, 16), (353, 33), (363, 16), (363, 33), (373, 16), (373, 33), (383, 16), (383, 33), (393, 16), (393, 33), (403, 16), (403, 33), (413, 16), (413, 33), (423, 16), (423, 33), (433, 16), (433, 33), (443, 16), (443, 33), (453, 16), (453, 33), (463, 16), (463, 33), (473, 16), (473, 33), (483, 16), (483, 33), (493, 16), (493, 33), (503, 16), (503, 33), (513, 16), (513, 33), (523, 16), (523, 33), (533, 16), (533, 33), (543, 16), (543, 33), (553, 16), (553, 33), (563, 16), (563, 33), (572, 16), (572, 33), (582, 16), (582, 33), (592, 16), (592, 33), (602, 16), (602, 33), (612, 16), (612, 33), (621, 16), (621, 33), (631, 16), (631, 33), (641, 16), (641, 33), (651, 16), (651, 33), (661, 16), (661, 33)]\n",
      "------------------------------------------------------------------------------------------------------------------------\n",
      "tempus: [(3, 23), (8, 36), (13, 23), (18, 36), (23, 23), (28, 36), (33, 23), (38, 36), (43, 23), (48, 36), (53, 23), (58, 36), (63, 23), (68, 36), (73, 23), (78, 36), (83, 23), (88, 36), (93, 23), (98, 36), (103, 23), (108, 36), (113, 23), (118, 36), (123, 23), (128, 36), (133, 23), (138, 36), (143, 23), (148, 36), (153, 23), (158, 36), (163, 23), (168, 36), (173, 23), (178, 36), (183, 23), (188, 36), (193, 23), (198, 36), (203, 23), (208, 36), (213, 23), (218, 36), (223, 23), (228, 36), (233, 23), (238, 36), (243, 23), (248, 36), (253, 23), (258, 36), (263, 23), (268, 36), (273, 23), (278, 36), (283, 23), (288, 36), (293, 23), (298, 36), (303, 23), (308, 36), (313, 23), (318, 36), (323, 23), (328, 36), (333, 23), (338, 36), (343, 23), (348, 36), (353, 23), (358, 36), (363, 23), (368, 36), (373, 23), (378, 36), (383, 23), (388, 36), (393, 23), (398, 36), (403, 23), (408, 36), (413, 23), (418, 36), (423, 23), (428, 36), (433, 23), (438, 36), (443, 23), (448, 36), (453, 23), (458, 36), (463, 23), (468, 36), (473, 23), (478, 36), (483, 23), (488, 36), (493, 23), (498, 36), (503, 23), (508, 36), (513, 23), (518, 36), (523, 23), (528, 36), (533, 23), (538, 36), (543, 23), (548, 36), (553, 23), (558, 36), (563, 23), (568, 36), (572, 23), (577, 36), (582, 23), (587, 36), (592, 23), (597, 36), (602, 23), (607, 36), (612, 23), (617, 36), (621, 23), (626, 36), (631, 23), (636, 36), (641, 23), (646, 36), (651, 23), (656, 36), (661, 23), (666, 36)]\n",
      "------------------------------------------------------------------------------------------------------------------------\n",
      "at: [(3, 30), (10, 25), (13, 30), (20, 25), (23, 30), (30, 25), (33, 30), (40, 25), (43, 30), (50, 25), (53, 30), (60, 25), (63, 30), (70, 25), (73, 30), (80, 25), (83, 30), (90, 25), (93, 30), (100, 25), (103, 30), (110, 25), (113, 30), (120, 25), (123, 30), (130, 25), (133, 30), (140, 25), (143, 30), (150, 25), (153, 30), (160, 25), (163, 30), (170, 25), (173, 30), (180, 25), (183, 30), (190, 25), (193, 30), (200, 25), (203, 30), (210, 25), (213, 30), (220, 25), (223, 30), (230, 25), (233, 30), (240, 25), (243, 30), (250, 25), (253, 30), (260, 25), (263, 30), (270, 25), (273, 30), (280, 25), (283, 30), (290, 25), (293, 30), (300, 25), (303, 30), (310, 25), (313, 30), (320, 25), (323, 30), (330, 25), (333, 30), (340, 25), (343, 30), (350, 25), (353, 30), (360, 25), (363, 30), (370, 25), (373, 30), (380, 25), (383, 30), (390, 25), (393, 30), (400, 25), (403, 30), (410, 25), (413, 30), (420, 25), (423, 30), (430, 25), (433, 30), (440, 25), (443, 30), (450, 25), (453, 30), (460, 25), (463, 30), (470, 25), (473, 30), (480, 25), (483, 30), (490, 25), (493, 30), (500, 25), (503, 30), (510, 25), (513, 30), (520, 25), (523, 30), (530, 25), (533, 30), (540, 25), (543, 30), (550, 25), (553, 30), (560, 25), (563, 30), (570, 25), (572, 30), (579, 25), (582, 30), (589, 25), (592, 30), (599, 25), (602, 30), (609, 25), (612, 30), (619, 25), (621, 30), (628, 25), (631, 30), (638, 25), (641, 30), (648, 25), (651, 30), (658, 25), (661, 30), (668, 25)]\n",
      "------------------------------------------------------------------------------------------------------------------------\n",
      "venenatis: [(3, 45), (13, 45), (23, 45), (33, 45), (43, 45), (53, 45), (63, 45), (73, 45), (83, 45), (93, 45), (103, 45), (113, 45), (123, 45), (133, 45), (143, 45), (153, 45), (163, 45), (173, 45), (183, 45), (193, 45), (203, 45), (213, 45), (223, 45), (233, 45), (243, 45), (253, 45), (263, 45), (273, 45), (283, 45), (293, 45), (303, 45), (313, 45), (323, 45), (333, 45), (343, 45), (353, 45), (363, 45), (373, 45), (383, 45), (393, 45), (403, 45), (413, 45), (423, 45), (433, 45), (443, 45), (453, 45), (463, 45), (473, 45), (483, 45), (493, 45), (503, 45), (513, 45), (523, 45), (533, 45), (543, 45), (553, 45), (563, 45), (572, 45), (582, 45), (592, 45), (602, 45), (612, 45), (621, 45), (631, 45), (641, 45), (651, 45), (661, 45)]\n",
      "------------------------------------------------------------------------------------------------------------------------\n",
      "ultricies: [(3, 55), (13, 55), (23, 55), (33, 55), (43, 55), (53, 55), (63, 55), (73, 55), (83, 55), (93, 55), (103, 55), (113, 55), (123, 55), (133, 55), (143, 55), (153, 55), (163, 55), (173, 55), (183, 55), (193, 55), (203, 55), (213, 55), (223, 55), (233, 55), (243, 55), (253, 55), (263, 55), (273, 55), (283, 55), (293, 55), (303, 55), (313, 55), (323, 55), (333, 55), (343, 55), (353, 55), (363, 55), (373, 55), (383, 55), (393, 55), (403, 55), (413, 55), (423, 55), (433, 55), (443, 55), (453, 55), (463, 55), (473, 55), (483, 55), (493, 55), (503, 55), (513, 55), (523, 55), (533, 55), (543, 55), (553, 55), (563, 55), (572, 55), (582, 55), (592, 55), (602, 55), (612, 55), (621, 55), (631, 55), (641, 55), (651, 55), (661, 55)]\n",
      "------------------------------------------------------------------------------------------------------------------------\n",
      "metus: [(3, 65), (13, 65), (23, 65), (33, 65), (43, 65), (53, 65), (63, 65), (73, 65), (83, 65), (93, 65), (103, 65), (113, 65), (123, 65), (133, 65), (143, 65), (153, 65), (163, 65), (173, 65), (183, 65), (193, 65), (203, 65), (213, 65), (223, 65), (233, 65), (243, 65), (253, 65), (263, 65), (273, 65), (283, 65), (293, 65), (303, 65), (313, 65), (323, 65), (333, 65), (343, 65), (353, 65), (363, 65), (373, 65), (383, 65), (393, 65), (403, 65), (413, 65), (423, 65), (433, 65), (443, 65), (453, 65), (463, 65), (473, 65), (483, 65), (493, 65), (503, 65), (513, 65), (523, 65), (533, 65), (543, 65), (553, 65), (563, 65), (572, 65), (582, 65), (592, 65), (602, 65), (612, 65), (621, 65), (631, 65), (641, 65), (651, 65), (661, 65)]\n",
      "------------------------------------------------------------------------------------------------------------------------\n",
      "praesent: [(4, 1), (14, 1), (24, 1), (34, 1), (44, 1), (54, 1), (64, 1), (74, 1), (84, 1), (94, 1), (104, 1), (114, 1), (124, 1), (134, 1), (144, 1), (154, 1), (164, 1), (174, 1), (184, 1), (194, 1), (204, 1), (214, 1), (224, 1), (234, 1), (244, 1), (254, 1), (264, 1), (274, 1), (284, 1), (294, 1), (304, 1), (314, 1), (324, 1), (334, 1), (344, 1), (354, 1), (364, 1), (374, 1), (384, 1), (394, 1), (404, 1), (414, 1), (424, 1), (434, 1), (444, 1), (454, 1), (464, 1), (474, 1), (484, 1), (494, 1), (504, 1), (514, 1), (524, 1), (534, 1), (544, 1), (554, 1), (564, 1), (573, 1), (583, 1), (593, 1), (603, 1), (613, 1), (622, 1), (632, 1), (642, 1), (652, 1), (662, 1)]\n",
      "------------------------------------------------------------------------------------------------------------------------\n",
      "ut: [(4, 10), (5, 27), (14, 10), (15, 27), (24, 10), (25, 27), (34, 10), (35, 27), (44, 10), (45, 27), (54, 10), (55, 27), (64, 10), (65, 27), (74, 10), (75, 27), (84, 10), (85, 27), (94, 10), (95, 27), (104, 10), (105, 27), (114, 10), (115, 27), (124, 10), (125, 27), (134, 10), (135, 27), (144, 10), (145, 27), (154, 10), (155, 27), (164, 10), (165, 27), (174, 10), (175, 27), (184, 10), (185, 27), (194, 10), (195, 27), (204, 10), (205, 27), (214, 10), (215, 27), (224, 10), (225, 27), (234, 10), (235, 27), (244, 10), (245, 27), (254, 10), (255, 27), (264, 10), (265, 27), (274, 10), (275, 27), (284, 10), (285, 27), (294, 10), (295, 27), (304, 10), (305, 27), (314, 10), (315, 27), (324, 10), (325, 27), (334, 10), (335, 27), (344, 10), (345, 27), (354, 10), (355, 27), (364, 10), (365, 27), (374, 10), (375, 27), (384, 10), (385, 27), (394, 10), (395, 27), (404, 10), (405, 27), (414, 10), (415, 27), (424, 10), (425, 27), (434, 10), (435, 27), (444, 10), (445, 27), (454, 10), (455, 27), (464, 10), (465, 27), (474, 10), (475, 27), (484, 10), (485, 27), (494, 10), (495, 27), (504, 10), (505, 27), (514, 10), (515, 27), (524, 10), (525, 27), (534, 10), (535, 27), (544, 10), (545, 27), (554, 10), (555, 27), (564, 10), (565, 27), (573, 10), (574, 27), (583, 10), (584, 27), (593, 10), (594, 27), (603, 10), (604, 27), (613, 10), (614, 27), (622, 10), (623, 27), (632, 10), (633, 27), (642, 10), (643, 27), (652, 10), (653, 27), (662, 10), (663, 27)]\n",
      "------------------------------------------------------------------------------------------------------------------------\n",
      "mauris: [(4, 13), (5, 38), (6, 2), (9, 23), (14, 13), (15, 38), (16, 2), (19, 23), (24, 13), (25, 38), (26, 2), (29, 23), (34, 13), (35, 38), (36, 2), (39, 23), (44, 13), (45, 38), (46, 2), (49, 23), (54, 13), (55, 38), (56, 2), (59, 23), (64, 13), (65, 38), (66, 2), (69, 23), (74, 13), (75, 38), (76, 2), (79, 23), (84, 13), (85, 38), (86, 2), (89, 23), (94, 13), (95, 38), (96, 2), (99, 23), (104, 13), (105, 38), (106, 2), (109, 23), (114, 13), (115, 38), (116, 2), (119, 23), (124, 13), (125, 38), (126, 2), (129, 23), (134, 13), (135, 38), (136, 2), (139, 23), (144, 13), (145, 38), (146, 2), (149, 23), (154, 13), (155, 38), (156, 2), (159, 23), (164, 13), (165, 38), (166, 2), (169, 23), (174, 13), (175, 38), (176, 2), (179, 23), (184, 13), (185, 38), (186, 2), (189, 23), (194, 13), (195, 38), (196, 2), (199, 23), (204, 13), (205, 38), (206, 2), (209, 23), (214, 13), (215, 38), (216, 2), (219, 23), (224, 13), (225, 38), (226, 2), (229, 23), (234, 13), (235, 38), (236, 2), (239, 23), (244, 13), (245, 38), (246, 2), (249, 23), (254, 13), (255, 38), (256, 2), (259, 23), (264, 13), (265, 38), (266, 2), (269, 23), (274, 13), (275, 38), (276, 2), (279, 23), (284, 13), (285, 38), (286, 2), (289, 23), (294, 13), (295, 38), (296, 2), (299, 23), (304, 13), (305, 38), (306, 2), (309, 23), (314, 13), (315, 38), (316, 2), (319, 23), (324, 13), (325, 38), (326, 2), (329, 23), (334, 13), (335, 38), (336, 2), (339, 23), (344, 13), (345, 38), (346, 2), (349, 23), (354, 13), (355, 38), (356, 2), (359, 23), (364, 13), (365, 38), (366, 2), (369, 23), (374, 13), (375, 38), (376, 2), (379, 23), (384, 13), (385, 38), (386, 2), (389, 23), (394, 13), (395, 38), (396, 2), (399, 23), (404, 13), (405, 38), (406, 2), (409, 23), (414, 13), (415, 38), (416, 2), (419, 23), (424, 13), (425, 38), (426, 2), (429, 23), (434, 13), (435, 38), (436, 2), (439, 23), (444, 13), (445, 38), (446, 2), (449, 23), (454, 13), (455, 38), (456, 2), (459, 23), (464, 13), (465, 38), (466, 2), (469, 23), (474, 13), (475, 38), (476, 2), (479, 23), (484, 13), (485, 38), (486, 2), (489, 23), (494, 13), (495, 38), (496, 2), (499, 23), (504, 13), (505, 38), (506, 2), (509, 23), (514, 13), (515, 38), (516, 2), (519, 23), (524, 13), (525, 38), (526, 2), (529, 23), (534, 13), (535, 38), (536, 2), (539, 23), (544, 13), (545, 38), (546, 2), (549, 23), (554, 13), (555, 38), (556, 2), (559, 23), (564, 13), (565, 38), (566, 2), (569, 23), (573, 13), (574, 38), (575, 2), (578, 23), (583, 13), (584, 38), (585, 2), (588, 23), (593, 13), (594, 38), (595, 2), (598, 23), (603, 13), (604, 38), (605, 2), (608, 23), (613, 13), (614, 38), (615, 2), (618, 23), (622, 13), (623, 38), (624, 2), (627, 23), (632, 13), (633, 38), (634, 2), (637, 23), (642, 13), (643, 38), (644, 2), (647, 23), (652, 13), (653, 38), (654, 2), (657, 23), (662, 13), (663, 38), (664, 2), (667, 23)]\n",
      "------------------------------------------------------------------------------------------------------------------------\n",
      "sagittis: [(4, 20), (14, 20), (24, 20), (34, 20), (44, 20), (54, 20), (64, 20), (74, 20), (84, 20), (94, 20), (104, 20), (114, 20), (124, 20), (134, 20), (144, 20), (154, 20), (164, 20), (174, 20), (184, 20), (194, 20), (204, 20), (214, 20), (224, 20), (234, 20), (244, 20), (254, 20), (264, 20), (274, 20), (284, 20), (294, 20), (304, 20), (314, 20), (324, 20), (334, 20), (344, 20), (354, 20), (364, 20), (374, 20), (384, 20), (394, 20), (404, 20), (414, 20), (424, 20), (434, 20), (444, 20), (454, 20), (464, 20), (474, 20), (484, 20), (494, 20), (504, 20), (514, 20), (524, 20), (534, 20), (544, 20), (554, 20), (564, 20), (573, 20), (583, 20), (593, 20), (603, 20), (613, 20), (622, 20), (632, 20), (642, 20), (652, 20), (662, 20)]\n",
      "------------------------------------------------------------------------------------------------------------------------\n",
      "hendrerit: [(4, 29), (7, 28), (14, 29), (17, 28), (24, 29), (27, 28), (34, 29), (37, 28), (44, 29), (47, 28), (54, 29), (57, 28), (64, 29), (67, 28), (74, 29), (77, 28), (84, 29), (87, 28), (94, 29), (97, 28), (104, 29), (107, 28), (114, 29), (117, 28), (124, 29), (127, 28), (134, 29), (137, 28), (144, 29), (147, 28), (154, 29), (157, 28), (164, 29), (167, 28), (174, 29), (177, 28), (184, 29), (187, 28), (194, 29), (197, 28), (204, 29), (207, 28), (214, 29), (217, 28), (224, 29), (227, 28), (234, 29), (237, 28), (244, 29), (247, 28), (254, 29), (257, 28), (264, 29), (267, 28), (274, 29), (277, 28), (284, 29), (287, 28), (294, 29), (297, 28), (304, 29), (307, 28), (314, 29), (317, 28), (324, 29), (327, 28), (334, 29), (337, 28), (344, 29), (347, 28), (354, 29), (357, 28), (364, 29), (367, 28), (374, 29), (377, 28), (384, 29), (387, 28), (394, 29), (397, 28), (404, 29), (407, 28), (414, 29), (417, 28), (424, 29), (427, 28), (434, 29), (437, 28), (444, 29), (447, 28), (454, 29), (457, 28), (464, 29), (467, 28), (474, 29), (477, 28), (484, 29), (487, 28), (494, 29), (497, 28), (504, 29), (507, 28), (514, 29), (517, 28), (524, 29), (527, 28), (534, 29), (537, 28), (544, 29), (547, 28), (554, 29), (557, 28), (564, 29), (567, 28), (573, 29), (576, 28), (583, 29), (586, 28), (593, 29), (596, 28), (603, 29), (606, 28), (613, 29), (616, 28), (622, 29), (625, 28), (632, 29), (635, 28), (642, 29), (645, 28), (652, 29), (655, 28), (662, 29), (665, 28)]\n",
      "------------------------------------------------------------------------------------------------------------------------\n",
      "ante: [(4, 39), (14, 39), (24, 39), (34, 39), (44, 39), (54, 39), (64, 39), (74, 39), (84, 39), (94, 39), (104, 39), (114, 39), (124, 39), (134, 39), (144, 39), (154, 39), (164, 39), (174, 39), (184, 39), (194, 39), (204, 39), (214, 39), (224, 39), (234, 39), (244, 39), (254, 39), (264, 39), (274, 39), (284, 39), (294, 39), (304, 39), (314, 39), (324, 39), (334, 39), (344, 39), (354, 39), (364, 39), (374, 39), (384, 39), (394, 39), (404, 39), (414, 39), (424, 39), (434, 39), (444, 39), (454, 39), (464, 39), (474, 39), (484, 39), (494, 39), (504, 39), (514, 39), (524, 39), (534, 39), (544, 39), (554, 39), (564, 39), (573, 39), (583, 39), (593, 39), (603, 39), (613, 39), (622, 39), (632, 39), (642, 39), (652, 39), (662, 39)]\n",
      "------------------------------------------------------------------------------------------------------------------------\n",
      "eu: [(4, 44), (14, 44), (24, 44), (34, 44), (44, 44), (54, 44), (64, 44), (74, 44), (84, 44), (94, 44), (104, 44), (114, 44), (124, 44), (134, 44), (144, 44), (154, 44), (164, 44), (174, 44), (184, 44), (194, 44), (204, 44), (214, 44), (224, 44), (234, 44), (244, 44), (254, 44), (264, 44), (274, 44), (284, 44), (294, 44), (304, 44), (314, 44), (324, 44), (334, 44), (344, 44), (354, 44), (364, 44), (374, 44), (384, 44), (394, 44), (404, 44), (414, 44), (424, 44), (434, 44), (444, 44), (454, 44), (464, 44), (474, 44), (484, 44), (494, 44), (504, 44), (514, 44), (524, 44), (534, 44), (544, 44), (554, 44), (564, 44), (573, 44), (583, 44), (593, 44), (603, 44), (613, 44), (622, 44), (632, 44), (642, 44), (652, 44), (662, 44)]\n",
      "------------------------------------------------------------------------------------------------------------------------\n",
      "fringilla: [(4, 47), (7, 85), (14, 47), (17, 85), (24, 47), (27, 85), (34, 47), (37, 85), (44, 47), (47, 85), (54, 47), (57, 85), (64, 47), (67, 85), (74, 47), (77, 85), (84, 47), (87, 85), (94, 47), (97, 85), (104, 47), (107, 85), (114, 47), (117, 85), (124, 47), (127, 85), (134, 47), (137, 85), (144, 47), (147, 85), (154, 47), (157, 85), (164, 47), (167, 85), (174, 47), (177, 85), (184, 47), (187, 85), (194, 47), (197, 85), (204, 47), (207, 85), (214, 47), (217, 85), (224, 47), (227, 85), (234, 47), (237, 85), (244, 47), (247, 85), (254, 47), (257, 85), (264, 47), (267, 85), (274, 47), (277, 85), (284, 47), (287, 85), (294, 47), (297, 85), (304, 47), (307, 85), (314, 47), (317, 85), (324, 47), (327, 85), (334, 47), (337, 85), (344, 47), (347, 85), (354, 47), (357, 85), (364, 47), (367, 85), (374, 47), (377, 85), (384, 47), (387, 85), (394, 47), (397, 85), (404, 47), (407, 85), (414, 47), (417, 85), (424, 47), (427, 85), (434, 47), (437, 85), (444, 47), (447, 85), (454, 47), (457, 85), (464, 47), (467, 85), (474, 47), (477, 85), (484, 47), (487, 85), (494, 47), (497, 85), (504, 47), (507, 85), (514, 47), (517, 85), (524, 47), (527, 85), (534, 47), (537, 85), (544, 47), (547, 85), (554, 47), (557, 85), (564, 47), (567, 85), (573, 47), (576, 85), (583, 47), (586, 85), (593, 47), (596, 85), (603, 47), (606, 85), (613, 47), (616, 85), (622, 47), (625, 85), (632, 47), (635, 85), (642, 47), (645, 85), (652, 47), (655, 85), (662, 47), (665, 85)]\n",
      "------------------------------------------------------------------------------------------------------------------------\n",
      "maximus: [(4, 65), (14, 65), (24, 65), (34, 65), (44, 65), (54, 65), (64, 65), (74, 65), (84, 65), (94, 65), (104, 65), (114, 65), (124, 65), (134, 65), (144, 65), (154, 65), (164, 65), (174, 65), (184, 65), (194, 65), (204, 65), (214, 65), (224, 65), (234, 65), (244, 65), (254, 65), (264, 65), (274, 65), (284, 65), (294, 65), (304, 65), (314, 65), (324, 65), (334, 65), (344, 65), (354, 65), (364, 65), (374, 65), (384, 65), (394, 65), (404, 65), (414, 65), (424, 65), (434, 65), (444, 65), (454, 65), (464, 65), (474, 65), (484, 65), (494, 65), (504, 65), (514, 65), (524, 65), (534, 65), (544, 65), (554, 65), (564, 65), (573, 65), (583, 65), (593, 65), (603, 65), (613, 65), (622, 65), (632, 65), (642, 65), (652, 65), (662, 65)]\n",
      "------------------------------------------------------------------------------------------------------------------------\n",
      "nisi: [(4, 73), (14, 73), (24, 73), (34, 73), (44, 73), (54, 73), (64, 73), (74, 73), (84, 73), (94, 73), (104, 73), (114, 73), (124, 73), (134, 73), (144, 73), (154, 73), (164, 73), (174, 73), (184, 73), (194, 73), (204, 73), (214, 73), (224, 73), (234, 73), (244, 73), (254, 73), (264, 73), (274, 73), (284, 73), (294, 73), (304, 73), (314, 73), (324, 73), (334, 73), (344, 73), (354, 73), (364, 73), (374, 73), (384, 73), (394, 73), (404, 73), (414, 73), (424, 73), (434, 73), (444, 73), (454, 73), (464, 73), (474, 73), (484, 73), (494, 73), (504, 73), (514, 73), (524, 73), (534, 73), (544, 73), (554, 73), (564, 73), (573, 73), (583, 73), (593, 73), (603, 73), (613, 73), (622, 73), (632, 73), (642, 73), (652, 73), (662, 73)]\n",
      "------------------------------------------------------------------------------------------------------------------------\n",
      "magna: [(4, 78), (14, 78), (24, 78), (34, 78), (44, 78), (54, 78), (64, 78), (74, 78), (84, 78), (94, 78), (104, 78), (114, 78), (124, 78), (134, 78), (144, 78), (154, 78), (164, 78), (174, 78), (184, 78), (194, 78), (204, 78), (214, 78), (224, 78), (234, 78), (244, 78), (254, 78), (264, 78), (274, 78), (284, 78), (294, 78), (304, 78), (314, 78), (324, 78), (334, 78), (344, 78), (354, 78), (364, 78), (374, 78), (384, 78), (394, 78), (404, 78), (414, 78), (424, 78), (434, 78), (444, 78), (454, 78), (464, 78), (474, 78), (484, 78), (494, 78), (504, 78), (514, 78), (524, 78), (534, 78), (544, 78), (554, 78), (564, 78), (573, 78), (583, 78), (593, 78), (603, 78), (613, 78), (622, 78), (632, 78), (642, 78), (652, 78), (662, 78)]\n",
      "------------------------------------------------------------------------------------------------------------------------\n",
      "a: [(4, 84), (14, 84), (24, 84), (34, 84), (44, 84), (54, 84), (64, 84), (74, 84), (84, 84), (94, 84), (104, 84), (114, 84), (124, 84), (134, 84), (144, 84), (154, 84), (164, 84), (174, 84), (184, 84), (194, 84), (204, 84), (214, 84), (224, 84), (234, 84), (244, 84), (254, 84), (264, 84), (274, 84), (284, 84), (294, 84), (304, 84), (314, 84), (324, 84), (334, 84), (344, 84), (354, 84), (364, 84), (374, 84), (384, 84), (394, 84), (404, 84), (414, 84), (424, 84), (434, 84), (444, 84), (454, 84), (464, 84), (474, 84), (484, 84), (494, 84), (504, 84), (514, 84), (524, 84), (534, 84), (544, 84), (554, 84), (564, 84), (573, 84), (583, 84), (593, 84), (603, 84), (613, 84), (622, 84), (632, 84), (642, 84), (652, 84), (662, 84)]\n",
      "------------------------------------------------------------------------------------------------------------------------\n",
      "luctus: [(4, 86), (7, 78), (14, 86), (17, 78), (24, 86), (27, 78), (34, 86), (37, 78), (44, 86), (47, 78), (54, 86), (57, 78), (64, 86), (67, 78), (74, 86), (77, 78), (84, 86), (87, 78), (94, 86), (97, 78), (104, 86), (107, 78), (114, 86), (117, 78), (124, 86), (127, 78), (134, 86), (137, 78), (144, 86), (147, 78), (154, 86), (157, 78), (164, 86), (167, 78), (174, 86), (177, 78), (184, 86), (187, 78), (194, 86), (197, 78), (204, 86), (207, 78), (214, 86), (217, 78), (224, 86), (227, 78), (234, 86), (237, 78), (244, 86), (247, 78), (254, 86), (257, 78), (264, 86), (267, 78), (274, 86), (277, 78), (284, 86), (287, 78), (294, 86), (297, 78), (304, 86), (307, 78), (314, 86), (317, 78), (324, 86), (327, 78), (334, 86), (337, 78), (344, 86), (347, 78), (354, 86), (357, 78), (364, 86), (367, 78), (374, 86), (377, 78), (384, 86), (387, 78), (394, 86), (397, 78), (404, 86), (407, 78), (414, 86), (417, 78), (424, 86), (427, 78), (434, 86), (437, 78), (444, 86), (447, 78), (454, 86), (457, 78), (464, 86), (467, 78), (474, 86), (477, 78), (484, 86), (487, 78), (494, 86), (497, 78), (504, 86), (507, 78), (514, 86), (517, 78), (524, 86), (527, 78), (534, 86), (537, 78), (544, 86), (547, 78), (554, 86), (557, 78), (564, 86), (567, 78), (573, 86), (576, 78), (583, 86), (586, 78), (593, 86), (596, 78), (603, 86), (606, 78), (613, 86), (616, 78), (622, 86), (625, 78), (632, 86), (635, 78), (642, 86), (645, 78), (652, 86), (655, 78), (662, 86), (665, 78)]\n",
      "------------------------------------------------------------------------------------------------------------------------\n",
      "cursus: [(4, 98), (14, 98), (24, 98), (34, 98), (44, 98), (54, 98), (64, 98), (74, 98), (84, 98), (94, 98), (104, 98), (114, 98), (124, 98), (134, 98), (144, 98), (154, 98), (164, 98), (174, 98), (184, 98), (194, 98), (204, 98), (214, 98), (224, 98), (234, 98), (244, 98), (254, 98), (264, 98), (274, 98), (284, 98), (294, 98), (304, 98), (314, 98), (324, 98), (334, 98), (344, 98), (354, 98), (364, 98), (374, 98), (384, 98), (394, 98), (404, 98), (414, 98), (424, 98), (434, 98), (444, 98), (454, 98), (464, 98), (474, 98), (484, 98), (494, 98), (504, 98), (514, 98), (524, 98), (534, 98), (544, 98), (554, 98), (564, 98), (573, 98), (583, 98), (593, 98), (603, 98), (613, 98), (622, 98), (632, 98), (642, 98), (652, 98), (662, 98)]\n",
      "------------------------------------------------------------------------------------------------------------------------\n",
      "vitae: [(4, 105), (14, 105), (24, 105), (34, 105), (44, 105), (54, 105), (64, 105), (74, 105), (84, 105), (94, 105), (104, 105), (114, 105), (124, 105), (134, 105), (144, 105), (154, 105), (164, 105), (174, 105), (184, 105), (194, 105), (204, 105), (214, 105), (224, 105), (234, 105), (244, 105), (254, 105), (264, 105), (274, 105), (284, 105), (294, 105), (304, 105), (314, 105), (324, 105), (334, 105), (344, 105), (354, 105), (364, 105), (374, 105), (384, 105), (394, 105), (404, 105), (414, 105), (424, 105), (434, 105), (444, 105), (454, 105), (464, 105), (474, 105), (484, 105), (494, 105), (504, 105), (514, 105), (524, 105), (534, 105), (544, 105), (554, 105), (564, 105), (573, 105), (583, 105), (593, 105), (603, 105), (613, 105), (622, 105), (632, 105), (642, 105), (652, 105), (662, 105)]\n",
      "------------------------------------------------------------------------------------------------------------------------\n",
      "vivamus: [(5, 1), (15, 1), (25, 1), (35, 1), (45, 1), (55, 1), (65, 1), (75, 1), (85, 1), (95, 1), (105, 1), (115, 1), (125, 1), (135, 1), (145, 1), (155, 1), (165, 1), (175, 1), (185, 1), (195, 1), (205, 1), (215, 1), (225, 1), (235, 1), (245, 1), (255, 1), (265, 1), (275, 1), (285, 1), (295, 1), (305, 1), (315, 1), (325, 1), (335, 1), (345, 1), (355, 1), (365, 1), (375, 1), (385, 1), (395, 1), (405, 1), (415, 1), (425, 1), (435, 1), (445, 1), (455, 1), (465, 1), (475, 1), (485, 1), (495, 1), (505, 1), (515, 1), (525, 1), (535, 1), (545, 1), (555, 1), (565, 1), (574, 1), (584, 1), (594, 1), (604, 1), (614, 1), (623, 1), (633, 1), (643, 1), (653, 1), (663, 1)]\n",
      "------------------------------------------------------------------------------------------------------------------------\n",
      "interdum: [(5, 9), (15, 9), (25, 9), (35, 9), (45, 9), (55, 9), (65, 9), (75, 9), (85, 9), (95, 9), (105, 9), (115, 9), (125, 9), (135, 9), (145, 9), (155, 9), (165, 9), (175, 9), (185, 9), (195, 9), (205, 9), (215, 9), (225, 9), (235, 9), (245, 9), (255, 9), (265, 9), (275, 9), (285, 9), (295, 9), (305, 9), (315, 9), (325, 9), (335, 9), (345, 9), (355, 9), (365, 9), (375, 9), (385, 9), (395, 9), (405, 9), (415, 9), (425, 9), (435, 9), (445, 9), (455, 9), (465, 9), (475, 9), (485, 9), (495, 9), (505, 9), (515, 9), (525, 9), (535, 9), (545, 9), (555, 9), (565, 9), (574, 9), (584, 9), (594, 9), (604, 9), (614, 9), (623, 9), (633, 9), (643, 9), (653, 9), (663, 9)]\n",
      "------------------------------------------------------------------------------------------------------------------------\n",
      "est: [(5, 23), (15, 23), (25, 23), (35, 23), (45, 23), (55, 23), (65, 23), (75, 23), (85, 23), (95, 23), (105, 23), (115, 23), (125, 23), (135, 23), (145, 23), (155, 23), (165, 23), (175, 23), (185, 23), (195, 23), (205, 23), (215, 23), (225, 23), (235, 23), (245, 23), (255, 23), (265, 23), (275, 23), (285, 23), (295, 23), (305, 23), (315, 23), (325, 23), (335, 23), (345, 23), (355, 23), (365, 23), (375, 23), (385, 23), (395, 23), (405, 23), (415, 23), (425, 23), (435, 23), (445, 23), (455, 23), (465, 23), (475, 23), (485, 23), (495, 23), (505, 23), (515, 23), (525, 23), (535, 23), (545, 23), (555, 23), (565, 23), (574, 23), (584, 23), (594, 23), (604, 23), (614, 23), (623, 23), (633, 23), (643, 23), (653, 23), (663, 23)]\n",
      "------------------------------------------------------------------------------------------------------------------------\n",
      "lacinia: [(5, 30), (15, 30), (25, 30), (35, 30), (45, 30), (55, 30), (65, 30), (75, 30), (85, 30), (95, 30), (105, 30), (115, 30), (125, 30), (135, 30), (145, 30), (155, 30), (165, 30), (175, 30), (185, 30), (195, 30), (205, 30), (215, 30), (225, 30), (235, 30), (245, 30), (255, 30), (265, 30), (275, 30), (285, 30), (295, 30), (305, 30), (315, 30), (325, 30), (335, 30), (345, 30), (355, 30), (365, 30), (375, 30), (385, 30), (395, 30), (405, 30), (415, 30), (425, 30), (435, 30), (445, 30), (455, 30), (465, 30), (475, 30), (485, 30), (495, 30), (505, 30), (515, 30), (525, 30), (535, 30), (545, 30), (555, 30), (565, 30), (574, 30), (584, 30), (594, 30), (604, 30), (614, 30), (623, 30), (633, 30), (643, 30), (653, 30), (663, 30)]\n",
      "------------------------------------------------------------------------------------------------------------------------\n",
      "lobortis: [(5, 45), (15, 45), (25, 45), (35, 45), (45, 45), (55, 45), (65, 45), (75, 45), (85, 45), (95, 45), (105, 45), (115, 45), (125, 45), (135, 45), (145, 45), (155, 45), (165, 45), (175, 45), (185, 45), (195, 45), (205, 45), (215, 45), (225, 45), (235, 45), (245, 45), (255, 45), (265, 45), (275, 45), (285, 45), (295, 45), (305, 45), (315, 45), (325, 45), (335, 45), (345, 45), (355, 45), (365, 45), (375, 45), (385, 45), (395, 45), (405, 45), (415, 45), (425, 45), (435, 45), (445, 45), (455, 45), (465, 45), (475, 45), (485, 45), (495, 45), (505, 45), (515, 45), (525, 45), (535, 45), (545, 45), (555, 45), (565, 45), (574, 45), (584, 45), (594, 45), (604, 45), (614, 45), (623, 45), (633, 45), (643, 45), (653, 45), (663, 45)]\n",
      "------------------------------------------------------------------------------------------------------------------------\n",
      "quis0: [(5, 54), (15, 54), (35, 54), (45, 54), (65, 54), (75, 54), (95, 54), (105, 54), (125, 54), (135, 54), (155, 54), (165, 54), (185, 54), (195, 54), (215, 54), (225, 54), (245, 54), (255, 54), (275, 54), (285, 54), (305, 54), (315, 54), (335, 54), (345, 54), (365, 54), (375, 54), (395, 54), (405, 54), (425, 54), (435, 54), (455, 54), (465, 54), (485, 54), (495, 54), (515, 54), (525, 54), (545, 54), (555, 54), (574, 54), (594, 54), (604, 54), (623, 54), (643, 54), (653, 54)]\n",
      "------------------------------------------------------------------------------------------------------------------------\n",
      "porta: [(6, 9), (16, 9), (26, 9), (36, 9), (46, 9), (56, 9), (66, 9), (76, 9), (86, 9), (96, 9), (106, 9), (116, 9), (126, 9), (136, 9), (146, 9), (156, 9), (166, 9), (176, 9), (186, 9), (196, 9), (206, 9), (216, 9), (226, 9), (236, 9), (246, 9), (256, 9), (266, 9), (276, 9), (286, 9), (296, 9), (306, 9), (316, 9), (326, 9), (336, 9), (346, 9), (356, 9), (366, 9), (376, 9), (386, 9), (396, 9), (406, 9), (416, 9), (426, 9), (436, 9), (446, 9), (456, 9), (466, 9), (476, 9), (486, 9), (496, 9), (506, 9), (516, 9), (526, 9), (536, 9), (546, 9), (556, 9), (566, 9), (575, 9), (585, 9), (595, 9), (605, 9), (615, 9), (624, 9), (634, 9), (644, 9), (654, 9), (664, 9)]\n",
      "------------------------------------------------------------------------------------------------------------------------\n",
      "turpis: [(6, 25), (16, 25), (26, 25), (36, 25), (46, 25), (56, 25), (66, 25), (76, 25), (86, 25), (96, 25), (106, 25), (116, 25), (126, 25), (136, 25), (146, 25), (156, 25), (166, 25), (176, 25), (186, 25), (196, 25), (206, 25), (216, 25), (226, 25), (236, 25), (246, 25), (256, 25), (266, 25), (276, 25), (286, 25), (296, 25), (306, 25), (316, 25), (326, 25), (336, 25), (346, 25), (356, 25), (366, 25), (376, 25), (386, 25), (396, 25), (406, 25), (416, 25), (426, 25), (436, 25), (446, 25), (456, 25), (466, 25), (476, 25), (486, 25), (496, 25), (506, 25), (516, 25), (526, 25), (536, 25), (546, 25), (556, 25), (566, 25), (575, 25), (585, 25), (595, 25), (605, 25), (615, 25), (624, 25), (634, 25), (644, 25), (654, 25), (664, 25)]\n",
      "------------------------------------------------------------------------------------------------------------------------\n",
      "porttitor: [(6, 32), (16, 32), (26, 32), (36, 32), (46, 32), (56, 32), (66, 32), (76, 32), (86, 32), (96, 32), (106, 32), (116, 32), (126, 32), (136, 32), (146, 32), (156, 32), (166, 32), (176, 32), (186, 32), (196, 32), (206, 32), (216, 32), (226, 32), (236, 32), (246, 32), (256, 32), (266, 32), (276, 32), (286, 32), (296, 32), (306, 32), (316, 32), (326, 32), (336, 32), (346, 32), (356, 32), (366, 32), (376, 32), (386, 32), (396, 32), (406, 32), (416, 32), (426, 32), (436, 32), (446, 32), (456, 32), (466, 32), (476, 32), (486, 32), (496, 32), (506, 32), (516, 32), (526, 32), (536, 32), (546, 32), (556, 32), (566, 32), (575, 32), (585, 32), (595, 32), (605, 32), (615, 32), (624, 32), (634, 32), (644, 32), (654, 32), (664, 32)]\n",
      "------------------------------------------------------------------------------------------------------------------------\n",
      "mattis: [(6, 42), (16, 42), (26, 42), (36, 42), (46, 42), (56, 42), (66, 42), (76, 42), (86, 42), (96, 42), (106, 42), (116, 42), (126, 42), (136, 42), (146, 42), (156, 42), (166, 42), (176, 42), (186, 42), (196, 42), (206, 42), (216, 42), (226, 42), (236, 42), (246, 42), (256, 42), (266, 42), (276, 42), (286, 42), (296, 42), (306, 42), (316, 42), (326, 42), (336, 42), (346, 42), (356, 42), (366, 42), (376, 42), (386, 42), (396, 42), (406, 42), (416, 42), (426, 42), (436, 42), (446, 42), (456, 42), (466, 42), (476, 42), (486, 42), (496, 42), (506, 42), (516, 42), (526, 42), (536, 42), (546, 42), (556, 42), (566, 42), (575, 42), (585, 42), (595, 42), (605, 42), (615, 42), (624, 42), (634, 42), (644, 42), (654, 42), (664, 42)]\n",
      "------------------------------------------------------------------------------------------------------------------------\n",
      "vestibulum: [(7, 1), (17, 1), (27, 1), (37, 1), (47, 1), (57, 1), (67, 1), (77, 1), (87, 1), (97, 1), (107, 1), (117, 1), (127, 1), (137, 1), (147, 1), (157, 1), (167, 1), (177, 1), (187, 1), (197, 1), (207, 1), (217, 1), (227, 1), (237, 1), (247, 1), (257, 1), (267, 1), (277, 1), (287, 1), (297, 1), (307, 1), (317, 1), (327, 1), (337, 1), (347, 1), (357, 1), (367, 1), (377, 1), (387, 1), (397, 1), (407, 1), (417, 1), (427, 1), (437, 1), (447, 1), (457, 1), (467, 1), (477, 1), (487, 1), (497, 1), (507, 1), (517, 1), (527, 1), (537, 1), (547, 1), (557, 1), (567, 1), (576, 1), (586, 1), (596, 1), (606, 1), (616, 1), (625, 1), (635, 1), (645, 1), (655, 1), (665, 1)]\n",
      "------------------------------------------------------------------------------------------------------------------------\n",
      "finibus: [(7, 12), (17, 12), (27, 12), (37, 12), (47, 12), (57, 12), (67, 12), (77, 12), (87, 12), (97, 12), (107, 12), (117, 12), (127, 12), (137, 12), (147, 12), (157, 12), (167, 12), (177, 12), (187, 12), (197, 12), (207, 12), (217, 12), (227, 12), (237, 12), (247, 12), (257, 12), (267, 12), (277, 12), (287, 12), (297, 12), (307, 12), (317, 12), (327, 12), (337, 12), (347, 12), (357, 12), (367, 12), (377, 12), (387, 12), (397, 12), (407, 12), (417, 12), (427, 12), (437, 12), (447, 12), (457, 12), (467, 12), (477, 12), (487, 12), (497, 12), (507, 12), (517, 12), (527, 12), (537, 12), (547, 12), (557, 12), (567, 12), (576, 12), (586, 12), (596, 12), (606, 12), (616, 12), (625, 12), (635, 12), (645, 12), (655, 12), (665, 12)]\n",
      "------------------------------------------------------------------------------------------------------------------------\n",
      "et: [(7, 25), (17, 25), (27, 25), (37, 25), (47, 25), (57, 25), (67, 25), (77, 25), (87, 25), (97, 25), (107, 25), (117, 25), (127, 25), (137, 25), (147, 25), (157, 25), (167, 25), (177, 25), (187, 25), (197, 25), (207, 25), (217, 25), (227, 25), (237, 25), (247, 25), (257, 25), (267, 25), (277, 25), (287, 25), (297, 25), (307, 25), (317, 25), (327, 25), (337, 25), (347, 25), (357, 25), (367, 25), (377, 25), (387, 25), (397, 25), (407, 25), (417, 25), (427, 25), (437, 25), (447, 25), (457, 25), (467, 25), (477, 25), (487, 25), (497, 25), (507, 25), (517, 25), (527, 25), (537, 25), (547, 25), (557, 25), (567, 25), (576, 25), (586, 25), (596, 25), (606, 25), (616, 25), (625, 25), (635, 25), (645, 25), (655, 25), (665, 25)]\n",
      "------------------------------------------------------------------------------------------------------------------------\n",
      "laoreet: [(7, 38), (17, 38), (27, 38), (37, 38), (47, 38), (57, 38), (67, 38), (77, 38), (87, 38), (97, 38), (107, 38), (117, 38), (127, 38), (137, 38), (147, 38), (157, 38), (167, 38), (177, 38), (187, 38), (197, 38), (207, 38), (217, 38), (227, 38), (237, 38), (247, 38), (257, 38), (267, 38), (277, 38), (287, 38), (297, 38), (307, 38), (317, 38), (327, 38), (337, 38), (347, 38), (357, 38), (367, 38), (377, 38), (387, 38), (397, 38), (407, 38), (417, 38), (427, 38), (437, 38), (447, 38), (457, 38), (467, 38), (477, 38), (487, 38), (497, 38), (507, 38), (517, 38), (527, 38), (537, 38), (547, 38), (557, 38), (567, 38), (576, 38), (586, 38), (596, 38), (606, 38), (616, 38), (625, 38), (635, 38), (645, 38), (655, 38), (665, 38)]\n",
      "------------------------------------------------------------------------------------------------------------------------\n",
      "maecenas: [(7, 46), (17, 46), (27, 46), (37, 46), (47, 46), (57, 46), (67, 46), (77, 46), (87, 46), (97, 46), (107, 46), (117, 46), (127, 46), (137, 46), (147, 46), (157, 46), (167, 46), (177, 46), (187, 46), (197, 46), (207, 46), (217, 46), (227, 46), (237, 46), (247, 46), (257, 46), (267, 46), (277, 46), (287, 46), (297, 46), (307, 46), (317, 46), (327, 46), (337, 46), (347, 46), (357, 46), (367, 46), (377, 46), (387, 46), (397, 46), (407, 46), (417, 46), (427, 46), (437, 46), (447, 46), (457, 46), (467, 46), (477, 46), (487, 46), (497, 46), (507, 46), (517, 46), (527, 46), (537, 46), (547, 46), (557, 46), (567, 46), (576, 46), (586, 46), (596, 46), (606, 46), (616, 46), (625, 46), (635, 46), (645, 46), (655, 46), (665, 46)]\n",
      "------------------------------------------------------------------------------------------------------------------------\n",
      "ornare: [(7, 55), (17, 55), (27, 55), (37, 55), (47, 55), (57, 55), (67, 55), (77, 55), (87, 55), (97, 55), (107, 55), (117, 55), (127, 55), (137, 55), (147, 55), (157, 55), (167, 55), (177, 55), (187, 55), (197, 55), (207, 55), (217, 55), (227, 55), (237, 55), (247, 55), (257, 55), (267, 55), (277, 55), (287, 55), (297, 55), (307, 55), (317, 55), (327, 55), (337, 55), (347, 55), (357, 55), (367, 55), (377, 55), (387, 55), (397, 55), (407, 55), (417, 55), (427, 55), (437, 55), (447, 55), (457, 55), (467, 55), (477, 55), (487, 55), (497, 55), (507, 55), (517, 55), (527, 55), (537, 55), (547, 55), (557, 55), (567, 55), (576, 55), (586, 55), (596, 55), (606, 55), (616, 55), (625, 55), (635, 55), (645, 55), (655, 55), (665, 55)]\n",
      "------------------------------------------------------------------------------------------------------------------------\n",
      "neque: [(7, 62), (17, 62), (27, 62), (37, 62), (47, 62), (57, 62), (67, 62), (77, 62), (87, 62), (97, 62), (107, 62), (117, 62), (127, 62), (137, 62), (147, 62), (157, 62), (167, 62), (177, 62), (187, 62), (197, 62), (207, 62), (217, 62), (227, 62), (237, 62), (247, 62), (257, 62), (267, 62), (277, 62), (287, 62), (297, 62), (307, 62), (317, 62), (327, 62), (337, 62), (347, 62), (357, 62), (367, 62), (377, 62), (387, 62), (397, 62), (407, 62), (417, 62), (427, 62), (437, 62), (447, 62), (457, 62), (467, 62), (477, 62), (487, 62), (497, 62), (507, 62), (517, 62), (527, 62), (537, 62), (547, 62), (557, 62), (567, 62), (576, 62), (586, 62), (596, 62), (606, 62), (616, 62), (625, 62), (635, 62), (645, 62), (655, 62), (665, 62)]\n",
      "------------------------------------------------------------------------------------------------------------------------\n",
      "nec: [(7, 68), (17, 68), (27, 68), (37, 68), (47, 68), (57, 68), (67, 68), (77, 68), (87, 68), (97, 68), (107, 68), (117, 68), (127, 68), (137, 68), (147, 68), (157, 68), (167, 68), (177, 68), (187, 68), (197, 68), (207, 68), (217, 68), (227, 68), (237, 68), (247, 68), (257, 68), (267, 68), (277, 68), (287, 68), (297, 68), (307, 68), (317, 68), (327, 68), (337, 68), (347, 68), (357, 68), (367, 68), (377, 68), (387, 68), (397, 68), (407, 68), (417, 68), (427, 68), (437, 68), (447, 68), (457, 68), (467, 68), (477, 68), (487, 68), (497, 68), (507, 68), (517, 68), (527, 68), (537, 68), (547, 68), (557, 68), (567, 68), (576, 68), (586, 68), (596, 68), (606, 68), (616, 68), (625, 68), (635, 68), (645, 68), (655, 68), (665, 68)]\n",
      "------------------------------------------------------------------------------------------------------------------------\n",
      "nulla: [(7, 72), (17, 72), (27, 72), (37, 72), (47, 72), (57, 72), (67, 72), (77, 72), (87, 72), (97, 72), (107, 72), (117, 72), (127, 72), (137, 72), (147, 72), (157, 72), (167, 72), (177, 72), (187, 72), (197, 72), (207, 72), (217, 72), (227, 72), (237, 72), (247, 72), (257, 72), (267, 72), (277, 72), (287, 72), (297, 72), (307, 72), (317, 72), (327, 72), (337, 72), (347, 72), (357, 72), (367, 72), (377, 72), (387, 72), (397, 72), (407, 72), (417, 72), (427, 72), (437, 72), (447, 72), (457, 72), (467, 72), (477, 72), (487, 72), (497, 72), (507, 72), (517, 72), (527, 72), (537, 72), (547, 72), (557, 72), (567, 72), (576, 72), (586, 72), (596, 72), (606, 72), (616, 72), (625, 72), (635, 72), (645, 72), (655, 72), (665, 72)]\n",
      "------------------------------------------------------------------------------------------------------------------------\n",
      "nunc: [(8, 1), (10, 28), (18, 1), (20, 28), (28, 1), (30, 28), (38, 1), (40, 28), (48, 1), (50, 28), (58, 1), (60, 28), (68, 1), (70, 28), (78, 1), (80, 28), (88, 1), (90, 28), (98, 1), (100, 28), (108, 1), (110, 28), (118, 1), (120, 28), (128, 1), (130, 28), (138, 1), (140, 28), (148, 1), (150, 28), (158, 1), (160, 28), (168, 1), (170, 28), (178, 1), (180, 28), (188, 1), (190, 28), (198, 1), (200, 28), (208, 1), (210, 28), (218, 1), (220, 28), (228, 1), (230, 28), (238, 1), (240, 28), (248, 1), (250, 28), (258, 1), (260, 28), (268, 1), (270, 28), (278, 1), (280, 28), (288, 1), (290, 28), (298, 1), (300, 28), (308, 1), (310, 28), (318, 1), (320, 28), (328, 1), (330, 28), (338, 1), (340, 28), (348, 1), (350, 28), (358, 1), (360, 28), (368, 1), (370, 28), (378, 1), (380, 28), (388, 1), (390, 28), (398, 1), (400, 28), (408, 1), (410, 28), (418, 1), (420, 28), (428, 1), (430, 28), (438, 1), (440, 28), (448, 1), (450, 28), (458, 1), (460, 28), (468, 1), (470, 28), (478, 1), (480, 28), (488, 1), (490, 28), (498, 1), (500, 28), (508, 1), (510, 28), (518, 1), (520, 28), (528, 1), (530, 28), (538, 1), (540, 28), (548, 1), (550, 28), (558, 1), (560, 28), (568, 1), (570, 28), (577, 1), (579, 28), (587, 1), (589, 28), (597, 1), (599, 28), (607, 1), (609, 28), (617, 1), (619, 28), (626, 1), (628, 28), (636, 1), (638, 28), (646, 1), (648, 28), (656, 1), (658, 28), (666, 1), (668, 28)]\n",
      "------------------------------------------------------------------------------------------------------------------------\n",
      "blandit: [(8, 6), (18, 6), (28, 6), (38, 6), (48, 6), (58, 6), (68, 6), (78, 6), (88, 6), (98, 6), (108, 6), (118, 6), (128, 6), (138, 6), (148, 6), (158, 6), (168, 6), (178, 6), (188, 6), (198, 6), (208, 6), (218, 6), (228, 6), (238, 6), (248, 6), (258, 6), (268, 6), (278, 6), (288, 6), (298, 6), (308, 6), (318, 6), (328, 6), (338, 6), (348, 6), (358, 6), (368, 6), (378, 6), (388, 6), (398, 6), (408, 6), (418, 6), (428, 6), (438, 6), (448, 6), (458, 6), (468, 6), (478, 6), (488, 6), (498, 6), (508, 6), (518, 6), (528, 6), (538, 6), (548, 6), (558, 6), (568, 6), (577, 6), (587, 6), (597, 6), (607, 6), (617, 6), (626, 6), (636, 6), (646, 6), (656, 6), (666, 6)]\n",
      "------------------------------------------------------------------------------------------------------------------------\n",
      "ac: [(8, 19), (10, 33), (18, 19), (20, 33), (28, 19), (30, 33), (38, 19), (40, 33), (48, 19), (50, 33), (58, 19), (60, 33), (68, 19), (70, 33), (78, 19), (80, 33), (88, 19), (90, 33), (98, 19), (100, 33), (108, 19), (110, 33), (118, 19), (120, 33), (128, 19), (130, 33), (138, 19), (140, 33), (148, 19), (150, 33), (158, 19), (160, 33), (168, 19), (170, 33), (178, 19), (180, 33), (188, 19), (190, 33), (198, 19), (200, 33), (208, 19), (210, 33), (218, 19), (220, 33), (228, 19), (230, 33), (238, 19), (240, 33), (248, 19), (250, 33), (258, 19), (260, 33), (268, 19), (270, 33), (278, 19), (280, 33), (288, 19), (290, 33), (298, 19), (300, 33), (308, 19), (310, 33), (318, 19), (320, 33), (328, 19), (330, 33), (338, 19), (340, 33), (348, 19), (350, 33), (358, 19), (360, 33), (368, 19), (370, 33), (378, 19), (380, 33), (388, 19), (390, 33), (398, 19), (400, 33), (408, 19), (410, 33), (418, 19), (420, 33), (428, 19), (430, 33), (438, 19), (440, 33), (448, 19), (450, 33), (458, 19), (460, 33), (468, 19), (470, 33), (478, 19), (480, 33), (488, 19), (490, 33), (498, 19), (500, 33), (508, 19), (510, 33), (518, 19), (520, 33), (528, 19), (530, 33), (538, 19), (540, 33), (548, 19), (550, 33), (558, 19), (560, 33), (568, 19), (570, 33), (577, 19), (579, 33), (587, 19), (589, 33), (597, 19), (599, 33), (607, 19), (609, 33), (617, 19), (619, 33), (626, 19), (628, 33), (636, 19), (638, 33), (646, 19), (648, 33), (656, 19), (658, 33), (666, 19), (668, 33)]\n",
      "------------------------------------------------------------------------------------------------------------------------\n",
      "ex: [(8, 22), (18, 22), (28, 22), (38, 22), (48, 22), (58, 22), (68, 22), (78, 22), (88, 22), (98, 22), (108, 22), (118, 22), (128, 22), (138, 22), (148, 22), (158, 22), (168, 22), (178, 22), (188, 22), (198, 22), (208, 22), (218, 22), (228, 22), (238, 22), (248, 22), (258, 22), (268, 22), (278, 22), (288, 22), (298, 22), (308, 22), (318, 22), (328, 22), (338, 22), (348, 22), (358, 22), (368, 22), (378, 22), (388, 22), (398, 22), (408, 22), (418, 22), (428, 22), (438, 22), (448, 22), (458, 22), (468, 22), (478, 22), (488, 22), (498, 22), (508, 22), (518, 22), (528, 22), (538, 22), (548, 22), (558, 22), (568, 22), (577, 22), (587, 22), (597, 22), (607, 22), (617, 22), (626, 22), (636, 22), (646, 22), (656, 22), (666, 22)]\n",
      "------------------------------------------------------------------------------------------------------------------------\n",
      "feugiat: [(8, 25), (18, 25), (28, 25), (38, 25), (48, 25), (58, 25), (68, 25), (78, 25), (88, 25), (98, 25), (108, 25), (118, 25), (128, 25), (138, 25), (148, 25), (158, 25), (168, 25), (178, 25), (188, 25), (198, 25), (208, 25), (218, 25), (228, 25), (238, 25), (248, 25), (258, 25), (268, 25), (278, 25), (288, 25), (298, 25), (308, 25), (318, 25), (328, 25), (338, 25), (348, 25), (358, 25), (368, 25), (378, 25), (388, 25), (398, 25), (408, 25), (418, 25), (428, 25), (438, 25), (448, 25), (458, 25), (468, 25), (478, 25), (488, 25), (498, 25), (508, 25), (518, 25), (528, 25), (538, 25), (548, 25), (558, 25), (568, 25), (577, 25), (587, 25), (597, 25), (607, 25), (617, 25), (626, 25), (636, 25), (646, 25), (656, 25), (666, 25)]\n",
      "------------------------------------------------------------------------------------------------------------------------\n",
      "odio: [(8, 43), (18, 43), (28, 43), (38, 43), (48, 43), (58, 43), (68, 43), (78, 43), (88, 43), (98, 43), (108, 43), (118, 43), (128, 43), (138, 43), (148, 43), (158, 43), (168, 43), (178, 43), (188, 43), (198, 43), (208, 43), (218, 43), (228, 43), (238, 43), (248, 43), (258, 43), (268, 43), (278, 43), (288, 43), (298, 43), (308, 43), (318, 43), (328, 43), (338, 43), (348, 43), (358, 43), (368, 43), (378, 43), (388, 43), (398, 43), (408, 43), (418, 43), (428, 43), (438, 43), (448, 43), (458, 43), (468, 43), (478, 43), (488, 43), (498, 43), (508, 43), (518, 43), (528, 43), (538, 43), (548, 43), (558, 43), (568, 43), (577, 43), (587, 43), (597, 43), (607, 43), (617, 43), (626, 43), (636, 43), (646, 43), (656, 43), (666, 43)]\n",
      "------------------------------------------------------------------------------------------------------------------------\n",
      "consequat: [(8, 48), (18, 48), (28, 48), (38, 48), (48, 48), (58, 48), (68, 48), (78, 48), (88, 48), (98, 48), (108, 48), (118, 48), (128, 48), (138, 48), (148, 48), (158, 48), (168, 48), (178, 48), (188, 48), (198, 48), (208, 48), (218, 48), (228, 48), (238, 48), (248, 48), (258, 48), (268, 48), (278, 48), (288, 48), (298, 48), (308, 48), (318, 48), (328, 48), (338, 48), (348, 48), (358, 48), (368, 48), (378, 48), (388, 48), (398, 48), (408, 48), (418, 48), (428, 48), (438, 48), (448, 48), (458, 48), (468, 48), (478, 48), (488, 48), (498, 48), (508, 48), (518, 48), (528, 48), (538, 48), (548, 48), (558, 48), (568, 48), (577, 48), (587, 48), (597, 48), (607, 48), (617, 48), (626, 48), (636, 48), (646, 48), (656, 48), (666, 48)]\n",
      "------------------------------------------------------------------------------------------------------------------------\n",
      "integer: [(9, 1), (19, 1), (29, 1), (39, 1), (49, 1), (59, 1), (69, 1), (79, 1), (89, 1), (99, 1), (109, 1), (119, 1), (129, 1), (139, 1), (149, 1), (159, 1), (169, 1), (179, 1), (189, 1), (199, 1), (209, 1), (219, 1), (229, 1), (239, 1), (249, 1), (259, 1), (269, 1), (279, 1), (289, 1), (299, 1), (309, 1), (319, 1), (329, 1), (339, 1), (349, 1), (359, 1), (369, 1), (379, 1), (389, 1), (399, 1), (409, 1), (419, 1), (429, 1), (439, 1), (449, 1), (459, 1), (469, 1), (479, 1), (489, 1), (499, 1), (509, 1), (519, 1), (529, 1), (539, 1), (549, 1), (559, 1), (569, 1), (578, 1), (588, 1), (598, 1), (608, 1), (618, 1), (627, 1), (637, 1), (647, 1), (657, 1), (667, 1)]\n",
      "------------------------------------------------------------------------------------------------------------------------\n",
      "tristique: [(9, 13), (19, 13), (29, 13), (39, 13), (49, 13), (59, 13), (69, 13), (79, 13), (89, 13), (99, 13), (109, 13), (119, 13), (129, 13), (139, 13), (149, 13), (159, 13), (169, 13), (179, 13), (189, 13), (199, 13), (209, 13), (219, 13), (229, 13), (239, 13), (249, 13), (259, 13), (269, 13), (279, 13), (289, 13), (299, 13), (309, 13), (319, 13), (329, 13), (339, 13), (349, 13), (359, 13), (369, 13), (379, 13), (389, 13), (399, 13), (409, 13), (419, 13), (429, 13), (439, 13), (449, 13), (459, 13), (469, 13), (479, 13), (489, 13), (499, 13), (509, 13), (519, 13), (529, 13), (539, 13), (549, 13), (559, 13), (569, 13), (578, 13), (588, 13), (598, 13), (608, 13), (618, 13), (627, 13), (637, 13), (647, 13), (657, 13), (667, 13)]\n",
      "------------------------------------------------------------------------------------------------------------------------\n",
      "dapibus: [(10, 17), (20, 17), (30, 17), (40, 17), (50, 17), (60, 17), (70, 17), (80, 17), (90, 17), (100, 17), (110, 17), (120, 17), (130, 17), (140, 17), (150, 17), (160, 17), (170, 17), (180, 17), (190, 17), (200, 17), (210, 17), (220, 17), (230, 17), (240, 17), (250, 17), (260, 17), (270, 17), (280, 17), (290, 17), (300, 17), (310, 17), (320, 17), (330, 17), (340, 17), (350, 17), (360, 17), (370, 17), (380, 17), (390, 17), (400, 17), (410, 17), (420, 17), (430, 17), (440, 17), (450, 17), (460, 17), (470, 17), (480, 17), (490, 17), (500, 17), (510, 17), (520, 17), (530, 17), (540, 17), (550, 17), (560, 17), (570, 17), (579, 17), (589, 17), (599, 17), (609, 17), (619, 17), (628, 17), (638, 17), (648, 17), (658, 17), (668, 17)]\n",
      "------------------------------------------------------------------------------------------------------------------------\n",
      "volutpat: [(10, 36), (20, 36), (30, 36), (40, 36), (50, 36), (60, 36), (70, 36), (80, 36), (90, 36), (100, 36), (110, 36), (120, 36), (130, 36), (140, 36), (150, 36), (160, 36), (170, 36), (180, 36), (190, 36), (200, 36), (210, 36), (220, 36), (230, 36), (240, 36), (250, 36), (260, 36), (270, 36), (280, 36), (290, 36), (300, 36), (310, 36), (320, 36), (330, 36), (340, 36), (350, 36), (360, 36), (370, 36), (380, 36), (390, 36), (400, 36), (410, 36), (420, 36), (430, 36), (440, 36), (450, 36), (460, 36), (470, 36), (480, 36), (490, 36), (500, 36), (510, 36), (520, 36), (530, 36), (540, 36), (550, 36), (560, 36), (570, 36), (579, 36), (589, 36), (599, 36), (609, 36), (619, 36), (628, 36), (638, 36), (648, 36), (658, 36), (668, 36)]\n",
      "------------------------------------------------------------------------------------------------------------------------\n",
      "egestas: [(10, 45), (20, 45), (30, 45), (40, 45), (50, 45), (60, 45), (70, 45), (80, 45), (90, 45), (100, 45), (110, 45), (120, 45), (130, 45), (140, 45), (150, 45), (160, 45), (170, 45), (180, 45), (190, 45), (200, 45), (210, 45), (220, 45), (230, 45), (240, 45), (250, 45), (260, 45), (270, 45), (280, 45), (290, 45), (300, 45), (310, 45), (320, 45), (330, 45), (340, 45), (350, 45), (360, 45), (370, 45), (380, 45), (390, 45), (400, 45), (410, 45), (420, 45), (430, 45), (440, 45), (450, 45), (460, 45), (470, 45), (480, 45), (490, 45), (500, 45), (510, 45), (520, 45), (530, 45), (540, 45), (550, 45), (560, 45), (570, 45), (579, 45), (589, 45), (599, 45), (609, 45), (619, 45), (628, 45), (638, 45), (648, 45), (658, 45), (668, 45)]\n",
      "------------------------------------------------------------------------------------------------------------------------\n",
      "quis: [(25, 54), (55, 54), (85, 54), (115, 54), (145, 54), (175, 54), (205, 54), (235, 54), (265, 54), (295, 54), (325, 54), (355, 54), (385, 54), (415, 54), (445, 54), (475, 54), (505, 54), (535, 54), (565, 54), (584, 54), (614, 54), (633, 54), (663, 54)]\n",
      "------------------------------------------------------------------------------------------------------------------------\n"
     ]
    }
   ],
   "source": [
    "import string\n",
    "import os\n",
    "\n",
    "# Caminho padrão para os arquivos\n",
    "caminhoPastaPadrao = os.path.join(os.getcwd(), \"arquivos\") + os.sep\n",
    "\n",
    "def contar_palavras(caminho_arquivo):\n",
    "    # Dicionário para armazenar as contagens de palavras e suas posições\n",
    "    contagem_palavras = {}\n",
    "    # Estrutura do dicionário a ser criado:\n",
    "    # {\n",
    "    #  'palavra': [(linha_ocorrência, coluna_ocorrência), (linha_ocorrência, coluna_ocorrência)....],\n",
    "    #  'proxima_Palavra': [(linha_ocorrência, coluna_ocorrência), (linha_ocorrência, coluna_ocorrência)....],\n",
    "    #  ....\n",
    "    # }\n",
    "\n",
    "    try:\n",
    "        with open(caminho_arquivo, 'r') as arquivo:\n",
    "            # Ler o conteúdo do arquivo linha por linha\n",
    "            linhas = arquivo.readlines()\n",
    "            \n",
    "            # Percorrer cada linha\n",
    "            for numero_linha, linha in enumerate(linhas):\n",
    "                # Remover pontuações e converter para minúsculas\n",
    "                linha = linha.translate(str.maketrans('', '', string.punctuation)).lower()\n",
    "                \n",
    "                # Dividir a linha em palavras\n",
    "                palavras = linha.split()\n",
    "                \n",
    "                # Percorrer cada palavra na linha\n",
    "                coluna_inicial = 0\n",
    "                for palavra in palavras:\n",
    "                    # Encontra a posição inicial da palavra\n",
    "                    coluna_inicial = linha.find(palavra, coluna_inicial)\n",
    "                    \n",
    "                    # Adicionar a palavra ao dicionário ou atualizar suas ocorrências\n",
    "                    if palavra in contagem_palavras:\n",
    "                        contagem_palavras[palavra].append((numero_linha + 1, coluna_inicial + 1))\n",
    "                    else:\n",
    "                        contagem_palavras[palavra] = [(numero_linha + 1, coluna_inicial + 1)]\n",
    "                    \n",
    "                    # Atualizar a coluna inicial para procurar a próxima ocorrência na linha\n",
    "                    coluna_inicial += len(palavra)\n",
    "\n",
    "    except FileNotFoundError:\n",
    "        print(f\"Arquivo '{caminho_arquivo}' não encontrado.\")\n",
    "    except Exception as e:\n",
    "        print(f\"Ocorreu um erro ao processar o arquivo '{caminho_arquivo}': {e}\")\n",
    "\n",
    "    return contagem_palavras\n",
    "\n",
    "nome_arquivo = \"teste.txt\"  # Substitua pelo nome do arquivo que deseja analisar\n",
    "caminho_arquivo = os.path.join(caminhoPastaPadrao, nome_arquivo)\n",
    "resultado = contar_palavras(caminho_arquivo)\n",
    "\n",
    "# print(resultado)\n",
    "\n",
    "# Imprimir o resultado\n",
    "print(\"Contagem das ocorrências de cada palavra (linha, coluna):\")\n",
    "for palavra, ocorrencias in resultado.items():\n",
    "    print(f\"{palavra}: {ocorrencias}\")\n",
    "    print(\"-\" * 120)\n",
    "\n",
    "\n",
    "\n",
    "# Explicação do uso da biblioteca string:\n",
    "\n",
    "# linha = linha.translate(str.maketrans('', '', string.punctuation)).lower()\n",
    "\n",
    "# O método str.maketrans() faz a substituição de caracteres em uma string, onde o primeiro argumento (\"''\" - vazio no exemplo) \n",
    "# especifica a string que desejo substituir, o segundo arguemnto (\"''\" - também vazio no exemplo) especifica qual string usar \n",
    "# para substituir, e o terceiro argumento (string.punctuation - no exemplo) especifica quais os caracteres queremos substituir, \n",
    "# no nosso exemplo usamos o string.punctuation, que contém todos os caracteres de pontuação, herdado da biblioteca string importada no início.\n",
    "# Além disso, o método str.maketrans() cria uma tabela de mapeamento de caracteres que será usada pelo método translate().\n",
    "\n",
    "# Então, ao executar linha.translate() na tabela gerada pelo método str.maketrans('', '', string.punctuation), o resultado é a substituição \n",
    "# de todos os caracteres de pontuação (string.punctuation) por vazio, logo, na verdade os caracteres de pontuação são removidos da string.\n",
    "    \n",
    "# Exempos:\n",
    "# Remover e substituir ao mesmo tempo:\n",
    "# texto = \"Hello, world!\"\n",
    "# tabela = str.maketrans('o', '0', string.punctuation)\n",
    "# novo_texto = texto.translate(tabela)\n",
    "# print(novo_texto)  # Saída: \"Hell0 world\""
   ]
  },
  {
   "cell_type": "markdown",
   "id": "b9b4c89f-ff73-41a6-9b54-57fed5fecee8",
   "metadata": {},
   "source": [
    "#### Exercício 9.13 (pág. 195):"
   ]
  },
  {
   "cell_type": "code",
   "execution_count": 55,
   "id": "d78c6fe9-333d-4b61-a57f-8e3f810535ea",
   "metadata": {},
   "outputs": [
    {
     "name": "stdout",
     "output_type": "stream",
     "text": [
      "O arquivo possui 668 linhas.\n",
      "Linha 4:  Praesent ut mauris sagittis, hendrerit ante eu, fringilla elit. In maximus nisi magna, a luctus elit cursus vitae.\n",
      "Linha 5:  Vivamus interdum nibh est, ut lacinia mauris lobortis quis.0\n",
      "Linha 6:   Mauris porta dolor non turpis porttitor mattis.\n",
      "Linha 7:  Vestibulum finibus elit et hendrerit laoreet. Maecenas ornare neque nec nulla luctus fringilla.\n",
      "Linha 8:  Nunc blandit elit ac ex feugiat, in tempus odio consequat. \n",
      "Linha 9:  Integer non tristique mauris.\n",
      "Linha 10:  Sed ligula elit, dapibus at nunc ac, volutpat egestas eros.\n",
      "Linha 11:  Lorem ipsum dolor sit amet, consectetur adipiscing elit. Etiam eget purus convallis, rutrum eros eget, malesuada ligula.\n",
      "Linha 12:  In viverra dolor sed nibh semper, sed euismod tellus viverra. In non augue non ipsum accumsan rutrum. \n",
      "Linha 13:  Phasellus nibh lectus, tempus at lectus eget, venenatis ultricies metus. \n",
      "Linha 14:  Praesent ut mauris sagittis, hendrerit ante eu, fringilla elit. In maximus nisi magna, a luctus elit cursus vitae.\n",
      "Linha 15:  Vivamus interdum nibh est, ut lacinia mauris lobortis quis.0\n"
     ]
    }
   ],
   "source": [
    "# Exercício 9.13 Crie um programa que imprima as linhas de um arquivo. Esse programa deve receber três parâmetros pela linha de comando: \n",
    "# o nome do arquivo, a linha inicial e a última linha a imprimir.\n",
    "\n",
    "#Esse exercício é muito similar ao Exercício 9.3 (pág. 193), eu só modifiquei este, além de adaptar para utilização no Jupyter Notebook.\n",
    "\n",
    "# Adaptação para o Jupyter Notebook\n",
    "import os\n",
    "\n",
    "# Caminho padrão para os arquivos\n",
    "caminhoPastaPadrao = os.path.join(os.getcwd(), \"arquivos\") + os.sep\n",
    "\n",
    "# Função principal - Substituição da execução no terminal :)\n",
    "def imprimir_linhas(nome_arquivo, linha_inicial, linha_final):\n",
    "    # Concatena o caminho padrão com o nome do arquivo\n",
    "    caminho_completo = os.path.join(caminhoPastaPadrao, nome_arquivo)\n",
    "    \n",
    "    try:\n",
    "        # Abre o arquivo para leitura\n",
    "        with open(caminho_completo, 'r') as arquivo:\n",
    "            \n",
    "            # Conta o número total de linhas\n",
    "            total_linhas = sum(1 for temp in arquivo) # Expressão geradora\n",
    "            print(f\"O arquivo possui {total_linhas} linhas.\")\n",
    "            \n",
    "            # Volta para o início do arquivo\n",
    "            arquivo.seek(0)\n",
    "\n",
    "            # Itera sobre as linhas do arquivo e imprime as linhas desejadas\n",
    "            for num_linha, linha in enumerate(arquivo, start=1):\n",
    "                if linha_inicial <= num_linha <= linha_final:\n",
    "                    print(f\"Linha {num_linha}: \", linha, end='')  # end='' evita adicionar nova linha extra\n",
    "                elif num_linha > linha_final:\n",
    "                    break  # Termina a leitura após a última linha desejada\n",
    "    except FileNotFoundError:\n",
    "        print(f\"Arquivo '{caminho_completo}' não encontrado.\")\n",
    "    except Exception as e:\n",
    "        print(f\"Ocorreu um erro ao tentar ler o arquivo: {e}\")\n",
    "\n",
    "\n",
    "# Aqui é como se estivesse executando no terminal: python \"teste.txt\" valor_linha_inicial valor_linha_final\n",
    "imprimir_linhas(\"teste.txt\", 4, 15)"
   ]
  },
  {
   "cell_type": "markdown",
   "id": "101d9f40-6f27-457b-907d-da1f6003cc45",
   "metadata": {},
   "source": [
    "#### Exercício 9.14 (pág. 195):"
   ]
  },
  {
   "cell_type": "code",
   "execution_count": 57,
   "id": "326ec908-a9e3-42b0-9bcd-6d04a4736aa0",
   "metadata": {},
   "outputs": [
    {
     "name": "stdout",
     "output_type": "stream",
     "text": [
      "Arquivo '<_io.TextIOWrapper name='C:\\\\Users\\\\ivanv\\\\Documents\\\\Dev\\\\FAP\\\\FAP-2024-Backend-Python\\\\Módulo1\\\\atividades\\\\12-07-2024\\\\Livro_IntroProgPython\\\\arquivos\\\\arquivo_saida_sem_espacos_enters.txt' mode='w+' encoding='cp1252'>' gerado com sucesso!\n"
     ]
    }
   ],
   "source": [
    "import os\n",
    "\n",
    "# Caminho padrão para os arquivos\n",
    "caminhoPastaPadrao = os.path.join(os.getcwd(), \"arquivos\") + os.sep\n",
    "\n",
    "def remover_espacos_repetidos(arquivo_entrada, arquivo_saida):\n",
    "    try:\n",
    "        with open(arquivo_entrada, 'r') as arquivo_entrada:\n",
    "            linhas = arquivo_entrada.readlines()\n",
    "\n",
    "        linhas_processadas = []\n",
    "\n",
    "        for linha in linhas:\n",
    "            linha = ' '.join(linha.split())  # Remove espaços repetidos entre palavras - Tira todos os espaços e substitui por um único espaço ' '\n",
    "            linha = linha.rstrip()  # Remove espaços em branco no final da linha - New\n",
    "\n",
    "            # Verifica se a linha não está em branco, ou seja \"\", que retorna False\n",
    "            # Logo, se tiver alguma coisa, será != de \"\" (vazio) e retornará True e vai entrar no if adicionando a linha na lista linhas_processadas\n",
    "            if linha.strip():  \n",
    "                linhas_processadas.append(linha)\n",
    "\n",
    "        with open(arquivo_saida, 'w+') as arquivo_saida:\n",
    "            # Escreve as linhas processadas no arquivo de saída\n",
    "            arquivo_saida.write('\\n'.join(linhas_processadas).strip() + '\\n')\n",
    "\n",
    "        print(f\"Arquivo '{arquivo_saida}' gerado com sucesso!\")\n",
    "\n",
    "    except FileNotFoundError:\n",
    "        print(f\"Arquivo '{arquivo_entrada}' não encontrado.\")\n",
    "    except Exception as e:\n",
    "        print(f\"Ocorreu um erro ao processar o arquivo: {e}\")\n",
    "\n",
    "\n",
    "arquivo_entrada = os.path.join(caminhoPastaPadrao, 'testeSample.txt')\n",
    "arquivo_saida = os.path.join(caminhoPastaPadrao, 'arquivo_saida_sem_espacos_enters.txt')\n",
    "\n",
    "remover_espacos_repetidos(arquivo_entrada, arquivo_saida)"
   ]
  },
  {
   "cell_type": "markdown",
   "id": "121faade-5f4d-4b35-8454-0ee30788fcb7",
   "metadata": {},
   "source": [
    "#### Exercício 9.15 (pág. 195):"
   ]
  },
  {
   "cell_type": "code",
   "execution_count": null,
   "id": "5d6c3f2b-c312-421c-83ff-986a8c3e5259",
   "metadata": {},
   "outputs": [],
   "source": [
    "# Exercício 9.15 Altere o programa da listagem 7.5, o jogo da forca. Utilize um arquivo em que uma palavra seja gravada a cada linha. Use um editor de textos para\n",
    "# gerar o arquivo. Ao iniciar o programa, utilize esse arquivo para carregar a lista de\n",
    "# palavras. Experimente também perguntar o nome do jogador e gerar um arquivo\n",
    "# com o número de acertos dos cinco melhores."
   ]
  }
 ],
 "metadata": {
  "kernelspec": {
   "display_name": "Python 3 (ipykernel)",
   "language": "python",
   "name": "python3"
  },
  "language_info": {
   "codemirror_mode": {
    "name": "ipython",
    "version": 3
   },
   "file_extension": ".py",
   "mimetype": "text/x-python",
   "name": "python",
   "nbconvert_exporter": "python",
   "pygments_lexer": "ipython3",
   "version": "3.12.4"
  }
 },
 "nbformat": 4,
 "nbformat_minor": 5
}

{
 "cells": [
  {
   "cell_type": "markdown",
   "id": "df70f601",
   "metadata": {},
   "source": [
    "# Exercícios do livro: INTRODUÇÃO A PROGRAMAÇÃO COM PYTHON - Algoritimos e lógica de programação para iniciantes (Nilo Ney Coutinho Menezes)\n",
    "### Curso Softex - FAP 2024 - Natal\n",
    "### Ivan Varella"
   ]
  },
  {
   "cell_type": "markdown",
   "id": "c17b88d1",
   "metadata": {},
   "source": [
    "# Capítulo 2"
   ]
  },
  {
   "cell_type": "markdown",
   "id": "d8ec3123",
   "metadata": {},
   "source": [
    "#### Exercício 2.1 (pág. 44):"
   ]
  },
  {
   "cell_type": "code",
   "execution_count": 6,
   "id": "3049826a",
   "metadata": {},
   "outputs": [
    {
     "name": "stdout",
     "output_type": "stream",
     "text": [
      "10 + 20 * 30: 610\n",
      "4**2 / 30: 0.5333333333333333\n"
     ]
    }
   ],
   "source": [
    "print(f\"10 + 20 * 30 = {10 + 20 * 30}\")\n",
    "print(f\"4**2 / 30 = {4**2 / 30}\")"
   ]
  },
  {
   "cell_type": "markdown",
   "id": "abf0a6b5",
   "metadata": {},
   "source": [
    "#### Exercício 2.2 (pág. 44):"
   ]
  },
  {
   "cell_type": "markdown",
   "id": "b4fbd6f8",
   "metadata": {},
   "source": [
    "#### Ordem de precedência:\n",
    "1- Parêntesis <br>\n",
    "2- Expoentes <br>\n",
    "3- Multiplicação e divisão (Da esquerda para a direita)<br>\n",
    "4- Somas e subtrações (Da esquerda para a direita)"
   ]
  },
  {
   "cell_type": "code",
   "execution_count": 7,
   "id": "3965ccbd",
   "metadata": {},
   "outputs": [
    {
     "name": "stdout",
     "output_type": "stream",
     "text": [
      "10 % 3 * 10 ** 2 + 1 - 10 * 4 / 2 = 81.0\n"
     ]
    }
   ],
   "source": [
    "print(f\"10 % 3 * 10 ** 2 + 1 - 10 * 4 / 2 = {10 % 3 * 10 ** 2 + 1 - 10 * 4 / 2}\")"
   ]
  },
  {
   "cell_type": "markdown",
   "id": "51eca395",
   "metadata": {},
   "source": [
    "#### Exercício 2.3 (pág. 48):"
   ]
  },
  {
   "cell_type": "code",
   "execution_count": 9,
   "id": "03a91c53",
   "metadata": {},
   "outputs": [
    {
     "name": "stdout",
     "output_type": "stream",
     "text": [
      "Nome: Ivan\n"
     ]
    }
   ],
   "source": [
    "nome = \"Ivan\"\n",
    "print(f\"Nome: {nome}\")"
   ]
  },
  {
   "cell_type": "markdown",
   "id": "41f37b87",
   "metadata": {},
   "source": [
    "#### Exercício 2.4 (pág. 48):"
   ]
  },
  {
   "cell_type": "code",
   "execution_count": 11,
   "id": "218b91d0",
   "metadata": {},
   "outputs": [
    {
     "name": "stdout",
     "output_type": "stream",
     "text": [
      "Sendo a = 3 e b = 5, 2a × 3b = 90\n"
     ]
    }
   ],
   "source": [
    "a = 3\n",
    "b = 5\n",
    "result = (2*a) * (3*b)\n",
    "print(f\"Sendo a = {a} e b = {b}, 2a × 3b = {result}\")"
   ]
  },
  {
   "cell_type": "markdown",
   "id": "58dea1e3",
   "metadata": {},
   "source": [
    "#### Exercício 2.5 (pág. 48):"
   ]
  },
  {
   "cell_type": "code",
   "execution_count": 12,
   "id": "2cc68140",
   "metadata": {},
   "outputs": [
    {
     "name": "stdout",
     "output_type": "stream",
     "text": [
      "A soma de 10 + 20 + -3 = 27\n"
     ]
    }
   ],
   "source": [
    "a = 10\n",
    "b = 20\n",
    "c = -3\n",
    "\n",
    "def soma(a, b, c):\n",
    "    return a + b + c\n",
    "\n",
    "print(f\"A soma de {a} + {b} + {c} = {soma(a, b, c)}\")"
   ]
  },
  {
   "cell_type": "markdown",
   "id": "42fd1244",
   "metadata": {},
   "source": [
    "#### Exercício 2.6 (pág. 48):"
   ]
  },
  {
   "cell_type": "code",
   "execution_count": 14,
   "id": "bc0dcd43",
   "metadata": {},
   "outputs": [
    {
     "name": "stdout",
     "output_type": "stream",
     "text": [
      "O aumento de 15% no salário de 750 reais é igual a 112.5 reais, sendo o salário final igual a 862.5 reais.\n"
     ]
    }
   ],
   "source": [
    "salario = 750\n",
    "aumento = 15\n",
    "\n",
    "def calAumento(salario, aumento):\n",
    "    aumento = (aumento / 100) * salario\n",
    "    return aumento\n",
    "\n",
    "print (f\"O aumento de {aumento}% no salário de {salario} reais é igual a {calAumento(salario, aumento)} reais, sendo o salário final igual a {salario + calAumento(salario, aumento)} reais.\")"
   ]
  },
  {
   "cell_type": "markdown",
   "id": "79a7e9d7",
   "metadata": {},
   "source": [
    "# Capítulo 3"
   ]
  },
  {
   "cell_type": "markdown",
   "id": "cbbb4561",
   "metadata": {},
   "source": [
    "#### Exercício 3.1 (pág. 51):"
   ]
  },
  {
   "cell_type": "code",
   "execution_count": 16,
   "id": "ba78c135",
   "metadata": {},
   "outputs": [
    {
     "name": "stdout",
     "output_type": "stream",
     "text": [
      "5 -> inteiro - type: <class 'int'>\n",
      "5.0 -> ponto flutuante - type: <class 'float'>\n",
      "4.3 -> ponto flutuante - type: <class 'float'>\n",
      "-2 -> inteiro - type: <class 'int'>\n",
      "100 -> inteiro - type: <class 'int'>\n",
      "1.333 -> ponto flutuante - type: <class 'float'>\n"
     ]
    }
   ],
   "source": [
    "print(f\"5 -> inteiro - type: {type(5)}\")\n",
    "print(f\"5.0 -> ponto flutuante - type: {type(5.0)}\")\n",
    "print(f\"4.3 -> ponto flutuante - type: {type(4.3)}\")\n",
    "print(f\"-2 -> inteiro - type: {type(-2)}\")\n",
    "print(f\"100 -> inteiro - type: {type(100)}\")\n",
    "print(f\"1.333 -> ponto flutuante - type: {type(1.333)}\")"
   ]
  },
  {
   "cell_type": "markdown",
   "id": "93496a20",
   "metadata": {},
   "source": [
    "#### Exercício 3.2 (pág. 55):"
   ]
  },
  {
   "cell_type": "code",
   "execution_count": 19,
   "id": "984ed2ea",
   "metadata": {},
   "outputs": [
    {
     "name": "stdout",
     "output_type": "stream",
     "text": [
      "a == c -> False\n",
      "a < b  -> True\n",
      "d > b  -> False\n",
      "c != f -> False\n",
      "a == b -> False\n",
      "c < d  -> False\n",
      "b > a  -> True\n",
      "c >= f -> True\n",
      "f >= c -> True\n",
      "c <= c -> True\n",
      "c <= f -> True\n"
     ]
    }
   ],
   "source": [
    "a = 4\n",
    "b = 10\n",
    "c = 5.0\n",
    "d = 1\n",
    "f = 5\n",
    "\n",
    "print(f\"a == c -> {a == c}\")\n",
    "print(f\"a < b  -> {a < b}\")\n",
    "print(f\"d > b  -> {d > b}\")\n",
    "print(f\"c != f -> {c != f}\")\n",
    "print(f\"a == b -> {a == b}\")\n",
    "print(f\"c < d  -> {c < d}\")\n",
    "print(f\"b > a  -> {b > a}\")\n",
    "print(f\"c >= f -> {c >= f}\")\n",
    "print(f\"f >= c -> {f >= c}\")\n",
    "print(f\"c <= c -> {c <= c}\")\n",
    "print(f\"c <= f -> {c <= f}\")"
   ]
  },
  {
   "cell_type": "markdown",
   "id": "c703c25c",
   "metadata": {},
   "source": [
    "#### Exercício 3.3 (pág. 58):"
   ]
  },
  {
   "cell_type": "code",
   "execution_count": 20,
   "id": "e7141586",
   "metadata": {},
   "outputs": [
    {
     "name": "stdout",
     "output_type": "stream",
     "text": [
      "a and a -> False\n",
      "b and b -> False\n",
      "not c   -> False\n",
      "not b   -> True\n",
      "not a   -> False\n",
      "a and b -> False\n",
      "b and c -> False\n",
      "a or c  -> True\n",
      "b or c  -> True\n",
      "c or a  -> True\n",
      "c or b  -> True\n",
      "c or c  -> True\n",
      "b or b  -> False\n"
     ]
    }
   ],
   "source": [
    "a = True\n",
    "b = False\n",
    "c = True\n",
    "\n",
    "print(f\"a and a -> {a and b}\")\n",
    "print(f\"b and b -> {b and b}\")\n",
    "print(f\"not c   -> {not c}\")\n",
    "print(f\"not b   -> {not b}\")\n",
    "print(f\"not a   -> {not a}\")\n",
    "print(f\"a and b -> {a and b}\")\n",
    "print(f\"b and c -> {b and c}\")\n",
    "print(f\"a or c  -> {a or c}\")\n",
    "print(f\"b or c  -> {b or c}\")\n",
    "print(f\"c or a  -> {c or a}\")\n",
    "print(f\"c or b  -> {c or b}\")\n",
    "print(f\"c or c  -> {c or c}\")\n",
    "print(f\"b or b  -> {b or b}\")"
   ]
  },
  {
   "cell_type": "markdown",
   "id": "4d34ce06",
   "metadata": {},
   "source": [
    "#### Exercício 3.4 (pág. 59):"
   ]
  },
  {
   "cell_type": "code",
   "execution_count": 23,
   "id": "063a8bd3",
   "metadata": {},
   "outputs": [
    {
     "name": "stdout",
     "output_type": "stream",
     "text": [
      "Sendo salário igual a 1100 reais, o empregado não deve pagar imposto.\n"
     ]
    }
   ],
   "source": [
    "salario = 1100\n",
    "index = 1200\n",
    "\n",
    "def determinaImposto(salario, index):\n",
    "    if salario > index:\n",
    "        return \"deve pagar imposto\"\n",
    "    else:\n",
    "        return \"não deve pagar imposto\"\n",
    "\n",
    "print(f\"Sendo salário igual a {salario} reais, o empregado {determinaImposto(salario, index)}.\")"
   ]
  },
  {
   "cell_type": "markdown",
   "id": "1dfd419c",
   "metadata": {},
   "source": [
    "#### Exercício 3.5 (pág. 60):"
   ]
  },
  {
   "cell_type": "code",
   "execution_count": 26,
   "id": "e581b662",
   "metadata": {},
   "outputs": [
    {
     "name": "stdout",
     "output_type": "stream",
     "text": [
      "Sendo: A = 1, B = 2, C = True, D = False, a expressão A > B and C or D é igual a False.\n",
      "Sendo: A = 10, B = 3, C = False, D = False, a expressão A > B and C or D é igual a False.\n",
      "Sendo: A = 5, B = 1, C = True, D = True, a expressão A > B and C or D é igual a True.\n"
     ]
    }
   ],
   "source": [
    "def calExpressao(A, B, C, D):\n",
    "    return A > B and C or D\n",
    "\n",
    "print(f\"Sendo: A = 1, B = 2, C = True, D = False, a expressão A > B and C or D é igual a {calExpressao(A = 1, B = 2, C = True, D = False)}.\")\n",
    "\n",
    "print(f\"Sendo: A = 10, B = 3, C = False, D = False, a expressão A > B and C or D é igual a {calExpressao(A = 10, B = 3, C = False, D = False)}.\")\n",
    "\n",
    "print(f\"Sendo: A = 5, B = 1, C = True, D = True, a expressão A > B and C or D é igual a {calExpressao(A = 5, B = 1, C = True, D = True)}.\")"
   ]
  },
  {
   "cell_type": "markdown",
   "id": "2c89926d",
   "metadata": {},
   "source": [
    "#### Exercício 3.6 (pág. 60):"
   ]
  },
  {
   "cell_type": "code",
   "execution_count": 35,
   "id": "db66055f",
   "metadata": {},
   "outputs": [
    {
     "name": "stdout",
     "output_type": "stream",
     "text": [
      "Sendo as médias do aluno iguais a: materia1 = 7.1, materia2 = 9 e materia3 = 8, o aluno foi aprovado.\n"
     ]
    }
   ],
   "source": [
    "materia1 = 7.1\n",
    "materia2 = 9\n",
    "materia3 = 8\n",
    "\n",
    "def foiAprovado(materia1, materia2, materia3):\n",
    "    if (materia1 > 7) and (materia2 > 7) and (materia3 > 7):\n",
    "        return True\n",
    "    else:\n",
    "        return False\n",
    "\n",
    "if foiAprovado(materia1, materia2, materia3):\n",
    "    msg = \"aprovado\"\n",
    "else:\n",
    "    msg = \"reprovado\"\n",
    "\n",
    "print(f\"Sendo as médias do aluno iguais a: materia1 = {materia1}, materia2 = {materia2} e materia3 = {materia3}, o aluno foi {msg}.\")"
   ]
  },
  {
   "cell_type": "markdown",
   "id": "c1eb67fd",
   "metadata": {},
   "source": [
    "#### Exercício 3.7 (pág. 71):"
   ]
  },
  {
   "cell_type": "code",
   "execution_count": 61,
   "id": "29d18759",
   "metadata": {},
   "outputs": [
    {
     "name": "stdout",
     "output_type": "stream",
     "text": [
      "Digite o primeiro número inteiro: 2\n",
      "Digite o segundo número inteiro: 10\n",
      "A soma 2 + 10 é igual a 12.\n"
     ]
    }
   ],
   "source": [
    "num1 = int(input(\"Digite o primeiro número inteiro: \"))\n",
    "num2 = int(input(\"Digite o segundo número inteiro: \"))\n",
    "\n",
    "soma = num1 + num2\n",
    "\n",
    "print(\"A soma %d + %d é igual a %d.\" % (num1, num2, soma))"
   ]
  },
  {
   "cell_type": "markdown",
   "id": "2eb5d097",
   "metadata": {},
   "source": [
    "#### Exercício 3.8 (pág. 71):"
   ]
  },
  {
   "cell_type": "code",
   "execution_count": 64,
   "id": "103231a1",
   "metadata": {},
   "outputs": [
    {
     "name": "stdout",
     "output_type": "stream",
     "text": [
      "Digite um valor em metros: 10\n",
      "10.00 metros é igual a 10000.00 milímetros\n"
     ]
    }
   ],
   "source": [
    "def metroToMilimetro(metros):\n",
    "    return metros * 1000\n",
    "\n",
    "metros = float(input(\"Digite um valor em metros: \"))\n",
    "\n",
    "milimetros = metroToMilimetro(metros)\n",
    "\n",
    "print(\"%.2f metros é igual a %.2f milímetros\" % (metros, milimetros))"
   ]
  },
  {
   "cell_type": "markdown",
   "id": "91e110f5",
   "metadata": {},
   "source": [
    "#### Exercício 3.9 (pág. 71):"
   ]
  },
  {
   "cell_type": "code",
   "execution_count": 66,
   "id": "c7e6b6a9",
   "metadata": {},
   "outputs": [
    {
     "name": "stdout",
     "output_type": "stream",
     "text": [
      "Digite quantos dias: 1\n",
      "Digite quantas horas: 24\n",
      "Digite quantos minutos: 60\n",
      "Digite quantos segundos: 60\n",
      "O total de segundos em 1 dias, 24 horas, 60 minutos e 60 segundos é igual a: 176460 segundos.\n"
     ]
    }
   ],
   "source": [
    "def calcSegTotal (dias, horas, minutos, segundos):\n",
    "    total_segundos = segundos\n",
    "    total_segundos += minutos * 60\n",
    "    total_segundos += horas * 3600\n",
    "    total_segundos += dias * 86400\n",
    "    return total_segundos\n",
    "\n",
    "dias  = int(input(\"Digite quantos dias: \"))\n",
    "horas = int(input(\"Digite quantas horas: \"))\n",
    "minutos = int(input(\"Digite quantos minutos: \"))\n",
    "segundos = int(input(\"Digite quantos segundos: \"))\n",
    "\n",
    "total_segundos = calcSegTotal (dias, horas, minutos, segundos)\n",
    "\n",
    "print(\"\\nO total de segundos em %d dias, %d horas, %d minutos e %d segundos é igual a: %d segundos.\" % (dias, horas, minutos, segundos, total_segundos))"
   ]
  },
  {
   "cell_type": "markdown",
   "id": "122532d8",
   "metadata": {},
   "source": [
    "#### Exercício 3.10 (pág. 72):"
   ]
  },
  {
   "cell_type": "code",
   "execution_count": 73,
   "id": "836b7012",
   "metadata": {},
   "outputs": [
    {
     "name": "stdout",
     "output_type": "stream",
     "text": [
      "Digite o valor do salário: 1000\n",
      "Digite o valor da porcentagem do aumento: 10\n",
      "Sendo o salário de 1000.00 reais e a porcentagem do aumento 10.00 porcento, o aumento do salário será de 100.00 reais e o novo salário de 1100.00 reais.\n"
     ]
    }
   ],
   "source": [
    "def calcAumento(salario, porcentagemAumento):\n",
    "    porcentagemAumento /= 100\n",
    "    return salario * porcentagemAumento\n",
    "\n",
    "salario = float(input(\"Digite o valor do salário: \"))\n",
    "porcentagemAumento = float(input(\"Digite o valor da porcentagem do aumento: \"))\n",
    "\n",
    "aumentoSalario = calcAumento(salario, porcentagemAumento)\n",
    "\n",
    "print(\"Sendo o salário de %.2f reais e a porcentagem do aumento %.2f porcento, o aumento do salário será de %.2f reais e o novo salário de %.2f reais.\" % (salario, porcentagemAumento, aumentoSalario, salario + aumentoSalario))"
   ]
  },
  {
   "cell_type": "markdown",
   "id": "61638250",
   "metadata": {},
   "source": [
    "#### Exercício 3.11 (pág. 72):"
   ]
  },
  {
   "cell_type": "code",
   "execution_count": 74,
   "id": "31d88e34",
   "metadata": {},
   "outputs": [
    {
     "name": "stdout",
     "output_type": "stream",
     "text": [
      "Digite o preço: 1000\n",
      "Digite o porcentual de desconto: 10\n",
      "Sendo o preço de 1000.00 reais e o percentual de desconto igual a 10.00 porcento, a valor do desconto será de 100.00 reais e o novo preço igual a 900.00 reais.\n"
     ]
    }
   ],
   "source": [
    "def calcDesconto(preco, porcentagemDesconto):\n",
    "    porcentagemDesconto /= 100\n",
    "    return preco * porcentagemDesconto\n",
    "\n",
    "preco = float(input(\"Digite o preço: \"))\n",
    "porcentagemDesconto = float(input(\"Digite o porcentual de desconto: \"))\n",
    "\n",
    "desconto = calcDesconto(preco, porcentagemDesconto)\n",
    "\n",
    "print(\"Sendo o preço de %.2f reais e o percentual de desconto igual a %.2f porcento, a valor do desconto será de %.2f reais e o novo preço igual a %.2f reais.\" % (preco, porcentagemDesconto, desconto, preco - desconto))"
   ]
  },
  {
   "cell_type": "markdown",
   "id": "17b5930b",
   "metadata": {},
   "source": [
    "#### Exercício 3.12 (pág. 72):"
   ]
  },
  {
   "cell_type": "code",
   "execution_count": 76,
   "id": "3aa5c63e",
   "metadata": {},
   "outputs": [
    {
     "name": "stdout",
     "output_type": "stream",
     "text": [
      "Digite a distância (Km): 100\n",
      "Digite a velocidade média da viagem (Km/h): 100\n",
      "A viagem de 100.00 Km foi feita com uma velocidade média de 100.00 Km/h em 1.00 horas.\n"
     ]
    }
   ],
   "source": [
    "def calcTempoViagem(distancia, velocidadeMedia):\n",
    "    return distancia / velocidadeMedia\n",
    "\n",
    "distancia = float(input(\"Digite a distância (Km): \"))\n",
    "velocidadeMedia = float(input(\"Digite a velocidade média da viagem (Km/h): \"))\n",
    "\n",
    "tempoHoras = calcTempoViagem(distancia, velocidadeMedia)\n",
    "\n",
    "print(\"A viagem de %.2f Km foi feita com uma velocidade média de %.2f Km/h em %.2f horas.\" %(distancia, velocidadeMedia, tempoHoras))"
   ]
  },
  {
   "cell_type": "markdown",
   "id": "e1602224",
   "metadata": {},
   "source": [
    "#### Exercício 3.13 (pág. 72):"
   ]
  },
  {
   "cell_type": "code",
   "execution_count": 77,
   "id": "a205f4b2",
   "metadata": {},
   "outputs": [
    {
     "name": "stdout",
     "output_type": "stream",
     "text": [
      "Digite uma temperatura em Celsius: 100\n",
      "A temperatura 100.00 C é equivalente a 212.00 F.\n"
     ]
    }
   ],
   "source": [
    "def celsiusToFahrenheit(celsius):\n",
    "    return (celsius * 9/5) + 32\n",
    "\n",
    "celsius = float(input(\"Digite uma temperatura em Celsius: \"))\n",
    "\n",
    "fahrenheit = celsiusToFahrenheit(celsius)\n",
    "\n",
    "print(\"A temperatura %.2f C é equivalente a %.2f F.\" %(celsius, fahrenheit))\n"
   ]
  },
  {
   "cell_type": "markdown",
   "id": "33ad30c6",
   "metadata": {},
   "source": [
    "#### Exercício 3.14 (pág. 72):"
   ]
  },
  {
   "cell_type": "code",
   "execution_count": 78,
   "id": "8527d7b7",
   "metadata": {},
   "outputs": [
    {
     "name": "stdout",
     "output_type": "stream",
     "text": [
      "Digite a quantidade de kilômetros percorrido: 100\n",
      "Digite a quantidade de dias alugou o carro: 30\n",
      "Como a diária doi aluguel custa 60.00 reais, o valor do Km percorrido custa 0.15 reais e como foi percorrido 100 Km o cliente ficou com o carro por 30 dias, o total a pagar será de 1815.00 reais.\n"
     ]
    }
   ],
   "source": [
    "def calcTotalAluguel(qtdKm, qtdDias, diariaCarro, valorKmRodado):\n",
    "    reaisKmRodado = qtdKm * valorKmRodado\n",
    "    reaisDiarias = qtdDias * diariaCarro\n",
    "    return reaisKmRodado + reaisDiarias\n",
    "\n",
    "diariaCarro = 60.0\n",
    "valorKmRodado = 0.15\n",
    "\n",
    "qtdKm = int(input(\"Digite a quantidade de kilômetros percorrido: \"))\n",
    "qtdDias = int(input(\"Digite a quantidade de dias alugou o carro: \"))\n",
    "\n",
    "totalAluguel = calcTotalAluguel(qtdKm, qtdDias, diariaCarro, valorKmRodado)\n",
    "\n",
    "print(\"Como a diária doi aluguel custa %.2f reais, o valor do Km percorrido custa %.2f reais e como foram percorridos %d Km e o cliente ficou com o carro por %d dias, o total a pagar será de %.2f reais.\" % (diariaCarro, valorKmRodado, qtdKm, qtdDias, totalAluguel))"
   ]
  },
  {
   "cell_type": "markdown",
   "id": "28975090",
   "metadata": {},
   "source": [
    "#### Exercício 3.15 (pág. 72):"
   ]
  },
  {
   "cell_type": "code",
   "execution_count": 79,
   "id": "07b74a09",
   "metadata": {},
   "outputs": [
    {
     "name": "stdout",
     "output_type": "stream",
     "text": [
      "Digite a quantidade de cigaros fumados por dia: 20\n",
      "Digite a quantidade de anos é fumante: 10\n",
      "Fumando 20 cigarros por dia por um período de 10 anos, o fumante terá uma redução de vida de aproximadamente 506.94 dias.\n"
     ]
    }
   ],
   "source": [
    "def calReducaoVidaFumante(qtdCigarrosDia, qtdAnosFumante):\n",
    "    cigarrosTotal = (qtdCigarrosDia * 365) * qtdAnosFumante\n",
    "    tempoReducaoMin = cigarrosTotal * 10\n",
    "    tempoReducaoDias = tempoReducaoMin / 1440\n",
    "    return tempoReducaoDias\n",
    "    \n",
    "qtdCigarrosDia = int(input(\"Digite a quantidade de cigaros fumados por dia: \"))\n",
    "qtdAnosFumante = int(input(\"Digite a quantidade de anos é fumante: \"))\n",
    "\n",
    "tempoReducaoDias = calReducaoVidaFumante(qtdCigarrosDia, qtdAnosFumante)\n",
    "print(\"Fumando %d cigarros por dia por um período de %d anos, o fumante terá uma redução de vida de aproximadamente %.2f dias.\" % (qtdCigarrosDia, qtdAnosFumante, tempoReducaoDias))"
   ]
  },
  {
   "cell_type": "markdown",
   "id": "204bcd6e",
   "metadata": {},
   "source": [
    "# Capítulo 3"
   ]
  },
  {
   "cell_type": "markdown",
   "id": "acc79faa",
   "metadata": {},
   "source": [
    "#### Exercício 4.1 (pág. 76):"
   ]
  },
  {
   "cell_type": "code",
   "execution_count": 82,
   "id": "ecc3e2be",
   "metadata": {},
   "outputs": [
    {
     "name": "stdout",
     "output_type": "stream",
     "text": [
      "Primeiro valor: 2\n",
      "Segundo valor: 5\n",
      "O segundo número é o maior!\n"
     ]
    }
   ],
   "source": [
    "a = int(input(\"Primeiro valor: \"))\n",
    "b = int(input(\"Segundo valor: \"))\n",
    "\n",
    "if a > b:\n",
    "    print(\"O primeiro número é o maior!\")\n",
    "if b > a:\n",
    "    print(\"O segundo número é o maior!\")"
   ]
  },
  {
   "cell_type": "markdown",
   "id": "7e4e2d96",
   "metadata": {},
   "source": [
    "#### Exercício 4.2 (pág. 77):"
   ]
  },
  {
   "cell_type": "code",
   "execution_count": 84,
   "id": "00194185",
   "metadata": {},
   "outputs": [
    {
     "name": "stdout",
     "output_type": "stream",
     "text": [
      "Digite a velocidade registrada (Km/h): 110\n",
      "Motorista multado por velocidade acima de 80Km/h! Valor da multa: 150.00\n"
     ]
    }
   ],
   "source": [
    "def calcularMulta(velocidadeReg):\n",
    "    kmAcima = velocidadeReg - 80\n",
    "    return 5 * kmAcima\n",
    "\n",
    "velocidadeReg = float(input(\"Digite a velocidade registrada (Km/h): \"))\n",
    "\n",
    "valorMulta = calcularMulta(velocidadeReg)\n",
    "\n",
    "if velocidadeReg > 80:\n",
    "    print(\"Motorista multado por velocidade acima de 80Km/h! Valor da multa: %.2f reais.\" % valorMulta)\n",
    "else:\n",
    "    print(\"Velocidade registrada igual ou abaixo dos 80Km/h permitido para a via, tudo certo!\")\n"
   ]
  },
  {
   "cell_type": "markdown",
   "id": "e2f0e491",
   "metadata": {},
   "source": [
    "#### Exercício 4.3 (pág. 79):"
   ]
  },
  {
   "cell_type": "code",
   "execution_count": 90,
   "id": "781df96e",
   "metadata": {},
   "outputs": [
    {
     "name": "stdout",
     "output_type": "stream",
     "text": [
      "Digite o primeiro número: 5\n",
      "Digite o segundo número: 8\n",
      "Digite o terceiro número: 1\n",
      "O maior número digitado é o 8.00 e o menor é o 1.00\n"
     ]
    }
   ],
   "source": [
    "def maiorMenor(numeros):\n",
    "    maior = max(numeros)\n",
    "    menor = min(numeros)\n",
    "    return maior, menor\n",
    "\n",
    "numeros = []\n",
    "num1 = float(input(\"Digite o primeiro número: \"))\n",
    "num2 = float(input(\"Digite o segundo número: \"))\n",
    "num3 = float(input(\"Digite o terceiro número: \"))\n",
    "numeros.extend([num1, num2, num3])  # Adiciona vários elementos de uma vez\n",
    "\n",
    "maior, menor = maiorMenor(numeros)\n",
    "\n",
    "print(\"O maior número digitado é o %.2f e o menor é o %.2f\" % (maior, menor))\n"
   ]
  },
  {
   "cell_type": "markdown",
   "id": "4d6fff0e",
   "metadata": {},
   "source": [
    "#### Exercício 4.4 (pág. 79):"
   ]
  },
  {
   "cell_type": "code",
   "execution_count": null,
   "id": "39c92327",
   "metadata": {},
   "outputs": [],
   "source": [
    "def calcAumento(salario):\n",
    "    if salario > 1250:\n",
    "        return (salario * 0.1), \"10%\"\n",
    "    else:\n",
    "        return (salario * 0.15), \"15%\"\n",
    "\n",
    "salario = float(input(\"Digite o valor do salário: \"))\n",
    "\n",
    "aumento, aliquota = calcAumento(salario)\n",
    "\n",
    "print(\"O salário de %.2f reais teve um aumento de %s, ou seja, %.2f reais, o novo salário passou para %.2f reais.\" % (salario, aliquota, aumento, salario + aumento))"
   ]
  },
  {
   "cell_type": "markdown",
   "id": "926b86c7",
   "metadata": {},
   "source": [
    "#### Exercício 4.5 (pág. 80):"
   ]
  },
  {
   "cell_type": "code",
   "execution_count": 96,
   "id": "72f02142",
   "metadata": {},
   "outputs": [
    {
     "name": "stdout",
     "output_type": "stream",
     "text": [
      "Digite a idade de seu carro: 10\n",
      "Seu carro é velho\n",
      "Digite a idade do seu carro: 10\n",
      "Seu carro é velho\n"
     ]
    }
   ],
   "source": [
    "# Listagem 4.5:\n",
    "idade = int(input(\"Digite a idade de seu carro: \"))\n",
    "if idade <= 3:\n",
    "    print(\"Seu carro é novo\")\n",
    "else:\n",
    "    print(\"Seu carro é velho\")\n",
    "\n",
    "# Listagem 4.3:\n",
    "idade = int(input(\"Digite a idade do seu carro: \"))\n",
    "if idade <= 3:\n",
    "    print(\"Seu carro é novo\")\n",
    "if idade > 3:\n",
    "    print(\"Seu carro é velho\")"
   ]
  },
  {
   "cell_type": "markdown",
   "id": "78d7ec2a",
   "metadata": {},
   "source": [
    "#### Exercício 4.6 (pág. 80):"
   ]
  },
  {
   "cell_type": "code",
   "execution_count": 102,
   "id": "ee4c8afb",
   "metadata": {},
   "outputs": [
    {
     "name": "stdout",
     "output_type": "stream",
     "text": [
      "Digite a distância que deseja percorrer (Km): 200.1\n",
      "O preço da viagem será: 90.05 reais.\n"
     ]
    }
   ],
   "source": [
    "distancia = float(input(\"Digite a distância que deseja percorrer (Km): \"))\n",
    "\n",
    "if distancia <= 200:\n",
    "    print(\"O preço da viagem será: %.2f reais.\" % (distancia * 0.5))\n",
    "else:\n",
    "    print(\"O preço da viagem será: %.2f reais.\" % (distancia * 0.45))"
   ]
  },
  {
   "cell_type": "markdown",
   "id": "a9dab6d2",
   "metadata": {},
   "source": [
    "#### Exercício 4.7 (pág. 83):"
   ]
  },
  {
   "cell_type": "code",
   "execution_count": 103,
   "id": "0e8e9c40",
   "metadata": {},
   "outputs": [
    {
     "name": "stdout",
     "output_type": "stream",
     "text": [
      "Digite a categoria do produto (1, 2, 3, 4, 5, outras):2\n",
      "O preço do produto é: R$ 18.00\n"
     ]
    }
   ],
   "source": [
    "categoria = int(input(\"Digite a categoria do produto (1, 2, 3, 4, 5, outras):\"))\n",
    "if categoria == 1:\n",
    "    preço = 10\n",
    "else:\n",
    "    if categoria == 2:\n",
    "        preço = 18\n",
    "    else:\n",
    "        if categoria == 3:\n",
    "            preço = 23\n",
    "        else:\n",
    "            if categoria == 4:\n",
    "                preço = 26\n",
    "            else:\n",
    "                if categoria == 5:\n",
    "                    preço = 31\n",
    "                else:\n",
    "                    print(\"Categoria inválida, digite um valor entre 1 e 5!\")\n",
    "                    preço = 0\n",
    "\n",
    "print(\"O preço do produto é: R$%6.2f\" % preço)"
   ]
  },
  {
   "cell_type": "markdown",
   "id": "948ba380",
   "metadata": {},
   "source": [
    "#### Exercício 4.8 (pág. 84):"
   ]
  },
  {
   "cell_type": "code",
   "execution_count": 109,
   "id": "36e1c1fc",
   "metadata": {},
   "outputs": [
    {
     "name": "stdout",
     "output_type": "stream",
     "text": [
      "Digite o primeiro número: 100\n",
      "Digite o segundo número: 61452\n",
      "Informe a operação desejada (+, -, * ou /): asdf\n",
      "Operação não cadastrada.\n"
     ]
    }
   ],
   "source": [
    "def calcula(num1, num2, operacao):\n",
    "    if operacao == \"+\":\n",
    "        return num1 + num2\n",
    "    elif operacao == \"-\":\n",
    "        return num1 - num2\n",
    "    elif operacao == \"*\":\n",
    "        return num1 * num2\n",
    "    elif operacao == \"/\":\n",
    "        if num2 == 0:\n",
    "            return \"Erro: Divisão por zero não é permitida.\"\n",
    "        else:\n",
    "            return num1 / num2\n",
    "    else:\n",
    "        return \"Operação não cadastrada.\"\n",
    "\n",
    "num1 = float(input(\"Digite o primeiro número: \"))\n",
    "num2 = float(input(\"Digite o segundo número: \"))\n",
    "operacao = input(\"Informe a operação desejada (+, -, * ou /): \")\n",
    "\n",
    "resultado = calcula(num1, num2, operacao)\n",
    "\n",
    "if isinstance(resultado, str):\n",
    "    print(resultado)\n",
    "else:\n",
    "    print(\"A operação %.2f %s %.2f = %.2f\" % (num1, operacao, num2, resultado))"
   ]
  },
  {
   "cell_type": "markdown",
   "id": "552eceb2",
   "metadata": {},
   "source": [
    "#### Exercício 4.9 (pág. 84):"
   ]
  },
  {
   "cell_type": "code",
   "execution_count": 113,
   "id": "9059fe42",
   "metadata": {},
   "outputs": [
    {
     "name": "stdout",
     "output_type": "stream",
     "text": [
      "Digite o valor do imóvel: 500000\n",
      "Digite o valor do salário: 15000\n",
      "Digite em quantos anos deseja realizar o pagamento: 30\n",
      "Seu empréstimo foi aprovado, o valor das parcelas será de 45.66 reais.\n"
     ]
    }
   ],
   "source": [
    "def calcParcelas(valorImovel, anosPagar, salario):\n",
    "    parcela = valorImovel / (anosPagar*365)\n",
    "    if parcela > (salario * 0.3):\n",
    "        return parcela, False\n",
    "    else:\n",
    "        return parcela, True\n",
    "\n",
    "valorImovel = float(input(\"Digite o valor do imóvel: \"))\n",
    "salario = float(input(\"Digite o valor do salário: \"))\n",
    "anosPagar = int(input(\"Digite em quantos anos deseja realizar o pagamento: \"))\n",
    "\n",
    "parcela, aprovacaoEmprestimo = calcParcelas(valorImovel, anosPagar, salario)\n",
    "\n",
    "if aprovacaoEmprestimo:\n",
    "    print(\"Seu empréstimo foi aprovado, o valor das parcelas será de %.2f reais.\" % parcela)\n",
    "else:\n",
    "    print(\"Infelizmente seu empréstimo não foi aprovado.\")\n",
    "\n",
    "\n"
   ]
  },
  {
   "cell_type": "markdown",
   "id": "0ee38aca",
   "metadata": {},
   "source": [
    "#### Exercício 4.10 (pág. 84):"
   ]
  },
  {
   "cell_type": "code",
   "execution_count": 118,
   "id": "de5fda76",
   "metadata": {},
   "outputs": [
    {
     "name": "stdout",
     "output_type": "stream",
     "text": [
      "Informe a quantidade de kWh consumida: 1000\n",
      "Informe o tipo de instalação, sendo R - residências, I - indústrias e C - comércios: adfasdf\n",
      "Tipo de instalação inválida! As opções devem ser: R - residências, I - indústrias e C - comércios\n"
     ]
    }
   ],
   "source": [
    "def calcPreco(kWhConsumido, tipoInstalacao):\n",
    "    tipoInstalacao = tipoInstalacao.upper()\n",
    "    if tipoInstalacao == \"R\":\n",
    "        if kWhConsumido <= 500:\n",
    "            return (kWhConsumido * 0.4), \"residêncial\"\n",
    "        else:\n",
    "            return (kWhConsumido * 0.65), \"residêncial\"\n",
    "    elif tipoInstalacao == \"C\":\n",
    "        if kWhConsumido <= 1000:\n",
    "            return (kWhConsumido * 0.55), \"comercial\"\n",
    "        else:\n",
    "            return (kWhConsumido * 0.60), \"comercial\"\n",
    "    elif tipoInstalacao == \"I\":\n",
    "        if kWhConsumido <= 5000:\n",
    "            return (kWhConsumido * 0.55), \"industrial\"\n",
    "        else:\n",
    "            return (kWhConsumido * 0.60), \"industrial\"\n",
    "    else:\n",
    "        return None, \"invalida\"\n",
    "\n",
    "kWhConsumido = float(input(\"Informe a quantidade de kWh consumida: \"))\n",
    "tipoInstalacao = input(\"Informe o tipo de instalação, sendo R - residências, I - indústrias e C - comércios: \")\n",
    "\n",
    "preco, instalacaoString = calcPreco(kWhConsumido, tipoInstalacao)\n",
    "\n",
    "if instalacaoString == \"invalida\":\n",
    "    print(\"Tipo de instalação inválida! As opções devem ser: R - residências, I - indústrias e C - comércios\")\n",
    "else:\n",
    "    print(\"Para o consumo de %.2f kWh e instalação %s, o preço será de %.2f reais.\" % (kWhConsumido, instalacaoString, preco))\n"
   ]
  },
  {
   "cell_type": "markdown",
   "id": "5e4b7ef2",
   "metadata": {},
   "source": [
    "# Capítulo 3"
   ]
  },
  {
   "cell_type": "markdown",
   "id": "dff5c082",
   "metadata": {},
   "source": [
    "#### Exercício 5.1 (pág. 87):"
   ]
  },
  {
   "cell_type": "code",
   "execution_count": 120,
   "id": "2646ea06",
   "metadata": {},
   "outputs": [
    {
     "name": "stdout",
     "output_type": "stream",
     "text": [
      "1\n",
      "2\n",
      "3\n",
      "4\n",
      "5\n",
      "6\n",
      "7\n",
      "8\n",
      "9\n",
      "10\n",
      "11\n",
      "12\n",
      "13\n",
      "14\n",
      "15\n",
      "16\n",
      "17\n",
      "18\n",
      "19\n",
      "20\n",
      "21\n",
      "22\n",
      "23\n",
      "24\n",
      "25\n",
      "26\n",
      "27\n",
      "28\n",
      "29\n",
      "30\n",
      "31\n",
      "32\n",
      "33\n",
      "34\n",
      "35\n",
      "36\n",
      "37\n",
      "38\n",
      "39\n",
      "40\n",
      "41\n",
      "42\n",
      "43\n",
      "44\n",
      "45\n",
      "46\n",
      "47\n",
      "48\n",
      "49\n",
      "50\n",
      "51\n",
      "52\n",
      "53\n",
      "54\n",
      "55\n",
      "56\n",
      "57\n",
      "58\n",
      "59\n",
      "60\n",
      "61\n",
      "62\n",
      "63\n",
      "64\n",
      "65\n",
      "66\n",
      "67\n",
      "68\n",
      "69\n",
      "70\n",
      "71\n",
      "72\n",
      "73\n",
      "74\n",
      "75\n",
      "76\n",
      "77\n",
      "78\n",
      "79\n",
      "80\n",
      "81\n",
      "82\n",
      "83\n",
      "84\n",
      "85\n",
      "86\n",
      "87\n",
      "88\n",
      "89\n",
      "90\n",
      "91\n",
      "92\n",
      "93\n",
      "94\n",
      "95\n",
      "96\n",
      "97\n",
      "98\n",
      "99\n",
      "100\n"
     ]
    }
   ],
   "source": [
    "x=1\n",
    "while x<=100:\n",
    "    print(x)\n",
    "    x = x + 1"
   ]
  },
  {
   "cell_type": "markdown",
   "id": "7166882b",
   "metadata": {},
   "source": [
    "#### Exercício 5.2 (pág. 87):"
   ]
  },
  {
   "cell_type": "code",
   "execution_count": 121,
   "id": "ed2dd5a1",
   "metadata": {},
   "outputs": [
    {
     "name": "stdout",
     "output_type": "stream",
     "text": [
      "50\n",
      "51\n",
      "52\n",
      "53\n",
      "54\n",
      "55\n",
      "56\n",
      "57\n",
      "58\n",
      "59\n",
      "60\n",
      "61\n",
      "62\n",
      "63\n",
      "64\n",
      "65\n",
      "66\n",
      "67\n",
      "68\n",
      "69\n",
      "70\n",
      "71\n",
      "72\n",
      "73\n",
      "74\n",
      "75\n",
      "76\n",
      "77\n",
      "78\n",
      "79\n",
      "80\n",
      "81\n",
      "82\n",
      "83\n",
      "84\n",
      "85\n",
      "86\n",
      "87\n",
      "88\n",
      "89\n",
      "90\n",
      "91\n",
      "92\n",
      "93\n",
      "94\n",
      "95\n",
      "96\n",
      "97\n",
      "98\n",
      "99\n",
      "100\n"
     ]
    }
   ],
   "source": [
    "x=50\n",
    "while x<=100:\n",
    "    print(x)\n",
    "    x = x + 1"
   ]
  },
  {
   "cell_type": "markdown",
   "id": "68063e2f",
   "metadata": {},
   "source": [
    "#### Exercício 5.3 (pág. 87):"
   ]
  },
  {
   "cell_type": "code",
   "execution_count": 124,
   "id": "ffdb6224",
   "metadata": {},
   "outputs": [
    {
     "name": "stdout",
     "output_type": "stream",
     "text": [
      "Início da contagem regressiva!\n",
      "10\n",
      "9\n",
      "8\n",
      "7\n",
      "6\n",
      "5\n",
      "4\n",
      "3\n",
      "2\n",
      "1\n",
      "0\n",
      "Fogo!!!!\n"
     ]
    }
   ],
   "source": [
    "import time\n",
    "\n",
    "x = 10\n",
    "\n",
    "print(\"Início da contagem regressiva!\")\n",
    "while x >= 0:\n",
    "    print(x)\n",
    "    time.sleep(0.5)\n",
    "    x -= 1\n",
    "\n",
    "print(\"Fogo!!!!\")"
   ]
  },
  {
   "cell_type": "markdown",
   "id": "176a3faf",
   "metadata": {},
   "source": [
    "#### Exercício 5.4 (pág. 89):"
   ]
  },
  {
   "cell_type": "code",
   "execution_count": 1,
   "id": "c7f4a2ae",
   "metadata": {},
   "outputs": [
    {
     "name": "stdout",
     "output_type": "stream",
     "text": [
      "Digite o último número a imprimir: 20\n",
      "Somente ímpares: 1\n",
      "Somente ímpares: 3\n",
      "Somente ímpares: 5\n",
      "Somente ímpares: 7\n",
      "Somente ímpares: 9\n",
      "Somente ímpares: 11\n",
      "Somente ímpares: 13\n",
      "Somente ímpares: 15\n",
      "Somente ímpares: 17\n",
      "Somente ímpares: 19\n"
     ]
    }
   ],
   "source": [
    "fim = int(input(\"Digite o último número a imprimir: \"))\n",
    "x = 1\n",
    "while x <= fim:\n",
    "    if (x % 2) != 0:\n",
    "        print(f\"Somente ímpares: {x}\")\n",
    "    x += 1"
   ]
  },
  {
   "cell_type": "markdown",
   "id": "b6a3aba7",
   "metadata": {},
   "source": [
    "#### Exercício 5.5 (pág. 89):"
   ]
  },
  {
   "cell_type": "code",
   "execution_count": 5,
   "id": "93620c50",
   "metadata": {},
   "outputs": [
    {
     "name": "stdout",
     "output_type": "stream",
     "text": [
      "1 - O número 3 é múltiplo de 3.\n",
      "2 - O número 6 é múltiplo de 3.\n",
      "3 - O número 9 é múltiplo de 3.\n",
      "4 - O número 12 é múltiplo de 3.\n",
      "5 - O número 15 é múltiplo de 3.\n",
      "6 - O número 18 é múltiplo de 3.\n",
      "7 - O número 21 é múltiplo de 3.\n",
      "8 - O número 24 é múltiplo de 3.\n",
      "9 - O número 27 é múltiplo de 3.\n",
      "10 - O número 30 é múltiplo de 3.\n"
     ]
    }
   ],
   "source": [
    "num = 1\n",
    "divisor = 3\n",
    "count = 0\n",
    "\n",
    "while count < 10:\n",
    "    if num % divisor == 0:\n",
    "        print(f\"{count+1} - O número {num} é múltiplo de {divisor}.\")\n",
    "        count += 1\n",
    "    \n",
    "    num += 1"
   ]
  },
  {
   "cell_type": "markdown",
   "id": "53ddd23a",
   "metadata": {},
   "source": [
    "#### Exercício 5.6 (pág. 90):"
   ]
  },
  {
   "cell_type": "code",
   "execution_count": 7,
   "id": "3949f71c",
   "metadata": {},
   "outputs": [
    {
     "name": "stdout",
     "output_type": "stream",
     "text": [
      "2 x 0 = 0\n",
      "2 x 1 = 2\n",
      "2 x 2 = 4\n",
      "2 x 3 = 6\n",
      "2 x 4 = 8\n",
      "2 x 5 = 10\n",
      "2 x 6 = 12\n",
      "2 x 7 = 14\n",
      "2 x 8 = 16\n",
      "2 x 9 = 18\n",
      "2 x 10 = 20\n"
     ]
    }
   ],
   "source": [
    "num = 2\n",
    "count = 0\n",
    "\n",
    "while count <= 10:\n",
    "    print(f\"{num} x {count} = {num * count}\")\n",
    "    count += 1"
   ]
  },
  {
   "cell_type": "markdown",
   "id": "4ec5749a",
   "metadata": {},
   "source": [
    "#### Exercício 5.7 (pág. 90):"
   ]
  },
  {
   "cell_type": "code",
   "execution_count": 11,
   "id": "8fa4ec2b",
   "metadata": {},
   "outputs": [
    {
     "name": "stdout",
     "output_type": "stream",
     "text": [
      "Digite o início da tabulada: 3\n",
      "Digite o fim da tabulada: 8\n",
      "2 x 3 = 6\n",
      "2 x 4 = 8\n",
      "2 x 5 = 10\n",
      "2 x 6 = 12\n",
      "2 x 7 = 14\n",
      "2 x 8 = 16\n"
     ]
    }
   ],
   "source": [
    "num = 2\n",
    "count = 0\n",
    "inicio = int(input(\"Digite o início da tabulada: \"))\n",
    "fim = int(input(\"Digite o fim da tabulada: \"))\n",
    "\n",
    "while count <= 10:\n",
    "    if (count >= inicio) and (count <= fim):\n",
    "        print(f\"{num} x {count} = {num * count}\")\n",
    "    count += 1"
   ]
  },
  {
   "cell_type": "markdown",
   "id": "6ebca973",
   "metadata": {},
   "source": [
    "#### Exercício 5.8 (pág. 90):"
   ]
  },
  {
   "cell_type": "code",
   "execution_count": 18,
   "id": "534c0fdb",
   "metadata": {},
   "outputs": [
    {
     "name": "stdout",
     "output_type": "stream",
     "text": [
      "Digite o primeiro número: 2\n",
      "Digite o segundo número: 2\n",
      "2 x 2 = 4\n"
     ]
    }
   ],
   "source": [
    "num1 = int(input(\"Digite o primeiro número: \"))\n",
    "num2 = int(input(\"Digite o segundo número: \"))\n",
    "\n",
    "total = 0\n",
    "\n",
    "# Utiliza um loop for para somar num1 ao total num2 vezes\n",
    "for i in range(num2):\n",
    "    total += num1\n",
    "\n",
    "print(f\"{num1} x {num2} = {total}\")"
   ]
  },
  {
   "cell_type": "markdown",
   "id": "85933822",
   "metadata": {},
   "source": [
    "#### Exercício 5.9 (pág. 90):"
   ]
  },
  {
   "cell_type": "code",
   "execution_count": 22,
   "id": "e4d1d534",
   "metadata": {},
   "outputs": [
    {
     "name": "stdout",
     "output_type": "stream",
     "text": [
      "Digite o primeiro número (dividendo): 2\n",
      "Digite o segundo número (divisor): 5\n",
      "A divisão inteira de 2 por 5 é 0\n",
      "O resto da divisão de 2 por 5 é 2\n"
     ]
    }
   ],
   "source": [
    "def divisao_inteira_resto(dividendo, divisor):\n",
    "    resultadoInteiro = 0\n",
    "    resto = 0\n",
    "    \n",
    "    while dividendo >= divisor:\n",
    "        dividendo -= divisor\n",
    "        resultadoInteiro += 1 #Quantas vezes tem o divisor dentro do dividendo\n",
    "    \n",
    "    resto = dividendo\n",
    "    \n",
    "    return resultadoInteiro, resto\n",
    "\n",
    "num1 = int(input(\"Digite o primeiro número (dividendo): \"))\n",
    "num2 = int(input(\"Digite o segundo número (divisor): \"))\n",
    "\n",
    "resultado_quociente, resultado_resto = divisao_inteira_resto(num1, num2)\n",
    "\n",
    "print(f\"A divisão inteira de {num1} por {num2} é {resultado_quociente}\")\n",
    "print(f\"O resto da divisão de {num1} por {num2} é {resultado_resto}\")"
   ]
  },
  {
   "cell_type": "markdown",
   "id": "7f339d81",
   "metadata": {},
   "source": [
    "#### Exercício 5.10 (pág. 91):"
   ]
  },
  {
   "cell_type": "code",
   "execution_count": 26,
   "id": "68922a20",
   "metadata": {},
   "outputs": [
    {
     "name": "stdout",
     "output_type": "stream",
     "text": [
      "Resposta da questão 1: B\n",
      "Resposta da questão 2: W\n",
      "Resposta da questão 3: D\n",
      "O aluno fez 2 ponto(s)\n"
     ]
    }
   ],
   "source": [
    "# A resposta da primeira é “b”; da segunda, “a”; e da terceira, “d”.\n",
    "pontos = 0\n",
    "questão = 1\n",
    "\n",
    "while questão <= 3:\n",
    "    resposta = input(\"Resposta da questão %d: \" % questão)\n",
    "    resposta = resposta.lower()\n",
    "    if questão == 1 and resposta == \"b\":\n",
    "        pontos = pontos + 1\n",
    "    if questão == 2 and resposta == \"a\":\n",
    "        pontos = pontos + 1\n",
    "    if questão == 3 and resposta == \"d\":\n",
    "        pontos = pontos + 1\n",
    "    questão +=1\n",
    "    \n",
    "print(\"O aluno fez %d ponto(s)\" % pontos)"
   ]
  },
  {
   "cell_type": "markdown",
   "id": "4f2b7a80",
   "metadata": {},
   "source": [
    "#### Exercício 5.11 (pág. 92):"
   ]
  },
  {
   "cell_type": "code",
   "execution_count": 28,
   "id": "09b998ff",
   "metadata": {},
   "outputs": [
    {
     "name": "stdout",
     "output_type": "stream",
     "text": [
      "Qual o depósito inicial: 100\n",
      "Qual a taxa de juros: 5\n",
      "Saldo inicial: R$ 100.00\n",
      "Mês 1: Saldo: R$ 105.00 | Juros no mês: R$ 5.00\n",
      "Mês 2: Saldo: R$ 110.25 | Juros no mês: R$ 5.25\n",
      "Mês 3: Saldo: R$ 115.76 | Juros no mês: R$ 5.51\n",
      "Mês 4: Saldo: R$ 121.55 | Juros no mês: R$ 5.79\n",
      "Mês 5: Saldo: R$ 127.63 | Juros no mês: R$ 6.08\n",
      "Mês 6: Saldo: R$ 134.01 | Juros no mês: R$ 6.38\n",
      "Mês 7: Saldo: R$ 140.71 | Juros no mês: R$ 6.70\n",
      "Mês 8: Saldo: R$ 147.75 | Juros no mês: R$ 7.04\n",
      "Mês 9: Saldo: R$ 155.13 | Juros no mês: R$ 7.39\n",
      "Mês 10: Saldo: R$ 162.89 | Juros no mês: R$ 7.76\n",
      "Mês 11: Saldo: R$ 171.03 | Juros no mês: R$ 8.14\n",
      "Mês 12: Saldo: R$ 179.59 | Juros no mês: R$ 8.55\n",
      "Mês 13: Saldo: R$ 188.56 | Juros no mês: R$ 8.98\n",
      "Mês 14: Saldo: R$ 197.99 | Juros no mês: R$ 9.43\n",
      "Mês 15: Saldo: R$ 207.89 | Juros no mês: R$ 9.90\n",
      "Mês 16: Saldo: R$ 218.29 | Juros no mês: R$ 10.39\n",
      "Mês 17: Saldo: R$ 229.20 | Juros no mês: R$ 10.91\n",
      "Mês 18: Saldo: R$ 240.66 | Juros no mês: R$ 11.46\n",
      "Mês 19: Saldo: R$ 252.70 | Juros no mês: R$ 12.03\n",
      "Mês 20: Saldo: R$ 265.33 | Juros no mês: R$ 12.63\n",
      "Mês 21: Saldo: R$ 278.60 | Juros no mês: R$ 13.27\n",
      "Mês 22: Saldo: R$ 292.53 | Juros no mês: R$ 13.93\n",
      "Mês 23: Saldo: R$ 307.15 | Juros no mês: R$ 14.63\n",
      "Mês 24: Saldo: R$ 322.51 | Juros no mês: R$ 15.36\n",
      "\n",
      "Total ganho com juros em 24 meses: R$ 222.51\n",
      "Saldo final após 24 meses: R$ 322.51\n"
     ]
    }
   ],
   "source": [
    "def calcJuros(depositoInicial, taxaJuros, meses):\n",
    "    saldo = depositoInicial\n",
    "    totalGanho = 0\n",
    "\n",
    "    print(f\"Saldo inicial: R$ {saldo:.2f}\")\n",
    "\n",
    "    for mes in range(1, meses + 1):\n",
    "        jurosMes = saldo * (taxaJuros / 100)\n",
    "        saldo += jurosMes\n",
    "        totalGanho += jurosMes\n",
    "\n",
    "        print(f\"Mês {mes}: Saldo: R$ {saldo:.2f} | Juros no mês: R$ {jurosMes:.2f}\")\n",
    "\n",
    "    print(f\"\\nTotal ganho com juros em {meses} meses: R$ {totalGanho:.2f}\")\n",
    "    print(f\"Saldo final após {meses} meses: R$ {saldo:.2f}\")\n",
    "\n",
    "meses = 24\n",
    "depositoInicial = float(input(\"Qual o depósito inicial: \"))\n",
    "taxaJuros = float(input(\"Qual a taxa de juros: \"))\n",
    "\n",
    "calcJuros(depositoInicial, taxaJuros, meses)\n"
   ]
  },
  {
   "cell_type": "markdown",
   "id": "13a68b57",
   "metadata": {},
   "source": [
    "#### Exercício 5.12 (pág. 93):"
   ]
  },
  {
   "cell_type": "code",
   "execution_count": 29,
   "id": "dbca8047",
   "metadata": {},
   "outputs": [
    {
     "name": "stdout",
     "output_type": "stream",
     "text": [
      "Qual o depósito inicial: 100\n",
      "Qual a taxa de juros: 5\n",
      "Qual o valor depositado mensalmente: 20\n",
      "Saldo inicial: R$ 100.00\n",
      "Mês 1: Saldo: R$ 125.00 | Juros no mês: R$ 5.00\n",
      "Mês 2: Saldo: R$ 151.25 | Juros no mês: R$ 6.25\n",
      "Mês 3: Saldo: R$ 178.81 | Juros no mês: R$ 7.56\n",
      "Mês 4: Saldo: R$ 207.75 | Juros no mês: R$ 8.94\n",
      "Mês 5: Saldo: R$ 238.14 | Juros no mês: R$ 10.39\n",
      "Mês 6: Saldo: R$ 270.05 | Juros no mês: R$ 11.91\n",
      "Mês 7: Saldo: R$ 303.55 | Juros no mês: R$ 13.50\n",
      "Mês 8: Saldo: R$ 338.73 | Juros no mês: R$ 15.18\n",
      "Mês 9: Saldo: R$ 375.66 | Juros no mês: R$ 16.94\n",
      "Mês 10: Saldo: R$ 414.45 | Juros no mês: R$ 18.78\n",
      "Mês 11: Saldo: R$ 455.17 | Juros no mês: R$ 20.72\n",
      "Mês 12: Saldo: R$ 497.93 | Juros no mês: R$ 22.76\n",
      "Mês 13: Saldo: R$ 542.82 | Juros no mês: R$ 24.90\n",
      "Mês 14: Saldo: R$ 589.97 | Juros no mês: R$ 27.14\n",
      "Mês 15: Saldo: R$ 639.46 | Juros no mês: R$ 29.50\n",
      "Mês 16: Saldo: R$ 691.44 | Juros no mês: R$ 31.97\n",
      "Mês 17: Saldo: R$ 746.01 | Juros no mês: R$ 34.57\n",
      "Mês 18: Saldo: R$ 803.31 | Juros no mês: R$ 37.30\n",
      "Mês 19: Saldo: R$ 863.48 | Juros no mês: R$ 40.17\n",
      "Mês 20: Saldo: R$ 926.65 | Juros no mês: R$ 43.17\n",
      "Mês 21: Saldo: R$ 992.98 | Juros no mês: R$ 46.33\n",
      "Mês 22: Saldo: R$ 1062.63 | Juros no mês: R$ 49.65\n",
      "Mês 23: Saldo: R$ 1135.76 | Juros no mês: R$ 53.13\n",
      "Mês 24: Saldo: R$ 1212.55 | Juros no mês: R$ 56.79\n",
      "\n",
      "Total ganho com juros em 24 meses: R$ 632.55\n",
      "Saldo final após 24 meses: R$ 1212.55\n"
     ]
    }
   ],
   "source": [
    "def calcJuros(depositoInicial, taxaJuros, meses, valorDepositadoMensalmente):\n",
    "    saldo = depositoInicial\n",
    "    totalGanho = 0\n",
    "\n",
    "    print(f\"Saldo inicial: R$ {saldo:.2f}\")\n",
    "\n",
    "    for mes in range(1, meses + 1):\n",
    "        jurosMes = saldo * (taxaJuros / 100)\n",
    "        saldo += (jurosMes + valorDepositadoMensalmente) #Juros a partir do segundo mês\n",
    "        totalGanho += jurosMes\n",
    "\n",
    "        print(f\"Mês {mes}: Saldo: R$ {saldo:.2f} | Juros no mês: R$ {jurosMes:.2f}\")\n",
    "\n",
    "    print(f\"\\nTotal ganho com juros em {meses} meses: R$ {totalGanho:.2f}\")\n",
    "    print(f\"Saldo final após {meses} meses: R$ {saldo:.2f}\")\n",
    "\n",
    "meses = 24\n",
    "depositoInicial = float(input(\"Qual o depósito inicial: \"))\n",
    "taxaJuros = float(input(\"Qual a taxa de juros: \"))\n",
    "valorDepositadoMensalmente = float(input(\"Qual o valor depositado mensalmente: \"))\n",
    "\n",
    "calcJuros(depositoInicial, taxaJuros, meses, valorDepositadoMensalmente)"
   ]
  },
  {
   "cell_type": "markdown",
   "id": "598c02ed",
   "metadata": {},
   "source": [
    "#### Exercício 5.13 (pág. 93):"
   ]
  },
  {
   "cell_type": "code",
   "execution_count": 30,
   "id": "5aee8ab7",
   "metadata": {},
   "outputs": [
    {
     "name": "stdout",
     "output_type": "stream",
     "text": [
      "Qual o valor inicial da dívida: 10000\n",
      "Qual o valor do juros mensal: 1\n",
      "Qual o valor pago mensalmente para quitar a dívida: 1000\n",
      "\n",
      "Número de meses para pagar a dívida: 11 meses\n",
      "Total pago ao final: R$ 11000.00\n",
      "Total de juros pagos: R$ 589.85\n"
     ]
    }
   ],
   "source": [
    "def calcDivida(dividaInicial, jurosMensal, valorMensalPago):\n",
    "    mesesPagamento = 0\n",
    "    totalPago = 0\n",
    "    totalJuros = 0\n",
    "    saldoDevedor = dividaInicial\n",
    "\n",
    "    while saldoDevedor > 0:\n",
    "        juros = saldoDevedor * (jurosMensal / 100)\n",
    "        saldoDevedor += juros  #Adiciona o valor dos juros mensal ao saldo devedor, antes de pagar o mensal\n",
    "        saldoDevedor -= valorMensalPago  #Subtrai o pagamento mensal do saldo\n",
    "\n",
    "        if saldoDevedor < 0:\n",
    "            saldoDevedor = 0  #Corrige se der negativo\n",
    "\n",
    "        mesesPagamento += 1\n",
    "        totalPago += valorMensalPago\n",
    "        totalJuros += juros\n",
    "\n",
    "    return mesesPagamento, totalPago, totalJuros\n",
    "\n",
    "dividaInicial = float(input(\"Qual o valor inicial da dívida: \"))\n",
    "jurosMensal = float(input(\"Qual o valor do juros mensal: \"))\n",
    "valorMensalPago = float(input(\"Qual o valor pago mensalmente para quitar a dívida: \"))\n",
    "\n",
    "mesesPagamento, totalPago, totalJuros = calcDivida(dividaInicial, jurosMensal, valorMensalPago)\n",
    "\n",
    "print(f\"\\nNúmero de meses para pagar a dívida: {mesesPagamento} meses\")\n",
    "print(f\"Total pago ao final: R$ {totalPago:.2f}\")\n",
    "print(f\"Total de juros pagos: R$ {totalJuros:.2f}\")"
   ]
  },
  {
   "cell_type": "markdown",
   "id": "4ecc9cb2",
   "metadata": {},
   "source": [
    "#### Exercício 5.14 (pág. 94):"
   ]
  },
  {
   "cell_type": "code",
   "execution_count": 6,
   "id": "2a8db804",
   "metadata": {},
   "outputs": [
    {
     "name": "stdout",
     "output_type": "stream",
     "text": [
      "Digite um número inteiro: 10\n",
      "Digite um número inteiro: 2\n",
      "Digite um número inteiro: 8\n",
      "Digite um número inteiro: 0\n",
      "Foram digitados 3, onde a soma deles é igual a 20 e a média é igual a 6.67.\n"
     ]
    }
   ],
   "source": [
    "def calcMediaSoma(listaNum):\n",
    "    soma = sum(listaNum)\n",
    "    media = soma / len(listaNum)\n",
    "    return media, soma\n",
    "\n",
    "listaNum = []\n",
    "\n",
    "while True:\n",
    "    numUser = int(input(\"Digite um número inteiro ou 0 para sair: \"))\n",
    "    if numUser == 0:\n",
    "        break\n",
    "    else:\n",
    "        listaNum.append(numUser)\n",
    "        media, soma = calcMediaSoma(listaNum)\n",
    "\n",
    "print(f\"Foram digitados {len(listaNum)}, onde a soma deles é igual a {soma} e a média é igual a {media:.2f}.\")\n",
    "    "
   ]
  },
  {
   "cell_type": "markdown",
   "id": "23973a3c",
   "metadata": {},
   "source": [
    "#### Exercício 5.15 (pág. 94):"
   ]
  },
  {
   "cell_type": "code",
   "execution_count": 14,
   "id": "fdd14476",
   "metadata": {},
   "outputs": [
    {
     "name": "stdout",
     "output_type": "stream",
     "text": [
      "Código | Preço\n",
      "----------------\n",
      "   1    |   0.50\n",
      "   2    |   1.00\n",
      "   3    |   4.00\n",
      "   5    |   7.00\n",
      "   9    |   8.00\n",
      "Digite o código de acordo com a tabela acima ou 0 para finalizar: 1\n",
      "Digite a quantidade de produtos comprada: 10\n",
      "Digite o código de acordo com a tabela acima ou 0 para finalizar: 2\n",
      "Digite a quantidade de produtos comprada: 10\n",
      "Digite o código de acordo com a tabela acima ou 0 para finalizar: 0\n",
      "O total das compras é: R$ 15.00\n"
     ]
    }
   ],
   "source": [
    "def exibirTabela(produtos):\n",
    "    print(\"Código | Preço\")\n",
    "    print(\"----------------\")\n",
    "    \n",
    "    for codigo, preco in produtos.items():\n",
    "        print(f\"   {codigo}   |  {preco:.2f}\")\n",
    "\n",
    "def calcTotalCompras(produtos):\n",
    "    total = 0\n",
    "    while True:\n",
    "        codProduto = int(input(\"Digite o código de acordo com a tabela acima ou 0 para finalizar: \"))\n",
    "        \n",
    "        if codProduto == 0:\n",
    "            break\n",
    "        #not in verifica se está presente em uma sequência: lista, tupla, string, dicionário, etc\n",
    "        if codProduto not in produtos:\n",
    "            print(\"Código inválido\")\n",
    "            continue\n",
    "        qtdProdutos = int(input(\"Digite a quantidade de produtos comprada: \"))\n",
    "        total += produtos[codProduto] * qtdProdutos\n",
    "    return total\n",
    "\n",
    "produtos = {\n",
    "    1: 0.50,\n",
    "    2: 1.00,\n",
    "    3: 4.00,\n",
    "    5: 7.00,\n",
    "    9: 8.00\n",
    "}\n",
    "\n",
    "exibirTabela(produtos)\n",
    "totalCompras = calcTotalCompras(produtos)\n",
    "\n",
    "print(f\"O total das compras é: {totalCompras:.2f} reais.\")"
   ]
  },
  {
   "cell_type": "markdown",
   "id": "bad358ff",
   "metadata": {},
   "source": [
    "#### Exercício 5.16 (pág. 94):"
   ]
  },
  {
   "cell_type": "code",
   "execution_count": 16,
   "id": "251d8443",
   "metadata": {},
   "outputs": [
    {
     "name": "stdout",
     "output_type": "stream",
     "text": [
      "Digite o valor a pagar:501\n",
      "10 cédula(s) de R$50\n",
      "0 cédula(s) de R$20\n",
      "0 cédula(s) de R$10\n",
      "0 cédula(s) de R$5\n",
      "1 cédula(s) de R$1\n"
     ]
    }
   ],
   "source": [
    "#Digite os valores: 501,745, 384, 2, 7 e 1\n",
    "\n",
    "valor=int(input(\"Digite o valor a pagar:\"))\n",
    "cédulas=0\n",
    "atual=50\n",
    "apagar=valor\n",
    "while True:\n",
    "    if atual<=apagar:\n",
    "        apagar-=atual\n",
    "        cédulas+=1\n",
    "    else:\n",
    "        print(\"%d cédula(s) de R$%d\" % (cédulas, atual))\n",
    "        if apagar == 0:\n",
    "            break\n",
    "        if atual == 50:\n",
    "            atual = 20\n",
    "        elif atual == 20:\n",
    "            atual = 10\n",
    "        elif atual == 10:\n",
    "            atual = 5\n",
    "        elif atual == 5:\n",
    "            atual = 1\n",
    "        cédulas = 0"
   ]
  },
  {
   "cell_type": "markdown",
   "id": "f4aa1889",
   "metadata": {},
   "source": [
    "#### Exercício 5.17 (pág. 94):"
   ]
  },
  {
   "cell_type": "code",
   "execution_count": 21,
   "id": "42d38dfe",
   "metadata": {},
   "outputs": [
    {
     "name": "stdout",
     "output_type": "stream",
     "text": [
      "Digite o valor a pagar:535\n",
      "10 cédula(s) de R$50\n",
      "1 cédula(s) de R$20\n",
      "1 cédula(s) de R$10\n",
      "1 cédula(s) de R$5\n"
     ]
    }
   ],
   "source": [
    "# Digite o valor: 0\n",
    "# Interompe antes do esperado, não mostrando o número de notas correto, ou seja, 0 cédulas para cada tipo de cédula\n",
    "\n",
    "valor=int(input(\"Digite o valor a pagar:\"))\n",
    "cédulas=0\n",
    "atual=50\n",
    "apagar=valor\n",
    "while True:\n",
    "    if atual<=apagar:\n",
    "        apagar-=atual\n",
    "        cédulas+=1\n",
    "    else:\n",
    "        print(\"%d cédula(s) de R$%d\" % (cédulas, atual))\n",
    "        if apagar == 0:\n",
    "            break\n",
    "        if atual == 50:\n",
    "            atual = 20\n",
    "        elif atual == 20:\n",
    "            atual = 10\n",
    "        elif atual == 10:\n",
    "            atual = 5\n",
    "        elif atual == 5:\n",
    "            atual = 1\n",
    "        cédulas = 0"
   ]
  },
  {
   "cell_type": "markdown",
   "id": "0305998e",
   "metadata": {},
   "source": [
    "#### Exercício 5.18 (pág. 94):"
   ]
  },
  {
   "cell_type": "code",
   "execution_count": 22,
   "id": "d325ccc9",
   "metadata": {},
   "outputs": [
    {
     "name": "stdout",
     "output_type": "stream",
     "text": [
      "Digite o valor a pagar:542\n",
      "5 cédula(s) de R$100\n",
      "0 cédula(s) de R$50\n",
      "2 cédula(s) de R$20\n",
      "0 cédula(s) de R$10\n",
      "0 cédula(s) de R$5\n",
      "2 cédula(s) de R$1\n"
     ]
    }
   ],
   "source": [
    "valor=int(input(\"Digite o valor a pagar:\"))\n",
    "cédulas=0\n",
    "atual=100\n",
    "apagar=valor\n",
    "while True:\n",
    "    if atual<=apagar:\n",
    "        apagar-=atual\n",
    "        cédulas+=1\n",
    "    else:\n",
    "        print(\"%d cédula(s) de R$%d\" % (cédulas, atual))\n",
    "        if apagar == 0:\n",
    "            break\n",
    "        if atual == 100:\n",
    "            atual = 50\n",
    "        elif atual == 50:\n",
    "            atual = 20\n",
    "        elif atual == 20:\n",
    "            atual = 10\n",
    "        elif atual == 10:\n",
    "            atual = 5\n",
    "        elif atual == 5:\n",
    "            atual = 1\n",
    "        cédulas = 0"
   ]
  },
  {
   "cell_type": "markdown",
   "id": "4cf25509",
   "metadata": {},
   "source": [
    "#### Exercício 5.19 (pág. 94):"
   ]
  },
  {
   "cell_type": "code",
   "execution_count": 28,
   "id": "06e2c85d",
   "metadata": {},
   "outputs": [
    {
     "name": "stdout",
     "output_type": "stream",
     "text": [
      "Digite o valor a pagar: 578.69\n",
      "5 cédula(s) de R$100.00\n",
      "1 cédula(s) de R$50.00\n",
      "1 cédula(s) de R$20.00\n",
      "1 cédula(s) de R$5.00\n",
      "3 cédula(s) de R$1.00\n",
      "1 moeda(s) de R$0.50\n",
      "1 moeda(s) de R$0.10\n",
      "1 moeda(s) de R$0.05\n",
      "2 moeda(s) de R$0.02\n"
     ]
    }
   ],
   "source": [
    "valor = float(input(\"Digite o valor a pagar: \"))\n",
    "cedulasOuMoedas = 0\n",
    "atual = 100\n",
    "apagar = valor\n",
    "\n",
    "cedulasMoedas = [100, 50, 20, 10, 5, 1, 0.50, 0.10, 0.05, 0.02, 0.01]\n",
    "\n",
    "i = 0\n",
    "\n",
    "while True:\n",
    "    if atual <= apagar:\n",
    "        apagar -= atual\n",
    "        cedulasOuMoedas += 1\n",
    "    else:\n",
    "        if cedulasOuMoedas > 0:\n",
    "            if atual >= 1:\n",
    "                tipoMoeda = \"cédula(s)\"\n",
    "            else:\n",
    "                tipoMoeda = \"moeda(s)\"\n",
    "            print(\"%d %s de R$%.2f\" % (cedulasOuMoedas, tipoMoeda, atual))\n",
    "        if round(apagar, 2) == 0:\n",
    "            break\n",
    "        if i < len(cedulasMoedas) - 1:\n",
    "            i += 1\n",
    "            atual = cedulasMoedas[i]\n",
    "        cedulasOuMoedas = 0"
   ]
  },
  {
   "cell_type": "markdown",
   "id": "ea3b5a57",
   "metadata": {},
   "source": [
    "#### Exercício 5.20 (pág. 95):"
   ]
  },
  {
   "cell_type": "code",
   "execution_count": 30,
   "id": "0282efd9",
   "metadata": {},
   "outputs": [
    {
     "name": "stdout",
     "output_type": "stream",
     "text": [
      "Digite o valor a pagar: 0\n"
     ]
    }
   ],
   "source": [
    "# O que acontece se digitarmos 0,001?\n",
    "# Não é calculado nada, é como se tivesse digitado 0\n",
    "\n",
    "valor = float(input(\"Digite o valor a pagar: \"))\n",
    "cedulasOuMoedas = 0\n",
    "atual = 100\n",
    "apagar = valor\n",
    "\n",
    "cedulasMoedas = [100, 50, 20, 10, 5, 1, 0.50, 0.10, 0.05, 0.02, 0.01]\n",
    "\n",
    "i = 0\n",
    "\n",
    "while True:\n",
    "    if atual <= apagar:\n",
    "        apagar -= atual\n",
    "        cedulasOuMoedas += 1\n",
    "    else:\n",
    "        if cedulasOuMoedas > 0:\n",
    "            if atual >= 1:\n",
    "                tipoMoeda = \"cédula(s)\"\n",
    "            else:\n",
    "                tipoMoeda = \"moeda(s)\"\n",
    "            print(\"%d %s de R$%.2f\" % (cedulasOuMoedas, tipoMoeda, atual))\n",
    "        if round(apagar, 2) == 0:\n",
    "            break\n",
    "        if i < len(cedulasMoedas) - 1:\n",
    "            i += 1\n",
    "            atual = cedulasMoedas[i]\n",
    "        cedulasOuMoedas = 0"
   ]
  },
  {
   "cell_type": "markdown",
   "id": "3c6e1d49",
   "metadata": {},
   "source": [
    "#### Exercício 5.21 (pág. 97):"
   ]
  },
  {
   "cell_type": "code",
   "execution_count": 31,
   "id": "8ce0c840",
   "metadata": {},
   "outputs": [
    {
     "name": "stdout",
     "output_type": "stream",
     "text": [
      "Digite o valor a pagar ou 0 para sair: 10\n",
      "0 cédula(s) de R$50\n",
      "0 cédula(s) de R$20\n",
      "1 cédula(s) de R$10\n",
      "Digite o valor a pagar ou 0 para sair: 500\n",
      "10 cédula(s) de R$50\n",
      "Digite o valor a pagar ou 0 para sair: 525\n",
      "10 cédula(s) de R$50\n",
      "1 cédula(s) de R$20\n",
      "0 cédula(s) de R$10\n",
      "1 cédula(s) de R$5\n",
      "Digite o valor a pagar ou 0 para sair: 0\n"
     ]
    }
   ],
   "source": [
    "while True:\n",
    "    valor = int(input(\"Digite o valor a pagar ou 0 para sair: \"))\n",
    "    if valor == 0:\n",
    "        break\n",
    "\n",
    "    cedulas = 0\n",
    "    atual = 50\n",
    "    apagar = valor\n",
    "\n",
    "    while True:\n",
    "        if atual <= apagar:\n",
    "            apagar -= atual\n",
    "            cedulas += 1\n",
    "        else:\n",
    "            print(\"%d cédula(s) de R$%d\" % (cedulas, atual))\n",
    "            if apagar == 0:\n",
    "                break\n",
    "            if atual == 50:\n",
    "                atual = 20\n",
    "            elif atual == 20:\n",
    "                atual = 10\n",
    "            elif atual == 10:\n",
    "                atual = 5\n",
    "            elif atual == 5:\n",
    "                atual = 1\n",
    "            cedulas = 0"
   ]
  },
  {
   "cell_type": "markdown",
   "id": "b05d52d4",
   "metadata": {},
   "source": [
    "#### Exercício 5.22 (pág. 97):"
   ]
  },
  {
   "cell_type": "code",
   "execution_count": 36,
   "id": "35fee902",
   "metadata": {},
   "outputs": [
    {
     "name": "stdout",
     "output_type": "stream",
     "text": [
      "\n",
      "=== MENU ===\n",
      "1. Adição\n",
      "2. Subtração\n",
      "3. Multiplicação\n",
      "4. Divisão\n",
      "5. Sair\n",
      "============\n",
      "Escolha uma opção (1 a 5): 1\n",
      "\n",
      "=== TABUADA DE ADIÇÃO ===\n",
      " 1 +  1 =  2\n",
      " 1 +  2 =  3\n",
      " 1 +  3 =  4\n",
      " 1 +  4 =  5\n",
      " 1 +  5 =  6\n",
      " 1 +  6 =  7\n",
      " 1 +  7 =  8\n",
      " 1 +  8 =  9\n",
      " 1 +  9 = 10\n",
      " 1 + 10 = 11\n",
      " 2 +  1 =  3\n",
      " 2 +  2 =  4\n",
      " 2 +  3 =  5\n",
      " 2 +  4 =  6\n",
      " 2 +  5 =  7\n",
      " 2 +  6 =  8\n",
      " 2 +  7 =  9\n",
      " 2 +  8 = 10\n",
      " 2 +  9 = 11\n",
      " 2 + 10 = 12\n",
      " 3 +  1 =  4\n",
      " 3 +  2 =  5\n",
      " 3 +  3 =  6\n",
      " 3 +  4 =  7\n",
      " 3 +  5 =  8\n",
      " 3 +  6 =  9\n",
      " 3 +  7 = 10\n",
      " 3 +  8 = 11\n",
      " 3 +  9 = 12\n",
      " 3 + 10 = 13\n",
      " 4 +  1 =  5\n",
      " 4 +  2 =  6\n",
      " 4 +  3 =  7\n",
      " 4 +  4 =  8\n",
      " 4 +  5 =  9\n",
      " 4 +  6 = 10\n",
      " 4 +  7 = 11\n",
      " 4 +  8 = 12\n",
      " 4 +  9 = 13\n",
      " 4 + 10 = 14\n",
      " 5 +  1 =  6\n",
      " 5 +  2 =  7\n",
      " 5 +  3 =  8\n",
      " 5 +  4 =  9\n",
      " 5 +  5 = 10\n",
      " 5 +  6 = 11\n",
      " 5 +  7 = 12\n",
      " 5 +  8 = 13\n",
      " 5 +  9 = 14\n",
      " 5 + 10 = 15\n",
      " 6 +  1 =  7\n",
      " 6 +  2 =  8\n",
      " 6 +  3 =  9\n",
      " 6 +  4 = 10\n",
      " 6 +  5 = 11\n",
      " 6 +  6 = 12\n",
      " 6 +  7 = 13\n",
      " 6 +  8 = 14\n",
      " 6 +  9 = 15\n",
      " 6 + 10 = 16\n",
      " 7 +  1 =  8\n",
      " 7 +  2 =  9\n",
      " 7 +  3 = 10\n",
      " 7 +  4 = 11\n",
      " 7 +  5 = 12\n",
      " 7 +  6 = 13\n",
      " 7 +  7 = 14\n",
      " 7 +  8 = 15\n",
      " 7 +  9 = 16\n",
      " 7 + 10 = 17\n",
      " 8 +  1 =  9\n",
      " 8 +  2 = 10\n",
      " 8 +  3 = 11\n",
      " 8 +  4 = 12\n",
      " 8 +  5 = 13\n",
      " 8 +  6 = 14\n",
      " 8 +  7 = 15\n",
      " 8 +  8 = 16\n",
      " 8 +  9 = 17\n",
      " 8 + 10 = 18\n",
      " 9 +  1 = 10\n",
      " 9 +  2 = 11\n",
      " 9 +  3 = 12\n",
      " 9 +  4 = 13\n",
      " 9 +  5 = 14\n",
      " 9 +  6 = 15\n",
      " 9 +  7 = 16\n",
      " 9 +  8 = 17\n",
      " 9 +  9 = 18\n",
      " 9 + 10 = 19\n",
      "10 +  1 = 11\n",
      "10 +  2 = 12\n",
      "10 +  3 = 13\n",
      "10 +  4 = 14\n",
      "10 +  5 = 15\n",
      "10 +  6 = 16\n",
      "10 +  7 = 17\n",
      "10 +  8 = 18\n",
      "10 +  9 = 19\n",
      "10 + 10 = 20\n",
      "\n",
      "=== MENU ===\n",
      "1. Adição\n",
      "2. Subtração\n",
      "3. Multiplicação\n",
      "4. Divisão\n",
      "5. Sair\n",
      "============\n",
      "Escolha uma opção (1 a 5): 2\n",
      "\n",
      "=== TABUADA DE SUBTRAÇÃO ===\n",
      " 1 -  1 =  0\n",
      " 1 -  2 = -1\n",
      " 1 -  3 = -2\n",
      " 1 -  4 = -3\n",
      " 1 -  5 = -4\n",
      " 1 -  6 = -5\n",
      " 1 -  7 = -6\n",
      " 1 -  8 = -7\n",
      " 1 -  9 = -8\n",
      " 1 - 10 = -9\n",
      " 2 -  1 =  1\n",
      " 2 -  2 =  0\n",
      " 2 -  3 = -1\n",
      " 2 -  4 = -2\n",
      " 2 -  5 = -3\n",
      " 2 -  6 = -4\n",
      " 2 -  7 = -5\n",
      " 2 -  8 = -6\n",
      " 2 -  9 = -7\n",
      " 2 - 10 = -8\n",
      " 3 -  1 =  2\n",
      " 3 -  2 =  1\n",
      " 3 -  3 =  0\n",
      " 3 -  4 = -1\n",
      " 3 -  5 = -2\n",
      " 3 -  6 = -3\n",
      " 3 -  7 = -4\n",
      " 3 -  8 = -5\n",
      " 3 -  9 = -6\n",
      " 3 - 10 = -7\n",
      " 4 -  1 =  3\n",
      " 4 -  2 =  2\n",
      " 4 -  3 =  1\n",
      " 4 -  4 =  0\n",
      " 4 -  5 = -1\n",
      " 4 -  6 = -2\n",
      " 4 -  7 = -3\n",
      " 4 -  8 = -4\n",
      " 4 -  9 = -5\n",
      " 4 - 10 = -6\n",
      " 5 -  1 =  4\n",
      " 5 -  2 =  3\n",
      " 5 -  3 =  2\n",
      " 5 -  4 =  1\n",
      " 5 -  5 =  0\n",
      " 5 -  6 = -1\n",
      " 5 -  7 = -2\n",
      " 5 -  8 = -3\n",
      " 5 -  9 = -4\n",
      " 5 - 10 = -5\n",
      " 6 -  1 =  5\n",
      " 6 -  2 =  4\n",
      " 6 -  3 =  3\n",
      " 6 -  4 =  2\n",
      " 6 -  5 =  1\n",
      " 6 -  6 =  0\n",
      " 6 -  7 = -1\n",
      " 6 -  8 = -2\n",
      " 6 -  9 = -3\n",
      " 6 - 10 = -4\n",
      " 7 -  1 =  6\n",
      " 7 -  2 =  5\n",
      " 7 -  3 =  4\n",
      " 7 -  4 =  3\n",
      " 7 -  5 =  2\n",
      " 7 -  6 =  1\n",
      " 7 -  7 =  0\n",
      " 7 -  8 = -1\n",
      " 7 -  9 = -2\n",
      " 7 - 10 = -3\n",
      " 8 -  1 =  7\n",
      " 8 -  2 =  6\n",
      " 8 -  3 =  5\n",
      " 8 -  4 =  4\n",
      " 8 -  5 =  3\n",
      " 8 -  6 =  2\n",
      " 8 -  7 =  1\n",
      " 8 -  8 =  0\n",
      " 8 -  9 = -1\n",
      " 8 - 10 = -2\n",
      " 9 -  1 =  8\n",
      " 9 -  2 =  7\n",
      " 9 -  3 =  6\n",
      " 9 -  4 =  5\n",
      " 9 -  5 =  4\n",
      " 9 -  6 =  3\n",
      " 9 -  7 =  2\n",
      " 9 -  8 =  1\n",
      " 9 -  9 =  0\n",
      " 9 - 10 = -1\n",
      "10 -  1 =  9\n",
      "10 -  2 =  8\n",
      "10 -  3 =  7\n",
      "10 -  4 =  6\n",
      "10 -  5 =  5\n",
      "10 -  6 =  4\n",
      "10 -  7 =  3\n",
      "10 -  8 =  2\n",
      "10 -  9 =  1\n",
      "10 - 10 =  0\n",
      "\n",
      "=== MENU ===\n",
      "1. Adição\n",
      "2. Subtração\n",
      "3. Multiplicação\n",
      "4. Divisão\n",
      "5. Sair\n",
      "============\n",
      "Escolha uma opção (1 a 5): 3\n",
      "\n",
      "=== TABUADA DE MULTIPLICAÇÃO ===\n",
      " 1 x  1 =   1\n",
      " 1 x  2 =   2\n",
      " 1 x  3 =   3\n",
      " 1 x  4 =   4\n",
      " 1 x  5 =   5\n",
      " 1 x  6 =   6\n",
      " 1 x  7 =   7\n",
      " 1 x  8 =   8\n",
      " 1 x  9 =   9\n",
      " 1 x 10 =  10\n",
      " 2 x  1 =   2\n",
      " 2 x  2 =   4\n",
      " 2 x  3 =   6\n",
      " 2 x  4 =   8\n",
      " 2 x  5 =  10\n",
      " 2 x  6 =  12\n",
      " 2 x  7 =  14\n",
      " 2 x  8 =  16\n",
      " 2 x  9 =  18\n",
      " 2 x 10 =  20\n",
      " 3 x  1 =   3\n",
      " 3 x  2 =   6\n",
      " 3 x  3 =   9\n",
      " 3 x  4 =  12\n",
      " 3 x  5 =  15\n",
      " 3 x  6 =  18\n",
      " 3 x  7 =  21\n",
      " 3 x  8 =  24\n",
      " 3 x  9 =  27\n",
      " 3 x 10 =  30\n",
      " 4 x  1 =   4\n",
      " 4 x  2 =   8\n",
      " 4 x  3 =  12\n",
      " 4 x  4 =  16\n",
      " 4 x  5 =  20\n",
      " 4 x  6 =  24\n",
      " 4 x  7 =  28\n",
      " 4 x  8 =  32\n",
      " 4 x  9 =  36\n",
      " 4 x 10 =  40\n",
      " 5 x  1 =   5\n",
      " 5 x  2 =  10\n",
      " 5 x  3 =  15\n",
      " 5 x  4 =  20\n",
      " 5 x  5 =  25\n",
      " 5 x  6 =  30\n",
      " 5 x  7 =  35\n",
      " 5 x  8 =  40\n",
      " 5 x  9 =  45\n",
      " 5 x 10 =  50\n",
      " 6 x  1 =   6\n",
      " 6 x  2 =  12\n",
      " 6 x  3 =  18\n",
      " 6 x  4 =  24\n",
      " 6 x  5 =  30\n",
      " 6 x  6 =  36\n",
      " 6 x  7 =  42\n",
      " 6 x  8 =  48\n",
      " 6 x  9 =  54\n",
      " 6 x 10 =  60\n",
      " 7 x  1 =   7\n",
      " 7 x  2 =  14\n",
      " 7 x  3 =  21\n",
      " 7 x  4 =  28\n",
      " 7 x  5 =  35\n",
      " 7 x  6 =  42\n",
      " 7 x  7 =  49\n",
      " 7 x  8 =  56\n",
      " 7 x  9 =  63\n",
      " 7 x 10 =  70\n",
      " 8 x  1 =   8\n",
      " 8 x  2 =  16\n",
      " 8 x  3 =  24\n",
      " 8 x  4 =  32\n",
      " 8 x  5 =  40\n",
      " 8 x  6 =  48\n",
      " 8 x  7 =  56\n",
      " 8 x  8 =  64\n",
      " 8 x  9 =  72\n",
      " 8 x 10 =  80\n",
      " 9 x  1 =   9\n",
      " 9 x  2 =  18\n",
      " 9 x  3 =  27\n",
      " 9 x  4 =  36\n",
      " 9 x  5 =  45\n",
      " 9 x  6 =  54\n",
      " 9 x  7 =  63\n",
      " 9 x  8 =  72\n",
      " 9 x  9 =  81\n",
      " 9 x 10 =  90\n",
      "10 x  1 =  10\n",
      "10 x  2 =  20\n",
      "10 x  3 =  30\n",
      "10 x  4 =  40\n",
      "10 x  5 =  50\n",
      "10 x  6 =  60\n",
      "10 x  7 =  70\n",
      "10 x  8 =  80\n",
      "10 x  9 =  90\n",
      "10 x 10 = 100\n",
      "\n",
      "=== MENU ===\n",
      "1. Adição\n",
      "2. Subtração\n",
      "3. Multiplicação\n",
      "4. Divisão\n",
      "5. Sair\n",
      "============\n",
      "Escolha uma opção (1 a 5): 4\n",
      "\n",
      "=== TABUADA DE DIVISÃO ===\n",
      " 1 /  1 =  1.00\n",
      " 1 /  2 =  0.50\n",
      " 1 /  3 =  0.33\n",
      " 1 /  4 =  0.25\n",
      " 1 /  5 =  0.20\n",
      " 1 /  6 =  0.17\n",
      " 1 /  7 =  0.14\n",
      " 1 /  8 =  0.12\n",
      " 1 /  9 =  0.11\n",
      " 1 / 10 =  0.10\n",
      " 2 /  1 =  2.00\n",
      " 2 /  2 =  1.00\n",
      " 2 /  3 =  0.67\n",
      " 2 /  4 =  0.50\n",
      " 2 /  5 =  0.40\n",
      " 2 /  6 =  0.33\n",
      " 2 /  7 =  0.29\n",
      " 2 /  8 =  0.25\n",
      " 2 /  9 =  0.22\n",
      " 2 / 10 =  0.20\n",
      " 3 /  1 =  3.00\n",
      " 3 /  2 =  1.50\n",
      " 3 /  3 =  1.00\n",
      " 3 /  4 =  0.75\n",
      " 3 /  5 =  0.60\n",
      " 3 /  6 =  0.50\n",
      " 3 /  7 =  0.43\n",
      " 3 /  8 =  0.38\n",
      " 3 /  9 =  0.33\n",
      " 3 / 10 =  0.30\n",
      " 4 /  1 =  4.00\n",
      " 4 /  2 =  2.00\n",
      " 4 /  3 =  1.33\n",
      " 4 /  4 =  1.00\n",
      " 4 /  5 =  0.80\n",
      " 4 /  6 =  0.67\n",
      " 4 /  7 =  0.57\n",
      " 4 /  8 =  0.50\n",
      " 4 /  9 =  0.44\n",
      " 4 / 10 =  0.40\n",
      " 5 /  1 =  5.00\n",
      " 5 /  2 =  2.50\n",
      " 5 /  3 =  1.67\n",
      " 5 /  4 =  1.25\n",
      " 5 /  5 =  1.00\n",
      " 5 /  6 =  0.83\n",
      " 5 /  7 =  0.71\n",
      " 5 /  8 =  0.62\n",
      " 5 /  9 =  0.56\n",
      " 5 / 10 =  0.50\n",
      " 6 /  1 =  6.00\n",
      " 6 /  2 =  3.00\n",
      " 6 /  3 =  2.00\n",
      " 6 /  4 =  1.50\n",
      " 6 /  5 =  1.20\n",
      " 6 /  6 =  1.00\n",
      " 6 /  7 =  0.86\n",
      " 6 /  8 =  0.75\n",
      " 6 /  9 =  0.67\n",
      " 6 / 10 =  0.60\n",
      " 7 /  1 =  7.00\n",
      " 7 /  2 =  3.50\n",
      " 7 /  3 =  2.33\n",
      " 7 /  4 =  1.75\n",
      " 7 /  5 =  1.40\n",
      " 7 /  6 =  1.17\n",
      " 7 /  7 =  1.00\n",
      " 7 /  8 =  0.88\n",
      " 7 /  9 =  0.78\n",
      " 7 / 10 =  0.70\n",
      " 8 /  1 =  8.00\n",
      " 8 /  2 =  4.00\n",
      " 8 /  3 =  2.67\n",
      " 8 /  4 =  2.00\n",
      " 8 /  5 =  1.60\n",
      " 8 /  6 =  1.33\n",
      " 8 /  7 =  1.14\n",
      " 8 /  8 =  1.00\n",
      " 8 /  9 =  0.89\n",
      " 8 / 10 =  0.80\n",
      " 9 /  1 =  9.00\n",
      " 9 /  2 =  4.50\n",
      " 9 /  3 =  3.00\n",
      " 9 /  4 =  2.25\n",
      " 9 /  5 =  1.80\n",
      " 9 /  6 =  1.50\n",
      " 9 /  7 =  1.29\n",
      " 9 /  8 =  1.12\n",
      " 9 /  9 =  1.00\n",
      " 9 / 10 =  0.90\n",
      "10 /  1 = 10.00\n",
      "10 /  2 =  5.00\n",
      "10 /  3 =  3.33\n",
      "10 /  4 =  2.50\n",
      "10 /  5 =  2.00\n",
      "10 /  6 =  1.67\n",
      "10 /  7 =  1.43\n",
      "10 /  8 =  1.25\n",
      "10 /  9 =  1.11\n",
      "10 / 10 =  1.00\n",
      "\n",
      "=== MENU ===\n",
      "1. Adição\n",
      "2. Subtração\n",
      "3. Multiplicação\n",
      "4. Divisão\n",
      "5. Sair\n",
      "============\n",
      "Escolha uma opção (1 a 5): 5\n",
      "Programa encerrado.\n"
     ]
    }
   ],
   "source": [
    "def exibirMenu():\n",
    "    print(\"\\n=== MENU ===\")\n",
    "    print(\"1. Adição\")\n",
    "    print(\"2. Subtração\")\n",
    "    print(\"3. Multiplicação\")\n",
    "    print(\"4. Divisão\")\n",
    "    print(\"5. Sair\")\n",
    "    print(\"============\")\n",
    "\n",
    "def adicaoTabuada():\n",
    "    print(\"\\n=== TABUADA DE ADIÇÃO ===\")\n",
    "    for i in range(1, 11):\n",
    "        for j in range(1, 11):\n",
    "            resultado = i + j\n",
    "            print(f\"{i:2} + {j:2} = {resultado:2}\")\n",
    "\n",
    "def subtracaoTabuada():\n",
    "    print(\"\\n=== TABUADA DE SUBTRAÇÃO ===\")\n",
    "    for i in range(1, 11):\n",
    "        for j in range(1, 11):\n",
    "            resultado = i - j\n",
    "            print(f\"{i:2} - {j:2} = {resultado:2}\")\n",
    "\n",
    "def multiplicacaoTabuada():\n",
    "    print(\"\\n=== TABUADA DE MULTIPLICAÇÃO ===\")\n",
    "    for i in range(1, 11):\n",
    "        for j in range(1, 11):\n",
    "            resultado = i * j\n",
    "            print(f\"{i:2} x {j:2} = {resultado:3}\")\n",
    "\n",
    "def divisaoTabuada():\n",
    "    print(\"\\n=== TABUADA DE DIVISÃO ===\")\n",
    "    for i in range(1, 11):\n",
    "        for j in range(1, 11):\n",
    "            if j != 0:\n",
    "                resultado = i / j\n",
    "                print(f\"{i:2} / {j:2} = {resultado:5.2f}\")\n",
    "\n",
    "while True:\n",
    "    exibirMenu()\n",
    "    opcao = input(\"Escolha uma opção (1 a 5): \")\n",
    "\n",
    "    if opcao == '1':\n",
    "        adicaoTabuada()\n",
    "    elif opcao == '2':\n",
    "        subtracaoTabuada()\n",
    "    elif opcao == '3':\n",
    "        multiplicacaoTabuada()\n",
    "    elif opcao == '4':\n",
    "        divisaoTabuada()\n",
    "    elif opcao == '5':\n",
    "        print(\"Programa encerrado.\")\n",
    "        break\n",
    "    else:\n",
    "        print(\"Opção inválida. Escolha uma opção de 1 a 5.\")"
   ]
  },
  {
   "cell_type": "markdown",
   "id": "53a66c64",
   "metadata": {},
   "source": [
    "#### Exercício 5.23 (pág. 97):"
   ]
  },
  {
   "cell_type": "code",
   "execution_count": 42,
   "id": "eebb6704",
   "metadata": {},
   "outputs": [
    {
     "name": "stdout",
     "output_type": "stream",
     "text": [
      "Digite um número inteiro positivo para verificar se é primo: 147\n",
      "147 não é um número primo.\n"
     ]
    }
   ],
   "source": [
    "import math\n",
    "\n",
    "def ehPrimo(numero):\n",
    "    # <= a 1 não é primo\n",
    "    if numero <= 1:\n",
    "        return False\n",
    "    # Único par que é primo\n",
    "    if numero == 2:\n",
    "        return True\n",
    "    # Par e > 2 não é primo\n",
    "    if numero % 2 == 0:\n",
    "        return False\n",
    "    \n",
    "    # Verifica divisibilidade ímpares até a raiz quadrada do número\n",
    "    limite = int(math.sqrt(numero)) + 1\n",
    "    for i in range(3, limite, 2):\n",
    "        if numero % i == 0:\n",
    "            return False\n",
    "    \n",
    "    # Se nenhum encontrado: é primo\n",
    "    return True\n",
    "\n",
    "num = int(input(\"Digite um número inteiro positivo para verificar se é primo: \"))\n",
    "\n",
    "if ehPrimo(num):\n",
    "    print(f\"{num} é um número primo.\")\n",
    "else:\n",
    "    print(f\"{num} não é um número primo.\")"
   ]
  },
  {
   "cell_type": "markdown",
   "id": "0084419f",
   "metadata": {},
   "source": [
    "#### Exercício 5.24 (pág. 97):"
   ]
  },
  {
   "cell_type": "code",
   "execution_count": 43,
   "id": "ab090dd6",
   "metadata": {},
   "outputs": [
    {
     "name": "stdout",
     "output_type": "stream",
     "text": [
      "Digite um número inteiro positivo para encontrar os n primeiros números primos: 521\n",
      "Os 521 primeiros números primos são: [2, 3, 5, 7, 11, 13, 17, 19, 23, 29, 31, 37, 41, 43, 47, 53, 59, 61, 67, 71, 73, 79, 83, 89, 97, 101, 103, 107, 109, 113, 127, 131, 137, 139, 149, 151, 157, 163, 167, 173, 179, 181, 191, 193, 197, 199, 211, 223, 227, 229, 233, 239, 241, 251, 257, 263, 269, 271, 277, 281, 283, 293, 307, 311, 313, 317, 331, 337, 347, 349, 353, 359, 367, 373, 379, 383, 389, 397, 401, 409, 419, 421, 431, 433, 439, 443, 449, 457, 461, 463, 467, 479, 487, 491, 499, 503, 509, 521, 523, 541, 547, 557, 563, 569, 571, 577, 587, 593, 599, 601, 607, 613, 617, 619, 631, 641, 643, 647, 653, 659, 661, 673, 677, 683, 691, 701, 709, 719, 727, 733, 739, 743, 751, 757, 761, 769, 773, 787, 797, 809, 811, 821, 823, 827, 829, 839, 853, 857, 859, 863, 877, 881, 883, 887, 907, 911, 919, 929, 937, 941, 947, 953, 967, 971, 977, 983, 991, 997, 1009, 1013, 1019, 1021, 1031, 1033, 1039, 1049, 1051, 1061, 1063, 1069, 1087, 1091, 1093, 1097, 1103, 1109, 1117, 1123, 1129, 1151, 1153, 1163, 1171, 1181, 1187, 1193, 1201, 1213, 1217, 1223, 1229, 1231, 1237, 1249, 1259, 1277, 1279, 1283, 1289, 1291, 1297, 1301, 1303, 1307, 1319, 1321, 1327, 1361, 1367, 1373, 1381, 1399, 1409, 1423, 1427, 1429, 1433, 1439, 1447, 1451, 1453, 1459, 1471, 1481, 1483, 1487, 1489, 1493, 1499, 1511, 1523, 1531, 1543, 1549, 1553, 1559, 1567, 1571, 1579, 1583, 1597, 1601, 1607, 1609, 1613, 1619, 1621, 1627, 1637, 1657, 1663, 1667, 1669, 1693, 1697, 1699, 1709, 1721, 1723, 1733, 1741, 1747, 1753, 1759, 1777, 1783, 1787, 1789, 1801, 1811, 1823, 1831, 1847, 1861, 1867, 1871, 1873, 1877, 1879, 1889, 1901, 1907, 1913, 1931, 1933, 1949, 1951, 1973, 1979, 1987, 1993, 1997, 1999, 2003, 2011, 2017, 2027, 2029, 2039, 2053, 2063, 2069, 2081, 2083, 2087, 2089, 2099, 2111, 2113, 2129, 2131, 2137, 2141, 2143, 2153, 2161, 2179, 2203, 2207, 2213, 2221, 2237, 2239, 2243, 2251, 2267, 2269, 2273, 2281, 2287, 2293, 2297, 2309, 2311, 2333, 2339, 2341, 2347, 2351, 2357, 2371, 2377, 2381, 2383, 2389, 2393, 2399, 2411, 2417, 2423, 2437, 2441, 2447, 2459, 2467, 2473, 2477, 2503, 2521, 2531, 2539, 2543, 2549, 2551, 2557, 2579, 2591, 2593, 2609, 2617, 2621, 2633, 2647, 2657, 2659, 2663, 2671, 2677, 2683, 2687, 2689, 2693, 2699, 2707, 2711, 2713, 2719, 2729, 2731, 2741, 2749, 2753, 2767, 2777, 2789, 2791, 2797, 2801, 2803, 2819, 2833, 2837, 2843, 2851, 2857, 2861, 2879, 2887, 2897, 2903, 2909, 2917, 2927, 2939, 2953, 2957, 2963, 2969, 2971, 2999, 3001, 3011, 3019, 3023, 3037, 3041, 3049, 3061, 3067, 3079, 3083, 3089, 3109, 3119, 3121, 3137, 3163, 3167, 3169, 3181, 3187, 3191, 3203, 3209, 3217, 3221, 3229, 3251, 3253, 3257, 3259, 3271, 3299, 3301, 3307, 3313, 3319, 3323, 3329, 3331, 3343, 3347, 3359, 3361, 3371, 3373, 3389, 3391, 3407, 3413, 3433, 3449, 3457, 3461, 3463, 3467, 3469, 3491, 3499, 3511, 3517, 3527, 3529, 3533, 3539, 3541, 3547, 3557, 3559, 3571, 3581, 3583, 3593, 3607, 3613, 3617, 3623, 3631, 3637, 3643, 3659, 3671, 3673, 3677, 3691, 3697, 3701, 3709, 3719, 3727, 3733]\n"
     ]
    }
   ],
   "source": [
    "import math\n",
    "\n",
    "def ehPrimo(numero):\n",
    "    if numero <= 1:\n",
    "        return False\n",
    "    if numero == 2:\n",
    "        return True\n",
    "    if numero % 2 == 0:\n",
    "        return False\n",
    "    limite = int(math.sqrt(numero)) + 1\n",
    "    for i in range(3, limite, 2):\n",
    "        if numero % i == 0:\n",
    "            return False\n",
    "    return True\n",
    "\n",
    "def primeirosNPrimos(n):\n",
    "    primos_encontrados = []\n",
    "    numero = 2  # Começamos com o primeiro número primo\n",
    "    while len(primos_encontrados) < n:\n",
    "        if ehPrimo(numero):\n",
    "            primos_encontrados.append(numero)\n",
    "        numero += 1\n",
    "    return primos_encontrados\n",
    "\n",
    "n = int(input(\"Digite um número inteiro positivo para encontrar os n primeiros números primos: \"))\n",
    "\n",
    "primos = primeirosNPrimos(n)\n",
    "\n",
    "print(f\"Os {n} primeiros números primos são: {primos}\")"
   ]
  },
  {
   "cell_type": "markdown",
   "id": "7387d89f",
   "metadata": {},
   "source": [
    "#### Exercício 5.25 (pág. 97):"
   ]
  },
  {
   "cell_type": "code",
   "execution_count": 45,
   "id": "59fa9aa5",
   "metadata": {},
   "outputs": [
    {
     "name": "stdout",
     "output_type": "stream",
     "text": [
      "Digite um número para calcular a raiz quadrada: 8\n",
      "A raiz quadrada de 8.0 é aproximadamente 2.8284\n"
     ]
    }
   ],
   "source": [
    "def CalcRaizQuadrada(n):\n",
    "    b = 2  #Inicial base\n",
    "    precisao = 0.0001\n",
    "    while True:\n",
    "        p = (b + (n / b)) / 2  #Fórmula de Newton\n",
    "        #Diferença absoluta < 0,0001\n",
    "        if abs(n - p**2) < precisao: #abs() - valor absoluto\n",
    "            break\n",
    "        b = p  #Atualiza base para o próximo passo\n",
    "    return p\n",
    "\n",
    "numero = float(input(\"Digite um número para calcular a raiz quadrada: \"))\n",
    "\n",
    "raizQuadrada = CalcRaizQuadrada(numero)\n",
    "\n",
    "print(f\"A raiz quadrada de {numero} é aproximadamente {raizQuadrada:.4f}\")"
   ]
  },
  {
   "cell_type": "markdown",
   "id": "a6b42ff7",
   "metadata": {},
   "source": [
    "#### Exercício 5.26 (pág. 97):"
   ]
  },
  {
   "cell_type": "code",
   "execution_count": 47,
   "id": "c2368fbd",
   "metadata": {},
   "outputs": [
    {
     "name": "stdout",
     "output_type": "stream",
     "text": [
      "Digite o dividendo (ou 0 para sair): 10\n",
      "Digite o divisor: 2\n",
      "O resto da divisão de 10 por 2 é 0\n",
      "Digite o dividendo (ou 0 para sair): 0\n",
      "Programa encerrado.\n"
     ]
    }
   ],
   "source": [
    "def restoDivisaoInteira(dividendo, divisor):\n",
    "    while dividendo >= divisor:\n",
    "        dividendo -= divisor\n",
    "    return dividendo\n",
    "\n",
    "while True:\n",
    "    dividendo = int(input(\"Digite o dividendo (ou 0 para sair): \"))\n",
    "    if dividendo == 0:\n",
    "        print(\"Programa encerrado.\")\n",
    "        break\n",
    "    divisor = int(input(\"Digite o divisor: \"))\n",
    "    if divisor == 0:\n",
    "        print(\"Programa encerrado.\")\n",
    "        break\n",
    "    resto = restoDivisaoInteira(dividendo, divisor)\n",
    "    print(f\"O resto da divisão de {dividendo} por {divisor} é {resto}\")"
   ]
  },
  {
   "cell_type": "markdown",
   "id": "a005e69b",
   "metadata": {},
   "source": [
    "#### Exercício 5.27 (pág. 97):"
   ]
  },
  {
   "cell_type": "code",
   "execution_count": 48,
   "id": "5ebafb62",
   "metadata": {},
   "outputs": [
    {
     "name": "stdout",
     "output_type": "stream",
     "text": [
      "454 é um número palíndromo.\n",
      "10501 é um número palíndromo.\n",
      "12345 não é um número palíndromo.\n"
     ]
    }
   ],
   "source": [
    "#Palíndromo: 101, pois o inverdito dele também é 101\n",
    "\n",
    "def ehPalindromo(numero):\n",
    "    # Converte o número para string para facilitar a manipulação dos caracteres\n",
    "    numStr = str(numero)\n",
    "    \n",
    "    # Inverte a string do número\n",
    "    # [inicio:fim:passo] - Slicing, onde o :: significa que está \"pegando\" toda a string\n",
    "    # e o -1 inverte a string, ou seja, \"pega\" toda a string e inverte\n",
    "    numInvertido = numStr[::-1]\n",
    "    \n",
    "    # Compara o número original com o número invertido\n",
    "    if numStr == numInvertido:\n",
    "        return True\n",
    "    else:\n",
    "        return False\n",
    "\n",
    "# Exemplos de uso:\n",
    "num1 = 454\n",
    "num2 = 10501\n",
    "num3 = 12345\n",
    "\n",
    "if ehPalindromo(num1):\n",
    "    print(f\"{num1} é um número palíndromo.\")\n",
    "else:\n",
    "    print(f\"{num1} não é um número palíndromo.\")\n",
    "\n",
    "if ehPalindromo(num2):\n",
    "    print(f\"{num2} é um número palíndromo.\")\n",
    "else:\n",
    "    print(f\"{num2} não é um número palíndromo.\")\n",
    "\n",
    "if ehPalindromo(num3):\n",
    "    print(f\"{num3} é um número palíndromo.\")\n",
    "else:\n",
    "    print(f\"{num3} não é um número palíndromo.\")"
   ]
  },
  {
   "cell_type": "markdown",
   "id": "f2d4dc67",
   "metadata": {},
   "source": [
    "# Capítulo 6"
   ]
  },
  {
   "cell_type": "markdown",
   "id": "a8df941a",
   "metadata": {},
   "source": [
    "#### Exercício 6.1 (pág. 100):"
   ]
  },
  {
   "cell_type": "code",
   "execution_count": 54,
   "id": "143e1afb",
   "metadata": {},
   "outputs": [
    {
     "name": "stdout",
     "output_type": "stream",
     "text": [
      "Nota 1: 5\n",
      "Nota 2: 4\n",
      "Nota 3: 4\n",
      "Nota 4: 4\n",
      "Nota 5: 4\n",
      "Nota 6: 4\n",
      "Nota 7: 4\n",
      "\n",
      "Notas: [5.0, 4.0, 4.0, 4.0, 4.0, 4.0, 4.0]\n",
      "Média:  4.14\n"
     ]
    }
   ],
   "source": [
    "notas = [0] * 7  #notas = [0,0,0,0,0,0,0]\n",
    "soma = 0\n",
    "x = 0\n",
    "\n",
    "while x < 7:\n",
    "    notas[x] = float(input(\"Nota %d: \" % (x + 1)))\n",
    "    soma += notas[x]\n",
    "    x += 1\n",
    "print(f\"\\nNotas: {notas}\")\n",
    "media = soma / 7\n",
    "print(\"Média: %5.2f\" % media)"
   ]
  },
  {
   "cell_type": "markdown",
   "id": "95fa199f",
   "metadata": {},
   "source": [
    "#### Exercício 6.2 (pág. 108):"
   ]
  },
  {
   "cell_type": "code",
   "execution_count": 57,
   "id": "4c388eaf",
   "metadata": {},
   "outputs": [
    {
     "name": "stdout",
     "output_type": "stream",
     "text": [
      "Lista1:  ['RN', 'SP', 'RJ', 'DF']\n",
      "Lista2:  ['Natal', 'São Paulo', 'Rio de Janeiro', 'Brasília']\n",
      "\n",
      "Lista1 + Lista2:  ['RN', 'SP', 'RJ', 'DF', 'Natal', 'São Paulo', 'Rio de Janeiro', 'Brasília']\n"
     ]
    }
   ],
   "source": [
    "listas = []\n",
    "lista1 = [\"RN\", \"SP\", \"RJ\", \"DF\"]\n",
    "listas.extend(lista1)\n",
    "lista2 = [\"Natal\", \"São Paulo\", \"Rio de Janeiro\", \"Brasília\"]\n",
    "listas.extend(lista2)\n",
    "\n",
    "print(\"Lista1: \", lista1)\n",
    "print(\"Lista2: \", lista2)\n",
    "print(\"\\nLista1 + Lista2: \", listas)"
   ]
  },
  {
   "cell_type": "markdown",
   "id": "796aeab3",
   "metadata": {},
   "source": [
    "#### Exercício 6.3 (pág. 108):"
   ]
  },
  {
   "cell_type": "code",
   "execution_count": 61,
   "id": "c724acad",
   "metadata": {},
   "outputs": [
    {
     "name": "stdout",
     "output_type": "stream",
     "text": [
      "Lista1:  ['joao', 'pedro', 'joao', 'paulo', 'maria']\n",
      "Lista2:  ['joao', 'maria', 'roberval', 'pedro', 'dagoberto']\n",
      "\n",
      "Listas sem tratamento:  ['joao', 'pedro', 'joao', 'paulo', 'maria', 'joao', 'maria', 'roberval', 'pedro', 'dagoberto']\n",
      "Listas juntas sem repetição:  ['dagoberto', 'maria', 'paulo', 'roberval', 'pedro', 'joao']\n"
     ]
    }
   ],
   "source": [
    "listaSemRepeticao = []\n",
    "lista1 = [\"joao\", \"pedro\", \"joao\", \"paulo\", \"maria\"]\n",
    "print(\"Lista1: \", lista1)\n",
    "listaSemRepeticao.extend(lista1)\n",
    "lista2 = [\"joao\", \"maria\", \"roberval\", \"pedro\", \"dagoberto\"]\n",
    "print(\"Lista2: \", lista2)\n",
    "listaSemRepeticao.extend(lista2)\n",
    "\n",
    "print(\"\\nListas sem tratamento: \",listaSemRepeticao)\n",
    "\n",
    "listaSemRepeticao = set(listaSemRepeticao) # set() converte para um conjunto {}\n",
    "listaSemRepeticao = list(listaSemRepeticao) # Converte novamente para lista\n",
    "\n",
    "print(\"Listas juntas sem repetição: \", listaSemRepeticao)\n",
    "\n"
   ]
  },
  {
   "cell_type": "markdown",
   "id": "9d3f83e7",
   "metadata": {},
   "source": [
    "#### Exercício 6.4 (pág. 109):"
   ]
  },
  {
   "cell_type": "code",
   "execution_count": 62,
   "id": "44fb4b38",
   "metadata": {},
   "outputs": [
    {
     "ename": "IndexError",
     "evalue": "pop from empty list",
     "output_type": "error",
     "traceback": [
      "\u001b[1;31m---------------------------------------------------------------------------\u001b[0m",
      "\u001b[1;31mIndexError\u001b[0m                                Traceback (most recent call last)",
      "Cell \u001b[1;32mIn[62], line 2\u001b[0m\n\u001b[0;32m      1\u001b[0m teste \u001b[38;5;241m=\u001b[39m []\n\u001b[1;32m----> 2\u001b[0m removido \u001b[38;5;241m=\u001b[39m teste\u001b[38;5;241m.\u001b[39mpop()\n",
      "\u001b[1;31mIndexError\u001b[0m: pop from empty list"
     ]
    }
   ],
   "source": [
    "# Ao tentar remover um elemento da lista vazia, ocorre um erro de index: IndexError: pop from empty list\n",
    "teste = []\n",
    "removido = teste.pop()"
   ]
  },
  {
   "cell_type": "markdown",
   "id": "840c4f09",
   "metadata": {},
   "source": [
    "#### Exercício 6.5 (pág. 109):"
   ]
  },
  {
   "cell_type": "code",
   "execution_count": 67,
   "id": "262610e5",
   "metadata": {},
   "outputs": [
    {
     "name": "stdout",
     "output_type": "stream",
     "text": [
      "\n",
      "Existem 10 clientes na fila\n",
      "Fila atual: [1, 2, 3, 4, 5, 6, 7, 8, 9, 10]\n",
      "Digite F para adicionar um cliente ao fim da fila,\n",
      "ou A para realizar o atendimento. S para sair.\n",
      "Operações (F, A ou S):fffffafffffaaffffffaffffaaaffffffs\n",
      "Cliente 1 atendido\n",
      "Cliente 2 atendido\n",
      "Cliente 3 atendido\n",
      "Cliente 4 atendido\n",
      "Cliente 5 atendido\n",
      "Cliente 6 atendido\n",
      "Cliente 7 atendido\n",
      "\n",
      "Programa encerrado.\n",
      "Fila remanescente: [8, 9, 10, 11, 12, 13, 14, 15, 16, 17, 18, 19, 20, 21, 22, 23, 24, 25, 26, 27, 28, 29, 30, 31, 32, 33, 34, 35, 36]\n"
     ]
    }
   ],
   "source": [
    "último = 10\n",
    "fila = list(range(1, último + 1))\n",
    "\n",
    "while True:\n",
    "    print(\"\\nExistem %d clientes na fila\" % len(fila))\n",
    "    print(\"Fila atual:\", fila)\n",
    "    print(\"Digite F para adicionar um cliente ao fim da fila,\")\n",
    "    print(\"ou A para realizar o atendimento. S para sair.\")\n",
    "    operacoes = input(\"Operações (F, A ou S):\").upper()\n",
    "    \n",
    "    for operacao in operacoes:\n",
    "        if operacao == \"A\":\n",
    "            if len(fila) > 0:\n",
    "                atendido = fila.pop(0)\n",
    "                print(\"Cliente %d atendido\" % atendido)\n",
    "            else:\n",
    "                print(\"Fila vazia! Ninguém para atender.\")\n",
    "        elif operacao == \"F\":\n",
    "            último += 1  # Incrementa o ticket do novo cliente\n",
    "            fila.append(último)\n",
    "        elif operacao == \"S\":\n",
    "            break\n",
    "        else:\n",
    "            print(\"Operação inválida! Digite apenas F, A ou S!\")\n",
    "    if \"S\" in operacoes:\n",
    "        break\n",
    "\n",
    "print(\"\\nPrograma encerrado.\")\n",
    "print(\"Fila remanescente:\", fila)"
   ]
  },
  {
   "cell_type": "markdown",
   "id": "8305c442",
   "metadata": {},
   "source": [
    "#### Exercício 6.6 (pág. 109):"
   ]
  },
  {
   "cell_type": "code",
   "execution_count": 73,
   "id": "f7bc9912",
   "metadata": {},
   "outputs": [
    {
     "name": "stdout",
     "output_type": "stream",
     "text": [
      "\n",
      "Informações sobre as filas:\n",
      "Existem 10 clientes na fila 1\n",
      "Fila 1 atual: [1, 2, 3, 4, 5, 6, 7, 8, 9, 10]\n",
      "Existem 20 clientes na fila 2\n",
      "Fila 2 atual: [1, 2, 3, 4, 5, 6, 7, 8, 9, 10, 11, 12, 13, 14, 15, 16, 17, 18, 19, 20]\n",
      "----------------------------------------------------------------------------------------------------\n",
      "Instruções:\n",
      "Digite F para adicionar um cliente ao fim da fila 1,\n",
      "G para adicionar um cliente ao fim da fila 2,\n",
      "A para realizar o atendimento da fila 1,\n",
      "B para realizar o atendimento da fila 2.\n",
      "S para sair.\n",
      "Operações (F, G, A, B ou S):s\n",
      "\n",
      "Programa encerrado.\n",
      "Fila 1 remanescente: [1, 2, 3, 4, 5, 6, 7, 8, 9, 10]\n",
      "Fila 2 remanescente: [1, 2, 3, 4, 5, 6, 7, 8, 9, 10, 11, 12, 13, 14, 15, 16, 17, 18, 19, 20]\n"
     ]
    }
   ],
   "source": [
    "ultimo1 = 10\n",
    "ultimo2 = 20\n",
    "fila1 = list(range(1, ultimo1 + 1))\n",
    "fila2 = list(range(1, ultimo2 + 1))\n",
    "\n",
    "while True:\n",
    "    print(\"\\nInformações sobre as filas:\")\n",
    "    print(\"Existem %d clientes na fila 1\" % len(fila1))\n",
    "    print(\"Fila 1 atual:\", fila1)\n",
    "    print(\"Existem %d clientes na fila 2\" % len(fila2))\n",
    "    print(\"Fila 2 atual:\", fila2)\n",
    "    print(\"-\"*100)\n",
    "    print(\"Instruções:\")\n",
    "    print(\"Digite F para adicionar um cliente ao fim da fila 1,\")\n",
    "    print(\"G para adicionar um cliente ao fim da fila 2,\")\n",
    "    print(\"A para realizar o atendimento da fila 1,\")\n",
    "    print(\"B para realizar o atendimento da fila 2.\")\n",
    "    print(\"S para sair.\")\n",
    "    operacoes = input(\"Operações (F, G, A, B ou S):\").upper()\n",
    "    \n",
    "    for operacao in operacoes:\n",
    "        if operacao == \"A\":\n",
    "            if len(fila1) > 0:\n",
    "                atendido = fila1.pop(0)\n",
    "                print(\"Cliente %d atendido da fila 1\" % atendido)\n",
    "            else:\n",
    "                print(\"Fila 1 vazia! Ninguém para atender.\")\n",
    "        elif operacao == \"B\":\n",
    "            if len(fila2) > 0:\n",
    "                atendido = fila2.pop(0)\n",
    "                print(\"Cliente %d atendido da fila 2\" % atendido)\n",
    "            else:\n",
    "                print(\"Fila 2 vazia! Ninguém para atender.\")\n",
    "        elif operacao == \"F\":\n",
    "            ultimo1 += 1  # Novo cliente na fila 1\n",
    "            fila1.append(ultimo1)\n",
    "        elif operacao == \"G\":\n",
    "            ultimo2 += 1  # Novo cliente na fila 2\n",
    "            fila2.append(ultimo2)\n",
    "        elif operacao == \"S\":\n",
    "            break\n",
    "        else:\n",
    "            print(\"Operação inválida! Digite apenas F, G, A, B ou S!\")\n",
    "    if \"S\" in operacoes:\n",
    "        break\n",
    "\n",
    "print(\"\\nPrograma encerrado.\")\n",
    "print(\"Fila 1 remanescente:\", fila1)\n",
    "print(\"Fila 2 remanescente:\", fila2)"
   ]
  },
  {
   "cell_type": "markdown",
   "id": "d584b5a8",
   "metadata": {},
   "source": [
    "#### Exercício 6.7 (pág. 112):"
   ]
  },
  {
   "cell_type": "code",
   "execution_count": 78,
   "id": "36d754f2",
   "metadata": {},
   "outputs": [],
   "source": [
    "# Exemplo:\n",
    "\n",
    "# Expressão de entrada: \"(()())\"\n",
    "# Iteração 1:\n",
    "\n",
    "# Caractere: '('\n",
    "# Ação: Adiciona à pilha\n",
    "# Pilha: ['(']\n",
    "# Iteração 2:\n",
    "\n",
    "# Caractere: '('\n",
    "# Ação: Adiciona à pilha\n",
    "# Pilha: ['(', '(']\n",
    "# Iteração 3:\n",
    "\n",
    "# Caractere: ')'\n",
    "# Ação: Verifica a pilha (não vazia), então remove o topo\n",
    "# Pilha: ['(']\n",
    "# Iteração 4:\n",
    "\n",
    "# Caractere: '('\n",
    "# Ação: Adiciona à pilha\n",
    "# Pilha: ['(', '(']\n",
    "# Iteração 5:\n",
    "\n",
    "# Caractere: ')'\n",
    "# Ação: Verifica a pilha (não vazia), então remove o topo\n",
    "# Pilha: ['(']\n",
    "# Iteração 6:\n",
    "\n",
    "# Caractere: ')'\n",
    "# Ação: Verifica a pilha (não vazia), então remove o topo\n",
    "# Pilha: []\n",
    "    \n",
    "# Resultado:\n",
    "# Após a iteração, a pilha está vazia, o que significa que todos os parênteses de abertura tiveram correspondência e foram fechados corretamente."
   ]
  },
  {
   "cell_type": "code",
   "execution_count": null,
   "id": "2e760122",
   "metadata": {},
   "outputs": [],
   "source": [
    "# Pilha LIFO (Last In, First Out)\n",
    "\n",
    "def verificaParenteses(expressao):\n",
    "    pilha = []\n",
    "    for char in expressao:\n",
    "        if char == '(':\n",
    "            pilha.append(char)\n",
    "        elif char == ')':\n",
    "            if len(pilha) == 0: # Se vazio, não tem abertura '(', logo não pode ter fechamento ')'\n",
    "                return \"Erro\"\n",
    "            pilha.pop()\n",
    "    if len(pilha) == 0:\n",
    "        return \"OK\"\n",
    "    else:\n",
    "        return \"Erro\"\n",
    "\n",
    "expressao = input(\"Digite uma expressão com parênteses: \")\n",
    "resultado = verificaParenteses(expressao)\n",
    "print(resultado)"
   ]
  },
  {
   "cell_type": "markdown",
   "id": "6d308714",
   "metadata": {},
   "source": [
    "#### Exercício 6.8 (pág. 113):"
   ]
  },
  {
   "cell_type": "code",
   "execution_count": 80,
   "id": "c1f83f0b",
   "metadata": {},
   "outputs": [
    {
     "name": "stdout",
     "output_type": "stream",
     "text": [
      "Digite o valor a procurar: 7\n",
      "7 achado na posição 1\n"
     ]
    }
   ],
   "source": [
    "L = [15, 7, 27, 39]\n",
    "p = int(input(\"Digite o valor a procurar: \"))\n",
    "x = 0\n",
    "\n",
    "while x < len(L):\n",
    "    if L[x] == p:\n",
    "        print(\"%d achado na posição %d\" % (p, x))\n",
    "        break\n",
    "    x += 1\n",
    "else:\n",
    "    print(\"%d não encontrado na lista.\" % p)"
   ]
  },
  {
   "cell_type": "markdown",
   "id": "ac8c4764",
   "metadata": {},
   "source": [
    "#### Exercício 6.9 (pág. 113):"
   ]
  },
  {
   "cell_type": "code",
   "execution_count": 82,
   "id": "53dbd5df",
   "metadata": {},
   "outputs": [
    {
     "name": "stdout",
     "output_type": "stream",
     "text": [
      "Digite o primeiro valor a procurar: 39\n",
      "Digite o segundo valor a procurar: 15\n",
      "15 encontrado primeiro na posição 0\n"
     ]
    }
   ],
   "source": [
    "L = [15, 7, 27, 39]\n",
    "p = int(input(\"Digite o primeiro valor a procurar: \"))\n",
    "v = int(input(\"Digite o segundo valor a procurar: \"))\n",
    "\n",
    "x = 0\n",
    "encontradoPrimeiro = None\n",
    "\n",
    "while x < len(L):\n",
    "    if L[x] == p:\n",
    "        encontradoPrimeiro = p\n",
    "        print(\"%d encontrado primeiro na posição %d\" % (encontradoPrimeiro, x))\n",
    "        break\n",
    "    elif L[x] == v:\n",
    "        encontradoPrimeiro = v\n",
    "        print(\"%d encontrado primeiro na posição %d\" % (encontradoPrimeiro, x))\n",
    "        break\n",
    "    \n",
    "    x += 1\n",
    "else:\n",
    "    if encontradoPrimeiro is None:\n",
    "        print(\"Nenhum dos valores foi encontrado na lista.\")"
   ]
  },
  {
   "cell_type": "markdown",
   "id": "f67eb4b9",
   "metadata": {},
   "source": [
    "#### Exercício 6.10 (pág. 113):"
   ]
  },
  {
   "cell_type": "code",
   "execution_count": 83,
   "id": "3befb0e7",
   "metadata": {},
   "outputs": [
    {
     "name": "stdout",
     "output_type": "stream",
     "text": [
      "Digite o primeiro valor a procurar: 39\n",
      "Digite o segundo valor a procurar: 7\n",
      "7 encontrado na posição 1\n",
      "39 encontrado na posição 3\n"
     ]
    }
   ],
   "source": [
    "L = [15, 7, 27, 39]\n",
    "p = int(input(\"Digite o primeiro valor a procurar: \"))\n",
    "v = int(input(\"Digite o segundo valor a procurar: \"))\n",
    "\n",
    "x = 0\n",
    "encontrados = []\n",
    "\n",
    "while x < len(L):\n",
    "    if L[x] == p:\n",
    "        encontrados.append(p)\n",
    "    elif L[x] == v:\n",
    "        encontrados.append(v)\n",
    "    \n",
    "    x += 1\n",
    "\n",
    "if encontrados:\n",
    "    for valor in encontrados:\n",
    "        print(f\"{valor} encontrado na posição {L.index(valor)}\") #Mostra o indice do primeiro \"valor\" encontrado na lista L, como os números não se repetem, o código funciona\n",
    "else:\n",
    "    print(\"Nenhum dos valores foi encontrado na lista.\")"
   ]
  },
  {
   "cell_type": "markdown",
   "id": "fe432050",
   "metadata": {},
   "source": [
    "#### Exercício 6.11 (pág. 115):"
   ]
  },
  {
   "cell_type": "code",
   "execution_count": 84,
   "id": "0e0acc11",
   "metadata": {},
   "outputs": [
    {
     "name": "stdout",
     "output_type": "stream",
     "text": [
      "Digite um número (0 sai):5\n",
      "Digite um número (0 sai):4\n",
      "Digite um número (0 sai):5\n",
      "Digite um número (0 sai):5\n",
      "Digite um número (0 sai):587\n",
      "Digite um número (0 sai):8\n",
      "Digite um número (0 sai):84\n",
      "Digite um número (0 sai):0\n",
      "5\n",
      "4\n",
      "5\n",
      "5\n",
      "587\n",
      "8\n",
      "84\n"
     ]
    }
   ],
   "source": [
    "#Listagem 6.15\n",
    "# L=[]\n",
    "# while True:\n",
    "#     n=int(input(\"Digite um número (0 sai):\"))\n",
    "#     if n == 0:\n",
    "#         break\n",
    "#     L.append(n)\n",
    "# x=0\n",
    "# while x < len(L):\n",
    "#     print(L[x])\n",
    "#     x=x+1\n",
    "\n",
    "# Alteração para utilização de For:\n",
    "L = []\n",
    "\n",
    "while True:\n",
    "    n = int(input(\"Digite um número (0 sai): \"))\n",
    "    if n == 0:\n",
    "        break\n",
    "    L.append(n)\n",
    "\n",
    "for num in L:\n",
    "    print(num)\n",
    "    \n",
    "# Explicação: Nem todo while pode ser transformado em For pela nature de funcionamento do While,\n",
    "# que pode ser executado utiliando condições de satisfação, possibilitando a execução por uma quatidade indefinida de vezes.\n",
    "# Enquanto o for, geralmente é executado por uma quatidade fixa de vezes, já que essa quantidade já é estipulada no momento\n",
    "# da sua declaração.\n",
    "# Por exemplo: for num in L:\n",
    "# Onde L tem um tamanho fixo, logo o for será executado o número de vezes relativo ao tamanho de L.\n",
    "# Já no exemplo while True:\n",
    "# O código será executado até que seja dado um break explicitamente.\n",
    "\n",
    "# Observação: Existem outras formas de saída de um while sem que seja com a utilizaçào explícita do break, por exemplo:\n",
    "# while True:\n",
    "#     # Executa alguma lógica dentro do loop\n",
    "#     if condição_de_saida:\n",
    "#         return\n",
    "# Nesse caso, o return está interrompendo o while"
   ]
  },
  {
   "cell_type": "markdown",
   "id": "764d582e",
   "metadata": {},
   "source": [
    "#### Exercício 6.12 (pág. 118):"
   ]
  },
  {
   "cell_type": "code",
   "execution_count": 87,
   "id": "0d7cac83",
   "metadata": {},
   "outputs": [
    {
     "name": "stdout",
     "output_type": "stream",
     "text": [
      "O menor valor da lista [1, 7, 2, 4] é o 1\n"
     ]
    }
   ],
   "source": [
    "L=[1,7,2,4]\n",
    "menor=L[0]\n",
    "for e in L:\n",
    "    if e < menor:\n",
    "        menor = e\n",
    "print(f\"O menor valor da lista {L} é o {menor}\")"
   ]
  },
  {
   "cell_type": "markdown",
   "id": "3e4e68fc",
   "metadata": {},
   "source": [
    "#### Exercício 6.13 (pág. 118):"
   ]
  },
  {
   "cell_type": "code",
   "execution_count": 89,
   "id": "2f44a0ea",
   "metadata": {},
   "outputs": [
    {
     "name": "stdout",
     "output_type": "stream",
     "text": [
      "Lista T: [-10, -8, 0, 1, 2, 5, -2, -4].\n",
      "O menor valor da lista T é o -10, o maior é o 5 e a média é -2.0.\n"
     ]
    }
   ],
   "source": [
    "\n",
    "T = [ -10, -8, 0, 1, 2, 5, -2, -4]\n",
    "menor = min(T)\n",
    "maior = max(T)\n",
    "\n",
    "media = sum(T) / len(T)\n",
    "\n",
    "print(f\"Lista T: {T}.\")\n",
    "print(f\"O menor valor da lista T é o {menor}, o maior é o {maior} e a média é {media}.\")\n",
    "\n"
   ]
  },
  {
   "cell_type": "markdown",
   "id": "a2d114ad",
   "metadata": {},
   "source": [
    "#### Exercício 6.14 (pág. 126):"
   ]
  },
  {
   "cell_type": "code",
   "execution_count": 92,
   "id": "78e6fe04",
   "metadata": {},
   "outputs": [
    {
     "name": "stdout",
     "output_type": "stream",
     "text": [
      "1\n",
      "2\n",
      "3\n",
      "4\n",
      "5\n"
     ]
    }
   ],
   "source": [
    "# Listagem 6.44\n",
    "\n",
    "# L=[7,4,3,12,8] # Lista original da listagem\n",
    "L=[1,2,3,4,5]\n",
    "fim=5\n",
    "while fim > 1:\n",
    "    trocou=False\n",
    "    x=0\n",
    "    while x<(fim-1):\n",
    "        if L[x] > L[x+1]:\n",
    "            trocou=True\n",
    "            temp=L[x]\n",
    "            L[x]=L[x+1]\n",
    "            L[x+1]=temp\n",
    "        x+=1\n",
    "    if not trocou:\n",
    "        break\n",
    "    fim-=1\n",
    "for e in L:\n",
    "    print(e)\n",
    "    \n",
    "    \n",
    "# Utilizando a lista ordenada L=[1,2,3,4,5], o programa continua funcionando normalmente, porém como já está ordenada, L não é modificado"
   ]
  },
  {
   "cell_type": "markdown",
   "id": "8afeda7b",
   "metadata": {},
   "source": [
    "#### Exercício 6.15 (pág. 126):"
   ]
  },
  {
   "cell_type": "code",
   "execution_count": 93,
   "id": "bd23d4c1",
   "metadata": {},
   "outputs": [
    {
     "name": "stdout",
     "output_type": "stream",
     "text": [
      "1\n",
      "3\n",
      "3\n",
      "4\n",
      "5\n"
     ]
    }
   ],
   "source": [
    "# Listagem 6.44\n",
    "\n",
    "# L=[7,4,3,12,8] # Lista original da listagem\n",
    "# L=[1,2,3,4,5] # 6.15\n",
    "L=[3,3,1,5,4]\n",
    "\n",
    "fim=5\n",
    "while fim > 1:\n",
    "    trocou=False\n",
    "    x=0\n",
    "    while x<(fim-1):\n",
    "        if L[x] > L[x+1]:\n",
    "            trocou=True\n",
    "            temp=L[x]\n",
    "            L[x]=L[x+1]\n",
    "            L[x+1]=temp\n",
    "        x+=1\n",
    "    if not trocou:\n",
    "        break\n",
    "    fim-=1\n",
    "for e in L:\n",
    "    print(e)\n",
    "    \n",
    "# O programa continua funcionamento corretamente, porém no caso dos números repetidos (L[0] e L[1]), eles não são alterados entre si.\n",
    "# Mas não alterados quando contarados com seus \"vizinhos\" diferentes, realizando as alterações a cada loop."
   ]
  },
  {
   "cell_type": "markdown",
   "id": "272c8ba4",
   "metadata": {},
   "source": [
    "#### Exercício 6.16 (pág. 126):"
   ]
  },
  {
   "cell_type": "code",
   "execution_count": 107,
   "id": "a626dd44",
   "metadata": {},
   "outputs": [
    {
     "name": "stdout",
     "output_type": "stream",
     "text": [
      "Lista inicial:                     [2, 3, 1, 5, 4]\n",
      "Lista ordenada e depois invertida: [5, 4, 3, 2, 1]\n"
     ]
    }
   ],
   "source": [
    "# Listagem 6.44\n",
    "\n",
    "L=[2,3,1,5,4] # Lista desordenada\n",
    "print(f\"Lista inicial:                     {L}\")\n",
    "ordenada = []\n",
    "\n",
    "fim = len(L)\n",
    "while fim > 1:\n",
    "    trocou=False\n",
    "    x=0\n",
    "    while x<(fim-1):\n",
    "        if L[x] > L[x+1]:\n",
    "            trocou=True\n",
    "            temp=L[x]\n",
    "            L[x]=L[x+1]\n",
    "            L[x+1]=temp\n",
    "        x+=1\n",
    "        ordenada = L\n",
    "        #print(f\"Ordenando: {ordenada}\")\n",
    "    if not trocou:\n",
    "        break\n",
    "    fim-=1\n",
    "# for e in L:\n",
    "#     print(e)\n",
    "\n",
    "ordenadaReversa = ordenada\n",
    "ordenadaReversa.reverse()\n",
    "\n",
    "print(f\"Lista ordenada e depois invertida: {ordenadaReversa}\")"
   ]
  },
  {
   "cell_type": "markdown",
   "id": "d9c0aa60",
   "metadata": {},
   "source": [
    "#### Exercício 6.17 (pág. 133):"
   ]
  },
  {
   "cell_type": "code",
   "execution_count": 114,
   "id": "ba4261f3",
   "metadata": {},
   "outputs": [
    {
     "name": "stdout",
     "output_type": "stream",
     "text": [
      "Vendas:\n",
      "\n",
      "\n",
      "Estoque:\n",
      "______________________________\n",
      "Descrição:  tomate\n",
      "Quantidade:  1000\n",
      "Preço:   2.30\n",
      "\n",
      "______________________________\n",
      "Descrição:  alface\n",
      "Quantidade:  500\n",
      "Preço:   0.45\n",
      "\n",
      "______________________________\n",
      "Descrição:  batata\n",
      "Quantidade:  2001\n",
      "Preço:   1.20\n",
      "\n",
      "______________________________\n",
      "Descrição:  feijão\n",
      "Quantidade:  100\n",
      "Preço:   1.50\n",
      "\n",
      "Digite o nome do produto (ou 'fim' para encerrar): tomate\n",
      "Digite a quantidade de 'tomate': 500\n",
      "      tomate: 500 x   2.30 = 1150.00\n",
      " Custo total:               1150.00\n",
      "\n",
      "Digite o nome do produto (ou 'fim' para encerrar): batata\n",
      "Digite a quantidade de 'batata': 1\n",
      "      batata:   1 x   1.20 =   1.20\n",
      " Custo total:               1151.20\n",
      "\n",
      "Digite o nome do produto (ou 'fim' para encerrar): alface\n",
      "Digite a quantidade de 'alface': 20\n",
      "      alface:  20 x   0.45 =   9.00\n",
      " Custo total:               1160.20\n",
      "\n",
      "Digite o nome do produto (ou 'fim' para encerrar): feijão\n",
      "Digite a quantidade de 'feijão': 90\n",
      "      feijão:  90 x   1.50 = 135.00\n",
      " Custo total:               1295.20\n",
      "\n",
      "Digite o nome do produto (ou 'fim' para encerrar): fim\n",
      "\n",
      "Estoque atualizado:\n",
      "______________________________\n",
      "Descrição:  tomate\n",
      "Quantidade:  500\n",
      "Preço:   2.30\n",
      "\n",
      "______________________________\n",
      "Descrição:  alface\n",
      "Quantidade:  480\n",
      "Preço:   0.45\n",
      "\n",
      "______________________________\n",
      "Descrição:  batata\n",
      "Quantidade:  2000\n",
      "Preço:   1.20\n",
      "\n",
      "______________________________\n",
      "Descrição:  feijão\n",
      "Quantidade:  10\n",
      "Preço:   1.50\n",
      "\n"
     ]
    }
   ],
   "source": [
    "def exibirEstoque(estoque):\n",
    "    for chave, dados in estoque.items():\n",
    "        print(\"_\"*30)\n",
    "        print(\"Descrição: \", chave)\n",
    "        print(\"Quantidade: \", dados[0])\n",
    "        print(\"Preço: %6.2f\\n\" % dados[1])\n",
    "        \n",
    "\n",
    "estoque = {\n",
    "    \"tomate\": [1000, 2.30],\n",
    "    \"alface\": [500, 0.45],\n",
    "    \"batata\": [2001, 1.20],\n",
    "    \"feijão\": [100, 1.50]\n",
    "}\n",
    "\n",
    "total = 0\n",
    "\n",
    "print(\"Vendas:\\n\")\n",
    "print(\"\\nEstoque:\")\n",
    "exibirEstoque(estoque)\n",
    "    \n",
    "while True:\n",
    "    produto = input(\"Digite o nome do produto (ou 'fim' para encerrar): \").lower()\n",
    "    \n",
    "    if produto == 'fim':\n",
    "        break\n",
    "    \n",
    "    if produto not in estoque:\n",
    "        print(f\"Produto '{produto}' não encontrado no estoque.\")\n",
    "        continue\n",
    "    \n",
    "    quantidade = int(input(f\"Digite a quantidade de '{produto}': \"))\n",
    "    \n",
    "    if quantidade <= 0:\n",
    "        print(\"Quantidade inválida. Digite um valor positivo.\")\n",
    "        continue\n",
    "    \n",
    "    if quantidade > estoque[produto][0]:\n",
    "        print(f\"Não há quantidade suficiente de '{produto}' em estoque.\")\n",
    "        continue\n",
    "    \n",
    "    preço = estoque[produto][1]\n",
    "    custo = preço * quantidade\n",
    "    print(\"%12s: %3d x %6.2f = %6.2f\" % (produto, quantidade, preço, custo))\n",
    "    estoque[produto][0] -= quantidade\n",
    "    total += custo\n",
    "    print(\" Custo total: %21.2f\\n\" % total)\n",
    "\n",
    "print(\"\\nEstoque atualizado:\")\n",
    "exibirEstoque(estoque)"
   ]
  },
  {
   "cell_type": "markdown",
   "id": "9833b952",
   "metadata": {},
   "source": [
    "#### Exercício 6.18 (pág. 133):"
   ]
  },
  {
   "cell_type": "code",
   "execution_count": 119,
   "id": "0ec469e2",
   "metadata": {},
   "outputs": [
    {
     "name": "stdout",
     "output_type": "stream",
     "text": [
      "Ocorrências dos caracteres na frase:\n",
      "O: 1\n",
      " : 11\n",
      "r: 6\n",
      "a: 6\n",
      "t: 3\n",
      "o: 8\n",
      "e: 4\n",
      "u: 2\n",
      "p: 1\n",
      "d: 2\n",
      "i: 1\n",
      "R: 1\n",
      "m: 2\n",
      ",: 1\n",
      "!: 1\n"
     ]
    }
   ],
   "source": [
    "def contaOcorridos(dicionario, frase):\n",
    "    for caracter in frase:\n",
    "        if caracter in dicionario: # Se o caracter já foi inserido antes, só add +1 no valor relativo aquela chave\n",
    "            dicionario[caracter] += 1\n",
    "        else: #Se é a primeira ocorrência do caracter, cria a chave com o caracter e add +1 no valor\n",
    "            dicionario[caracter] = 1\n",
    "\n",
    "dicionario = {}\n",
    "frase = \"O rato roeu a roupa do rei de Roma, morte ao rato!\"\n",
    "\n",
    "contaOcorridos(dicionario, frase)\n",
    "\n",
    "# print(dicionario)\n",
    "\n",
    "print(\"Ocorrências dos caracteres na frase:\")\n",
    "for caracter, ocorrencias in dicionario.items():\n",
    "    print(f\"{caracter}: {ocorrencias}\")\n",
    "    \n",
    "\n",
    "# dicionario.itens: gera uma lista de tuplas [('chave1', valor1), ('chave2', valor2)]"
   ]
  },
  {
   "cell_type": "markdown",
   "id": "7696b2ca",
   "metadata": {},
   "source": [
    "# Capítulo 7"
   ]
  },
  {
   "cell_type": "markdown",
   "id": "2ce61f06",
   "metadata": {},
   "source": [
    "#### Exercício 7.1 (pág. 142):"
   ]
  },
  {
   "cell_type": "code",
   "execution_count": 4,
   "id": "365563c3",
   "metadata": {},
   "outputs": [
    {
     "name": "stdout",
     "output_type": "stream",
     "text": [
      "Digite a primeira string: testeztes\n",
      "Pesquise se dentro da primeira string: ola\n",
      "A string ola não está dentro da testeztes.\n"
     ]
    }
   ],
   "source": [
    "string1 = input(\"Digite a primeira string: \")\n",
    "string2 = input(\"Pesquise se dentro da primeira string: \")\n",
    "\n",
    "achou = string1.find(string2)\n",
    "\n",
    "if achou == -1:\n",
    "    print(f\"A string {string2} não está dentro da {string1}.\")\n",
    "else:\n",
    "    print(f\"A string {string2} está contida dentro da {string1}, na posição {achou}.\")"
   ]
  },
  {
   "cell_type": "markdown",
   "id": "4744e8ec",
   "metadata": {},
   "source": [
    "#### Exercício 7.2 (pág. 142):"
   ]
  },
  {
   "cell_type": "code",
   "execution_count": 7,
   "id": "c04971f9",
   "metadata": {},
   "outputs": [
    {
     "name": "stdout",
     "output_type": "stream",
     "text": [
      "Digite a primeira string: isdhfgkoskasdkf\n",
      "Digite a segunda string: pfushf\n",
      "stringsComuns: shff\n"
     ]
    }
   ],
   "source": [
    "string1 = input(\"Digite a primeira string: \")\n",
    "string2 = input(\"Digite a segunda string: \")\n",
    "\n",
    "stringsComuns = []\n",
    "\n",
    "for i in range(len(string1)):\n",
    "    for j in range(len(string2)):\n",
    "        if (string2[j] == string1[i]) and (string1[j] not in stringsComuns): # Caracter igual nas strings E ainda não salvou\n",
    "            stringsComuns.append(string2[j])\n",
    "        \n",
    "# Transforma uma lista em uma string:\n",
    "stringsComunsList = \"\".join(stringsComuns)\n",
    "print(f\"stringsComuns: {stringsComunsList}\")\n",
    "            "
   ]
  },
  {
   "cell_type": "markdown",
   "id": "0cf261b0",
   "metadata": {},
   "source": [
    "#### Exercício 7.3 (pág. 143):"
   ]
  },
  {
   "cell_type": "code",
   "execution_count": 9,
   "id": "17aedbf0",
   "metadata": {},
   "outputs": [
    {
     "name": "stdout",
     "output_type": "stream",
     "text": [
      "Digite a 1ª string: asdlkjfhalsdkjhf\\\n",
      "Digite a 2ª string: jdfjhdfhjdf\n",
      "3ª string: ka\\sl\n"
     ]
    }
   ],
   "source": [
    "def gerarTerceiraString(string1, string2):\n",
    "    # Remove todos as strings duplicadas em cada string, gerando os dois conjuntos de dados\n",
    "    set1 = set(string1)\n",
    "    set2 = set(string2)\n",
    "    \n",
    "    # Pega a diferença do cunjunto 1 em relação ao 2\n",
    "    caracteres_unicos1 = set1 - set2\n",
    "    # Pega a diferença do cunjunto 2 em relação ao 1\n",
    "    caracteres_unicos2 = set2 - set1\n",
    "    \n",
    "    # Junta os dois conjuntos em uma única string\n",
    "    terceira_string = ''.join(caracteres_unicos1 | caracteres_unicos2)\n",
    "    # Também poderiamos usar o + para juntar as strings, mas antes teriamos que transformar em strings:\n",
    "    #terceira_string = ''.join(list(caracteres_unicos1) | list(caracteres_unicos2))\n",
    "    \n",
    "    return terceira_string\n",
    "\n",
    "string1 = input(\"Digite a 1ª string: \")\n",
    "string2 = input(\"Digite a 2ª string: \")\n",
    "\n",
    "terceira_string = gerarTerceiraString(string1, string2)\n",
    "\n",
    "print(\"3ª string:\", terceira_string)\n",
    "\n",
    "#Explicações:\n",
    "\n",
    "# O set() é uma função que cria um conjunto (set).\n",
    "# Um conjunto é uma coleção desordenada de elementos únicos.\n",
    "# Ou seja, ele remove automaticamente quaisquer elementos duplicados da coleção.\n",
    "\n",
    "# Operador | (Union) em Conjuntos\n",
    "# O operador | é utilizado para realizar a operação de união (union) entre dois conjuntos em Python. A união de dois conjuntos resulta em um novo conjunto que contém todos os elementos únicos presentes em qualquer um dos conjuntos originais.\n",
    "\n",
    "# Exemplo:\n",
    "\n",
    "# conjunto1 = {1, 2, 3}\n",
    "# conjunto2 = {3, 4, 5}\n",
    "# conjunto3 = conjunto1 | conjunto2\n",
    "# print(conjunto3)  # Saída: {1, 2, 3, 4, 5}\n"
   ]
  },
  {
   "cell_type": "markdown",
   "id": "a3ccea69",
   "metadata": {},
   "source": [
    "#### Exercício 7.4 (pág. 143):"
   ]
  },
  {
   "cell_type": "code",
   "execution_count": 10,
   "id": "0b17ac69",
   "metadata": {},
   "outputs": [
    {
     "name": "stdout",
     "output_type": "stream",
     "text": [
      "String: TTAAC\n",
      "Resultado:\n",
      "T: 2x\n",
      "A: 2x\n",
      "C: 1x\n"
     ]
    }
   ],
   "source": [
    "def contarCaracteres(string):\n",
    "    contador = {}\n",
    "    \n",
    "    # Percorre cada caractere na string\n",
    "    for caracter in string:\n",
    "        # Se já existir no dicionário, incrementa\n",
    "        if caracter in contador:\n",
    "            contador[caracter] += 1\n",
    "        else: # Se não tiver, cria a chave com valor = 1\n",
    "            contador[caracter] = 1\n",
    "    \n",
    "    # Imprime o resultado formatado\n",
    "    for chave, valor in contador.items(): # Pega chave-valor do dicionário\n",
    "        print(f\"{chave}: {valor}x\")\n",
    "\n",
    "string = input(\"Digite uma string: \")\n",
    "print(f\"Resultado: {contarCaracteres(string)}\")"
   ]
  },
  {
   "cell_type": "markdown",
   "id": "cfd05158",
   "metadata": {},
   "source": [
    "#### Exercício 7.5 (pág. 143):"
   ]
  },
  {
   "cell_type": "code",
   "execution_count": 12,
   "id": "29fe1ccb",
   "metadata": {},
   "outputs": [
    {
     "name": "stdout",
     "output_type": "stream",
     "text": [
      "Digite uma string: AATTGGAA\n",
      "Digite outra string: TG\n",
      "Resultado: AAAA\n"
     ]
    }
   ],
   "source": [
    "def retiraCaracteres(string1, string2):\n",
    "    caracteres_string2 = set(string2) # Cria o conjunto com strings2\n",
    "    resultado = []\n",
    "\n",
    "    for char in string1:\n",
    "        if char not in caracteres_string2: # Se char de string1 não estiver no conjunto strings2, pode armazenar\n",
    "            resultado.append(char)\n",
    "\n",
    "    return \"\".join(resultado) # .join() - Transforma uma lista em uma string com separador, no caso o separador será \"\", sem separador\n",
    "        \n",
    "\n",
    "string1 = input(\"Digite uma string: \")\n",
    "string2 = input(\"Digite outra string: \")\n",
    "print(f\"Resultado: {retiraCaracteres(string1, string2)}\")"
   ]
  },
  {
   "cell_type": "markdown",
   "id": "3865bebb",
   "metadata": {},
   "source": [
    "#### Exercício 7.6 (pág. 143):"
   ]
  },
  {
   "cell_type": "code",
   "execution_count": null,
   "id": "11608ca7",
   "metadata": {},
   "outputs": [],
   "source": [
    "# Não entendi #\n",
    "\n",
    "# Exercício 7.6 Escreva um programa que leia três strings. Imprima o resultado da\n",
    "# substituição na primeira, dos caracteres da segunda pelos da terceira.\n",
    "# 1ª string: AATTCGAA\n",
    "# 2ª string: TG\n",
    "# 3ª string: AC\n",
    "# Resultado: AAAACCAA"
   ]
  },
  {
   "cell_type": "markdown",
   "id": "8e615adb",
   "metadata": {},
   "source": [
    "#### Exercício 7.7 (pág. 159):"
   ]
  },
  {
   "cell_type": "code",
   "execution_count": 14,
   "id": "8e1ccc7a",
   "metadata": {},
   "outputs": [
    {
     "name": "stdout",
     "output_type": "stream",
     "text": [
      "Digite a palavra secreta:teste\n",
      "\n",
      "\n",
      "\n",
      "\n",
      "\n",
      "\n",
      "\n",
      "\n",
      "\n",
      "\n",
      "\n",
      "\n",
      "\n",
      "\n",
      "\n",
      "\n",
      "\n",
      "\n",
      "\n",
      "\n",
      "\n",
      "\n",
      "\n",
      "\n",
      "\n",
      "\n",
      "\n",
      "\n",
      "\n",
      "\n",
      "\n",
      "\n",
      "\n",
      "\n",
      "\n",
      "\n",
      "\n",
      "\n",
      "\n",
      "\n",
      "\n",
      "\n",
      "\n",
      "\n",
      "\n",
      "\n",
      "\n",
      "\n",
      "\n",
      "\n",
      "\n",
      "\n",
      "\n",
      "\n",
      "\n",
      "\n",
      "\n",
      "\n",
      "\n",
      "\n",
      "\n",
      "\n",
      "\n",
      "\n",
      "\n",
      "\n",
      "\n",
      "\n",
      "\n",
      "\n",
      "\n",
      "\n",
      "\n",
      "\n",
      "\n",
      "\n",
      "\n",
      "\n",
      "\n",
      "\n",
      "\n",
      "\n",
      "\n",
      "\n",
      "\n",
      "\n",
      "\n",
      "\n",
      "\n",
      "\n",
      "\n",
      "\n",
      "\n",
      "\n",
      "\n",
      "\n",
      "\n",
      "\n",
      "\n",
      "\n",
      ".....\n",
      "\n",
      "Digite uma letra:w\n",
      "Você errou!\n",
      "X==:==\n",
      "X  :  \n",
      "X\n",
      "X\n",
      "X\n",
      "===========\n",
      ".....\n",
      "\n",
      "Digite uma letra:e\n",
      ".e..e\n",
      "\n",
      "Digite uma letra:r\n",
      "Você errou!\n",
      "X==:==\n",
      "X  :  \n",
      "X | \n",
      "X\n",
      "X\n",
      "===========\n",
      ".e..e\n",
      "\n",
      "Digite uma letra:t\n",
      "te.te\n",
      "\n",
      "Digite uma letra:j\n",
      "Você errou!\n",
      "X==:==\n",
      "X  :  \n",
      "X \\| \n",
      "X\n",
      "X\n",
      "===========\n",
      "te.te\n",
      "\n",
      "Digite uma letra:s\n",
      "teste\n",
      "Você acertou!\n"
     ]
    }
   ],
   "source": [
    "# Listagem 7.45 – Jogo da forca\n",
    "palavra = input(\"Digite a palavra secreta:\").lower().strip()\n",
    "for x in range(100):\n",
    "    print()\n",
    "\n",
    "digitadas = []\n",
    "acertos = []\n",
    "erros = 0\n",
    "\n",
    "while True:\n",
    "    senha = \"\"\n",
    "    for letra in palavra:\n",
    "        senha += letra if letra in acertos else \".\"\n",
    "    print(senha)\n",
    "\n",
    "    if senha == palavra:\n",
    "        print(\"Você acertou!\")\n",
    "        break\n",
    "\n",
    "    tentativa = input(\"\\nDigite uma letra:\").lower().strip()\n",
    "\n",
    "    if tentativa in digitadas:\n",
    "        print(\"Você já tentou esta letra!\")\n",
    "        continue\n",
    "    else:\n",
    "        digitadas += tentativa\n",
    "\n",
    "        if tentativa in palavra:\n",
    "            acertos += tentativa\n",
    "        else:\n",
    "            erros += 1\n",
    "            print(\"Você errou!\")\n",
    "            print(\"X==:==\")\n",
    "            print(\"X  :  \")\n",
    "\n",
    "            linha2 = \"\"\n",
    "            if erros == 2:\n",
    "                linha2 = \" | \"\n",
    "            elif erros == 3:\n",
    "                linha2 = \" \\| \"\n",
    "            elif erros >= 4:\n",
    "                linha2 = \" \\|/ \"\n",
    "\n",
    "            print(\"X%s\" % linha2)\n",
    "\n",
    "            linha3 = \"\"\n",
    "            if erros == 5:\n",
    "                linha3 += \" / \"\n",
    "            elif erros >= 6:\n",
    "                linha3 += \" / \\ \"\n",
    "\n",
    "            print(\"X%s\" % linha3)\n",
    "            print(\"X\\n===========\")\n",
    "\n",
    "            if erros == 6:\n",
    "                print(f\"Enforcado! A palavra secreta era '{palavra}'.\") # Mostrando a palavra secreta caso perca.\n",
    "                break"
   ]
  },
  {
   "cell_type": "markdown",
   "id": "66657729",
   "metadata": {},
   "source": [
    "#### Exercício 7.8 (pág. 159):"
   ]
  },
  {
   "cell_type": "code",
   "execution_count": 4,
   "id": "9a5ad8f3",
   "metadata": {},
   "outputs": [
    {
     "name": "stdout",
     "output_type": "stream",
     "text": [
      "Digite um número inteiro: 25\n",
      "\n",
      "\n",
      "\n",
      "\n",
      "\n",
      "\n",
      "\n",
      "\n",
      "\n",
      "\n",
      "\n",
      "\n",
      "\n",
      "\n",
      "\n",
      "\n",
      "\n",
      "\n",
      "\n",
      "\n",
      "\n",
      "\n",
      "\n",
      "\n",
      "\n",
      "\n",
      "\n",
      "\n",
      "\n",
      "\n",
      "\n",
      "\n",
      "\n",
      "\n",
      "\n",
      "\n",
      "\n",
      "\n",
      "\n",
      "\n",
      "\n",
      "\n",
      "\n",
      "\n",
      "\n",
      "\n",
      "\n",
      "\n",
      "\n",
      "\n",
      "\n",
      "\n",
      "\n",
      "\n",
      "\n",
      "\n",
      "\n",
      "\n",
      "\n",
      "\n",
      "\n",
      "\n",
      "\n",
      "\n",
      "\n",
      "\n",
      "\n",
      "\n",
      "\n",
      "\n",
      "\n",
      "\n",
      "\n",
      "\n",
      "\n",
      "\n",
      "\n",
      "\n",
      "\n",
      "\n",
      "\n",
      "\n",
      "\n",
      "\n",
      "\n",
      "\n",
      "\n",
      "\n",
      "\n",
      "\n",
      "\n",
      "\n",
      "\n",
      "\n",
      "\n",
      "\n",
      "\n",
      "\n",
      "\n",
      "\n",
      ".......\n",
      "\n",
      "Digite uma letra:a\n",
      "a.a.a..\n",
      "\n",
      "Digite uma letra:b\n",
      "aba.a..\n",
      "\n",
      "Digite uma letra:i\n",
      "aba.a.i\n",
      "\n",
      "Digite uma letra:x\n",
      "aba.axi\n",
      "\n",
      "Digite uma letra:c\n",
      "abacaxi\n",
      "Você acertou!\n"
     ]
    }
   ],
   "source": [
    "# Exercício 7. 8 Modifique o jogo da forca de forma a utilizar uma lista de palavras.\n",
    "# No início, pergunte um número e calcule o índice da palavra a utilizar pela fórmula:\n",
    "# índice = (número * 776) % len(lista_de_palavras).\n",
    "\n",
    "listaPalavras = [\n",
    "    \"abacaxi\", \"bicicleta\", \"computador\", \"dinossauro\", \"elefante\",\n",
    "    \"futebol\", \"guitarra\", \"hipopotamo\", \"internet\", \"jacare\",\n",
    "    \"kiwi\", \"limonada\", \"macaco\", \"narval\", \"ornitorrinco\",\n",
    "    \"piano\", \"quintal\", \"relogio\", \"saxofone\", \"tartaruga\",\n",
    "    \"uva\", \"violino\", \"xadrez\", \"yamaha\", \"zoologico\",\n",
    "    \"abelha\", \"batata\", \"carro\", \"dinheiro\", \"escola\",\n",
    "    \"floresta\", \"girafa\", \"hiena\", \"igreja\", \"jardim\",\n",
    "    \"karaoke\", \"luz\", \"montanha\", \"navio\", \"oceano\",\n",
    "    \"pinguim\", \"quebra-cabeca\", \"rio\", \"sol\", \"tigre\",\n",
    "    \"urso\", \"vento\", \"xarope\", \"yoga\", \"zebra\"\n",
    "]\n",
    "\n",
    "def escolhePalavra(numeroDigitado, listaPalavras):\n",
    "    indice = (numeroDigitado * 776) % len(listaPalavras)\n",
    "    return listaPalavras[indice]\n",
    "\n",
    "# Listagem 7.45 – Jogo da forca\n",
    "numeroDigitado = int(input(\"Digite um número inteiro: \"))\n",
    "\n",
    "palavra = escolhePalavra(numeroDigitado, listaPalavras)\n",
    "\n",
    "for x in range(100):\n",
    "    print()\n",
    "\n",
    "digitadas = []\n",
    "acertos = []\n",
    "erros = 0\n",
    "\n",
    "while True:\n",
    "    senha = \"\"\n",
    "    for letra in palavra:\n",
    "        senha += letra if letra in acertos else \".\"\n",
    "    print(senha)\n",
    "\n",
    "    if senha == palavra:\n",
    "        print(\"Você acertou!\")\n",
    "        break\n",
    "\n",
    "    tentativa = input(\"\\nDigite uma letra:\").lower().strip()\n",
    "\n",
    "    if tentativa in digitadas:\n",
    "        print(\"Você já tentou esta letra!\")\n",
    "        continue\n",
    "    else:\n",
    "        digitadas += tentativa\n",
    "\n",
    "        if tentativa in palavra:\n",
    "            acertos += tentativa\n",
    "        else:\n",
    "            erros += 1\n",
    "            print(\"Você errou!\")\n",
    "            print(\"X==:==\")\n",
    "            print(\"X  :  \")\n",
    "\n",
    "            linha2 = \"\"\n",
    "            if erros == 2:\n",
    "                linha2 = \" | \"\n",
    "            elif erros == 3:\n",
    "                linha2 = \" \\| \"\n",
    "            elif erros >= 4:\n",
    "                linha2 = \" \\|/ \"\n",
    "\n",
    "            print(\"X%s\" % linha2)\n",
    "\n",
    "            linha3 = \"\"\n",
    "            if erros == 5:\n",
    "                linha3 += \" / \"\n",
    "            elif erros >= 6:\n",
    "                linha3 += \" / \\ \"\n",
    "\n",
    "            print(\"X%s\" % linha3)\n",
    "            print(\"X\\n===========\")\n",
    "\n",
    "            if erros == 6:\n",
    "                print(f\"Enforcado! A palavra secreta era '{palavra}'.\") # Mostrando a palavra secreta caso perca.\n",
    "                break"
   ]
  },
  {
   "cell_type": "markdown",
   "id": "6add7ffb",
   "metadata": {},
   "source": [
    "#### Exercício 7.9 (pág. 159):"
   ]
  },
  {
   "cell_type": "code",
   "execution_count": null,
   "id": "193cf535",
   "metadata": {},
   "outputs": [],
   "source": [
    "# Exercício 7.9 Modifique o programa para utilizar listas de strings para desenhar\n",
    "# o boneco da forca. Você pode utilizar uma lista para cada linha e organizá-las em\n",
    "# uma lista de listas. Em vez de controlar quando imprimir cada parte, desenhe\n",
    "# nessas listas, substituindo o elemento a desenhar.\n",
    "# Exemplo:\n",
    "# >>> linha = list(\"X------\")\n",
    "# >>> linha\n",
    "# ['X', '-', '-', '-', '-', '-', '-']\n",
    "# >>> linha[6] = \"|\"\n",
    "# >>> linha\n",
    "# ['X', '-', '-', '-', '-', '-', '|']\n",
    "# >>> \"\".join(linha)\n",
    "# 'X-----|'\n",
    "\n",
    "# - O custo x benefício desse exercício não compensa. \"Pulei\""
   ]
  },
  {
   "cell_type": "markdown",
   "id": "39487b6e",
   "metadata": {},
   "source": [
    "#### Exercício 7.10 (pág. 160):"
   ]
  },
  {
   "cell_type": "code",
   "execution_count": null,
   "id": "437b1fad",
   "metadata": {},
   "outputs": [],
   "source": [
    "# Código gerado via Chat GPT e alterado por mim:\n",
    "\n",
    "def exibirTabuleiro(board):\n",
    "    for row in board:\n",
    "        print(\"  |\".join(row))\n",
    "        print(\"---+---+---\")\n",
    "\n",
    "def verificaGanhador(board, player):\n",
    "    # Check rows, columns, and diagonals for a win\n",
    "    for row in board:\n",
    "        if all(spot == player for spot in row):\n",
    "            return True\n",
    "    for col in range(3):\n",
    "        if all(row[col] == player for row in board):\n",
    "            return True\n",
    "    if all(board[i][i] == player for i in range(3)) or all(board[i][2-i] == player for i in range(3)):\n",
    "        return True\n",
    "    return False\n",
    "\n",
    "def is_draw(board):\n",
    "    return all(all(spot != \" \" for spot in row) for row in board)\n",
    "\n",
    "def get_position_choice():\n",
    "    while True:\n",
    "        try:\n",
    "            position = int(input(\"Escolha uma posição (1-9): \"))\n",
    "            if position in range(1, 10):\n",
    "                return position\n",
    "            else:\n",
    "                print(\"Posição inválida. Escolha um número entre 1 e 9.\")\n",
    "        except ValueError:\n",
    "            print(\"Entrada inválida. Digite um número.\")\n",
    "\n",
    "def convert_position_to_indices(position):\n",
    "    # Map positions from 1-9 to (row, col) indices\n",
    "    mapping = {\n",
    "        1: (2, 0), 2: (2, 1), 3: (2, 2),\n",
    "        4: (1, 0), 5: (1, 1), 6: (1, 2),\n",
    "        7: (0, 0), 8: (0, 1), 9: (0, 2)\n",
    "    }\n",
    "    return mapping[position]\n",
    "\n",
    "def play_game():\n",
    "    board = [[\" \" for _ in range(3)] for _ in range(3)]\n",
    "    players = [\"X\", \"O\"]\n",
    "    current_player_index = 0\n",
    "\n",
    "    while True:\n",
    "        exibirTabuleiro(board)\n",
    "        current_player = players[current_player_index]\n",
    "        print(f\"Jogador {current_player}, é sua vez.\")\n",
    "\n",
    "        while True:\n",
    "            position = get_position_choice()\n",
    "            row, col = convert_position_to_indices(position)\n",
    "            if board[row][col] == \" \":\n",
    "                board[row][col] = current_player\n",
    "                break\n",
    "            else:\n",
    "                print(\"Posição já ocupada. Escolha outra posição.\")\n",
    "\n",
    "        if verificaGanhador(board, current_player):\n",
    "            exibirTabuleiro(board)\n",
    "            print(f\"Parabéns! Jogador {current_player} venceu!\")\n",
    "            break\n",
    "\n",
    "        if is_draw(board):\n",
    "            exibirTabuleiro(board)\n",
    "            print(\"Empate! Não há mais posições disponíveis.\")\n",
    "            break\n",
    "\n",
    "        current_player_index = 1 - current_player_index  # Alterna entre 0 e 1\n",
    "\n",
    "play_game()"
   ]
  },
  {
   "cell_type": "markdown",
   "id": "c706f9b2",
   "metadata": {},
   "source": [
    "# Capítulo 8"
   ]
  },
  {
   "cell_type": "markdown",
   "id": "7cf38e14",
   "metadata": {},
   "source": [
    "#### Exercício 8.1 (pág. 163):"
   ]
  },
  {
   "cell_type": "code",
   "execution_count": 4,
   "id": "80bf36fd",
   "metadata": {},
   "outputs": [
    {
     "name": "stdout",
     "output_type": "stream",
     "text": [
      "Digite o primeiro número: 10\n",
      "Digite o o segundo número: 20000\n",
      "O maior número entre os números 10.0 e 20000.0 é o número 20000.0.\n"
     ]
    }
   ],
   "source": [
    "def qualOMaior(a, b):\n",
    "    numeros = [a, b]\n",
    "    maior = max(numeros)\n",
    "    return maior\n",
    "\n",
    "a = float(input(\"Digite o primeiro número: \"))\n",
    "b = float(input(\"Digite o o segundo número: \"))\n",
    "\n",
    "maior = qualOMaior(a, b)\n",
    "\n",
    "print(f\"O maior número entre os números {a:.2f} e {b:.2f} é o número {maior:.2f}.\")\n",
    "\n",
    "# Formatação de duas casas decimais sem arredondamento: variável:.2f -> :.2f\n",
    "# Existem outras formas, mas acho essa a mais clara e produtiva, pois as variáveis já ficam nos locais onde irão ser exibidas\n",
    "# e a formatação fica clara para cada variável."
   ]
  },
  {
   "cell_type": "markdown",
   "id": "da5feea1",
   "metadata": {},
   "source": [
    "#### Exercício 8.2 (pág. 163):"
   ]
  },
  {
   "cell_type": "code",
   "execution_count": 8,
   "id": "409262a2",
   "metadata": {},
   "outputs": [
    {
     "name": "stdout",
     "output_type": "stream",
     "text": [
      "Digite o primeiro número: 13\n",
      "Digite o o segundo número: 7.4\n",
      "O número 13.00 não é múltiplo do número 7.40.\n"
     ]
    }
   ],
   "source": [
    "def isMultiplo(primeiro, segundo):\n",
    "    if (primeiro % segundo) == 0:\n",
    "        return True\n",
    "    else:\n",
    "        return False\n",
    "\n",
    "primeiro = float(input(\"Digite o primeiro número: \"))\n",
    "segundo = float(input(\"Digite o o segundo número: \"))\n",
    "\n",
    "if isMultiplo(primeiro, segundo):\n",
    "    print(f\"O número {primeiro:.2f} é múltiplo do número {segundo:.2f}.\")\n",
    "else:\n",
    "    print(f\"O número {primeiro:.2f} não é múltiplo do número {segundo:.2f}.\")"
   ]
  },
  {
   "cell_type": "markdown",
   "id": "8c5affe2",
   "metadata": {},
   "source": [
    "#### Exercício 8.3 (pág. 164):"
   ]
  },
  {
   "cell_type": "code",
   "execution_count": 13,
   "id": "69b71372",
   "metadata": {},
   "outputs": [
    {
     "name": "stdout",
     "output_type": "stream",
     "text": [
      "Digite a medida do lado de um quadrado (m): 9\n",
      "A área do quadrado com lado de 9.0m é igual a 81.00m.\n"
     ]
    }
   ],
   "source": [
    "def areaQuadrado(lado):\n",
    "    return lado**2\n",
    "\n",
    "lado =float(input(\"Digite a medida do lado de um quadrado (m): \"))\n",
    "\n",
    "print(f\"A área do quadrado com lado de {lado}m é igual a {areaQuadrado(lado):.2f}m.\")"
   ]
  },
  {
   "cell_type": "markdown",
   "id": "0c97ca7c",
   "metadata": {},
   "source": [
    "#### Exercício 8.4 (pág. 164):"
   ]
  },
  {
   "cell_type": "code",
   "execution_count": 15,
   "id": "ed7b96c3",
   "metadata": {},
   "outputs": [
    {
     "name": "stdout",
     "output_type": "stream",
     "text": [
      "Digite a medida da base de um triângulo (m): 5\n",
      "Digite a medida da altura de um triângulo (m): 8\n",
      "A área do triângulo com base de 5.00m e altura 8.00m é igual a 20.00m.\n"
     ]
    }
   ],
   "source": [
    "def areaTriangulo(base, altura):\n",
    "    return ((base * altura) / 2)\n",
    "\n",
    "base =float(input(\"Digite a medida da base de um triângulo (m): \"))\n",
    "altura =float(input(\"Digite a medida da altura de um triângulo (m): \"))\n",
    "\n",
    "print(f\"A área do triângulo com base de {base:.2f}m e altura {altura:.2f}m é igual a {areaTriangulo(base, altura):.2f}m.\")"
   ]
  },
  {
   "cell_type": "markdown",
   "id": "074281f3",
   "metadata": {},
   "source": [
    "#### Exercício 8.5 (pág. 164):"
   ]
  },
  {
   "cell_type": "code",
   "execution_count": 21,
   "id": "56f695ed",
   "metadata": {},
   "outputs": [
    {
     "name": "stdout",
     "output_type": "stream",
     "text": [
      "Digite um número inteiro: 500000\n",
      "O valor 500000 não está contido na lista [10, 20, 25, 30].\n"
     ]
    }
   ],
   "source": [
    "# Listagem 8.5:\n",
    "\n",
    "# def pesquise(lista, valor):\n",
    "#     for x,e in enumerate(lista):\n",
    "#         if e == valor:\n",
    "#             return x\n",
    "#     return None\n",
    "\n",
    "# L=[10, 20, 25, 30]\n",
    "\n",
    "# print(pesquise(L, 25))\n",
    "# print(pesquise(L, 27))\n",
    "\n",
    "def pesquise(lista, valor):\n",
    "    try:\n",
    "        indexEncontrado = lista.index(valor)\n",
    "        print(f\"O valor {valor} está contido na lista {lista}, na posição {indexEncontrado}.\")\n",
    "    except ValueError:\n",
    "        print(f\"O valor {valor} não está contido na lista {lista}.\")\n",
    "\n",
    "L=[10, 20, 25, 30]\n",
    "\n",
    "valor = int(input(\"Digite um número inteiro: \"))\n",
    "\n",
    "pesquise(L, valor)\n",
    "\n",
    "# Para utilizar o bloco try - except de forma genérica (não recomendado):\n",
    "# try:\n",
    "#     indexEncontrado = lista.index(valor)\n",
    "#     print(f\"O valor {valor} está contido na lista {lista}, na posição {indexEncontrado}.\")\n",
    "# except Exception as e:\n",
    "#     print(f\"O valor {valor} não está contido na lista {lista}.\")\n"
   ]
  },
  {
   "cell_type": "markdown",
   "id": "8d017fdb",
   "metadata": {},
   "source": [
    "#### Exercício 8.6 (pág. 164):"
   ]
  },
  {
   "cell_type": "code",
   "execution_count": 22,
   "id": "9002faf5",
   "metadata": {},
   "outputs": [
    {
     "name": "stdout",
     "output_type": "stream",
     "text": [
      "34\n",
      "155\n"
     ]
    }
   ],
   "source": [
    "# Listagem 8.8:\n",
    "# def soma(L):\n",
    "#     total=0\n",
    "#     x = 0\n",
    "#     while x<5:\n",
    "#         total+=L[x]\n",
    "#         x+=1\n",
    "#     return total\n",
    "\n",
    "# L=[1,7,2,9,15]\n",
    "\n",
    "# print(soma(L))\n",
    "# print(soma([7,9,12,3,100,20,4]))\n",
    "\n",
    "# Com for em vez do while:\n",
    "def soma(L):\n",
    "    total=0\n",
    "    for x in range(len(L)):\n",
    "        total+=L[x]\n",
    "    return total\n",
    "\n",
    "L=[1,7,2,9,15]\n",
    "\n",
    "print(soma(L))\n",
    "print(soma([7,9,12,3,100,20,4]))"
   ]
  },
  {
   "cell_type": "markdown",
   "id": "9605a6b8",
   "metadata": {},
   "source": [
    "#### Exercício 8.7 (pág. 172):"
   ]
  },
  {
   "cell_type": "code",
   "execution_count": 30,
   "id": "b892008b",
   "metadata": {},
   "outputs": [
    {
     "name": "stdout",
     "output_type": "stream",
     "text": [
      "O MDC de 40 e 64 é 8\n"
     ]
    }
   ],
   "source": [
    "# Termos Fibonnaci: 1, 1, 2, 3, 5, 8, 13, 21, 34, 55, 89, 144, 233, 377, 610, 987, 1597, 2584, 4181, 6765\n",
    "\n",
    "# def fibonacci(n):\n",
    "#     if n<=1:\n",
    "#         return n\n",
    "#     else:\n",
    "#         return fibonacci(n-1)+fibonacci(n-2)\n",
    "# print(fibonacci(20))\n",
    "\n",
    "\n",
    "def calculaMdc(a, b):\n",
    "    # Caso base: Se b for igual a 0, o MDC é a\n",
    "    if b == 0:\n",
    "        return a\n",
    "    # Caso recursivo: Chamamos mdc passando b e a % b\n",
    "    return calculaMdc(b, a % b)\n",
    "\n",
    "# a = 48\n",
    "# b = 18\n",
    "# a = 12\n",
    "# b = 18\n",
    "a = 40\n",
    "b = 64\n",
    "resultado = calculaMdc(a, b)\n",
    "print(f\"O MDC de {a} e {b} é {resultado}\")\n",
    "\n",
    "\n"
   ]
  },
  {
   "cell_type": "markdown",
   "id": "633b84dc",
   "metadata": {},
   "source": [
    "#### Exercício 8.8 (pág. 172):"
   ]
  },
  {
   "cell_type": "code",
   "execution_count": 33,
   "id": "9cedfa8f",
   "metadata": {},
   "outputs": [
    {
     "name": "stdout",
     "output_type": "stream",
     "text": [
      "O MMC de 40 e 30 é 120.0\n"
     ]
    }
   ],
   "source": [
    "def calculaMdc(a, b):\n",
    "    # Caso base: Se b for igual a 0, o MDC é a\n",
    "    if b == 0:\n",
    "        return a\n",
    "    # Caso recursivo: Chamamos mdc passando b e a % b\n",
    "    return calculaMdc(b, a % b)\n",
    "\n",
    "def calculaMmc(a, b):\n",
    "    mdc = calculaMdc(a, b)\n",
    "    return (abs(a*b) / mdc)\n",
    "\n",
    "# a = 12\n",
    "# b = 18\n",
    "# result = 36\n",
    "\n",
    "# a = 8\n",
    "# b = 4\n",
    "#MMC (8,4) = 8\n",
    "\n",
    "a = 40\n",
    "b = 30\n",
    "# result = 120\n",
    "\n",
    "resultado = calculaMmc(a, b)\n",
    "print(f\"O MMC de {a} e {b} é {resultado}\")"
   ]
  },
  {
   "cell_type": "markdown",
   "id": "c6f7fe24",
   "metadata": {},
   "source": [
    "#### Exercício 8.9 (pág. 173):"
   ]
  },
  {
   "cell_type": "code",
   "execution_count": 34,
   "id": "0df148b2",
   "metadata": {},
   "outputs": [
    {
     "name": "stdout",
     "output_type": "stream",
     "text": [
      "Calculando o fatorial de 4\n",
      "Calculando o fatorial de 3\n",
      "Calculando o fatorial de 2\n",
      "Calculando o fatorial de 1\n",
      "Fatorial de 1 = 1\n",
      " fatorial de 2 = 2\n",
      " fatorial de 3 = 6\n",
      " fatorial de 4 = 24\n"
     ]
    },
    {
     "data": {
      "text/plain": [
       "24"
      ]
     },
     "execution_count": 34,
     "metadata": {},
     "output_type": "execute_result"
    }
   ],
   "source": [
    "# Listagem 8.12:\n",
    "def fatorial(n):\n",
    "    print(\"Calculando o fatorial de %d\" % n)\n",
    "    if n==0 or n == 1:\n",
    "        print(\"Fatorial de %d = 1\" % n)\n",
    "        return 1\n",
    "    else:\n",
    "        fat = n*fatorial(n-1)\n",
    "        print(\" fatorial de %d = %d\" % (n, fat) )\n",
    "    return fat\n",
    "\n",
    "fatorial(4)\n",
    "\n",
    "# Listagem 8.13:\n",
    "# resultados:\n",
    "# Calculando o fatorial de 4\n",
    "# Calculando o fatorial de 3\n",
    "# Calculando o fatorial de 2\n",
    "# Calculando o fatorial de 1\n",
    "# Fatorial de 1 = 1\n",
    "# fatorial de 2 = 2\n",
    "# fatorial de 3 = 6\n",
    "# fatorial de 4 = 24"
   ]
  },
  {
   "cell_type": "markdown",
   "id": "f0bf3fc4",
   "metadata": {},
   "source": [
    "#### Exercício 8.10 (pág. 173):"
   ]
  },
  {
   "cell_type": "code",
   "execution_count": 38,
   "id": "fe721582",
   "metadata": {},
   "outputs": [
    {
     "name": "stdout",
     "output_type": "stream",
     "text": [
      "O 15-ésimo número da sequência de Fibonacci é: 610\n"
     ]
    }
   ],
   "source": [
    "# Termos Fibonnaci: 1, 1, 2, 3, 5, 8, 13, 21, 34, 55, 89, 144, 233, 377, 610, 987, 1597, 2584, 4181, 6765\n",
    "\n",
    "def fibonacci(n):\n",
    "    # Inicializamos os primeiros dois números da sequência\n",
    "    a, b = 0, 1\n",
    "    # Caso especial: se n for 0, retornamos 0\n",
    "    if n == 0:\n",
    "        return 0\n",
    "    # Caso especial: se n for 1, retornamos 1\n",
    "    elif n == 1:\n",
    "        return 1\n",
    "    # Iteramos para calcular o n-ésimo número da sequência\n",
    "    else:\n",
    "        for i in range(2, n+1):\n",
    "            a, b = b, a + b\n",
    "        return b\n",
    "\n",
    "n = 15\n",
    "resultado = fibonacci(n)\n",
    "print(f\"O {n}-ésimo número da sequência de Fibonacci é: {resultado}\")\n"
   ]
  },
  {
   "cell_type": "markdown",
   "id": "b38fd3fc",
   "metadata": {},
   "source": [
    "#### Exercício 8.11 (pág. 174):"
   ]
  },
  {
   "cell_type": "code",
   "execution_count": 44,
   "id": "dd57fd8e",
   "metadata": {},
   "outputs": [
    {
     "name": "stdout",
     "output_type": "stream",
     "text": [
      "Digite o texto para validação: o\n",
      "Texto está fora da especificação! - Tamanho texto: 1.\n"
     ]
    }
   ],
   "source": [
    "def isTamanhoOk(string, min, max):\n",
    "    return ((len(string) >= min) and (len(string) <= max))\n",
    "\n",
    "max = 10\n",
    "min = 2\n",
    "\n",
    "string = input(\"Digite o texto para validação: \")\n",
    "\n",
    "if isTamanhoOk(string, min, max):\n",
    "    print(f\"Texto está ok! - Tamanho texto: {len(string)}.\")\n",
    "else:\n",
    "    print(f\"Texto está fora da especificação! - Tamanho texto: {len(string)}.\")"
   ]
  },
  {
   "cell_type": "markdown",
   "id": "39d79ac0",
   "metadata": {},
   "source": [
    "#### Exercício 8.12 (pág. 174):"
   ]
  },
  {
   "cell_type": "code",
   "execution_count": 48,
   "id": "4307c970",
   "metadata": {},
   "outputs": [
    {
     "name": "stdout",
     "output_type": "stream",
     "text": [
      "Digite a string: pedra\n",
      "a string 'pedra' não está contida na lista: ['oi', 'olá', 'mundo', 'carro', 'python'].\n"
     ]
    }
   ],
   "source": [
    "def estaContido(string, lista):\n",
    "    isIn =  string in lista\n",
    "    return isIn\n",
    "\n",
    "lista = [\"oi\", \"olá\", \"mundo\", \"carro\", \"python\"]\n",
    "\n",
    "string = input(\"Digite a string: \")\n",
    "\n",
    "if estaContido(string, lista):\n",
    "    print(f\"a string '{string}' está contida na lista: {lista}.\")\n",
    "else:\n",
    "    print(f\"a string '{string}' não está contida na lista: {lista}.\")"
   ]
  },
  {
   "cell_type": "code",
   "execution_count": 50,
   "id": "0fc7a3c8",
   "metadata": {},
   "outputs": [
    {
     "name": "stdout",
     "output_type": "stream",
     "text": [
      "Maior: 5\n",
      "Max: 9\n"
     ]
    }
   ],
   "source": [
    "def imprime_maior(mensagem, *numeros):\n",
    "    maior = None\n",
    "    for e in numeros:\n",
    "        if maior == None or maior < e:\n",
    "            maior = e\n",
    "    print(mensagem, maior)\n",
    "\n",
    "imprime_maior(\"Maior:\",5,4,3,1)\n",
    "imprime_maior(\"Max:\", *[1,7,9])"
   ]
  },
  {
   "cell_type": "markdown",
   "id": "2d541113",
   "metadata": {},
   "source": [
    "#### Exercício 8.13 (pág. 184):"
   ]
  },
  {
   "cell_type": "code",
   "execution_count": 56,
   "id": "cf5d576b",
   "metadata": {},
   "outputs": [
    {
     "name": "stdout",
     "output_type": "stream",
     "text": [
      "Escolha um número entre 1 e 10:8\n",
      "Você acertou!\n",
      "Fim de proigrama!\n"
     ]
    }
   ],
   "source": [
    "# Listagem 8.37:\n",
    "    \n",
    "# import random\n",
    "\n",
    "# n=random.randint(1,10)\n",
    "\n",
    "# x=int(input(\"Escolha um número entre 1 e 10:\"))\n",
    "\n",
    "# if (x==n):\n",
    "#     print(\"Você acertou!\")\n",
    "# else:\n",
    "#     print(\"Você errou.\")\n",
    "\n",
    "import random\n",
    "\n",
    "n=random.randint(1,10)\n",
    "\n",
    "tentativa = 0\n",
    "\n",
    "while True:\n",
    "    x=int(input(\"Escolha um número entre 1 e 10:\"))\n",
    "\n",
    "    if (x!=n):\n",
    "        print(\"Você errou.\")\n",
    "        tentativa += 1\n",
    "    else:\n",
    "        print(\"Você acertou!\")\n",
    "        print(\"Fim de proigrama!\")\n",
    "        break\n",
    "    if (tentativa >= 3):\n",
    "        print(\"Você gastou todas suas tentativas, coloque outra ficha para continuar!\")\n",
    "        print(\"Fim de programa!\")\n",
    "        break"
   ]
  },
  {
   "cell_type": "markdown",
   "id": "1f5225de",
   "metadata": {},
   "source": [
    "#### Exercício 8.14 (pág. 185):"
   ]
  },
  {
   "cell_type": "code",
   "execution_count": 66,
   "id": "f0aaa1f5",
   "metadata": {},
   "outputs": [
    {
     "name": "stdout",
     "output_type": "stream",
     "text": [
      "Gerando a palavra.\n",
      ".\n",
      ".\n",
      ".\n",
      ".\n",
      ".\n",
      "\n",
      "\n",
      "Palavra gerada com sucesso!\n",
      "\n",
      "Pressione uma tecla para continuar!\n",
      "\n",
      "\n",
      "\n",
      "\n",
      "\n",
      "\n",
      "\n",
      "\n",
      "\n",
      "\n",
      "\n",
      "\n",
      "\n",
      "\n",
      "\n",
      "\n",
      "\n",
      "\n",
      "\n",
      "\n",
      "\n",
      "\n",
      "\n",
      "\n",
      "\n",
      "\n",
      "\n",
      "\n",
      "\n",
      "\n",
      "\n",
      "\n",
      "\n",
      "\n",
      "\n",
      "\n",
      "\n",
      "\n",
      "\n",
      "\n",
      "\n",
      "\n",
      "\n",
      "\n",
      "\n",
      "\n",
      "\n",
      "\n",
      "\n",
      "\n",
      "\n",
      "\n",
      "\n",
      "\n",
      "\n",
      "\n",
      "\n",
      "\n",
      "\n",
      "\n",
      "\n",
      "\n",
      "\n",
      "\n",
      "\n",
      "\n",
      "\n",
      "\n",
      "\n",
      "\n",
      "\n",
      "\n",
      "\n",
      "\n",
      "\n",
      "\n",
      "\n",
      "\n",
      "\n",
      "\n",
      "\n",
      "\n",
      "\n",
      "\n",
      "\n",
      "\n",
      "\n",
      "\n",
      "\n",
      "\n",
      "\n",
      "\n",
      "\n",
      "\n",
      "\n",
      "\n",
      "\n",
      "\n",
      "\n",
      "\n",
      "....\n",
      "\n",
      "Digite uma letra:a\n",
      "X==:==\n",
      "X  : \n",
      "X\n",
      "X\n",
      "X\n",
      "X\n",
      "===========\n",
      "...a\n",
      "\n",
      "Digite uma letra:g\n",
      "Você errou!\n",
      "X==:==\n",
      "X  : \n",
      "X  O \n",
      "X\n",
      "X\n",
      "X\n",
      "===========\n",
      "...a\n",
      "\n",
      "Digite uma letra:i\n",
      "X==:==\n",
      "X  : \n",
      "X  O \n",
      "X\n",
      "X\n",
      "X\n",
      "===========\n",
      "i..a\n",
      "\n",
      "Digite uma letra:l\n",
      "X==:==\n",
      "X  : \n",
      "X  O \n",
      "X\n",
      "X\n",
      "X\n",
      "===========\n",
      "il.a\n",
      "\n",
      "Digite uma letra:h\n",
      "X==:==\n",
      "X  : \n",
      "X  O \n",
      "X\n",
      "X\n",
      "X\n",
      "===========\n",
      "ilha\n",
      "Você acertou!\n"
     ]
    }
   ],
   "source": [
    "# Listagem 7.45 - Alteração escolhando a palavra utilizando números aleatórios:\n",
    "\n",
    "import random\n",
    "import time\n",
    "\n",
    "listaPalavras = [\n",
    "    \"abacaxi\", \"bicicleta\", \"computador\", \"dinossauro\", \"elefante\", \n",
    "    \"formiga\", \"guitarra\", \"helicoptero\", \"iguana\", \"jardim\", \n",
    "    \"kanguru\", \"lantejoula\", \"macaco\", \"neve\", \"oceano\", \n",
    "    \"pipoca\", \"quadro\", \"roda\", \"sapato\", \"tigre\", \n",
    "    \"unicórnio\", \"violão\", \"xadrez\", \"yoga\", \"zebra\", \n",
    "    \"abajur\", \"borboleta\", \"cachorro\", \"dente\", \"estrela\", \n",
    "    \"foguete\", \"golfinho\", \"hamburguer\", \"ilha\", \"janela\", \n",
    "    \"kiwi\", \"leopardo\", \"montanha\", \"navio\", \"orquestra\", \n",
    "    \"pirata\", \"quintal\", \"relógio\", \"sereia\", \"trator\", \n",
    "    \"urso\", \"vassoura\", \"xícara\", \"yeti\", \"zumbi\"\n",
    "]\n",
    "\n",
    "print(\"Gerando a palavra.\")\n",
    "time.sleep(0.3)\n",
    "print(\".\")\n",
    "time.sleep(0.3)\n",
    "print(\".\")\n",
    "time.sleep(0.3)\n",
    "print(\".\")\n",
    "time.sleep(0.3)\n",
    "print(\".\")\n",
    "time.sleep(0.3)\n",
    "print(\".\")\n",
    "\n",
    "indicePalavra = random.randint(0, 49)\n",
    "\n",
    "palavra = listaPalavras[indicePalavra]\n",
    "\n",
    "print(\"\\n\\nPalavra gerada com sucesso!\\n\")\n",
    "\n",
    "input(\"Pressione uma tecla para continuar!\")\n",
    "\n",
    "for x in range(100):\n",
    "    print()\n",
    "digitadas = []\n",
    "acertos = []\n",
    "erros = 0\n",
    "while True:\n",
    "    senha = \"\"\n",
    "    for letra in palavra:\n",
    "        senha += letra if letra in acertos else \".\"\n",
    "    print(senha)\n",
    "    if senha == palavra:\n",
    "        print(\"Você acertou!\")\n",
    "        break\n",
    "    tentativa = input(\"\\nDigite uma letra:\").lower().strip()\n",
    "    if tentativa in digitadas:\n",
    "        print(\"Você já tentou esta letra!\")\n",
    "        continue\n",
    "    else:\n",
    "        digitadas += tentativa\n",
    "        if tentativa in palavra:\n",
    "            acertos += tentativa\n",
    "        else:\n",
    "            erros += 1\n",
    "            print(\"Você errou!\")\n",
    "    print(\"X==:==\\nX  : \")\n",
    "    print(\"X  O \" if erros >= 1 else \"X\")\n",
    "    linha2 = \"\"\n",
    "    if erros == 2:\n",
    "        linha2 = \"  |  \"\n",
    "    elif erros == 3:\n",
    "        linha2 = \" \\|  \"\n",
    "    elif erros >= 4:\n",
    "        linha2 = \" \\|/ \"\n",
    "    print(\"X%s\" % linha2)\n",
    "    linha3 = \"\"\n",
    "    if erros == 5:\n",
    "        linha3 += \" /  \"\n",
    "    elif erros >= 6:\n",
    "        linha3 += \" / \\ \"\n",
    "    print(\"X%s\" % linha3)\n",
    "    print(\"X\\n===========\")\n",
    "    if erros == 6:\n",
    "        print(\"Enforcado!\")\n",
    "        break\n",
    "\n",
    "\n",
    "# import random\n",
    "# for x in range(10):\n",
    "#     print(random.random())\n",
    "\n",
    "# print(\"-\" * 30)\n",
    "    \n",
    "# for x in range(10):\n",
    "#     print(random.uniform(15,25))\n",
    "\n",
    "# print(\"-\" * 30)\n",
    "    \n",
    "# a=[\"Python\", 101, \"Olá Mundo\", True, False]\n",
    "# random.shuffle(a)\n",
    "# print(a)"
   ]
  },
  {
   "cell_type": "markdown",
   "id": "b408143d",
   "metadata": {},
   "source": [
    "#### Exercício 8.15 (pág. 187):"
   ]
  },
  {
   "cell_type": "code",
   "execution_count": 68,
   "id": "d51d8909",
   "metadata": {},
   "outputs": [
    {
     "name": "stdout",
     "output_type": "stream",
     "text": [
      "1\n",
      "    2\n",
      "    3\n",
      "    4\n",
      "        5\n",
      "        6\n",
      "        7\n",
      "            8\n",
      "            9\n",
      "            10\n",
      "            11\n",
      "                12\n",
      "                13\n",
      "                14\n",
      "                15\n",
      "                16\n",
      "                    17\n",
      "                    18\n",
      "                    19\n",
      "                    20\n",
      "                        21\n",
      "                        22\n",
      "                        23\n",
      "                        24\n",
      "                        25\n",
      "                            26\n",
      "                                27\n",
      "                                28\n",
      "                                    29\n",
      "                                        30\n"
     ]
    }
   ],
   "source": [
    "def imprimirLista(lista, nivel=0):\n",
    "    for elemento in lista:\n",
    "        # verifica se é uma lista, se for aumenta o nível e \"pega\" (recurssivamente) a lista mais interna, e assim por diante\n",
    "        if type(elemento) == list:\n",
    "            imprimirLista(elemento, nivel + 1)\n",
    "        else:\n",
    "            print('    ' * nivel + str(elemento))\n",
    "            \n",
    "\n",
    "L = [1, [2, 3, 4, [5, 6, 7,[8,9,10,11,[12,13,14,15,16,[17,18,19,20,[21,22,23,24,25,[26,[27,28,[29,[30]]]]]]]]]]]\n",
    "\n",
    "imprimirLista(L)"
   ]
  }
 ],
 "metadata": {
  "kernelspec": {
   "display_name": "Python 3 (ipykernel)",
   "language": "python",
   "name": "python3"
  },
  "language_info": {
   "codemirror_mode": {
    "name": "ipython",
    "version": 3
   },
   "file_extension": ".py",
   "mimetype": "text/x-python",
   "name": "python",
   "nbconvert_exporter": "python",
   "pygments_lexer": "ipython3",
   "version": "3.11.3"
  }
 },
 "nbformat": 4,
 "nbformat_minor": 5
}
